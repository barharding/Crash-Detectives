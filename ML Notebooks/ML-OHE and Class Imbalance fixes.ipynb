{
 "cells": [
  {
   "cell_type": "code",
   "execution_count": null,
   "id": "a41ffc21",
   "metadata": {},
   "outputs": [],
   "source": [
    "#Importing required libraries\n",
    "import pandas as pd\n",
    "import numpy as np\n",
    "import seaborn as sn\n",
    "import matplotlib as mpl\n",
    "import matplotlib.pyplot as plt\n",
    "#import warnings\n",
    "#warning.filterwarnings('ignore')\n",
    "\n",
    "from sklearn.model_selection import train_test_split\n",
    "from sklearn.metrics import balanced_accuracy_score\n",
    "from sklearn.metrics import accuracy_score\n",
    "from sklearn.metrics import confusion_matrix\n",
    "from imblearn.metrics import classification_report_imbalanced\n",
    "from sklearn.metrics import classification_report\n",
    "from sklearn.metrics import precision_score, recall_score,f1_score\n",
    "from collections import Counter"
   ]
  },
  {
   "cell_type": "markdown",
   "id": "361e4b04",
   "metadata": {},
   "source": [
    "# This section focuses on Cleaning the RedLight Camera Dataframe"
   ]
  },
  {
   "cell_type": "code",
   "execution_count": null,
   "id": "43013fc2",
   "metadata": {},
   "outputs": [],
   "source": [
    "#Load Redlight camera data from database extracts\n",
    "df_RL=pd.read_csv(\"../DB_Extracts/red_light_camera.csv\")\n",
    "df_RL.head(5)"
   ]
  },
  {
   "cell_type": "code",
   "execution_count": null,
   "id": "70efe6a8",
   "metadata": {},
   "outputs": [],
   "source": [
    "#show column names for RedLight dataframe\n",
    "list(df_RL.columns)"
   ]
  },
  {
   "cell_type": "code",
   "execution_count": null,
   "id": "b97db583",
   "metadata": {},
   "outputs": [],
   "source": [
    "# Remove unneeded columns from RedLight dataframe\n",
    "df_RL_clean1=df_RL.drop(['id','INTERSECTION_ID','LINEAR_NAME_FULL_1', 'LINEAR_NAME_FULL_2','ID1','X','Y','LONGITUDE',\n",
    " 'LATITUDE','OBJECTID','MID_BLOCK','POLICE_DIVISION_2','POLICE_DIVISION_3','SIDE2','SIDE1','MI_PRINX','PRIVATE_ACCESS',\n",
    " 'TCS', 'ADDITIONAL_INFO', 'POLICE_DIVISION_1', 'WARD_1', 'WARD_3', 'WARD_2', 'WARD_4','MAIN'], axis = 1)\n",
    "df_RL_clean1.head(5)"
   ]
  },
  {
   "cell_type": "code",
   "execution_count": null,
   "id": "149ae816",
   "metadata": {},
   "outputs": [],
   "source": [
    "df_RL_clean1.info()"
   ]
  },
  {
   "cell_type": "code",
   "execution_count": null,
   "id": "c7b3b69f",
   "metadata": {},
   "outputs": [],
   "source": [
    "RL=df_RL_clean1.shape\n",
    "print(RL)"
   ]
  },
  {
   "cell_type": "code",
   "execution_count": null,
   "id": "e1ff0e01",
   "metadata": {},
   "outputs": [],
   "source": [
    "#parse out geo-coordinates\n",
    "import re\n",
    "df_RL_clean1[\"geometry2\"] = df_RL_clean1[\"geometry\"].str.extract(r\"\\((.*?)\\)\")"
   ]
  },
  {
   "cell_type": "code",
   "execution_count": null,
   "id": "09445986",
   "metadata": {},
   "outputs": [],
   "source": [
    "print(df_RL_clean1['geometry2'])"
   ]
  },
  {
   "cell_type": "code",
   "execution_count": null,
   "id": "eb1acd35",
   "metadata": {},
   "outputs": [],
   "source": [
    "# split geometry2 into two columns: long & Lat\n",
    "\n",
    "df_RL_clean1[['Longitude', 'Latitude']] = df_RL_clean1['geometry2'].str.split(',', 1, expand=True)\n",
    "\n",
    "print(df_RL_clean1['Longitude'], df_RL_clean1['Latitude'])"
   ]
  },
  {
   "cell_type": "code",
   "execution_count": null,
   "id": "d83e0ea8",
   "metadata": {},
   "outputs": [],
   "source": [
    "## Standardize Lat & Long Length to match between the files\n",
    "df_RL_clean1['Longitude']=df_RL_clean1.Longitude.map(lambda l: l[:8])"
   ]
  },
  {
   "cell_type": "code",
   "execution_count": null,
   "id": "2d457279",
   "metadata": {},
   "outputs": [],
   "source": [
    "df_RL_clean1['Latitude']=df_RL_clean1.Latitude.map(lambda l: l[:8].replace(\" \",''))"
   ]
  },
  {
   "cell_type": "code",
   "execution_count": null,
   "id": "2283278b",
   "metadata": {},
   "outputs": [],
   "source": [
    "df_RL=df_RL_clean1\n",
    "df_RL.head(5)"
   ]
  },
  {
   "cell_type": "code",
   "execution_count": null,
   "id": "abb91ef1",
   "metadata": {},
   "outputs": [],
   "source": [
    "# Remove unneeded columns from RedLight dataframe\n",
    "df_RL=df_RL.drop(['geometry'], axis = 1)"
   ]
  },
  {
   "cell_type": "code",
   "execution_count": null,
   "id": "629a44d0",
   "metadata": {
    "scrolled": true
   },
   "outputs": [],
   "source": [
    "#re-order the columns for readability\n",
    "df_RL = df_RL[[\"RLC\", \"ACTIVATION_DATE\",\"ACTIVATION_TIME\",\"CLIENT_STREET_2\",\"CLIENT_STREET_1\",\"NAME\",\"DISTRICT\",\"geometry2\",\"Longitude\",\"Latitude\"]]\n",
    "df_RL.head(5)"
   ]
  },
  {
   "cell_type": "markdown",
   "id": "c0313ee1",
   "metadata": {},
   "source": [
    "## This section focuses on Cleaning the Seriously Injured Dataframe"
   ]
  },
  {
   "cell_type": "code",
   "execution_count": null,
   "id": "7efadc71",
   "metadata": {},
   "outputs": [],
   "source": [
    "# This setting lets you see all columns in the output\n",
    "pd.set_option('display.max_columns',None)"
   ]
  },
  {
   "cell_type": "code",
   "execution_count": null,
   "id": "508f1be2",
   "metadata": {},
   "outputs": [],
   "source": [
    "df_KSI=pd.read_csv(\"../DB_Extracts/seriously_injured_data.csv\")\n",
    "df_KSI.head(5)"
   ]
  },
  {
   "cell_type": "code",
   "execution_count": null,
   "id": "b706312b",
   "metadata": {},
   "outputs": [],
   "source": [
    "# Number of rows and columns in each dataset\n",
    "KSI=df_KSI.shape\n",
    "print(KSI)"
   ]
  },
  {
   "cell_type": "code",
   "execution_count": null,
   "id": "e2c6bd37",
   "metadata": {},
   "outputs": [],
   "source": [
    "df_KSI.info()"
   ]
  },
  {
   "cell_type": "code",
   "execution_count": null,
   "id": "9aa863b5",
   "metadata": {},
   "outputs": [],
   "source": [
    "# Remove all rows where injury is Null as these are only Vehicle or property owners\n",
    "\n",
    "df_KSI_clean1=df_KSI.dropna(subset=['INJURY_ID'])\n",
    "\n",
    "KSI=df_KSI_clean1.shape\n",
    "print(KSI)"
   ]
  },
  {
   "cell_type": "code",
   "execution_count": null,
   "id": "960b482d",
   "metadata": {},
   "outputs": [],
   "source": [
    "# remove non-driver types\n",
    "\n",
    "#define list of values\n",
    "values = [\"Cyclist\",\"Cyclist Passenger\",\"Pedestrian - Not Hit\",\"In-Line Skater\",\"Motorcycle Passenger\",\"Other\", \"Other Property Owner\",\"Passenger\",\"Pedestrian\",\"Vehicle Owner\",\"Wheelchair\"]\n",
    "\n",
    "#drop any rows not equal to values\n",
    "df_KSI_clean1 = df_KSI_clean1[df_KSI_clean1.INVTYPE.isin(values) == False]"
   ]
  },
  {
   "cell_type": "code",
   "execution_count": null,
   "id": "3e783612",
   "metadata": {},
   "outputs": [],
   "source": [
    "# count unique values in \"INVTYPE\" column\n",
    "\n",
    "df_KSI_clean1.groupby(['INVTYPE']).count()"
   ]
  },
  {
   "cell_type": "code",
   "execution_count": null,
   "id": "43e51668",
   "metadata": {},
   "outputs": [],
   "source": [
    "# count unique values in Accident Classification column\n",
    "\n",
    "df_KSI_clean1.groupby(['ACCLASS']).count()"
   ]
  },
  {
   "cell_type": "code",
   "execution_count": null,
   "id": "5d55e52c",
   "metadata": {},
   "outputs": [],
   "source": [
    "# storing unique value in a variable\n",
    "unique_value = df_KSI_clean1[\"ACCNUM\"].nunique()\n",
    "  \n",
    "# printing value\n",
    "print(unique_value)"
   ]
  },
  {
   "cell_type": "code",
   "execution_count": null,
   "id": "126477aa",
   "metadata": {},
   "outputs": [],
   "source": [
    "# Remove duplicate accident data - raw data has a row per person involved in the accident.\n",
    "\n",
    "# sorting by ACCNUM\n",
    "df_KSI_clean1.sort_values(\"ACCNUM\", inplace = True)\n",
    " \n",
    "# dropping ALL duplicate ACCNUM rows\n",
    "df_KSI_clean2=df_KSI_clean1.drop_duplicates(subset =\"ACCNUM\",keep = 'first')\n",
    "\n",
    "df_KSI_clean2.head(5)"
   ]
  },
  {
   "cell_type": "code",
   "execution_count": null,
   "id": "1c128433",
   "metadata": {},
   "outputs": [],
   "source": [
    "#show column names for df_KSI_clean2 dataframe\n",
    "list(df_KSI_clean2.columns)"
   ]
  },
  {
   "cell_type": "code",
   "execution_count": null,
   "id": "a398b791",
   "metadata": {
    "scrolled": true
   },
   "outputs": [],
   "source": [
    "#changing null values to Other in Imactype column for single record\n",
    "\n",
    "df_KSI_clean2.loc[df_KSI_clean2['ACCNUM']==9002389784,\"IMPACTYPE\"]=\"Other\"\n",
    "df_KSI_clean2.loc[df_KSI_clean2['ACCNUM']==9002389784]"
   ]
  },
  {
   "cell_type": "code",
   "execution_count": null,
   "id": "43d50e2d",
   "metadata": {},
   "outputs": [],
   "source": [
    "#changing null values to Other in Road Surface condition column for select records\n",
    "\n",
    "values={7000795019,7001983024,8000303628,8000662467,8000874551,8000879182,8000973371,8008069034,9000524060,9002403050}\n",
    "\n",
    "for i in values:\n",
    "    df_KSI_clean2.loc[df_KSI_clean2['ACCNUM']== i,\"RDSFCOND\"]=\"Other\"\n"
   ]
  },
  {
   "cell_type": "code",
   "execution_count": null,
   "id": "8c9a75f4",
   "metadata": {},
   "outputs": [],
   "source": [
    "#changing null values to Other in Visibility column for select records\n",
    "\n",
    "values={7001983024,8000303628,8000662467,8000874551,8000879182,8000973371,8008069034,9000419013,9002403050}\n",
    "\n",
    "for i in values:\n",
    "    df_KSI_clean2.loc[df_KSI_clean2['ACCNUM']== i,\"VISIBILITY\"]=\"Other\""
   ]
  },
  {
   "cell_type": "code",
   "execution_count": null,
   "id": "285a2b9a",
   "metadata": {},
   "outputs": [],
   "source": [
    "# drop unneeded columns\n",
    "\n",
    "df_KSI_clean3=df_KSI_clean2.drop(['OFFSET','DISTRICT','WARDNUM','DIVISION','ACCLOC','FATAL_NO',\n",
    " 'INITDIR','PEDTYPE','PEDACT','PEDCOND','CYCLISTYPE','CYCACT','CYCCOND','POLICE_DIVISION','HOOD_ID','NEIGHBOURHOOD'], axis = 1)\n",
    "df_KSI_clean3.head(5)"
   ]
  },
  {
   "cell_type": "code",
   "execution_count": null,
   "id": "bbd5a356",
   "metadata": {},
   "outputs": [],
   "source": [
    "df_KSI_clean3.info()"
   ]
  },
  {
   "cell_type": "code",
   "execution_count": null,
   "id": "93ef812a",
   "metadata": {},
   "outputs": [],
   "source": [
    "#Convert all columns with Yes & Null Values to 1=Yes 0=Null\n",
    "\n",
    "\n",
    "df_KSI_clean3['PEDESTRIAN'] = df_KSI_clean3['PEDESTRIAN'].apply(lambda x:1 if x == 'Yes' else 0)\n",
    "df_KSI_clean3['CYCLIST'] = df_KSI_clean3['CYCLIST'].apply(lambda x:1 if x == 'Yes' else 0)\n",
    "df_KSI_clean3['AUTOMOBILE'] = df_KSI_clean3['AUTOMOBILE'].apply(lambda x:1 if x == 'Yes' else 0)\n",
    "df_KSI_clean3['MOTORCYCLE'] = df_KSI_clean3['MOTORCYCLE'].apply(lambda x:1 if x == 'Yes' else 0)\n",
    "df_KSI_clean3['TRUCK'] = df_KSI_clean3['TRUCK'].apply(lambda x:1 if x == 'Yes' else 0)\n",
    "df_KSI_clean3['TRSN_CITY_VEH'] = df_KSI_clean3['TRSN_CITY_VEH'].apply(lambda x:1 if x == 'Yes' else 0)\n",
    "df_KSI_clean3['EMERG_VEH'] = df_KSI_clean3['EMERG_VEH'].apply(lambda x:1 if x == 'Yes' else 0)\n",
    "df_KSI_clean3['PASSENGER'] = df_KSI_clean3['PASSENGER'].apply(lambda x:1 if x == 'Yes' else 0)\n",
    "df_KSI_clean3['SPEEDING'] = df_KSI_clean3['SPEEDING'].apply(lambda x:1 if x == 'Yes' else 0)\n",
    "df_KSI_clean3['AG_DRIV'] = df_KSI_clean3['AG_DRIV'].apply(lambda x:1 if x == 'Yes' else 0)\n",
    "df_KSI_clean3['REDLIGHT'] = df_KSI_clean3['REDLIGHT'].apply(lambda x:1 if x == 'Yes' else 0)\n",
    "df_KSI_clean3['ALCOHOL'] = df_KSI_clean3['ALCOHOL'].apply(lambda x:1 if x == 'Yes' else 0)\n",
    "df_KSI_clean3['DISABILITY'] = df_KSI_clean3['DISABILITY'].apply(lambda x:1 if x == 'Yes' else 0)\n",
    "\n",
    "print(df_KSI_clean3[['PEDESTRIAN','CYCLIST','AUTOMOBILE','MOTORCYCLE','TRUCK','TRSN_CITY_VEH','EMERG_VEH','PASSENGER','SPEEDING','AG_DRIV','REDLIGHT','ALCOHOL','ALCOHOL']]) "
   ]
  },
  {
   "cell_type": "code",
   "execution_count": null,
   "id": "51156de1",
   "metadata": {},
   "outputs": [],
   "source": [
    "df_KSI_clean3.info()"
   ]
  },
  {
   "cell_type": "code",
   "execution_count": null,
   "id": "3a479123",
   "metadata": {},
   "outputs": [],
   "source": [
    "#parse out geo-coordinates\n",
    "\n",
    "df_KSI_clean3[\"geometry2\"] = df_KSI_clean3[\"geometry\"].str.extract(r\"\\((.*?)\\)\")\n"
   ]
  },
  {
   "cell_type": "code",
   "execution_count": null,
   "id": "30adb247",
   "metadata": {},
   "outputs": [],
   "source": [
    "print(df_KSI_clean3['geometry2'])"
   ]
  },
  {
   "cell_type": "code",
   "execution_count": null,
   "id": "1b3e8af3",
   "metadata": {},
   "outputs": [],
   "source": [
    "# split geometry2 into two columns: long & Lat\n",
    "\n",
    "df_KSI_clean3[['Longitude', 'Latitude']] = df_KSI_clean3['geometry2'].str.split(',', 1, expand=True)\n",
    "\n",
    "print(df_KSI_clean3[['Longitude','Latitude']])"
   ]
  },
  {
   "cell_type": "code",
   "execution_count": null,
   "id": "aa6793ed",
   "metadata": {},
   "outputs": [],
   "source": [
    "df_KSI_clean3.head(5)"
   ]
  },
  {
   "cell_type": "code",
   "execution_count": null,
   "id": "b2311901",
   "metadata": {},
   "outputs": [],
   "source": [
    "# Standardize Lat & Long Length to match between the files\n",
    "\n",
    "df_KSI_clean3['Longitude']=df_KSI_clean3.Longitude.map(lambda l: l[:8])\n",
    "\n",
    "df_KSI_clean3['Latitude']=df_KSI_clean3.Latitude.map(lambda l: l[:8].replace(\" \",''))\n"
   ]
  },
  {
   "cell_type": "code",
   "execution_count": null,
   "id": "49bf60dc",
   "metadata": {},
   "outputs": [],
   "source": [
    "df_KSI_clean3.head(5)"
   ]
  },
  {
   "cell_type": "code",
   "execution_count": null,
   "id": "01d8a4b2",
   "metadata": {},
   "outputs": [],
   "source": [
    "# Remove null values in road_class_ID before changing column to int type\n",
    "df_KSI_clean3.dropna(subset = ['ROAD_CLASS_ID'], inplace=True)\n",
    "\n",
    "# converting 'Injury_ID' and 'ROAD_CLASS_ID' from float to int\n",
    "df_KSI_clean3['INJURY_ID'] = df_KSI_clean3['INJURY_ID'].astype(int)\n",
    "df_KSI_clean3['ROAD_CLASS_ID'] = df_KSI_clean3['ROAD_CLASS_ID'].astype(int)  \n",
    "\n",
    "# displaying the datatypes\n",
    "#display(df_KSI_clean3.dtypes)\n",
    "\n",
    "# displaying the info\n",
    "#df_KSI_clean3.info()"
   ]
  },
  {
   "cell_type": "code",
   "execution_count": null,
   "id": "6a854be8",
   "metadata": {},
   "outputs": [],
   "source": [
    "#Remove rows where ACCLASS = Property Damage Only\n",
    "\n",
    "#define list of values\n",
    "values = [\"Property Damage Only\"]\n",
    "\n",
    "\n",
    "df_KSI_clean3 = df_KSI_clean3[df_KSI_clean1.ACCLASS.isin(values) == False]\n",
    "\n",
    "# count unique values in \"ACCLASS\" column\n",
    "\n",
    "df_KSI_clean3.groupby(['ACCLASS']).count()\n"
   ]
  },
  {
   "cell_type": "code",
   "execution_count": null,
   "id": "1eaa1a97",
   "metadata": {},
   "outputs": [],
   "source": [
    "#drop all rows with null values\n",
    "\n",
    "df_KSI_clean3.dropna(axis=0, how='any',inplace=True)\n",
    "df_KSI_clean3.head(5)"
   ]
  },
  {
   "cell_type": "markdown",
   "id": "17d4349b",
   "metadata": {},
   "source": [
    "## This section adds Redlight data to KSI dataframe"
   ]
  },
  {
   "cell_type": "code",
   "execution_count": null,
   "id": "e3ea2522",
   "metadata": {},
   "outputs": [],
   "source": [
    "print(df_KSI_clean3[['ACCNUM','Longitude','Latitude']])"
   ]
  },
  {
   "cell_type": "code",
   "execution_count": null,
   "id": "5c20ce6a",
   "metadata": {},
   "outputs": [],
   "source": [
    "print(df_RL[['Longitude','Latitude']])"
   ]
  },
  {
   "cell_type": "code",
   "execution_count": null,
   "id": "4779cb6d",
   "metadata": {},
   "outputs": [],
   "source": [
    "# Assign a copy of df_KSI_clean3 to a new Dataframe temporarily\n",
    "test_df=df_KSI_clean3.copy()"
   ]
  },
  {
   "cell_type": "code",
   "execution_count": null,
   "id": "29cf9815",
   "metadata": {},
   "outputs": [],
   "source": [
    "#Create the redlight column and set all values to zero\n",
    "test_df['IsRedlight']=0"
   ]
  },
  {
   "cell_type": "code",
   "execution_count": null,
   "id": "2a88d711",
   "metadata": {},
   "outputs": [],
   "source": [
    "#Create a dataframe which is the inner join of the Redlight camera dataframe and KSI dataframe on Latitude and Longitude.\n",
    "geomerge_df=pd.merge(df_RL, df_KSI_clean3,how='inner',on=['Longitude','Latitude'])"
   ]
  },
  {
   "cell_type": "code",
   "execution_count": null,
   "id": "62329858",
   "metadata": {},
   "outputs": [],
   "source": [
    "# shows how many unique accident numbers are in the \n",
    "geomerge_df['ACCNUM'].nunique()"
   ]
  },
  {
   "cell_type": "code",
   "execution_count": null,
   "id": "498372f8",
   "metadata": {},
   "outputs": [],
   "source": [
    "#Shows how many records and row there are.  reveals that there are duplicate ACCNUM's\n",
    "geomerge_df.shape"
   ]
  },
  {
   "cell_type": "code",
   "execution_count": null,
   "id": "07bb0218",
   "metadata": {},
   "outputs": [],
   "source": [
    "#Create the toggle redlight function to change the red light value from 0 to 1 when there is a match in Accident number\n",
    "def toggleredlight (AccidentNum=None):\n",
    "    if AccidentNum:\n",
    "        test_df.loc[test_df['ACCNUM']==AccidentNum,\"IsRedlight\"]=1"
   ]
  },
  {
   "cell_type": "code",
   "execution_count": null,
   "id": "9e258799",
   "metadata": {},
   "outputs": [],
   "source": [
    "# Using the ACCNUM column in Geomerge, map to the function, which contains the test_df dataframe and if ACCNUM if it is equal toggle the 0 to 1\n",
    "geomerge_df['ACCNUM'].map(toggleredlight)"
   ]
  },
  {
   "cell_type": "code",
   "execution_count": null,
   "id": "65408c2e",
   "metadata": {},
   "outputs": [],
   "source": [
    "#print(test_df['IsRedlight'])\n",
    "\n",
    "# Shows how many redlights mapped to our test_df\n",
    "test_df.groupby(['IsRedlight']).count()\n",
    "\n",
    "#pd.set_option(\"display.max_rows\", None)\n",
    "#test_df"
   ]
  },
  {
   "cell_type": "code",
   "execution_count": null,
   "id": "bef90bc6",
   "metadata": {},
   "outputs": [],
   "source": [
    "# Assign test_df back to the df_KSI_clean3 dataframe\n",
    "df_KSI_clean4=test_df"
   ]
  },
  {
   "cell_type": "code",
   "execution_count": null,
   "id": "e92f8b03",
   "metadata": {
    "scrolled": true
   },
   "outputs": [],
   "source": [
    "#drop columns which can't be used in ML model\n",
    "\n",
    "df_KSI_clean5=df_KSI_clean4.drop(['VEHTYPE','MANOEUVER','DRIVACT','DRIVCOND','PEDESTRIAN','CYCLIST','AUTOMOBILE','MOTORCYCLE','TRUCK','TRSN_CITY_VEH','EMERG_VEH','PASSENGER','INJURY_ID','ACCNUM','ObjectId','INVTYPE','INVAGE','YEAR','DATE','TIME','STREET1','STREET2','geometry','geometry2','Longitude','Latitude'],axis=1)\n",
    "df_KSI_clean5"
   ]
  },
  {
   "cell_type": "code",
   "execution_count": null,
   "id": "7af8c889",
   "metadata": {},
   "outputs": [],
   "source": [
    "df_KSI_clean5.loc[df_KSI_clean5['ACCLASS']!='Fatal','REDLIGHT'].value_counts().plot.pie()"
   ]
  },
  {
   "cell_type": "code",
   "execution_count": null,
   "id": "436908f9",
   "metadata": {},
   "outputs": [],
   "source": [
    "df_KSI_clean5.dtypes"
   ]
  },
  {
   "cell_type": "code",
   "execution_count": null,
   "id": "8ce41f14",
   "metadata": {},
   "outputs": [],
   "source": []
  },
  {
   "cell_type": "code",
   "execution_count": null,
   "id": "14d8d204",
   "metadata": {},
   "outputs": [],
   "source": [
    "#categorical data\n",
    "categorical_cols = ['HOUR', 'ROAD_CLASS_ID','LOCCOORD','TRAFFCTL','VISIBILITY','LIGHT','RDSFCOND','IMPACTYPE'] \n",
    "\n",
    "#import pandas as pd\n",
    "df_KSI_clean6 = pd.get_dummies(df_KSI_clean5, columns = categorical_cols)"
   ]
  },
  {
   "cell_type": "code",
   "execution_count": null,
   "id": "17655490",
   "metadata": {},
   "outputs": [],
   "source": [
    "#create a mapping dictionary, you can just enumerate the categories using a dictionary comprehension\n",
    "#{col: {n: cat for n, cat in enumerate(df_KSI_clean4[col].astype('category').cat.categories)}\n",
    " #    for col in df_KSI_clean4}\n",
    "\n",
    "#convert the columns to categoricals\n",
    "#df_KSI_clean5=pd.DataFrame({col: df_KSI_clean4[col].astype('category').cat.codes for col in df_KSI_clean4}, index=df_KSI_clean4.index)\n"
   ]
  },
  {
   "cell_type": "code",
   "execution_count": null,
   "id": "7ce285f8",
   "metadata": {},
   "outputs": [],
   "source": [
    "#df_KSI_clean6.info()"
   ]
  },
  {
   "cell_type": "code",
   "execution_count": null,
   "id": "c5b41767",
   "metadata": {
    "scrolled": true
   },
   "outputs": [],
   "source": [
    "# from sklearn.preprocessing import LabelEncoder\n",
    "#import pandas\n",
    "#from sklearn.preprocessing import LabelEncoder\n",
    "\n",
    "#le = LabelEncoder()\n",
    "\n",
    "#df_KSI_clean5['ACCLASS'] = le.fit_transform(df_KSI_clean5['ACCLASS'])\n",
    "#df_KSI_clean5"
   ]
  },
  {
   "cell_type": "markdown",
   "id": "e7006c85",
   "metadata": {},
   "source": [
    "## Fixing Class Imbalance"
   ]
  },
  {
   "cell_type": "code",
   "execution_count": null,
   "id": "a5e3856d",
   "metadata": {
    "scrolled": true
   },
   "outputs": [],
   "source": [
    "df_KSI_clean6.groupby('ACCLASS').count()['SPEEDING']# / df_KSI_clean4.shape[0]\n",
    "\n",
    "def encode_acclass(row_val):\n",
    "    \"\"\"\n",
    "    Take in the row value and check the value. \n",
    "    Then encode the row based on the value.\n",
    "    \"\"\"\n",
    "    \n",
    "    if row_val =='Non-Fatal Injury':\n",
    "        return 0\n",
    "    else:\n",
    "        return 1\n",
    "    \n",
    "df_KSI_clean6['target']= df_KSI_clean6['ACCLASS'].apply(encode_acclass)"
   ]
  },
  {
   "cell_type": "code",
   "execution_count": null,
   "id": "5ead6118",
   "metadata": {},
   "outputs": [],
   "source": [
    "# selecting rows based on Accident Classification\n",
    "Acclass1_df = df_KSI_clean6[df_KSI_clean6['target'] == 1]\n",
    "Acclass0_df = df_KSI_clean6[df_KSI_clean6['target'] == 0]\n",
    "\n",
    "print(Acclass1_df.shape)\n",
    "print(Acclass0_df.shape)"
   ]
  },
  {
   "cell_type": "code",
   "execution_count": null,
   "id": "fff1d923",
   "metadata": {},
   "outputs": [],
   "source": [
    "#\n",
    "import random \n",
    "from random import sample\n",
    "\n",
    "Acclass0_df=Acclass0_df.sample(2000)\n",
    "Acclass1_df=Acclass1_df.sample(1000, replace=True)\n",
    "\n",
    "print(Acclass1_df.shape)\n",
    "print(Acclass0_df.shape)"
   ]
  },
  {
   "cell_type": "code",
   "execution_count": null,
   "id": "8bb42184",
   "metadata": {},
   "outputs": [],
   "source": [
    "df_KSI_clean7=pd.concat([Acclass0_df, Acclass1_df])\n",
    "df_KSI_clean7.shape"
   ]
  },
  {
   "cell_type": "markdown",
   "id": "02cdc045",
   "metadata": {},
   "source": [
    "## Random Forest"
   ]
  },
  {
   "cell_type": "code",
   "execution_count": null,
   "id": "d34e8ff5",
   "metadata": {},
   "outputs": [],
   "source": [
    "def generate_model_report (y_actual, predictions):\n",
    "    print(\"Accuracy =\" , accuracy_score(y_actual, predictions))\n",
    "    print(\"Precision =\" , precision_score(y_actual, predictions))\n",
    "    print(\"Recall =\" , recall_score(y_actual, predictions))\n",
    "    print(\"F1 Score =\" , f1_score(y_actual, predictions))\n",
    "    pass\n"
   ]
  },
  {
   "cell_type": "code",
   "execution_count": null,
   "id": "7729eb43",
   "metadata": {},
   "outputs": [],
   "source": [
    "#Split the data into Training & Testing\n",
    "\n",
    "KSI_df=df_KSI_clean6.copy()\n",
    "\n",
    "# Create our features\n",
    "X = KSI_df.drop([\"ACCLASS\", \"target\"], axis=1)\n",
    "\n",
    "# Create our target\n",
    "y=KSI_df[\"target\"].values\n",
    "\n",
    "print(y)\n",
    "\n",
    "\n",
    "X_train, X_test, y_train, y_test = train_test_split(X,y,random_state=1,stratify=y)\n",
    "X_train.shape"
   ]
  },
  {
   "cell_type": "code",
   "execution_count": null,
   "id": "e0af7a81",
   "metadata": {},
   "outputs": [],
   "source": [
    "# Resample the training data with the BalancedRandomForestClassifier\n",
    "from imblearn.ensemble import BalancedRandomForestClassifier\n",
    "balanced = BalancedRandomForestClassifier(n_estimators = 500, random_state=1)\n",
    "balanced.fit(X_train, y_train)"
   ]
  },
  {
   "cell_type": "code",
   "execution_count": null,
   "id": "028bc247",
   "metadata": {},
   "outputs": [],
   "source": [
    "# Calculated the balanced accuracy score\n",
    "y_pred = balanced.predict(X_test)\n",
    "balanced_accuracy_score(y_test, y_pred)"
   ]
  },
  {
   "cell_type": "code",
   "execution_count": null,
   "id": "3884d083",
   "metadata": {},
   "outputs": [],
   "source": [
    "generate_model_report(y_test, y_pred)"
   ]
  },
  {
   "cell_type": "code",
   "execution_count": null,
   "id": "5fe3a18c",
   "metadata": {},
   "outputs": [],
   "source": [
    "# List the features sorted in descending order by feature importance\n",
    "dict(sorted(zip(X.columns,balanced.feature_importances_), reverse=True,key = lambda record:record[1]))"
   ]
  },
  {
   "cell_type": "code",
   "execution_count": null,
   "id": "76f5b6ee",
   "metadata": {},
   "outputs": [],
   "source": [
    "# Display the confusion matrix\n",
    "confusion_matrix(y_test, y_pred)"
   ]
  },
  {
   "cell_type": "code",
   "execution_count": null,
   "id": "f4bae657",
   "metadata": {},
   "outputs": [],
   "source": [
    "# Print the imbalanced classification report\n",
    "print(classification_report_imbalanced(y_test, y_pred))"
   ]
  },
  {
   "cell_type": "markdown",
   "id": "33618814",
   "metadata": {},
   "source": [
    "## gradient boosted tree"
   ]
  },
  {
   "cell_type": "code",
   "execution_count": null,
   "id": "4dc62e76",
   "metadata": {},
   "outputs": [],
   "source": [
    "from sklearn.ensemble import GradientBoostingClassifier\n",
    "\n",
    "# Create a classifier object\n",
    "learning_rates = [0.01, 0.05, 0.1, 0.15, 0.20, 0.25, 0.30, 0.50]\n",
    "for learning_rate in learning_rates:\n",
    "    classifier = GradientBoostingClassifier(n_estimators=500,\n",
    "                                            learning_rate=learning_rate,\n",
    "                                            max_features=5,\n",
    "                                            max_depth=3,\n",
    "                                            random_state=0)\n",
    "\n",
    "    # Fit the model\n",
    "    classifier.fit(X_train, y_train)\n",
    "    print(\"Learning rate: \", learning_rate)\n",
    "\n",
    "    # Score the model\n",
    "    print(\"Accuracy score (training): {0:.3f}\".format(\n",
    "        classifier.score(\n",
    "            X_train,\n",
    "            y_train)))\n",
    "    print(\"Accuracy score (validation): {0:.3f}\".format(\n",
    "        classifier.score(\n",
    "            X_test,\n",
    "            y_test)))\n",
    "    print()"
   ]
  },
  {
   "cell_type": "code",
   "execution_count": null,
   "id": "561aefa5",
   "metadata": {},
   "outputs": [],
   "source": [
    "# Choose a learning rate and create classifier\n",
    "classifier = GradientBoostingClassifier(n_estimators=3000,\n",
    "                                        learning_rate=0.5,\n",
    "                                        max_features=5,\n",
    "                                        max_depth=3,\n",
    "                                        random_state=0)\n",
    "\n",
    "# Fit the model\n",
    "classifier.fit(X_train, y_train)\n",
    "\n",
    "# Make Prediction\n",
    "predictions = classifier.predict(X_test)\n",
    "outcome_df=pd.DataFrame({\"Prediction\": predictions, \"Actual\": y_test})\n",
    "outcome_df"
   ]
  },
  {
   "cell_type": "code",
   "execution_count": null,
   "id": "f07ee58a",
   "metadata": {},
   "outputs": [],
   "source": [
    "# Calculating the accuracy score\n",
    "acc_score = accuracy_score(y_test, predictions)\n",
    "print(f\"Accuracy Score : {acc_score}\")"
   ]
  },
  {
   "cell_type": "code",
   "execution_count": null,
   "id": "95a1f8e2",
   "metadata": {},
   "outputs": [],
   "source": [
    "generate_model_report(y_test, y_pred)"
   ]
  },
  {
   "cell_type": "code",
   "execution_count": null,
   "id": "f29c48df",
   "metadata": {},
   "outputs": [],
   "source": [
    "# Generate the confusion matrix\n",
    "cm = confusion_matrix(y_test, predictions)\n",
    "cm_df = pd.DataFrame(\n",
    "    cm, index=[\"Actual 0\", \"Actual 1\"],\n",
    "    columns=[\"Predicted 0\", \"Predicted 1\"]\n",
    ")\n",
    "\n",
    "# Displaying results\n",
    "display(cm_df)"
   ]
  },
  {
   "cell_type": "code",
   "execution_count": null,
   "id": "193636cf",
   "metadata": {},
   "outputs": [],
   "source": [
    "# Display the confusion matrix\n",
    "confusion_matrix(y_test, predictions)"
   ]
  },
  {
   "cell_type": "code",
   "execution_count": null,
   "id": "77a753fd",
   "metadata": {},
   "outputs": [],
   "source": [
    "# Generate classification report\n",
    "print(\"Classification Report\")\n",
    "print(classification_report(y_test, predictions))"
   ]
  },
  {
   "cell_type": "markdown",
   "id": "a23d46cb",
   "metadata": {},
   "source": [
    "## Unused code"
   ]
  },
  {
   "cell_type": "code",
   "execution_count": null,
   "id": "3acc71ca",
   "metadata": {},
   "outputs": [],
   "source": [
    "# #from sklearn.preprocessing import LabelEncoder\n",
    "# le = LabelEncoder()\n",
    "\n",
    "# #'VEHTYPE','MANOEUVER','DRIVACT','DRIVCOND','LOCCOORD','TRAFFCTL','VISIBILITY','LIGHT','RDSFCOND','ACCLASS','IMPACTYPE']\n",
    "\n",
    "# df_KSI_clean4 = df_KSI_clean3.copy()\n",
    "# df_KSI_clean4['VEHTYPE_ENC'] = le.fit_transform(df_KSI_clean4['VEHTYPE'])\n",
    "# df_KSI_clean4['MANOEUVER_ENC'] = le.fit_transform(df_KSI_clean4['MANOEUVER'])\n",
    "# df_KSI_clean4['DRIVACT_ENC'] = le.fit_transform(df_KSI_clean4['DRIVACT'])\n",
    "# df_KSI_clean4['DRIVCOND_ENC'] = le.fit_transform(df_KSI_clean4['DRIVCOND'])\n",
    "# df_KSI_clean4['LOCCOORD_ENC'] = le.fit_transform(df_KSI_clean4['LOCCOORD'])\n",
    "# df_KSI_clean4['TRAFFCTL_ENC'] = le.fit_transform(df_KSI_clean4['TRAFFCTL'])\n",
    "# df_KSI_clean4['VISIBILITY_ENC'] = le.fit_transform(df_KSI_clean4['VISIBILITY'])\n",
    "# df_KSI_clean4['LIGHT'] = le.fit_transform(df_KSI_clean4['LIGHT'])\n",
    "# df_KSI_clean4['RDSFCOND'] = le.fit_transform(df_KSI_clean4['RDSFCOND'])\n",
    "# df_KSI_clean4['ACCLASS'] = le.fit_transform(df_KSI_clean4['ACCLASS'])\n",
    "# df_KSI_clean4['IMPACTYPE'] = le.fit_transform(df_KSI_clean4['IMPACTYPE'])\n",
    "# df_KSI_clean4.head()"
   ]
  },
  {
   "cell_type": "code",
   "execution_count": null,
   "id": "514ef53d",
   "metadata": {},
   "outputs": [],
   "source": [
    "#Load Road class Table\n",
    "df_RC_DB=pd.read_csv(\"../DB_Extracts/road_class.csv\")\n",
    "df_RC_DB.head(5)"
   ]
  },
  {
   "cell_type": "code",
   "execution_count": null,
   "id": "07d86d92",
   "metadata": {},
   "outputs": [],
   "source": [
    "#Load Injury table\n",
    "df_Injury_DB=pd.read_csv(\"../DB_Extracts/injury.csv\")\n",
    "df_Injury_DB.head(5)"
   ]
  },
  {
   "cell_type": "code",
   "execution_count": null,
   "id": "ee8bc8bc",
   "metadata": {},
   "outputs": [],
   "source": []
  },
  {
   "cell_type": "code",
   "execution_count": null,
   "id": "9777d5db",
   "metadata": {},
   "outputs": [],
   "source": []
  },
  {
   "cell_type": "code",
   "execution_count": null,
   "id": "a83831c6",
   "metadata": {},
   "outputs": [],
   "source": []
  }
 ],
 "metadata": {
  "kernelspec": {
   "display_name": "mlenv",
   "language": "python",
   "name": "mlenv"
  },
  "language_info": {
   "codemirror_mode": {
    "name": "ipython",
    "version": 3
   },
   "file_extension": ".py",
   "mimetype": "text/x-python",
   "name": "python",
   "nbconvert_exporter": "python",
   "pygments_lexer": "ipython3",
   "version": "3.7.11"
  }
 },
 "nbformat": 4,
 "nbformat_minor": 5
}
