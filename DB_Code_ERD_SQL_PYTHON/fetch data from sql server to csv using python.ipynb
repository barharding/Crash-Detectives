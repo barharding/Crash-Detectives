{
 "cells": [
  {
   "cell_type": "code",
   "execution_count": 1,
   "id": "bc4aa093",
   "metadata": {},
   "outputs": [],
   "source": [
    "import pyodbc\n",
    "import pandas as pd"
   ]
  },
  {
   "cell_type": "code",
   "execution_count": 4,
   "id": "df850f74",
   "metadata": {},
   "outputs": [
    {
     "name": "stdout",
     "output_type": "stream",
     "text": [
      "           ACCNUM  ObjectId     INVTYPE    INVAGE INJURY FATAL_NO  INITDIR  \\\n",
      "0           56815     16515      Driver  45 to 49   None     None    South   \n",
      "1           56815     16516      Driver  50 to 54  Major     None     East   \n",
      "2           56815     16517      Driver  55 to 59   None     None     East   \n",
      "3           56815     16518      Driver  35 to 39   None     None    North   \n",
      "4           93249     16533      Driver  35 to 39   None     None     West   \n",
      "...           ...       ...         ...       ...    ...      ...      ...   \n",
      "16855  9002374451     16643  Pedestrian  50 to 54  Major     None     East   \n",
      "16856  9002374451     16644   Passenger  20 to 24   None     None     None   \n",
      "16857  9002374451     16645   Passenger  25 to 29   None     None     None   \n",
      "16858  9002500056     16141      Driver  40 to 44   None     None     West   \n",
      "16859  9002500056     16148  Pedestrian  80 to 84  Major     None  Unknown   \n",
      "\n",
      "                         VEHTYPE     MANOEUVER                    DRIVACT  \\\n",
      "0                   Delivery Van   Going Ahead  Disobeyed Traffic Control   \n",
      "1      Automobile, Station Wagon   Going Ahead           Driving Properly   \n",
      "2                  Pick Up Truck   Going Ahead           Driving Properly   \n",
      "3      Automobile, Station Wagon       Stopped           Driving Properly   \n",
      "4                  Pick Up Truck  Turning Left              Improper Turn   \n",
      "...                          ...           ...                        ...   \n",
      "16855                       None          None                       None   \n",
      "16856                       None          None                       None   \n",
      "16857                       None          None                       None   \n",
      "16858  Automobile, Station Wagon     Reversing                      Other   \n",
      "16859                       None          None                       None   \n",
      "\n",
      "       ...                           NEIGHBOURHOOD collision_lat  \\\n",
      "0      ...              West Humber-Clairville (1)      -79.5755   \n",
      "1      ...              West Humber-Clairville (1)      -79.5755   \n",
      "2      ...              West Humber-Clairville (1)      -79.5755   \n",
      "3      ...              West Humber-Clairville (1)      -79.5755   \n",
      "4      ...  Waterfront Communities-The Island (77)      -79.3497   \n",
      "...    ...                                     ...           ...   \n",
      "16855  ...                    North Riverdale (68)      -79.3507   \n",
      "16856  ...                    North Riverdale (68)      -79.3507   \n",
      "16857  ...                    North Riverdale (68)      -79.3507   \n",
      "16858  ...             Corso Italia-Davenport (92)      -79.4489   \n",
      "16859  ...             Corso Italia-Davenport (92)      -79.4489   \n",
      "\n",
      "      collision_long red_light_lat red_light_long right_light_camera  \\\n",
      "0            43.7018          None           None                  N   \n",
      "1            43.7018          None           None                  N   \n",
      "2            43.7018          None           None                  N   \n",
      "3            43.7018          None           None                  N   \n",
      "4            43.6519          None           None                  N   \n",
      "...              ...           ...            ...                ...   \n",
      "16855        43.6777          None           None                  N   \n",
      "16856        43.6777          None           None                  N   \n",
      "16857        43.6777          None           None                  N   \n",
      "16858        43.6765          None           None                  N   \n",
      "16859        43.6765          None           None                  N   \n",
      "\n",
      "      LINEAR_NAME_FULL_1 LINEAR_NAME_FULL_2 ACTIVATION_DATE      ROAD_CLASS  \n",
      "0                   None               None            None  Major Arterial  \n",
      "1                   None               None            None  Major Arterial  \n",
      "2                   None               None            None  Major Arterial  \n",
      "3                   None               None            None  Major Arterial  \n",
      "4                   None               None            None            None  \n",
      "...                  ...                ...             ...             ...  \n",
      "16855               None               None            None  Major Arterial  \n",
      "16856               None               None            None  Major Arterial  \n",
      "16857               None               None            None  Major Arterial  \n",
      "16858               None               None            None  Major Arterial  \n",
      "16859               None               None            None  Major Arterial  \n",
      "\n",
      "[16860 rows x 61 columns]\n"
     ]
    }
   ],
   "source": [
    "server = '.\\RQ_SERVER'\n",
    "database = 'uot'\n",
    "cnxn = pyodbc.connect('DRIVER={SQL Server};SERVER='+server+';DATABASE='+database)\n",
    "cursor = cnxn.cursor()\n",
    "\n",
    "query = \"SELECT * FROM seriously_injury_rl;\"\n",
    "df = pd.read_sql(query, cnxn)\n",
    "print(df)"
   ]
  },
  {
   "cell_type": "code",
   "execution_count": 5,
   "id": "a774fd57",
   "metadata": {},
   "outputs": [],
   "source": [
    "df.to_csv(\"seriously_injured_rl.csv\")"
   ]
  },
  {
   "cell_type": "code",
   "execution_count": null,
   "id": "3f9c3e0e",
   "metadata": {},
   "outputs": [],
   "source": []
  }
 ],
 "metadata": {
  "kernelspec": {
   "display_name": "PythonData",
   "language": "python",
   "name": "pythondata"
  },
  "language_info": {
   "codemirror_mode": {
    "name": "ipython",
    "version": 3
   },
   "file_extension": ".py",
   "mimetype": "text/x-python",
   "name": "python",
   "nbconvert_exporter": "python",
   "pygments_lexer": "ipython3",
   "version": "3.7.11"
  }
 },
 "nbformat": 4,
 "nbformat_minor": 5
}
