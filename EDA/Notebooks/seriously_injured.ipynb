{
 "cells": [
  {
   "cell_type": "code",
   "execution_count": 21,
   "id": "f242d2b8",
   "metadata": {},
   "outputs": [],
   "source": [
    "# Add Matplotlib inline magic command\n",
    "%matplotlib notebook\n",
    "%matplotlib inline\n",
    "#importing libraries\n",
    "import matplotlib.pyplot as plt\n",
    "import pandas as pd\n",
    "import numpy as np\n",
    "import seaborn as sns\n",
    "import matplotlib.ticker as mtick\n",
    "import plotly.io as pio\n",
    "import plotly.graph_objects as go"
   ]
  },
  {
   "cell_type": "code",
   "execution_count": 22,
   "id": "2f160db9",
   "metadata": {},
   "outputs": [],
   "source": [
    "#importing files\n",
    "seriously_injured=pd.read_csv(\"../DB_Extracts/seriously_injured_data.csv\",low_memory=False)\n",
    "\n",
    "road_class=pd.read_csv(\"../DB_Extracts/road_class.csv\")"
   ]
  },
  {
   "cell_type": "code",
   "execution_count": 23,
   "id": "3b18792d",
   "metadata": {},
   "outputs": [],
   "source": [
    "#creating copy of data\n",
    "df_seriously_injured=seriously_injured.copy()\n",
    "df_road_class=road_class.copy()"
   ]
  },
  {
   "cell_type": "code",
   "execution_count": 24,
   "id": "2b33ac52",
   "metadata": {},
   "outputs": [],
   "source": [
    "pd.options.display.max_columns = None         # to print all columns"
   ]
  },
  {
   "cell_type": "code",
   "execution_count": 25,
   "id": "62a95c44",
   "metadata": {},
   "outputs": [
    {
     "name": "stdout",
     "output_type": "stream",
     "text": [
      "<class 'pandas.core.frame.DataFrame'>\n",
      "RangeIndex: 16860 entries, 0 to 16859\n",
      "Data columns (total 53 columns):\n",
      " #   Column           Non-Null Count  Dtype  \n",
      "---  ------           --------------  -----  \n",
      " 0   ACCNUM           16860 non-null  int64  \n",
      " 1   ObjectId         16860 non-null  int64  \n",
      " 2   INVTYPE          16848 non-null  object \n",
      " 3   INVAGE           16860 non-null  object \n",
      " 4   INJURY_ID        15248 non-null  float64\n",
      " 5   FATAL_NO         713 non-null    float64\n",
      " 6   INITDIR          11966 non-null  object \n",
      " 7   VEHTYPE          14047 non-null  object \n",
      " 8   MANOEUVER        9627 non-null   object \n",
      " 9   DRIVACT          8462 non-null   object \n",
      " 10  DRIVCOND         8464 non-null   object \n",
      " 11  PEDTYPE          2786 non-null   object \n",
      " 12  PEDACT           2779 non-null   object \n",
      " 13  PEDCOND          2835 non-null   object \n",
      " 14  CYCLISTYPE       700 non-null    object \n",
      " 15  CYCACT           707 non-null    object \n",
      " 16  CYCCOND          706 non-null    object \n",
      " 17  PEDESTRIAN       6827 non-null   object \n",
      " 18  CYCLIST          1779 non-null   object \n",
      " 19  AUTOMOBILE       15308 non-null  object \n",
      " 20  MOTORCYCLE       1384 non-null   object \n",
      " 21  TRUCK            1042 non-null   object \n",
      " 22  TRSN_CITY_VEH    1011 non-null   object \n",
      " 23  EMERG_VEH        31 non-null     object \n",
      " 24  PASSENGER        6362 non-null   object \n",
      " 25  SPEEDING         2285 non-null   object \n",
      " 26  AG_DRIV          8703 non-null   object \n",
      " 27  REDLIGHT         1409 non-null   object \n",
      " 28  ALCOHOL          739 non-null    object \n",
      " 29  DISABILITY       468 non-null    object \n",
      " 30  YEAR             16860 non-null  int64  \n",
      " 31  DATE             16860 non-null  object \n",
      " 32  TIME             16860 non-null  int64  \n",
      " 33  HOUR             16860 non-null  int64  \n",
      " 34  STREET1          16860 non-null  object \n",
      " 35  STREET2          15350 non-null  object \n",
      " 36  OFFSET           2746 non-null   object \n",
      " 37  ROAD_CLASS_ID    16363 non-null  float64\n",
      " 38  DISTRICT         16719 non-null  object \n",
      " 39  WARDNUM          14315 non-null  float64\n",
      " 40  DIVISION         14822 non-null  float64\n",
      " 41  LOCCOORD         16755 non-null  object \n",
      " 42  ACCLOC           11410 non-null  object \n",
      " 43  TRAFFCTL         16831 non-null  object \n",
      " 44  VISIBILITY       16842 non-null  object \n",
      " 45  LIGHT            16860 non-null  object \n",
      " 46  RDSFCOND         16837 non-null  object \n",
      " 47  ACCLASS          16860 non-null  object \n",
      " 48  IMPACTYPE        16856 non-null  object \n",
      " 49  POLICE_DIVISION  16860 non-null  object \n",
      " 50  HOOD_ID          16860 non-null  int64  \n",
      " 51  NEIGHBOURHOOD    16860 non-null  object \n",
      " 52  geometry         16860 non-null  object \n",
      "dtypes: float64(5), int64(6), object(42)\n",
      "memory usage: 6.8+ MB\n"
     ]
    }
   ],
   "source": [
    "#Info about dataframe\n",
    "df_seriously_injured.info()"
   ]
  },
  {
   "cell_type": "code",
   "execution_count": 26,
   "id": "877b3b4b",
   "metadata": {},
   "outputs": [
    {
     "data": {
      "text/plain": [
       "ACCNUM              6002\n",
       "ObjectId           16860\n",
       "INVTYPE               18\n",
       "INVAGE                21\n",
       "INJURY_ID              5\n",
       "FATAL_NO              78\n",
       "INITDIR                5\n",
       "VEHTYPE               27\n",
       "MANOEUVER             16\n",
       "DRIVACT               13\n",
       "DRIVCOND              10\n",
       "PEDTYPE               16\n",
       "PEDACT                15\n",
       "PEDCOND               10\n",
       "CYCLISTYPE            22\n",
       "CYCACT                11\n",
       "CYCCOND               10\n",
       "PEDESTRIAN             1\n",
       "CYCLIST                1\n",
       "AUTOMOBILE             1\n",
       "MOTORCYCLE             1\n",
       "TRUCK                  1\n",
       "TRSN_CITY_VEH          1\n",
       "EMERG_VEH              1\n",
       "PASSENGER              1\n",
       "SPEEDING               1\n",
       "AG_DRIV                1\n",
       "REDLIGHT               1\n",
       "ALCOHOL                1\n",
       "DISABILITY             1\n",
       "YEAR                  15\n",
       "DATE                3549\n",
       "TIME                1311\n",
       "HOUR                  24\n",
       "STREET1             1714\n",
       "STREET2             2567\n",
       "OFFSET               419\n",
       "ROAD_CLASS_ID         10\n",
       "DISTRICT               5\n",
       "WARDNUM               25\n",
       "DIVISION              17\n",
       "LOCCOORD               7\n",
       "ACCLOC                 9\n",
       "TRAFFCTL              10\n",
       "VISIBILITY             8\n",
       "LIGHT                  9\n",
       "RDSFCOND               9\n",
       "ACCLASS                3\n",
       "IMPACTYPE             10\n",
       "POLICE_DIVISION       17\n",
       "HOOD_ID              140\n",
       "NEIGHBOURHOOD        140\n",
       "geometry            5345\n",
       "dtype: int64"
      ]
     },
     "execution_count": 26,
     "metadata": {},
     "output_type": "execute_result"
    }
   ],
   "source": [
    "#find number of uniques in dataframe\n",
    "df_seriously_injured.nunique()"
   ]
  },
  {
   "cell_type": "code",
   "execution_count": 27,
   "id": "df32f89e",
   "metadata": {},
   "outputs": [],
   "source": [
    "#Getting only Longitude and Latitude values in geometry2 column\n",
    "import re\n",
    "df_seriously_injured[\"geometry2\"] = df_seriously_injured[\"geometry\"].str.extract(r\"\\((.*?)\\)\")"
   ]
  },
  {
   "cell_type": "code",
   "execution_count": 28,
   "id": "70510139",
   "metadata": {},
   "outputs": [],
   "source": [
    "# split geometry2 into two columns: long & Lat\n",
    "df_seriously_injured[['Longitude', 'Latitude']] = df_seriously_injured['geometry2'].str.split(',', 1, expand=True)"
   ]
  },
  {
   "cell_type": "code",
   "execution_count": 29,
   "id": "4b50c285",
   "metadata": {},
   "outputs": [],
   "source": [
    "#Standardize Lat & Long Length to match between the files\n",
    "df_seriously_injured['Longitude']=df_seriously_injured.Longitude.map(lambda l: l[:8])\n",
    "df_seriously_injured['Latitude']=df_seriously_injured.Latitude.map(lambda l: l[:8].replace(\" \",''))\n",
    "df_seriously_injured.drop([\"geometry\"],axis=1, inplace=True)"
   ]
  },
  {
   "cell_type": "code",
   "execution_count": 30,
   "id": "f65dff00",
   "metadata": {},
   "outputs": [],
   "source": [
    "#Changing datatype to float for Latitude and Longitude columns\n",
    "df_seriously_injured=df_seriously_injured.astype({'Longitude':'float','Latitude':'float'})"
   ]
  },
  {
   "cell_type": "code",
   "execution_count": 31,
   "id": "c17b0e2e",
   "metadata": {},
   "outputs": [],
   "source": [
    "#Changing data type of DATE column to datetime\n",
    "df_seriously_injured['DATE'] = pd.to_datetime(df_seriously_injured['DATE'])"
   ]
  },
  {
   "cell_type": "code",
   "execution_count": 32,
   "id": "d9af650a",
   "metadata": {},
   "outputs": [
    {
     "data": {
      "text/html": [
       "<div>\n",
       "<style scoped>\n",
       "    .dataframe tbody tr th:only-of-type {\n",
       "        vertical-align: middle;\n",
       "    }\n",
       "\n",
       "    .dataframe tbody tr th {\n",
       "        vertical-align: top;\n",
       "    }\n",
       "\n",
       "    .dataframe thead th {\n",
       "        text-align: right;\n",
       "    }\n",
       "</style>\n",
       "<table border=\"1\" class=\"dataframe\">\n",
       "  <thead>\n",
       "    <tr style=\"text-align: right;\">\n",
       "      <th></th>\n",
       "      <th>ACCNUM</th>\n",
       "      <th>ObjectId</th>\n",
       "      <th>INVTYPE</th>\n",
       "      <th>INVAGE</th>\n",
       "      <th>INJURY_ID</th>\n",
       "      <th>FATAL_NO</th>\n",
       "      <th>INITDIR</th>\n",
       "      <th>VEHTYPE</th>\n",
       "      <th>MANOEUVER</th>\n",
       "      <th>DRIVACT</th>\n",
       "      <th>DRIVCOND</th>\n",
       "      <th>PEDTYPE</th>\n",
       "      <th>PEDACT</th>\n",
       "      <th>PEDCOND</th>\n",
       "      <th>CYCLISTYPE</th>\n",
       "      <th>CYCACT</th>\n",
       "      <th>CYCCOND</th>\n",
       "      <th>PEDESTRIAN</th>\n",
       "      <th>CYCLIST</th>\n",
       "      <th>AUTOMOBILE</th>\n",
       "      <th>MOTORCYCLE</th>\n",
       "      <th>TRUCK</th>\n",
       "      <th>TRSN_CITY_VEH</th>\n",
       "      <th>EMERG_VEH</th>\n",
       "      <th>PASSENGER</th>\n",
       "      <th>SPEEDING</th>\n",
       "      <th>AG_DRIV</th>\n",
       "      <th>REDLIGHT</th>\n",
       "      <th>ALCOHOL</th>\n",
       "      <th>DISABILITY</th>\n",
       "      <th>YEAR</th>\n",
       "      <th>DATE</th>\n",
       "      <th>TIME</th>\n",
       "      <th>HOUR</th>\n",
       "      <th>STREET1</th>\n",
       "      <th>STREET2</th>\n",
       "      <th>OFFSET</th>\n",
       "      <th>ROAD_CLASS_ID</th>\n",
       "      <th>DISTRICT</th>\n",
       "      <th>WARDNUM</th>\n",
       "      <th>DIVISION</th>\n",
       "      <th>LOCCOORD</th>\n",
       "      <th>ACCLOC</th>\n",
       "      <th>TRAFFCTL</th>\n",
       "      <th>VISIBILITY</th>\n",
       "      <th>LIGHT</th>\n",
       "      <th>RDSFCOND</th>\n",
       "      <th>ACCLASS</th>\n",
       "      <th>IMPACTYPE</th>\n",
       "      <th>POLICE_DIVISION</th>\n",
       "      <th>HOOD_ID</th>\n",
       "      <th>NEIGHBOURHOOD</th>\n",
       "      <th>geometry2</th>\n",
       "      <th>Longitude</th>\n",
       "      <th>Latitude</th>\n",
       "    </tr>\n",
       "  </thead>\n",
       "  <tbody>\n",
       "    <tr>\n",
       "      <th>1</th>\n",
       "      <td>25301</td>\n",
       "      <td>16396</td>\n",
       "      <td>Pedestrian</td>\n",
       "      <td>65 to 69</td>\n",
       "      <td>4.0</td>\n",
       "      <td>NaN</td>\n",
       "      <td>East</td>\n",
       "      <td>NaN</td>\n",
       "      <td>NaN</td>\n",
       "      <td>NaN</td>\n",
       "      <td>NaN</td>\n",
       "      <td>Pedestrian hit at mid-block</td>\n",
       "      <td>Crossing, no Traffic Control</td>\n",
       "      <td>Medical or Physical Disability</td>\n",
       "      <td>NaN</td>\n",
       "      <td>NaN</td>\n",
       "      <td>NaN</td>\n",
       "      <td>Yes</td>\n",
       "      <td>NaN</td>\n",
       "      <td>Yes</td>\n",
       "      <td>NaN</td>\n",
       "      <td>NaN</td>\n",
       "      <td>NaN</td>\n",
       "      <td>NaN</td>\n",
       "      <td>NaN</td>\n",
       "      <td>NaN</td>\n",
       "      <td>NaN</td>\n",
       "      <td>NaN</td>\n",
       "      <td>NaN</td>\n",
       "      <td>NaN</td>\n",
       "      <td>2020</td>\n",
       "      <td>2020-01-04</td>\n",
       "      <td>1850</td>\n",
       "      <td>18</td>\n",
       "      <td>EGLINTON AVE E</td>\n",
       "      <td>BAYVIEW AVE</td>\n",
       "      <td>9 m North of</td>\n",
       "      <td>1.0</td>\n",
       "      <td>North York</td>\n",
       "      <td>15.0</td>\n",
       "      <td>53.0</td>\n",
       "      <td>Intersection</td>\n",
       "      <td>Intersection Related</td>\n",
       "      <td>Traffic Signal</td>\n",
       "      <td>Rain</td>\n",
       "      <td>Dark</td>\n",
       "      <td>Wet</td>\n",
       "      <td>Non-Fatal Injury</td>\n",
       "      <td>Pedestrian Collisions</td>\n",
       "      <td>D53</td>\n",
       "      <td>56</td>\n",
       "      <td>Leaside-Bennington (56)</td>\n",
       "      <td>-79.377116, 43.710967</td>\n",
       "      <td>-79.3771</td>\n",
       "      <td>43.7109</td>\n",
       "    </tr>\n",
       "    <tr>\n",
       "      <th>3</th>\n",
       "      <td>26294</td>\n",
       "      <td>16407</td>\n",
       "      <td>Driver</td>\n",
       "      <td>20 to 24</td>\n",
       "      <td>1.0</td>\n",
       "      <td>NaN</td>\n",
       "      <td>North</td>\n",
       "      <td>Automobile, Station Wagon</td>\n",
       "      <td>Going Ahead</td>\n",
       "      <td>Driving Properly</td>\n",
       "      <td>Unknown</td>\n",
       "      <td>NaN</td>\n",
       "      <td>NaN</td>\n",
       "      <td>NaN</td>\n",
       "      <td>NaN</td>\n",
       "      <td>NaN</td>\n",
       "      <td>NaN</td>\n",
       "      <td>Yes</td>\n",
       "      <td>NaN</td>\n",
       "      <td>Yes</td>\n",
       "      <td>NaN</td>\n",
       "      <td>NaN</td>\n",
       "      <td>NaN</td>\n",
       "      <td>NaN</td>\n",
       "      <td>NaN</td>\n",
       "      <td>NaN</td>\n",
       "      <td>NaN</td>\n",
       "      <td>NaN</td>\n",
       "      <td>NaN</td>\n",
       "      <td>NaN</td>\n",
       "      <td>2020</td>\n",
       "      <td>2020-01-04</td>\n",
       "      <td>2214</td>\n",
       "      <td>22</td>\n",
       "      <td>256 JARVIS ST</td>\n",
       "      <td>NaN</td>\n",
       "      <td>GERRARD ST E</td>\n",
       "      <td>1.0</td>\n",
       "      <td>Toronto and East York</td>\n",
       "      <td>13.0</td>\n",
       "      <td>51.0</td>\n",
       "      <td>Mid-Block</td>\n",
       "      <td>Non Intersection</td>\n",
       "      <td>No Control</td>\n",
       "      <td>Clear</td>\n",
       "      <td>Dark, artificial</td>\n",
       "      <td>Dry</td>\n",
       "      <td>Fatal</td>\n",
       "      <td>Pedestrian Collisions</td>\n",
       "      <td>D51</td>\n",
       "      <td>73</td>\n",
       "      <td>Moss Park (73)</td>\n",
       "      <td>-79.37556, 43.659568</td>\n",
       "      <td>-79.3755</td>\n",
       "      <td>43.6595</td>\n",
       "    </tr>\n",
       "    <tr>\n",
       "      <th>5</th>\n",
       "      <td>37330</td>\n",
       "      <td>16507</td>\n",
       "      <td>Pedestrian</td>\n",
       "      <td>75 to 79</td>\n",
       "      <td>4.0</td>\n",
       "      <td>NaN</td>\n",
       "      <td>North</td>\n",
       "      <td>NaN</td>\n",
       "      <td>NaN</td>\n",
       "      <td>NaN</td>\n",
       "      <td>NaN</td>\n",
       "      <td>Vehicle is going straight thru inter.while ped...</td>\n",
       "      <td>Crossing with right of way</td>\n",
       "      <td>Normal</td>\n",
       "      <td>NaN</td>\n",
       "      <td>NaN</td>\n",
       "      <td>NaN</td>\n",
       "      <td>Yes</td>\n",
       "      <td>NaN</td>\n",
       "      <td>Yes</td>\n",
       "      <td>NaN</td>\n",
       "      <td>NaN</td>\n",
       "      <td>NaN</td>\n",
       "      <td>NaN</td>\n",
       "      <td>NaN</td>\n",
       "      <td>NaN</td>\n",
       "      <td>Yes</td>\n",
       "      <td>NaN</td>\n",
       "      <td>NaN</td>\n",
       "      <td>NaN</td>\n",
       "      <td>2020</td>\n",
       "      <td>2020-01-06</td>\n",
       "      <td>1555</td>\n",
       "      <td>15</td>\n",
       "      <td>DUNDAS ST W</td>\n",
       "      <td>SHERIDAN AVE</td>\n",
       "      <td>6 m South of</td>\n",
       "      <td>3.0</td>\n",
       "      <td>Toronto East York</td>\n",
       "      <td>9.0</td>\n",
       "      <td>11.0</td>\n",
       "      <td>Intersection</td>\n",
       "      <td>At Intersection</td>\n",
       "      <td>Traffic Signal</td>\n",
       "      <td>Clear</td>\n",
       "      <td>Dawn, artificial</td>\n",
       "      <td>Dry</td>\n",
       "      <td>Non-Fatal Injury</td>\n",
       "      <td>Pedestrian Collisions</td>\n",
       "      <td>D11</td>\n",
       "      <td>84</td>\n",
       "      <td>Little Portugal (84)</td>\n",
       "      <td>-79.43365, 43.649699</td>\n",
       "      <td>-79.4336</td>\n",
       "      <td>43.6496</td>\n",
       "    </tr>\n",
       "    <tr>\n",
       "      <th>7</th>\n",
       "      <td>45664</td>\n",
       "      <td>16514</td>\n",
       "      <td>Passenger</td>\n",
       "      <td>20 to 24</td>\n",
       "      <td>4.0</td>\n",
       "      <td>NaN</td>\n",
       "      <td>NaN</td>\n",
       "      <td>NaN</td>\n",
       "      <td>NaN</td>\n",
       "      <td>NaN</td>\n",
       "      <td>NaN</td>\n",
       "      <td>NaN</td>\n",
       "      <td>NaN</td>\n",
       "      <td>NaN</td>\n",
       "      <td>NaN</td>\n",
       "      <td>NaN</td>\n",
       "      <td>NaN</td>\n",
       "      <td>NaN</td>\n",
       "      <td>NaN</td>\n",
       "      <td>Yes</td>\n",
       "      <td>NaN</td>\n",
       "      <td>NaN</td>\n",
       "      <td>NaN</td>\n",
       "      <td>NaN</td>\n",
       "      <td>Yes</td>\n",
       "      <td>NaN</td>\n",
       "      <td>Yes</td>\n",
       "      <td>NaN</td>\n",
       "      <td>NaN</td>\n",
       "      <td>NaN</td>\n",
       "      <td>2020</td>\n",
       "      <td>2020-01-07</td>\n",
       "      <td>1850</td>\n",
       "      <td>18</td>\n",
       "      <td>EGLINTON AVE E</td>\n",
       "      <td>PHARMACY AVE</td>\n",
       "      <td>NaN</td>\n",
       "      <td>1.0</td>\n",
       "      <td>Scarborough</td>\n",
       "      <td>NaN</td>\n",
       "      <td>41.0</td>\n",
       "      <td>Intersection</td>\n",
       "      <td>At Intersection</td>\n",
       "      <td>Traffic Signal</td>\n",
       "      <td>Clear</td>\n",
       "      <td>Dark</td>\n",
       "      <td>Dry</td>\n",
       "      <td>Non-Fatal Injury</td>\n",
       "      <td>Turning Movement</td>\n",
       "      <td>D41</td>\n",
       "      <td>120</td>\n",
       "      <td>Clairlea-Birchmount (120)</td>\n",
       "      <td>-79.297481, 43.725577</td>\n",
       "      <td>-79.2974</td>\n",
       "      <td>43.7255</td>\n",
       "    </tr>\n",
       "    <tr>\n",
       "      <th>8</th>\n",
       "      <td>45664</td>\n",
       "      <td>16510</td>\n",
       "      <td>Driver</td>\n",
       "      <td>35 to 39</td>\n",
       "      <td>1.0</td>\n",
       "      <td>NaN</td>\n",
       "      <td>West</td>\n",
       "      <td>Automobile, Station Wagon</td>\n",
       "      <td>Turning Left</td>\n",
       "      <td>Failed to Yield Right of Way</td>\n",
       "      <td>Inattentive</td>\n",
       "      <td>NaN</td>\n",
       "      <td>NaN</td>\n",
       "      <td>NaN</td>\n",
       "      <td>NaN</td>\n",
       "      <td>NaN</td>\n",
       "      <td>NaN</td>\n",
       "      <td>NaN</td>\n",
       "      <td>NaN</td>\n",
       "      <td>Yes</td>\n",
       "      <td>NaN</td>\n",
       "      <td>NaN</td>\n",
       "      <td>NaN</td>\n",
       "      <td>NaN</td>\n",
       "      <td>Yes</td>\n",
       "      <td>NaN</td>\n",
       "      <td>Yes</td>\n",
       "      <td>NaN</td>\n",
       "      <td>NaN</td>\n",
       "      <td>NaN</td>\n",
       "      <td>2020</td>\n",
       "      <td>2020-01-07</td>\n",
       "      <td>1850</td>\n",
       "      <td>18</td>\n",
       "      <td>EGLINTON AVE E</td>\n",
       "      <td>PHARMACY AVE</td>\n",
       "      <td>NaN</td>\n",
       "      <td>1.0</td>\n",
       "      <td>Scarborough</td>\n",
       "      <td>NaN</td>\n",
       "      <td>41.0</td>\n",
       "      <td>Intersection</td>\n",
       "      <td>At Intersection</td>\n",
       "      <td>Traffic Signal</td>\n",
       "      <td>Clear</td>\n",
       "      <td>Dark</td>\n",
       "      <td>Dry</td>\n",
       "      <td>Non-Fatal Injury</td>\n",
       "      <td>Turning Movement</td>\n",
       "      <td>D41</td>\n",
       "      <td>120</td>\n",
       "      <td>Clairlea-Birchmount (120)</td>\n",
       "      <td>-79.297481, 43.725577</td>\n",
       "      <td>-79.2974</td>\n",
       "      <td>43.7255</td>\n",
       "    </tr>\n",
       "    <tr>\n",
       "      <th>...</th>\n",
       "      <td>...</td>\n",
       "      <td>...</td>\n",
       "      <td>...</td>\n",
       "      <td>...</td>\n",
       "      <td>...</td>\n",
       "      <td>...</td>\n",
       "      <td>...</td>\n",
       "      <td>...</td>\n",
       "      <td>...</td>\n",
       "      <td>...</td>\n",
       "      <td>...</td>\n",
       "      <td>...</td>\n",
       "      <td>...</td>\n",
       "      <td>...</td>\n",
       "      <td>...</td>\n",
       "      <td>...</td>\n",
       "      <td>...</td>\n",
       "      <td>...</td>\n",
       "      <td>...</td>\n",
       "      <td>...</td>\n",
       "      <td>...</td>\n",
       "      <td>...</td>\n",
       "      <td>...</td>\n",
       "      <td>...</td>\n",
       "      <td>...</td>\n",
       "      <td>...</td>\n",
       "      <td>...</td>\n",
       "      <td>...</td>\n",
       "      <td>...</td>\n",
       "      <td>...</td>\n",
       "      <td>...</td>\n",
       "      <td>...</td>\n",
       "      <td>...</td>\n",
       "      <td>...</td>\n",
       "      <td>...</td>\n",
       "      <td>...</td>\n",
       "      <td>...</td>\n",
       "      <td>...</td>\n",
       "      <td>...</td>\n",
       "      <td>...</td>\n",
       "      <td>...</td>\n",
       "      <td>...</td>\n",
       "      <td>...</td>\n",
       "      <td>...</td>\n",
       "      <td>...</td>\n",
       "      <td>...</td>\n",
       "      <td>...</td>\n",
       "      <td>...</td>\n",
       "      <td>...</td>\n",
       "      <td>...</td>\n",
       "      <td>...</td>\n",
       "      <td>...</td>\n",
       "      <td>...</td>\n",
       "      <td>...</td>\n",
       "      <td>...</td>\n",
       "    </tr>\n",
       "    <tr>\n",
       "      <th>16854</th>\n",
       "      <td>9002501134</td>\n",
       "      <td>16286</td>\n",
       "      <td>Passenger</td>\n",
       "      <td>15 to 19</td>\n",
       "      <td>1.0</td>\n",
       "      <td>NaN</td>\n",
       "      <td>NaN</td>\n",
       "      <td>NaN</td>\n",
       "      <td>NaN</td>\n",
       "      <td>NaN</td>\n",
       "      <td>NaN</td>\n",
       "      <td>NaN</td>\n",
       "      <td>NaN</td>\n",
       "      <td>NaN</td>\n",
       "      <td>NaN</td>\n",
       "      <td>NaN</td>\n",
       "      <td>NaN</td>\n",
       "      <td>Yes</td>\n",
       "      <td>NaN</td>\n",
       "      <td>Yes</td>\n",
       "      <td>NaN</td>\n",
       "      <td>NaN</td>\n",
       "      <td>NaN</td>\n",
       "      <td>NaN</td>\n",
       "      <td>Yes</td>\n",
       "      <td>NaN</td>\n",
       "      <td>NaN</td>\n",
       "      <td>NaN</td>\n",
       "      <td>NaN</td>\n",
       "      <td>NaN</td>\n",
       "      <td>2019</td>\n",
       "      <td>2019-12-28</td>\n",
       "      <td>1740</td>\n",
       "      <td>17</td>\n",
       "      <td>MARTIN GROVE RD</td>\n",
       "      <td>DIXON RD</td>\n",
       "      <td>NaN</td>\n",
       "      <td>1.0</td>\n",
       "      <td>Etobicoke York</td>\n",
       "      <td>NaN</td>\n",
       "      <td>23.0</td>\n",
       "      <td>Intersection</td>\n",
       "      <td>At Intersection</td>\n",
       "      <td>Traffic Signal</td>\n",
       "      <td>Clear</td>\n",
       "      <td>Dark</td>\n",
       "      <td>Dry</td>\n",
       "      <td>Non-Fatal Injury</td>\n",
       "      <td>Pedestrian Collisions</td>\n",
       "      <td>D23</td>\n",
       "      <td>1</td>\n",
       "      <td>West Humber-Clairville (1)</td>\n",
       "      <td>-79.570796, 43.691519</td>\n",
       "      <td>-79.5707</td>\n",
       "      <td>43.6915</td>\n",
       "    </tr>\n",
       "    <tr>\n",
       "      <th>16855</th>\n",
       "      <td>9002501134</td>\n",
       "      <td>16387</td>\n",
       "      <td>Pedestrian</td>\n",
       "      <td>50 to 54</td>\n",
       "      <td>4.0</td>\n",
       "      <td>NaN</td>\n",
       "      <td>Unknown</td>\n",
       "      <td>NaN</td>\n",
       "      <td>NaN</td>\n",
       "      <td>NaN</td>\n",
       "      <td>NaN</td>\n",
       "      <td>Vehicle turns left while ped crosses without R...</td>\n",
       "      <td>Crossing without right of way</td>\n",
       "      <td>Inattentive</td>\n",
       "      <td>NaN</td>\n",
       "      <td>NaN</td>\n",
       "      <td>NaN</td>\n",
       "      <td>Yes</td>\n",
       "      <td>NaN</td>\n",
       "      <td>Yes</td>\n",
       "      <td>NaN</td>\n",
       "      <td>NaN</td>\n",
       "      <td>NaN</td>\n",
       "      <td>NaN</td>\n",
       "      <td>Yes</td>\n",
       "      <td>NaN</td>\n",
       "      <td>NaN</td>\n",
       "      <td>NaN</td>\n",
       "      <td>NaN</td>\n",
       "      <td>NaN</td>\n",
       "      <td>2019</td>\n",
       "      <td>2019-12-28</td>\n",
       "      <td>1740</td>\n",
       "      <td>17</td>\n",
       "      <td>MARTIN GROVE RD</td>\n",
       "      <td>DIXON RD</td>\n",
       "      <td>NaN</td>\n",
       "      <td>1.0</td>\n",
       "      <td>Etobicoke York</td>\n",
       "      <td>NaN</td>\n",
       "      <td>23.0</td>\n",
       "      <td>Intersection</td>\n",
       "      <td>At Intersection</td>\n",
       "      <td>Traffic Signal</td>\n",
       "      <td>Clear</td>\n",
       "      <td>Dark</td>\n",
       "      <td>Dry</td>\n",
       "      <td>Non-Fatal Injury</td>\n",
       "      <td>Pedestrian Collisions</td>\n",
       "      <td>D23</td>\n",
       "      <td>1</td>\n",
       "      <td>West Humber-Clairville (1)</td>\n",
       "      <td>-79.570796, 43.691519</td>\n",
       "      <td>-79.5707</td>\n",
       "      <td>43.6915</td>\n",
       "    </tr>\n",
       "    <tr>\n",
       "      <th>16857</th>\n",
       "      <td>9085345312</td>\n",
       "      <td>15299</td>\n",
       "      <td>Driver</td>\n",
       "      <td>25 to 29</td>\n",
       "      <td>1.0</td>\n",
       "      <td>NaN</td>\n",
       "      <td>North</td>\n",
       "      <td>Automobile, Station Wagon</td>\n",
       "      <td>Making U Turn</td>\n",
       "      <td>Driving Properly</td>\n",
       "      <td>Normal</td>\n",
       "      <td>NaN</td>\n",
       "      <td>NaN</td>\n",
       "      <td>NaN</td>\n",
       "      <td>NaN</td>\n",
       "      <td>NaN</td>\n",
       "      <td>NaN</td>\n",
       "      <td>NaN</td>\n",
       "      <td>NaN</td>\n",
       "      <td>Yes</td>\n",
       "      <td>NaN</td>\n",
       "      <td>NaN</td>\n",
       "      <td>NaN</td>\n",
       "      <td>NaN</td>\n",
       "      <td>Yes</td>\n",
       "      <td>NaN</td>\n",
       "      <td>Yes</td>\n",
       "      <td>NaN</td>\n",
       "      <td>NaN</td>\n",
       "      <td>Yes</td>\n",
       "      <td>2019</td>\n",
       "      <td>2019-05-10</td>\n",
       "      <td>2200</td>\n",
       "      <td>22</td>\n",
       "      <td>DANFORTH AVE</td>\n",
       "      <td>CHESTER AVE</td>\n",
       "      <td>22 m East of</td>\n",
       "      <td>1.0</td>\n",
       "      <td>Toronto and East York</td>\n",
       "      <td>14.0</td>\n",
       "      <td>NaN</td>\n",
       "      <td>Intersection</td>\n",
       "      <td>Intersection Related</td>\n",
       "      <td>No Control</td>\n",
       "      <td>Clear</td>\n",
       "      <td>Dark, artificial</td>\n",
       "      <td>Dry</td>\n",
       "      <td>Non-Fatal Injury</td>\n",
       "      <td>Turning Movement</td>\n",
       "      <td>D55</td>\n",
       "      <td>68</td>\n",
       "      <td>North Riverdale (68)</td>\n",
       "      <td>-79.351924, 43.677485</td>\n",
       "      <td>-79.3519</td>\n",
       "      <td>43.6774</td>\n",
       "    </tr>\n",
       "    <tr>\n",
       "      <th>16858</th>\n",
       "      <td>9085345312</td>\n",
       "      <td>15300</td>\n",
       "      <td>Other</td>\n",
       "      <td>15 to 19</td>\n",
       "      <td>1.0</td>\n",
       "      <td>NaN</td>\n",
       "      <td>East</td>\n",
       "      <td>Automobile, Station Wagon</td>\n",
       "      <td>Parked</td>\n",
       "      <td>NaN</td>\n",
       "      <td>NaN</td>\n",
       "      <td>NaN</td>\n",
       "      <td>NaN</td>\n",
       "      <td>NaN</td>\n",
       "      <td>NaN</td>\n",
       "      <td>NaN</td>\n",
       "      <td>NaN</td>\n",
       "      <td>NaN</td>\n",
       "      <td>NaN</td>\n",
       "      <td>Yes</td>\n",
       "      <td>NaN</td>\n",
       "      <td>NaN</td>\n",
       "      <td>NaN</td>\n",
       "      <td>NaN</td>\n",
       "      <td>Yes</td>\n",
       "      <td>NaN</td>\n",
       "      <td>Yes</td>\n",
       "      <td>NaN</td>\n",
       "      <td>NaN</td>\n",
       "      <td>Yes</td>\n",
       "      <td>2019</td>\n",
       "      <td>2019-05-10</td>\n",
       "      <td>2200</td>\n",
       "      <td>22</td>\n",
       "      <td>DANFORTH AVE</td>\n",
       "      <td>CHESTER AVE</td>\n",
       "      <td>22 m East of</td>\n",
       "      <td>1.0</td>\n",
       "      <td>Toronto and East York</td>\n",
       "      <td>14.0</td>\n",
       "      <td>NaN</td>\n",
       "      <td>Intersection</td>\n",
       "      <td>Intersection Related</td>\n",
       "      <td>No Control</td>\n",
       "      <td>Clear</td>\n",
       "      <td>Dark, artificial</td>\n",
       "      <td>Dry</td>\n",
       "      <td>Non-Fatal Injury</td>\n",
       "      <td>Turning Movement</td>\n",
       "      <td>D55</td>\n",
       "      <td>68</td>\n",
       "      <td>North Riverdale (68)</td>\n",
       "      <td>-79.351924, 43.677485</td>\n",
       "      <td>-79.3519</td>\n",
       "      <td>43.6774</td>\n",
       "    </tr>\n",
       "    <tr>\n",
       "      <th>16859</th>\n",
       "      <td>9085345312</td>\n",
       "      <td>15301</td>\n",
       "      <td>Passenger</td>\n",
       "      <td>45 to 49</td>\n",
       "      <td>3.0</td>\n",
       "      <td>NaN</td>\n",
       "      <td>NaN</td>\n",
       "      <td>NaN</td>\n",
       "      <td>NaN</td>\n",
       "      <td>NaN</td>\n",
       "      <td>NaN</td>\n",
       "      <td>NaN</td>\n",
       "      <td>NaN</td>\n",
       "      <td>NaN</td>\n",
       "      <td>NaN</td>\n",
       "      <td>NaN</td>\n",
       "      <td>NaN</td>\n",
       "      <td>NaN</td>\n",
       "      <td>NaN</td>\n",
       "      <td>Yes</td>\n",
       "      <td>NaN</td>\n",
       "      <td>NaN</td>\n",
       "      <td>NaN</td>\n",
       "      <td>NaN</td>\n",
       "      <td>Yes</td>\n",
       "      <td>NaN</td>\n",
       "      <td>Yes</td>\n",
       "      <td>NaN</td>\n",
       "      <td>NaN</td>\n",
       "      <td>Yes</td>\n",
       "      <td>2019</td>\n",
       "      <td>2019-05-10</td>\n",
       "      <td>2200</td>\n",
       "      <td>22</td>\n",
       "      <td>DANFORTH AVE</td>\n",
       "      <td>CHESTER AVE</td>\n",
       "      <td>22 m East of</td>\n",
       "      <td>1.0</td>\n",
       "      <td>Toronto and East York</td>\n",
       "      <td>14.0</td>\n",
       "      <td>NaN</td>\n",
       "      <td>Intersection</td>\n",
       "      <td>Intersection Related</td>\n",
       "      <td>No Control</td>\n",
       "      <td>Clear</td>\n",
       "      <td>Dark, artificial</td>\n",
       "      <td>Dry</td>\n",
       "      <td>Non-Fatal Injury</td>\n",
       "      <td>Turning Movement</td>\n",
       "      <td>D55</td>\n",
       "      <td>68</td>\n",
       "      <td>North Riverdale (68)</td>\n",
       "      <td>-79.351924, 43.677485</td>\n",
       "      <td>-79.3519</td>\n",
       "      <td>43.6774</td>\n",
       "    </tr>\n",
       "  </tbody>\n",
       "</table>\n",
       "<p>10858 rows × 55 columns</p>\n",
       "</div>"
      ],
      "text/plain": [
       "           ACCNUM  ObjectId     INVTYPE    INVAGE  INJURY_ID  FATAL_NO  \\\n",
       "1           25301     16396  Pedestrian  65 to 69        4.0       NaN   \n",
       "3           26294     16407      Driver  20 to 24        1.0       NaN   \n",
       "5           37330     16507  Pedestrian  75 to 79        4.0       NaN   \n",
       "7           45664     16514   Passenger  20 to 24        4.0       NaN   \n",
       "8           45664     16510      Driver  35 to 39        1.0       NaN   \n",
       "...           ...       ...         ...       ...        ...       ...   \n",
       "16854  9002501134     16286   Passenger  15 to 19        1.0       NaN   \n",
       "16855  9002501134     16387  Pedestrian  50 to 54        4.0       NaN   \n",
       "16857  9085345312     15299      Driver  25 to 29        1.0       NaN   \n",
       "16858  9085345312     15300       Other  15 to 19        1.0       NaN   \n",
       "16859  9085345312     15301   Passenger  45 to 49        3.0       NaN   \n",
       "\n",
       "       INITDIR                    VEHTYPE      MANOEUVER  \\\n",
       "1         East                        NaN            NaN   \n",
       "3        North  Automobile, Station Wagon    Going Ahead   \n",
       "5        North                        NaN            NaN   \n",
       "7          NaN                        NaN            NaN   \n",
       "8         West  Automobile, Station Wagon   Turning Left   \n",
       "...        ...                        ...            ...   \n",
       "16854      NaN                        NaN            NaN   \n",
       "16855  Unknown                        NaN            NaN   \n",
       "16857    North  Automobile, Station Wagon  Making U Turn   \n",
       "16858     East  Automobile, Station Wagon         Parked   \n",
       "16859      NaN                        NaN            NaN   \n",
       "\n",
       "                            DRIVACT     DRIVCOND  \\\n",
       "1                               NaN          NaN   \n",
       "3                  Driving Properly      Unknown   \n",
       "5                               NaN          NaN   \n",
       "7                               NaN          NaN   \n",
       "8      Failed to Yield Right of Way  Inattentive   \n",
       "...                             ...          ...   \n",
       "16854                           NaN          NaN   \n",
       "16855                           NaN          NaN   \n",
       "16857              Driving Properly       Normal   \n",
       "16858                           NaN          NaN   \n",
       "16859                           NaN          NaN   \n",
       "\n",
       "                                                 PEDTYPE  \\\n",
       "1                            Pedestrian hit at mid-block   \n",
       "3                                                    NaN   \n",
       "5      Vehicle is going straight thru inter.while ped...   \n",
       "7                                                    NaN   \n",
       "8                                                    NaN   \n",
       "...                                                  ...   \n",
       "16854                                                NaN   \n",
       "16855  Vehicle turns left while ped crosses without R...   \n",
       "16857                                                NaN   \n",
       "16858                                                NaN   \n",
       "16859                                                NaN   \n",
       "\n",
       "                              PEDACT                         PEDCOND  \\\n",
       "1       Crossing, no Traffic Control  Medical or Physical Disability   \n",
       "3                                NaN                             NaN   \n",
       "5         Crossing with right of way                          Normal   \n",
       "7                                NaN                             NaN   \n",
       "8                                NaN                             NaN   \n",
       "...                              ...                             ...   \n",
       "16854                            NaN                             NaN   \n",
       "16855  Crossing without right of way                     Inattentive   \n",
       "16857                            NaN                             NaN   \n",
       "16858                            NaN                             NaN   \n",
       "16859                            NaN                             NaN   \n",
       "\n",
       "      CYCLISTYPE CYCACT CYCCOND PEDESTRIAN CYCLIST AUTOMOBILE MOTORCYCLE  \\\n",
       "1            NaN    NaN     NaN        Yes     NaN        Yes        NaN   \n",
       "3            NaN    NaN     NaN        Yes     NaN        Yes        NaN   \n",
       "5            NaN    NaN     NaN        Yes     NaN        Yes        NaN   \n",
       "7            NaN    NaN     NaN        NaN     NaN        Yes        NaN   \n",
       "8            NaN    NaN     NaN        NaN     NaN        Yes        NaN   \n",
       "...          ...    ...     ...        ...     ...        ...        ...   \n",
       "16854        NaN    NaN     NaN        Yes     NaN        Yes        NaN   \n",
       "16855        NaN    NaN     NaN        Yes     NaN        Yes        NaN   \n",
       "16857        NaN    NaN     NaN        NaN     NaN        Yes        NaN   \n",
       "16858        NaN    NaN     NaN        NaN     NaN        Yes        NaN   \n",
       "16859        NaN    NaN     NaN        NaN     NaN        Yes        NaN   \n",
       "\n",
       "      TRUCK TRSN_CITY_VEH EMERG_VEH PASSENGER SPEEDING AG_DRIV REDLIGHT  \\\n",
       "1       NaN           NaN       NaN       NaN      NaN     NaN      NaN   \n",
       "3       NaN           NaN       NaN       NaN      NaN     NaN      NaN   \n",
       "5       NaN           NaN       NaN       NaN      NaN     Yes      NaN   \n",
       "7       NaN           NaN       NaN       Yes      NaN     Yes      NaN   \n",
       "8       NaN           NaN       NaN       Yes      NaN     Yes      NaN   \n",
       "...     ...           ...       ...       ...      ...     ...      ...   \n",
       "16854   NaN           NaN       NaN       Yes      NaN     NaN      NaN   \n",
       "16855   NaN           NaN       NaN       Yes      NaN     NaN      NaN   \n",
       "16857   NaN           NaN       NaN       Yes      NaN     Yes      NaN   \n",
       "16858   NaN           NaN       NaN       Yes      NaN     Yes      NaN   \n",
       "16859   NaN           NaN       NaN       Yes      NaN     Yes      NaN   \n",
       "\n",
       "      ALCOHOL DISABILITY  YEAR       DATE  TIME  HOUR          STREET1  \\\n",
       "1         NaN        NaN  2020 2020-01-04  1850    18   EGLINTON AVE E   \n",
       "3         NaN        NaN  2020 2020-01-04  2214    22    256 JARVIS ST   \n",
       "5         NaN        NaN  2020 2020-01-06  1555    15      DUNDAS ST W   \n",
       "7         NaN        NaN  2020 2020-01-07  1850    18   EGLINTON AVE E   \n",
       "8         NaN        NaN  2020 2020-01-07  1850    18   EGLINTON AVE E   \n",
       "...       ...        ...   ...        ...   ...   ...              ...   \n",
       "16854     NaN        NaN  2019 2019-12-28  1740    17  MARTIN GROVE RD   \n",
       "16855     NaN        NaN  2019 2019-12-28  1740    17  MARTIN GROVE RD   \n",
       "16857     NaN        Yes  2019 2019-05-10  2200    22     DANFORTH AVE   \n",
       "16858     NaN        Yes  2019 2019-05-10  2200    22     DANFORTH AVE   \n",
       "16859     NaN        Yes  2019 2019-05-10  2200    22     DANFORTH AVE   \n",
       "\n",
       "            STREET2        OFFSET  ROAD_CLASS_ID               DISTRICT  \\\n",
       "1       BAYVIEW AVE  9 m North of            1.0             North York   \n",
       "3               NaN  GERRARD ST E            1.0  Toronto and East York   \n",
       "5      SHERIDAN AVE  6 m South of            3.0      Toronto East York   \n",
       "7      PHARMACY AVE           NaN            1.0            Scarborough   \n",
       "8      PHARMACY AVE           NaN            1.0            Scarborough   \n",
       "...             ...           ...            ...                    ...   \n",
       "16854      DIXON RD           NaN            1.0         Etobicoke York   \n",
       "16855      DIXON RD           NaN            1.0         Etobicoke York   \n",
       "16857   CHESTER AVE  22 m East of            1.0  Toronto and East York   \n",
       "16858   CHESTER AVE  22 m East of            1.0  Toronto and East York   \n",
       "16859   CHESTER AVE  22 m East of            1.0  Toronto and East York   \n",
       "\n",
       "       WARDNUM  DIVISION      LOCCOORD                ACCLOC        TRAFFCTL  \\\n",
       "1         15.0      53.0  Intersection  Intersection Related  Traffic Signal   \n",
       "3         13.0      51.0     Mid-Block      Non Intersection      No Control   \n",
       "5          9.0      11.0  Intersection       At Intersection  Traffic Signal   \n",
       "7          NaN      41.0  Intersection       At Intersection  Traffic Signal   \n",
       "8          NaN      41.0  Intersection       At Intersection  Traffic Signal   \n",
       "...        ...       ...           ...                   ...             ...   \n",
       "16854      NaN      23.0  Intersection       At Intersection  Traffic Signal   \n",
       "16855      NaN      23.0  Intersection       At Intersection  Traffic Signal   \n",
       "16857     14.0       NaN  Intersection  Intersection Related      No Control   \n",
       "16858     14.0       NaN  Intersection  Intersection Related      No Control   \n",
       "16859     14.0       NaN  Intersection  Intersection Related      No Control   \n",
       "\n",
       "      VISIBILITY             LIGHT RDSFCOND           ACCLASS  \\\n",
       "1           Rain              Dark      Wet  Non-Fatal Injury   \n",
       "3          Clear  Dark, artificial      Dry             Fatal   \n",
       "5          Clear  Dawn, artificial      Dry  Non-Fatal Injury   \n",
       "7          Clear              Dark      Dry  Non-Fatal Injury   \n",
       "8          Clear              Dark      Dry  Non-Fatal Injury   \n",
       "...          ...               ...      ...               ...   \n",
       "16854      Clear              Dark      Dry  Non-Fatal Injury   \n",
       "16855      Clear              Dark      Dry  Non-Fatal Injury   \n",
       "16857      Clear  Dark, artificial      Dry  Non-Fatal Injury   \n",
       "16858      Clear  Dark, artificial      Dry  Non-Fatal Injury   \n",
       "16859      Clear  Dark, artificial      Dry  Non-Fatal Injury   \n",
       "\n",
       "                   IMPACTYPE POLICE_DIVISION  HOOD_ID  \\\n",
       "1      Pedestrian Collisions             D53       56   \n",
       "3      Pedestrian Collisions             D51       73   \n",
       "5      Pedestrian Collisions             D11       84   \n",
       "7           Turning Movement             D41      120   \n",
       "8           Turning Movement             D41      120   \n",
       "...                      ...             ...      ...   \n",
       "16854  Pedestrian Collisions             D23        1   \n",
       "16855  Pedestrian Collisions             D23        1   \n",
       "16857       Turning Movement             D55       68   \n",
       "16858       Turning Movement             D55       68   \n",
       "16859       Turning Movement             D55       68   \n",
       "\n",
       "                    NEIGHBOURHOOD              geometry2  Longitude  Latitude  \n",
       "1         Leaside-Bennington (56)  -79.377116, 43.710967   -79.3771   43.7109  \n",
       "3                  Moss Park (73)   -79.37556, 43.659568   -79.3755   43.6595  \n",
       "5            Little Portugal (84)   -79.43365, 43.649699   -79.4336   43.6496  \n",
       "7       Clairlea-Birchmount (120)  -79.297481, 43.725577   -79.2974   43.7255  \n",
       "8       Clairlea-Birchmount (120)  -79.297481, 43.725577   -79.2974   43.7255  \n",
       "...                           ...                    ...        ...       ...  \n",
       "16854  West Humber-Clairville (1)  -79.570796, 43.691519   -79.5707   43.6915  \n",
       "16855  West Humber-Clairville (1)  -79.570796, 43.691519   -79.5707   43.6915  \n",
       "16857        North Riverdale (68)  -79.351924, 43.677485   -79.3519   43.6774  \n",
       "16858        North Riverdale (68)  -79.351924, 43.677485   -79.3519   43.6774  \n",
       "16859        North Riverdale (68)  -79.351924, 43.677485   -79.3519   43.6774  \n",
       "\n",
       "[10858 rows x 55 columns]"
      ]
     },
     "execution_count": 32,
     "metadata": {},
     "output_type": "execute_result"
    }
   ],
   "source": [
    "#checking duplicate records\n",
    "duplicates=df_seriously_injured[df_seriously_injured.ACCNUM.duplicated()]\n",
    "duplicates"
   ]
  },
  {
   "cell_type": "code",
   "execution_count": 33,
   "id": "946d0602",
   "metadata": {},
   "outputs": [],
   "source": [
    "#Deleting Duplicates\n",
    "df_seriously_injured=df_seriously_injured.drop_duplicates(subset=[\"ACCNUM\"], keep=\"first\")"
   ]
  },
  {
   "cell_type": "code",
   "execution_count": 34,
   "id": "3b3ed560",
   "metadata": {},
   "outputs": [],
   "source": [
    "# Group by year"
   ]
  },
  {
   "cell_type": "code",
   "execution_count": 35,
   "id": "5f356e00",
   "metadata": {},
   "outputs": [
    {
     "data": {
      "text/html": [
       "<div>\n",
       "<style scoped>\n",
       "    .dataframe tbody tr th:only-of-type {\n",
       "        vertical-align: middle;\n",
       "    }\n",
       "\n",
       "    .dataframe tbody tr th {\n",
       "        vertical-align: top;\n",
       "    }\n",
       "\n",
       "    .dataframe thead th {\n",
       "        text-align: right;\n",
       "    }\n",
       "</style>\n",
       "<table border=\"1\" class=\"dataframe\">\n",
       "  <thead>\n",
       "    <tr style=\"text-align: right;\">\n",
       "      <th></th>\n",
       "      <th>All Collisions</th>\n",
       "      <th>Fatal Collisions</th>\n",
       "      <th>Percent of Fatal Collisions</th>\n",
       "    </tr>\n",
       "    <tr>\n",
       "      <th>YEAR</th>\n",
       "      <th></th>\n",
       "      <th></th>\n",
       "      <th></th>\n",
       "    </tr>\n",
       "  </thead>\n",
       "  <tbody>\n",
       "    <tr>\n",
       "      <th>2006</th>\n",
       "      <td>481</td>\n",
       "      <td>57</td>\n",
       "      <td>0.118503</td>\n",
       "    </tr>\n",
       "    <tr>\n",
       "      <th>2007</th>\n",
       "      <td>453</td>\n",
       "      <td>47</td>\n",
       "      <td>0.103753</td>\n",
       "    </tr>\n",
       "    <tr>\n",
       "      <th>2008</th>\n",
       "      <td>417</td>\n",
       "      <td>51</td>\n",
       "      <td>0.122302</td>\n",
       "    </tr>\n",
       "    <tr>\n",
       "      <th>2009</th>\n",
       "      <td>438</td>\n",
       "      <td>45</td>\n",
       "      <td>0.102740</td>\n",
       "    </tr>\n",
       "    <tr>\n",
       "      <th>2010</th>\n",
       "      <td>400</td>\n",
       "      <td>42</td>\n",
       "      <td>0.105000</td>\n",
       "    </tr>\n",
       "    <tr>\n",
       "      <th>2011</th>\n",
       "      <td>399</td>\n",
       "      <td>34</td>\n",
       "      <td>0.085213</td>\n",
       "    </tr>\n",
       "    <tr>\n",
       "      <th>2012</th>\n",
       "      <td>453</td>\n",
       "      <td>44</td>\n",
       "      <td>0.097130</td>\n",
       "    </tr>\n",
       "    <tr>\n",
       "      <th>2013</th>\n",
       "      <td>431</td>\n",
       "      <td>63</td>\n",
       "      <td>0.146172</td>\n",
       "    </tr>\n",
       "    <tr>\n",
       "      <th>2014</th>\n",
       "      <td>350</td>\n",
       "      <td>51</td>\n",
       "      <td>0.145714</td>\n",
       "    </tr>\n",
       "    <tr>\n",
       "      <th>2015</th>\n",
       "      <td>350</td>\n",
       "      <td>65</td>\n",
       "      <td>0.185714</td>\n",
       "    </tr>\n",
       "    <tr>\n",
       "      <th>2016</th>\n",
       "      <td>386</td>\n",
       "      <td>76</td>\n",
       "      <td>0.196891</td>\n",
       "    </tr>\n",
       "    <tr>\n",
       "      <th>2017</th>\n",
       "      <td>392</td>\n",
       "      <td>62</td>\n",
       "      <td>0.158163</td>\n",
       "    </tr>\n",
       "    <tr>\n",
       "      <th>2018</th>\n",
       "      <td>422</td>\n",
       "      <td>66</td>\n",
       "      <td>0.156398</td>\n",
       "    </tr>\n",
       "    <tr>\n",
       "      <th>2019</th>\n",
       "      <td>365</td>\n",
       "      <td>63</td>\n",
       "      <td>0.172603</td>\n",
       "    </tr>\n",
       "    <tr>\n",
       "      <th>2020</th>\n",
       "      <td>265</td>\n",
       "      <td>40</td>\n",
       "      <td>0.150943</td>\n",
       "    </tr>\n",
       "  </tbody>\n",
       "</table>\n",
       "</div>"
      ],
      "text/plain": [
       "      All Collisions  Fatal Collisions  Percent of Fatal Collisions\n",
       "YEAR                                                               \n",
       "2006             481                57                     0.118503\n",
       "2007             453                47                     0.103753\n",
       "2008             417                51                     0.122302\n",
       "2009             438                45                     0.102740\n",
       "2010             400                42                     0.105000\n",
       "2011             399                34                     0.085213\n",
       "2012             453                44                     0.097130\n",
       "2013             431                63                     0.146172\n",
       "2014             350                51                     0.145714\n",
       "2015             350                65                     0.185714\n",
       "2016             386                76                     0.196891\n",
       "2017             392                62                     0.158163\n",
       "2018             422                66                     0.156398\n",
       "2019             365                63                     0.172603\n",
       "2020             265                40                     0.150943"
      ]
     },
     "execution_count": 35,
     "metadata": {},
     "output_type": "execute_result"
    }
   ],
   "source": [
    "fatal_year = df_seriously_injured.groupby('YEAR').ACCLASS.agg([\n",
    "    ('All Collisions', len),\n",
    "    ('Fatal Collisions', lambda x: (x == 'Fatal').sum()),\n",
    "    ('Percent of Fatal Collisions', lambda x: (x == 'Fatal').mean())\n",
    "    ]\n",
    ")\n",
    "fatal_year"
   ]
  },
  {
   "cell_type": "code",
   "execution_count": 36,
   "id": "6fab8a99",
   "metadata": {},
   "outputs": [],
   "source": [
    "#collision by year"
   ]
  },
  {
   "cell_type": "code",
   "execution_count": 37,
   "id": "26fe6dc0",
   "metadata": {},
   "outputs": [
    {
     "data": {
      "image/png": "[encoded data removed]",
      "text/plain": [
       "<Figure size 864x432 with 1 Axes>"
      ]
     },
     "metadata": {
      "needs_background": "light"
     },
     "output_type": "display_data"
    }
   ],
   "source": [
    "ax = fatal_year[['All Collisions', 'Fatal Collisions']].plot(\n",
    "    kind='bar', \n",
    "    rot=0, \n",
    "    figsize=(12, 6), \n",
    "    color=['navy', 'orangered']\n",
    ")\n",
    "\n",
    "ax.set_title('Collisions by Year (2006 - 2020)', fontsize=14)\n",
    "ax.set_ylabel('Number of Collisions')\n",
    "ax.set_xlabel(' ')\n",
    "ax.set_ylim([0, 500])\n",
    "ax.legend(loc='upper left')\n",
    "\n",
    "fmt = '{x:,.0f}'\n",
    "ax.yaxis.set_major_formatter(mtick.StrMethodFormatter(fmt))\n",
    "\n",
    "for tick in ax.yaxis.get_major_ticks():\n",
    "    tick.label.set_fontsize(12)\n",
    "for tick in ax.xaxis.get_major_ticks():\n",
    "    tick.label.set_fontsize(12)\n",
    "\n",
    "ax.axhline(fatal_year['All Collisions'].mean(), color='red', linestyle='dashed', linewidth=1)\n",
    "\n",
    "pass"
   ]
  },
  {
   "cell_type": "code",
   "execution_count": 38,
   "id": "85f60c02",
   "metadata": {},
   "outputs": [],
   "source": [
    "#Overall collision trend by year - plotly (figures as dictionaries)"
   ]
  },
  {
   "cell_type": "code",
   "execution_count": 39,
   "id": "cc9c970a",
   "metadata": {},
   "outputs": [
    {
     "data": {
      "application/vnd.plotly.v1+json": {
       "config": {
        "plotlyServerURL": "https://plot.ly"
       },
       "data": [
        {
         "hoverinfo": "y",
         "marker": {
          "color": "rgb(0, 0, 128)"
         },
         "name": "All",
         "type": "bar",
         "x": [
          2006,
          2007,
          2008,
          2009,
          2010,
          2011,
          2012,
          2013,
          2014,
          2015,
          2016,
          2017,
          2018,
          2019,
          2020
         ],
         "y": [
          481,
          453,
          417,
          438,
          400,
          399,
          453,
          431,
          350,
          350,
          386,
          392,
          422,
          365,
          265
         ]
        },
        {
         "hoverinfo": "y",
         "marker": {
          "color": "rgb(255, 69, 0)"
         },
         "name": "Severe",
         "type": "bar",
         "x": [
          2006,
          2007,
          2008,
          2009,
          2010,
          2011,
          2012,
          2013,
          2014,
          2015,
          2016,
          2017,
          2018,
          2019,
          2020
         ],
         "y": [
          57,
          47,
          51,
          45,
          42,
          34,
          44,
          63,
          51,
          65,
          76,
          62,
          66,
          63,
          40
         ]
        }
       ],
       "layout": {
        "bargap": 0.25,
        "bargroupgap": 0.1,
        "barmode": "group",
        "plot_bgcolor": "#F5F5F5",
        "template": {
         "data": {
          "bar": [
           {
            "error_x": {
             "color": "#2a3f5f"
            },
            "error_y": {
             "color": "#2a3f5f"
            },
            "marker": {
             "line": {
              "color": "#E5ECF6",
              "width": 0.5
             },
             "pattern": {
              "fillmode": "overlay",
              "size": 10,
              "solidity": 0.2
             }
            },
            "type": "bar"
           }
          ],
          "barpolar": [
           {
            "marker": {
             "line": {
              "color": "#E5ECF6",
              "width": 0.5
             },
             "pattern": {
              "fillmode": "overlay",
              "size": 10,
              "solidity": 0.2
             }
            },
            "type": "barpolar"
           }
          ],
          "carpet": [
           {
            "aaxis": {
             "endlinecolor": "#2a3f5f",
             "gridcolor": "white",
             "linecolor": "white",
             "minorgridcolor": "white",
             "startlinecolor": "#2a3f5f"
            },
            "baxis": {
             "endlinecolor": "#2a3f5f",
             "gridcolor": "white",
             "linecolor": "white",
             "minorgridcolor": "white",
             "startlinecolor": "#2a3f5f"
            },
            "type": "carpet"
           }
          ],
          "choropleth": [
           {
            "colorbar": {
             "outlinewidth": 0,
             "ticks": ""
            },
            "type": "choropleth"
           }
          ],
          "contour": [
           {
            "colorbar": {
             "outlinewidth": 0,
             "ticks": ""
            },
            "colorscale": [
             [
              0,
              "#0d0887"
             ],
             [
              0.1111111111111111,
              "#46039f"
             ],
             [
              0.2222222222222222,
              "#7201a8"
             ],
             [
              0.3333333333333333,
              "#9c179e"
             ],
             [
              0.4444444444444444,
              "#bd3786"
             ],
             [
              0.5555555555555556,
              "#d8576b"
             ],
             [
              0.6666666666666666,
              "#ed7953"
             ],
             [
              0.7777777777777778,
              "#fb9f3a"
             ],
             [
              0.8888888888888888,
              "#fdca26"
             ],
             [
              1,
              "#f0f921"
             ]
            ],
            "type": "contour"
           }
          ],
          "contourcarpet": [
           {
            "colorbar": {
             "outlinewidth": 0,
             "ticks": ""
            },
            "type": "contourcarpet"
           }
          ],
          "heatmap": [
           {
            "colorbar": {
             "outlinewidth": 0,
             "ticks": ""
            },
            "colorscale": [
             [
              0,
              "#0d0887"
             ],
             [
              0.1111111111111111,
              "#46039f"
             ],
             [
              0.2222222222222222,
              "#7201a8"
             ],
             [
              0.3333333333333333,
              "#9c179e"
             ],
             [
              0.4444444444444444,
              "#bd3786"
             ],
             [
              0.5555555555555556,
              "#d8576b"
             ],
             [
              0.6666666666666666,
              "#ed7953"
             ],
             [
              0.7777777777777778,
              "#fb9f3a"
             ],
             [
              0.8888888888888888,
              "#fdca26"
             ],
             [
              1,
              "#f0f921"
             ]
            ],
            "type": "heatmap"
           }
          ],
          "heatmapgl": [
           {
            "colorbar": {
             "outlinewidth": 0,
             "ticks": ""
            },
            "colorscale": [
             [
              0,
              "#0d0887"
             ],
             [
              0.1111111111111111,
              "#46039f"
             ],
             [
              0.2222222222222222,
              "#7201a8"
             ],
             [
              0.3333333333333333,
              "#9c179e"
             ],
             [
              0.4444444444444444,
              "#bd3786"
             ],
             [
              0.5555555555555556,
              "#d8576b"
             ],
             [
              0.6666666666666666,
              "#ed7953"
             ],
             [
              0.7777777777777778,
              "#fb9f3a"
             ],
             [
              0.8888888888888888,
              "#fdca26"
             ],
             [
              1,
              "#f0f921"
             ]
            ],
            "type": "heatmapgl"
           }
          ],
          "histogram": [
           {
            "marker": {
             "pattern": {
              "fillmode": "overlay",
              "size": 10,
              "solidity": 0.2
             }
            },
            "type": "histogram"
           }
          ],
          "histogram2d": [
           {
            "colorbar": {
             "outlinewidth": 0,
             "ticks": ""
            },
            "colorscale": [
             [
              0,
              "#0d0887"
             ],
             [
              0.1111111111111111,
              "#46039f"
             ],
             [
              0.2222222222222222,
              "#7201a8"
             ],
             [
              0.3333333333333333,
              "#9c179e"
             ],
             [
              0.4444444444444444,
              "#bd3786"
             ],
             [
              0.5555555555555556,
              "#d8576b"
             ],
             [
              0.6666666666666666,
              "#ed7953"
             ],
             [
              0.7777777777777778,
              "#fb9f3a"
             ],
             [
              0.8888888888888888,
              "#fdca26"
             ],
             [
              1,
              "#f0f921"
             ]
            ],
            "type": "histogram2d"
           }
          ],
          "histogram2dcontour": [
           {
            "colorbar": {
             "outlinewidth": 0,
             "ticks": ""
            },
            "colorscale": [
             [
              0,
              "#0d0887"
             ],
             [
              0.1111111111111111,
              "#46039f"
             ],
             [
              0.2222222222222222,
              "#7201a8"
             ],
             [
              0.3333333333333333,
              "#9c179e"
             ],
             [
              0.4444444444444444,
              "#bd3786"
             ],
             [
              0.5555555555555556,
              "#d8576b"
             ],
             [
              0.6666666666666666,
              "#ed7953"
             ],
             [
              0.7777777777777778,
              "#fb9f3a"
             ],
             [
              0.8888888888888888,
              "#fdca26"
             ],
             [
              1,
              "#f0f921"
             ]
            ],
            "type": "histogram2dcontour"
           }
          ],
          "mesh3d": [
           {
            "colorbar": {
             "outlinewidth": 0,
             "ticks": ""
            },
            "type": "mesh3d"
           }
          ],
          "parcoords": [
           {
            "line": {
             "colorbar": {
              "outlinewidth": 0,
              "ticks": ""
             }
            },
            "type": "parcoords"
           }
          ],
          "pie": [
           {
            "automargin": true,
            "type": "pie"
           }
          ],
          "scatter": [
           {
            "fillpattern": {
             "fillmode": "overlay",
             "size": 10,
             "solidity": 0.2
            },
            "type": "scatter"
           }
          ],
          "scatter3d": [
           {
            "line": {
             "colorbar": {
              "outlinewidth": 0,
              "ticks": ""
             }
            },
            "marker": {
             "colorbar": {
              "outlinewidth": 0,
              "ticks": ""
             }
            },
            "type": "scatter3d"
           }
          ],
          "scattercarpet": [
           {
            "marker": {
             "colorbar": {
              "outlinewidth": 0,
              "ticks": ""
             }
            },
            "type": "scattercarpet"
           }
          ],
          "scattergeo": [
           {
            "marker": {
             "colorbar": {
              "outlinewidth": 0,
              "ticks": ""
             }
            },
            "type": "scattergeo"
           }
          ],
          "scattergl": [
           {
            "marker": {
             "colorbar": {
              "outlinewidth": 0,
              "ticks": ""
             }
            },
            "type": "scattergl"
           }
          ],
          "scattermapbox": [
           {
            "marker": {
             "colorbar": {
              "outlinewidth": 0,
              "ticks": ""
             }
            },
            "type": "scattermapbox"
           }
          ],
          "scatterpolar": [
           {
            "marker": {
             "colorbar": {
              "outlinewidth": 0,
              "ticks": ""
             }
            },
            "type": "scatterpolar"
           }
          ],
          "scatterpolargl": [
           {
            "marker": {
             "colorbar": {
              "outlinewidth": 0,
              "ticks": ""
             }
            },
            "type": "scatterpolargl"
           }
          ],
          "scatterternary": [
           {
            "marker": {
             "colorbar": {
              "outlinewidth": 0,
              "ticks": ""
             }
            },
            "type": "scatterternary"
           }
          ],
          "surface": [
           {
            "colorbar": {
             "outlinewidth": 0,
             "ticks": ""
            },
            "colorscale": [
             [
              0,
              "#0d0887"
             ],
             [
              0.1111111111111111,
              "#46039f"
             ],
             [
              0.2222222222222222,
              "#7201a8"
             ],
             [
              0.3333333333333333,
              "#9c179e"
             ],
             [
              0.4444444444444444,
              "#bd3786"
             ],
             [
              0.5555555555555556,
              "#d8576b"
             ],
             [
              0.6666666666666666,
              "#ed7953"
             ],
             [
              0.7777777777777778,
              "#fb9f3a"
             ],
             [
              0.8888888888888888,
              "#fdca26"
             ],
             [
              1,
              "#f0f921"
             ]
            ],
            "type": "surface"
           }
          ],
          "table": [
           {
            "cells": {
             "fill": {
              "color": "#EBF0F8"
             },
             "line": {
              "color": "white"
             }
            },
            "header": {
             "fill": {
              "color": "#C8D4E3"
             },
             "line": {
              "color": "white"
             }
            },
            "type": "table"
           }
          ]
         },
         "layout": {
          "annotationdefaults": {
           "arrowcolor": "#2a3f5f",
           "arrowhead": 0,
           "arrowwidth": 1
          },
          "autotypenumbers": "strict",
          "coloraxis": {
           "colorbar": {
            "outlinewidth": 0,
            "ticks": ""
           }
          },
          "colorscale": {
           "diverging": [
            [
             0,
             "#8e0152"
            ],
            [
             0.1,
             "#c51b7d"
            ],
            [
             0.2,
             "#de77ae"
            ],
            [
             0.3,
             "#f1b6da"
            ],
            [
             0.4,
             "#fde0ef"
            ],
            [
             0.5,
             "#f7f7f7"
            ],
            [
             0.6,
             "#e6f5d0"
            ],
            [
             0.7,
             "#b8e186"
            ],
            [
             0.8,
             "#7fbc41"
            ],
            [
             0.9,
             "#4d9221"
            ],
            [
             1,
             "#276419"
            ]
           ],
           "sequential": [
            [
             0,
             "#0d0887"
            ],
            [
             0.1111111111111111,
             "#46039f"
            ],
            [
             0.2222222222222222,
             "#7201a8"
            ],
            [
             0.3333333333333333,
             "#9c179e"
            ],
            [
             0.4444444444444444,
             "#bd3786"
            ],
            [
             0.5555555555555556,
             "#d8576b"
            ],
            [
             0.6666666666666666,
             "#ed7953"
            ],
            [
             0.7777777777777778,
             "#fb9f3a"
            ],
            [
             0.8888888888888888,
             "#fdca26"
            ],
            [
             1,
             "#f0f921"
            ]
           ],
           "sequentialminus": [
            [
             0,
             "#0d0887"
            ],
            [
             0.1111111111111111,
             "#46039f"
            ],
            [
             0.2222222222222222,
             "#7201a8"
            ],
            [
             0.3333333333333333,
             "#9c179e"
            ],
            [
             0.4444444444444444,
             "#bd3786"
            ],
            [
             0.5555555555555556,
             "#d8576b"
            ],
            [
             0.6666666666666666,
             "#ed7953"
            ],
            [
             0.7777777777777778,
             "#fb9f3a"
            ],
            [
             0.8888888888888888,
             "#fdca26"
            ],
            [
             1,
             "#f0f921"
            ]
           ]
          },
          "colorway": [
           "#636efa",
           "#EF553B",
           "#00cc96",
           "#ab63fa",
           "#FFA15A",
           "#19d3f3",
           "#FF6692",
           "#B6E880",
           "#FF97FF",
           "#FECB52"
          ],
          "font": {
           "color": "#2a3f5f"
          },
          "geo": {
           "bgcolor": "white",
           "lakecolor": "white",
           "landcolor": "#E5ECF6",
           "showlakes": true,
           "showland": true,
           "subunitcolor": "white"
          },
          "hoverlabel": {
           "align": "left"
          },
          "hovermode": "closest",
          "mapbox": {
           "style": "light"
          },
          "paper_bgcolor": "white",
          "plot_bgcolor": "#E5ECF6",
          "polar": {
           "angularaxis": {
            "gridcolor": "white",
            "linecolor": "white",
            "ticks": ""
           },
           "bgcolor": "#E5ECF6",
           "radialaxis": {
            "gridcolor": "white",
            "linecolor": "white",
            "ticks": ""
           }
          },
          "scene": {
           "xaxis": {
            "backgroundcolor": "#E5ECF6",
            "gridcolor": "white",
            "gridwidth": 2,
            "linecolor": "white",
            "showbackground": true,
            "ticks": "",
            "zerolinecolor": "white"
           },
           "yaxis": {
            "backgroundcolor": "#E5ECF6",
            "gridcolor": "white",
            "gridwidth": 2,
            "linecolor": "white",
            "showbackground": true,
            "ticks": "",
            "zerolinecolor": "white"
           },
           "zaxis": {
            "backgroundcolor": "#E5ECF6",
            "gridcolor": "white",
            "gridwidth": 2,
            "linecolor": "white",
            "showbackground": true,
            "ticks": "",
            "zerolinecolor": "white"
           }
          },
          "shapedefaults": {
           "line": {
            "color": "#2a3f5f"
           }
          },
          "ternary": {
           "aaxis": {
            "gridcolor": "white",
            "linecolor": "white",
            "ticks": ""
           },
           "baxis": {
            "gridcolor": "white",
            "linecolor": "white",
            "ticks": ""
           },
           "bgcolor": "#E5ECF6",
           "caxis": {
            "gridcolor": "white",
            "linecolor": "white",
            "ticks": ""
           }
          },
          "title": {
           "x": 0.05
          },
          "xaxis": {
           "automargin": true,
           "gridcolor": "white",
           "linecolor": "white",
           "ticks": "",
           "title": {
            "standoff": 15
           },
           "zerolinecolor": "white",
           "zerolinewidth": 2
          },
          "yaxis": {
           "automargin": true,
           "gridcolor": "white",
           "linecolor": "white",
           "ticks": "",
           "title": {
            "standoff": 15
           },
           "zerolinecolor": "white",
           "zerolinewidth": 2
          }
         }
        },
        "title": {
         "font": {
          "size": 20
         },
         "text": "Collisions by Year (2009 - 2018)"
        },
        "xaxis": {
         "tickfont": {
          "size": 12
         },
         "type": "category"
        },
        "yaxis": {
         "tickfont": {
          "size": 12
         },
         "title": {
          "text": "Number of Collisions"
         }
        }
       }
      },
      "text/html": [
       "<div>                            <div id=\"276c0cbd-40e0-4289-9081-c7b165176fc4\" class=\"plotly-graph-div\" style=\"height:525px; width:100%;\"></div>            <script type=\"text/javascript\">                require([\"plotly\"], function(Plotly) {                    window.PLOTLYENV=window.PLOTLYENV || {};                                    if (document.getElementById(\"276c0cbd-40e0-4289-9081-c7b165176fc4\")) {                    Plotly.newPlot(                        \"276c0cbd-40e0-4289-9081-c7b165176fc4\",                        [{\"hoverinfo\":\"y\",\"name\":\"All\",\"x\":[2006,2007,2008,2009,2010,2011,2012,2013,2014,2015,2016,2017,2018,2019,2020],\"y\":[481,453,417,438,400,399,453,431,350,350,386,392,422,365,265],\"type\":\"bar\",\"marker\":{\"color\":\"rgb(0, 0, 128)\"}},{\"hoverinfo\":\"y\",\"name\":\"Severe\",\"x\":[2006,2007,2008,2009,2010,2011,2012,2013,2014,2015,2016,2017,2018,2019,2020],\"y\":[57,47,51,45,42,34,44,63,51,65,76,62,66,63,40],\"type\":\"bar\",\"marker\":{\"color\":\"rgb(255, 69, 0)\"}}],                        {\"bargap\":0.25,\"bargroupgap\":0.1,\"barmode\":\"group\",\"plot_bgcolor\":\"#F5F5F5\",\"title\":{\"text\":\"Collisions by Year (2009 - 2018)\",\"font\":{\"size\":20}},\"xaxis\":{\"type\":\"category\",\"tickfont\":{\"size\":12}},\"yaxis\":{\"title\":{\"text\":\"Number of Collisions\"},\"tickfont\":{\"size\":12}},\"template\":{\"data\":{\"histogram2dcontour\":[{\"type\":\"histogram2dcontour\",\"colorbar\":{\"outlinewidth\":0,\"ticks\":\"\"},\"colorscale\":[[0.0,\"#0d0887\"],[0.1111111111111111,\"#46039f\"],[0.2222222222222222,\"#7201a8\"],[0.3333333333333333,\"#9c179e\"],[0.4444444444444444,\"#bd3786\"],[0.5555555555555556,\"#d8576b\"],[0.6666666666666666,\"#ed7953\"],[0.7777777777777778,\"#fb9f3a\"],[0.8888888888888888,\"#fdca26\"],[1.0,\"#f0f921\"]]}],\"choropleth\":[{\"type\":\"choropleth\",\"colorbar\":{\"outlinewidth\":0,\"ticks\":\"\"}}],\"histogram2d\":[{\"type\":\"histogram2d\",\"colorbar\":{\"outlinewidth\":0,\"ticks\":\"\"},\"colorscale\":[[0.0,\"#0d0887\"],[0.1111111111111111,\"#46039f\"],[0.2222222222222222,\"#7201a8\"],[0.3333333333333333,\"#9c179e\"],[0.4444444444444444,\"#bd3786\"],[0.5555555555555556,\"#d8576b\"],[0.6666666666666666,\"#ed7953\"],[0.7777777777777778,\"#fb9f3a\"],[0.8888888888888888,\"#fdca26\"],[1.0,\"#f0f921\"]]}],\"heatmap\":[{\"type\":\"heatmap\",\"colorbar\":{\"outlinewidth\":0,\"ticks\":\"\"},\"colorscale\":[[0.0,\"#0d0887\"],[0.1111111111111111,\"#46039f\"],[0.2222222222222222,\"#7201a8\"],[0.3333333333333333,\"#9c179e\"],[0.4444444444444444,\"#bd3786\"],[0.5555555555555556,\"#d8576b\"],[0.6666666666666666,\"#ed7953\"],[0.7777777777777778,\"#fb9f3a\"],[0.8888888888888888,\"#fdca26\"],[1.0,\"#f0f921\"]]}],\"heatmapgl\":[{\"type\":\"heatmapgl\",\"colorbar\":{\"outlinewidth\":0,\"ticks\":\"\"},\"colorscale\":[[0.0,\"#0d0887\"],[0.1111111111111111,\"#46039f\"],[0.2222222222222222,\"#7201a8\"],[0.3333333333333333,\"#9c179e\"],[0.4444444444444444,\"#bd3786\"],[0.5555555555555556,\"#d8576b\"],[0.6666666666666666,\"#ed7953\"],[0.7777777777777778,\"#fb9f3a\"],[0.8888888888888888,\"#fdca26\"],[1.0,\"#f0f921\"]]}],\"contourcarpet\":[{\"type\":\"contourcarpet\",\"colorbar\":{\"outlinewidth\":0,\"ticks\":\"\"}}],\"contour\":[{\"type\":\"contour\",\"colorbar\":{\"outlinewidth\":0,\"ticks\":\"\"},\"colorscale\":[[0.0,\"#0d0887\"],[0.1111111111111111,\"#46039f\"],[0.2222222222222222,\"#7201a8\"],[0.3333333333333333,\"#9c179e\"],[0.4444444444444444,\"#bd3786\"],[0.5555555555555556,\"#d8576b\"],[0.6666666666666666,\"#ed7953\"],[0.7777777777777778,\"#fb9f3a\"],[0.8888888888888888,\"#fdca26\"],[1.0,\"#f0f921\"]]}],\"surface\":[{\"type\":\"surface\",\"colorbar\":{\"outlinewidth\":0,\"ticks\":\"\"},\"colorscale\":[[0.0,\"#0d0887\"],[0.1111111111111111,\"#46039f\"],[0.2222222222222222,\"#7201a8\"],[0.3333333333333333,\"#9c179e\"],[0.4444444444444444,\"#bd3786\"],[0.5555555555555556,\"#d8576b\"],[0.6666666666666666,\"#ed7953\"],[0.7777777777777778,\"#fb9f3a\"],[0.8888888888888888,\"#fdca26\"],[1.0,\"#f0f921\"]]}],\"mesh3d\":[{\"type\":\"mesh3d\",\"colorbar\":{\"outlinewidth\":0,\"ticks\":\"\"}}],\"scatter\":[{\"fillpattern\":{\"fillmode\":\"overlay\",\"size\":10,\"solidity\":0.2},\"type\":\"scatter\"}],\"parcoords\":[{\"type\":\"parcoords\",\"line\":{\"colorbar\":{\"outlinewidth\":0,\"ticks\":\"\"}}}],\"scatterpolargl\":[{\"type\":\"scatterpolargl\",\"marker\":{\"colorbar\":{\"outlinewidth\":0,\"ticks\":\"\"}}}],\"bar\":[{\"error_x\":{\"color\":\"#2a3f5f\"},\"error_y\":{\"color\":\"#2a3f5f\"},\"marker\":{\"line\":{\"color\":\"#E5ECF6\",\"width\":0.5},\"pattern\":{\"fillmode\":\"overlay\",\"size\":10,\"solidity\":0.2}},\"type\":\"bar\"}],\"scattergeo\":[{\"type\":\"scattergeo\",\"marker\":{\"colorbar\":{\"outlinewidth\":0,\"ticks\":\"\"}}}],\"scatterpolar\":[{\"type\":\"scatterpolar\",\"marker\":{\"colorbar\":{\"outlinewidth\":0,\"ticks\":\"\"}}}],\"histogram\":[{\"marker\":{\"pattern\":{\"fillmode\":\"overlay\",\"size\":10,\"solidity\":0.2}},\"type\":\"histogram\"}],\"scattergl\":[{\"type\":\"scattergl\",\"marker\":{\"colorbar\":{\"outlinewidth\":0,\"ticks\":\"\"}}}],\"scatter3d\":[{\"type\":\"scatter3d\",\"line\":{\"colorbar\":{\"outlinewidth\":0,\"ticks\":\"\"}},\"marker\":{\"colorbar\":{\"outlinewidth\":0,\"ticks\":\"\"}}}],\"scattermapbox\":[{\"type\":\"scattermapbox\",\"marker\":{\"colorbar\":{\"outlinewidth\":0,\"ticks\":\"\"}}}],\"scatterternary\":[{\"type\":\"scatterternary\",\"marker\":{\"colorbar\":{\"outlinewidth\":0,\"ticks\":\"\"}}}],\"scattercarpet\":[{\"type\":\"scattercarpet\",\"marker\":{\"colorbar\":{\"outlinewidth\":0,\"ticks\":\"\"}}}],\"carpet\":[{\"aaxis\":{\"endlinecolor\":\"#2a3f5f\",\"gridcolor\":\"white\",\"linecolor\":\"white\",\"minorgridcolor\":\"white\",\"startlinecolor\":\"#2a3f5f\"},\"baxis\":{\"endlinecolor\":\"#2a3f5f\",\"gridcolor\":\"white\",\"linecolor\":\"white\",\"minorgridcolor\":\"white\",\"startlinecolor\":\"#2a3f5f\"},\"type\":\"carpet\"}],\"table\":[{\"cells\":{\"fill\":{\"color\":\"#EBF0F8\"},\"line\":{\"color\":\"white\"}},\"header\":{\"fill\":{\"color\":\"#C8D4E3\"},\"line\":{\"color\":\"white\"}},\"type\":\"table\"}],\"barpolar\":[{\"marker\":{\"line\":{\"color\":\"#E5ECF6\",\"width\":0.5},\"pattern\":{\"fillmode\":\"overlay\",\"size\":10,\"solidity\":0.2}},\"type\":\"barpolar\"}],\"pie\":[{\"automargin\":true,\"type\":\"pie\"}]},\"layout\":{\"autotypenumbers\":\"strict\",\"colorway\":[\"#636efa\",\"#EF553B\",\"#00cc96\",\"#ab63fa\",\"#FFA15A\",\"#19d3f3\",\"#FF6692\",\"#B6E880\",\"#FF97FF\",\"#FECB52\"],\"font\":{\"color\":\"#2a3f5f\"},\"hovermode\":\"closest\",\"hoverlabel\":{\"align\":\"left\"},\"paper_bgcolor\":\"white\",\"plot_bgcolor\":\"#E5ECF6\",\"polar\":{\"bgcolor\":\"#E5ECF6\",\"angularaxis\":{\"gridcolor\":\"white\",\"linecolor\":\"white\",\"ticks\":\"\"},\"radialaxis\":{\"gridcolor\":\"white\",\"linecolor\":\"white\",\"ticks\":\"\"}},\"ternary\":{\"bgcolor\":\"#E5ECF6\",\"aaxis\":{\"gridcolor\":\"white\",\"linecolor\":\"white\",\"ticks\":\"\"},\"baxis\":{\"gridcolor\":\"white\",\"linecolor\":\"white\",\"ticks\":\"\"},\"caxis\":{\"gridcolor\":\"white\",\"linecolor\":\"white\",\"ticks\":\"\"}},\"coloraxis\":{\"colorbar\":{\"outlinewidth\":0,\"ticks\":\"\"}},\"colorscale\":{\"sequential\":[[0.0,\"#0d0887\"],[0.1111111111111111,\"#46039f\"],[0.2222222222222222,\"#7201a8\"],[0.3333333333333333,\"#9c179e\"],[0.4444444444444444,\"#bd3786\"],[0.5555555555555556,\"#d8576b\"],[0.6666666666666666,\"#ed7953\"],[0.7777777777777778,\"#fb9f3a\"],[0.8888888888888888,\"#fdca26\"],[1.0,\"#f0f921\"]],\"sequentialminus\":[[0.0,\"#0d0887\"],[0.1111111111111111,\"#46039f\"],[0.2222222222222222,\"#7201a8\"],[0.3333333333333333,\"#9c179e\"],[0.4444444444444444,\"#bd3786\"],[0.5555555555555556,\"#d8576b\"],[0.6666666666666666,\"#ed7953\"],[0.7777777777777778,\"#fb9f3a\"],[0.8888888888888888,\"#fdca26\"],[1.0,\"#f0f921\"]],\"diverging\":[[0,\"#8e0152\"],[0.1,\"#c51b7d\"],[0.2,\"#de77ae\"],[0.3,\"#f1b6da\"],[0.4,\"#fde0ef\"],[0.5,\"#f7f7f7\"],[0.6,\"#e6f5d0\"],[0.7,\"#b8e186\"],[0.8,\"#7fbc41\"],[0.9,\"#4d9221\"],[1,\"#276419\"]]},\"xaxis\":{\"gridcolor\":\"white\",\"linecolor\":\"white\",\"ticks\":\"\",\"title\":{\"standoff\":15},\"zerolinecolor\":\"white\",\"automargin\":true,\"zerolinewidth\":2},\"yaxis\":{\"gridcolor\":\"white\",\"linecolor\":\"white\",\"ticks\":\"\",\"title\":{\"standoff\":15},\"zerolinecolor\":\"white\",\"automargin\":true,\"zerolinewidth\":2},\"scene\":{\"xaxis\":{\"backgroundcolor\":\"#E5ECF6\",\"gridcolor\":\"white\",\"linecolor\":\"white\",\"showbackground\":true,\"ticks\":\"\",\"zerolinecolor\":\"white\",\"gridwidth\":2},\"yaxis\":{\"backgroundcolor\":\"#E5ECF6\",\"gridcolor\":\"white\",\"linecolor\":\"white\",\"showbackground\":true,\"ticks\":\"\",\"zerolinecolor\":\"white\",\"gridwidth\":2},\"zaxis\":{\"backgroundcolor\":\"#E5ECF6\",\"gridcolor\":\"white\",\"linecolor\":\"white\",\"showbackground\":true,\"ticks\":\"\",\"zerolinecolor\":\"white\",\"gridwidth\":2}},\"shapedefaults\":{\"line\":{\"color\":\"#2a3f5f\"}},\"annotationdefaults\":{\"arrowcolor\":\"#2a3f5f\",\"arrowhead\":0,\"arrowwidth\":1},\"geo\":{\"bgcolor\":\"white\",\"landcolor\":\"#E5ECF6\",\"subunitcolor\":\"white\",\"showland\":true,\"showlakes\":true,\"lakecolor\":\"white\"},\"title\":{\"x\":0.05},\"mapbox\":{\"style\":\"light\"}}}},                        {\"responsive\": true}                    ).then(function(){\n",
       "                            \n",
       "var gd = document.getElementById('276c0cbd-40e0-4289-9081-c7b165176fc4');\n",
       "var x = new MutationObserver(function (mutations, observer) {{\n",
       "        var display = window.getComputedStyle(gd).display;\n",
       "        if (!display || display === 'none') {{\n",
       "            console.log([gd, 'removed!']);\n",
       "            Plotly.purge(gd);\n",
       "            observer.disconnect();\n",
       "        }}\n",
       "}});\n",
       "\n",
       "// Listen for the removal of the full notebook cells\n",
       "var notebookContainer = gd.closest('#notebook-container');\n",
       "if (notebookContainer) {{\n",
       "    x.observe(notebookContainer, {childList: true});\n",
       "}}\n",
       "\n",
       "// Listen for the clearing of the current output cell\n",
       "var outputEl = gd.closest('.output');\n",
       "if (outputEl) {{\n",
       "    x.observe(outputEl, {childList: true});\n",
       "}}\n",
       "\n",
       "                        })                };                });            </script>        </div>"
      ]
     },
     "metadata": {},
     "output_type": "display_data"
    }
   ],
   "source": [
    "fig = {\n",
    "    \"data\": [{\"type\": \"bar\",\n",
    "              \"x\": fatal_year.index,\n",
    "              \"y\": fatal_year['All Collisions'],\n",
    "              \"name\": \"All\",\n",
    "              \"marker_color\": \"rgb(0, 0, 128)\",\n",
    "              \"hoverinfo\": \"y\"\n",
    "             },\n",
    "             {\"type\": \"bar\",\n",
    "              \"x\": fatal_year.index,\n",
    "              \"y\": fatal_year['Fatal Collisions'],\n",
    "              \"name\": \"Severe\",\n",
    "              \"marker_color\": \"rgb(255, 69, 0)\",\n",
    "              \"hoverinfo\": \"y\"\n",
    "             }],\n",
    "    \"layout\": {\"title\": {\"text\": \"Collisions by Year (2009 - 2018)\", \"font_size\": 20},\n",
    "               \"xaxis\": {\"tickfont_size\": 12, \n",
    "                         \"type\": \"category\"},\n",
    "               \"yaxis\": {\"title\": \"Number of Collisions\",  \n",
    "                         \"tickfont_size\": 12},\n",
    "               \"barmode\": \"group\",\n",
    "               \"bargap\": 0.25,\n",
    "               \"bargroupgap\": 0.1,\n",
    "               \"plot_bgcolor\": \"#F5F5F5\"\n",
    "              }\n",
    "}\n",
    "\n",
    "pio.show(fig)"
   ]
  },
  {
   "cell_type": "code",
   "execution_count": 40,
   "id": "fd94c3c2",
   "metadata": {},
   "outputs": [],
   "source": [
    "#Overall collision trend by year - plotly with plot control (figures as graph objects)"
   ]
  },
  {
   "cell_type": "code",
   "execution_count": 42,
   "id": "c1c49f47",
   "metadata": {},
   "outputs": [
    {
     "data": {
      "application/vnd.plotly.v1+json": {
       "config": {
        "plotlyServerURL": "https://plot.ly"
       },
       "data": [
        {
         "marker": {
          "color": "rgb(0,0,128)"
         },
         "name": "Collisions",
         "type": "scatter",
         "x": [
          2006,
          2007,
          2008,
          2009,
          2010,
          2011,
          2012,
          2013,
          2014,
          2015,
          2016,
          2017,
          2018,
          2019,
          2020
         ],
         "y": [
          481,
          453,
          417,
          438,
          400,
          399,
          453,
          431,
          350,
          350,
          386,
          392,
          422,
          365,
          265
         ]
        },
        {
         "marker": {
          "color": "rgb(255, 69, 0)"
         },
         "name": "Fatal Collisions",
         "type": "scatter",
         "x": [
          2006,
          2007,
          2008,
          2009,
          2010,
          2011,
          2012,
          2013,
          2014,
          2015,
          2016,
          2017,
          2018,
          2019,
          2020
         ],
         "y": [
          57,
          47,
          51,
          45,
          42,
          34,
          44,
          63,
          51,
          65,
          76,
          62,
          66,
          63,
          40
         ]
        }
       ],
       "layout": {
        "legend": {
         "orientation": "h"
        },
        "plot_bgcolor": "#F5F5F5",
        "template": {
         "data": {
          "bar": [
           {
            "error_x": {
             "color": "#2a3f5f"
            },
            "error_y": {
             "color": "#2a3f5f"
            },
            "marker": {
             "line": {
              "color": "#E5ECF6",
              "width": 0.5
             },
             "pattern": {
              "fillmode": "overlay",
              "size": 10,
              "solidity": 0.2
             }
            },
            "type": "bar"
           }
          ],
          "barpolar": [
           {
            "marker": {
             "line": {
              "color": "#E5ECF6",
              "width": 0.5
             },
             "pattern": {
              "fillmode": "overlay",
              "size": 10,
              "solidity": 0.2
             }
            },
            "type": "barpolar"
           }
          ],
          "carpet": [
           {
            "aaxis": {
             "endlinecolor": "#2a3f5f",
             "gridcolor": "white",
             "linecolor": "white",
             "minorgridcolor": "white",
             "startlinecolor": "#2a3f5f"
            },
            "baxis": {
             "endlinecolor": "#2a3f5f",
             "gridcolor": "white",
             "linecolor": "white",
             "minorgridcolor": "white",
             "startlinecolor": "#2a3f5f"
            },
            "type": "carpet"
           }
          ],
          "choropleth": [
           {
            "colorbar": {
             "outlinewidth": 0,
             "ticks": ""
            },
            "type": "choropleth"
           }
          ],
          "contour": [
           {
            "colorbar": {
             "outlinewidth": 0,
             "ticks": ""
            },
            "colorscale": [
             [
              0,
              "#0d0887"
             ],
             [
              0.1111111111111111,
              "#46039f"
             ],
             [
              0.2222222222222222,
              "#7201a8"
             ],
             [
              0.3333333333333333,
              "#9c179e"
             ],
             [
              0.4444444444444444,
              "#bd3786"
             ],
             [
              0.5555555555555556,
              "#d8576b"
             ],
             [
              0.6666666666666666,
              "#ed7953"
             ],
             [
              0.7777777777777778,
              "#fb9f3a"
             ],
             [
              0.8888888888888888,
              "#fdca26"
             ],
             [
              1,
              "#f0f921"
             ]
            ],
            "type": "contour"
           }
          ],
          "contourcarpet": [
           {
            "colorbar": {
             "outlinewidth": 0,
             "ticks": ""
            },
            "type": "contourcarpet"
           }
          ],
          "heatmap": [
           {
            "colorbar": {
             "outlinewidth": 0,
             "ticks": ""
            },
            "colorscale": [
             [
              0,
              "#0d0887"
             ],
             [
              0.1111111111111111,
              "#46039f"
             ],
             [
              0.2222222222222222,
              "#7201a8"
             ],
             [
              0.3333333333333333,
              "#9c179e"
             ],
             [
              0.4444444444444444,
              "#bd3786"
             ],
             [
              0.5555555555555556,
              "#d8576b"
             ],
             [
              0.6666666666666666,
              "#ed7953"
             ],
             [
              0.7777777777777778,
              "#fb9f3a"
             ],
             [
              0.8888888888888888,
              "#fdca26"
             ],
             [
              1,
              "#f0f921"
             ]
            ],
            "type": "heatmap"
           }
          ],
          "heatmapgl": [
           {
            "colorbar": {
             "outlinewidth": 0,
             "ticks": ""
            },
            "colorscale": [
             [
              0,
              "#0d0887"
             ],
             [
              0.1111111111111111,
              "#46039f"
             ],
             [
              0.2222222222222222,
              "#7201a8"
             ],
             [
              0.3333333333333333,
              "#9c179e"
             ],
             [
              0.4444444444444444,
              "#bd3786"
             ],
             [
              0.5555555555555556,
              "#d8576b"
             ],
             [
              0.6666666666666666,
              "#ed7953"
             ],
             [
              0.7777777777777778,
              "#fb9f3a"
             ],
             [
              0.8888888888888888,
              "#fdca26"
             ],
             [
              1,
              "#f0f921"
             ]
            ],
            "type": "heatmapgl"
           }
          ],
          "histogram": [
           {
            "marker": {
             "pattern": {
              "fillmode": "overlay",
              "size": 10,
              "solidity": 0.2
             }
            },
            "type": "histogram"
           }
          ],
          "histogram2d": [
           {
            "colorbar": {
             "outlinewidth": 0,
             "ticks": ""
            },
            "colorscale": [
             [
              0,
              "#0d0887"
             ],
             [
              0.1111111111111111,
              "#46039f"
             ],
             [
              0.2222222222222222,
              "#7201a8"
             ],
             [
              0.3333333333333333,
              "#9c179e"
             ],
             [
              0.4444444444444444,
              "#bd3786"
             ],
             [
              0.5555555555555556,
              "#d8576b"
             ],
             [
              0.6666666666666666,
              "#ed7953"
             ],
             [
              0.7777777777777778,
              "#fb9f3a"
             ],
             [
              0.8888888888888888,
              "#fdca26"
             ],
             [
              1,
              "#f0f921"
             ]
            ],
            "type": "histogram2d"
           }
          ],
          "histogram2dcontour": [
           {
            "colorbar": {
             "outlinewidth": 0,
             "ticks": ""
            },
            "colorscale": [
             [
              0,
              "#0d0887"
             ],
             [
              0.1111111111111111,
              "#46039f"
             ],
             [
              0.2222222222222222,
              "#7201a8"
             ],
             [
              0.3333333333333333,
              "#9c179e"
             ],
             [
              0.4444444444444444,
              "#bd3786"
             ],
             [
              0.5555555555555556,
              "#d8576b"
             ],
             [
              0.6666666666666666,
              "#ed7953"
             ],
             [
              0.7777777777777778,
              "#fb9f3a"
             ],
             [
              0.8888888888888888,
              "#fdca26"
             ],
             [
              1,
              "#f0f921"
             ]
            ],
            "type": "histogram2dcontour"
           }
          ],
          "mesh3d": [
           {
            "colorbar": {
             "outlinewidth": 0,
             "ticks": ""
            },
            "type": "mesh3d"
           }
          ],
          "parcoords": [
           {
            "line": {
             "colorbar": {
              "outlinewidth": 0,
              "ticks": ""
             }
            },
            "type": "parcoords"
           }
          ],
          "pie": [
           {
            "automargin": true,
            "type": "pie"
           }
          ],
          "scatter": [
           {
            "fillpattern": {
             "fillmode": "overlay",
             "size": 10,
             "solidity": 0.2
            },
            "type": "scatter"
           }
          ],
          "scatter3d": [
           {
            "line": {
             "colorbar": {
              "outlinewidth": 0,
              "ticks": ""
             }
            },
            "marker": {
             "colorbar": {
              "outlinewidth": 0,
              "ticks": ""
             }
            },
            "type": "scatter3d"
           }
          ],
          "scattercarpet": [
           {
            "marker": {
             "colorbar": {
              "outlinewidth": 0,
              "ticks": ""
             }
            },
            "type": "scattercarpet"
           }
          ],
          "scattergeo": [
           {
            "marker": {
             "colorbar": {
              "outlinewidth": 0,
              "ticks": ""
             }
            },
            "type": "scattergeo"
           }
          ],
          "scattergl": [
           {
            "marker": {
             "colorbar": {
              "outlinewidth": 0,
              "ticks": ""
             }
            },
            "type": "scattergl"
           }
          ],
          "scattermapbox": [
           {
            "marker": {
             "colorbar": {
              "outlinewidth": 0,
              "ticks": ""
             }
            },
            "type": "scattermapbox"
           }
          ],
          "scatterpolar": [
           {
            "marker": {
             "colorbar": {
              "outlinewidth": 0,
              "ticks": ""
             }
            },
            "type": "scatterpolar"
           }
          ],
          "scatterpolargl": [
           {
            "marker": {
             "colorbar": {
              "outlinewidth": 0,
              "ticks": ""
             }
            },
            "type": "scatterpolargl"
           }
          ],
          "scatterternary": [
           {
            "marker": {
             "colorbar": {
              "outlinewidth": 0,
              "ticks": ""
             }
            },
            "type": "scatterternary"
           }
          ],
          "surface": [
           {
            "colorbar": {
             "outlinewidth": 0,
             "ticks": ""
            },
            "colorscale": [
             [
              0,
              "#0d0887"
             ],
             [
              0.1111111111111111,
              "#46039f"
             ],
             [
              0.2222222222222222,
              "#7201a8"
             ],
             [
              0.3333333333333333,
              "#9c179e"
             ],
             [
              0.4444444444444444,
              "#bd3786"
             ],
             [
              0.5555555555555556,
              "#d8576b"
             ],
             [
              0.6666666666666666,
              "#ed7953"
             ],
             [
              0.7777777777777778,
              "#fb9f3a"
             ],
             [
              0.8888888888888888,
              "#fdca26"
             ],
             [
              1,
              "#f0f921"
             ]
            ],
            "type": "surface"
           }
          ],
          "table": [
           {
            "cells": {
             "fill": {
              "color": "#EBF0F8"
             },
             "line": {
              "color": "white"
             }
            },
            "header": {
             "fill": {
              "color": "#C8D4E3"
             },
             "line": {
              "color": "white"
             }
            },
            "type": "table"
           }
          ]
         },
         "layout": {
          "annotationdefaults": {
           "arrowcolor": "#2a3f5f",
           "arrowhead": 0,
           "arrowwidth": 1
          },
          "autotypenumbers": "strict",
          "coloraxis": {
           "colorbar": {
            "outlinewidth": 0,
            "ticks": ""
           }
          },
          "colorscale": {
           "diverging": [
            [
             0,
             "#8e0152"
            ],
            [
             0.1,
             "#c51b7d"
            ],
            [
             0.2,
             "#de77ae"
            ],
            [
             0.3,
             "#f1b6da"
            ],
            [
             0.4,
             "#fde0ef"
            ],
            [
             0.5,
             "#f7f7f7"
            ],
            [
             0.6,
             "#e6f5d0"
            ],
            [
             0.7,
             "#b8e186"
            ],
            [
             0.8,
             "#7fbc41"
            ],
            [
             0.9,
             "#4d9221"
            ],
            [
             1,
             "#276419"
            ]
           ],
           "sequential": [
            [
             0,
             "#0d0887"
            ],
            [
             0.1111111111111111,
             "#46039f"
            ],
            [
             0.2222222222222222,
             "#7201a8"
            ],
            [
             0.3333333333333333,
             "#9c179e"
            ],
            [
             0.4444444444444444,
             "#bd3786"
            ],
            [
             0.5555555555555556,
             "#d8576b"
            ],
            [
             0.6666666666666666,
             "#ed7953"
            ],
            [
             0.7777777777777778,
             "#fb9f3a"
            ],
            [
             0.8888888888888888,
             "#fdca26"
            ],
            [
             1,
             "#f0f921"
            ]
           ],
           "sequentialminus": [
            [
             0,
             "#0d0887"
            ],
            [
             0.1111111111111111,
             "#46039f"
            ],
            [
             0.2222222222222222,
             "#7201a8"
            ],
            [
             0.3333333333333333,
             "#9c179e"
            ],
            [
             0.4444444444444444,
             "#bd3786"
            ],
            [
             0.5555555555555556,
             "#d8576b"
            ],
            [
             0.6666666666666666,
             "#ed7953"
            ],
            [
             0.7777777777777778,
             "#fb9f3a"
            ],
            [
             0.8888888888888888,
             "#fdca26"
            ],
            [
             1,
             "#f0f921"
            ]
           ]
          },
          "colorway": [
           "#636efa",
           "#EF553B",
           "#00cc96",
           "#ab63fa",
           "#FFA15A",
           "#19d3f3",
           "#FF6692",
           "#B6E880",
           "#FF97FF",
           "#FECB52"
          ],
          "font": {
           "color": "#2a3f5f"
          },
          "geo": {
           "bgcolor": "white",
           "lakecolor": "white",
           "landcolor": "#E5ECF6",
           "showlakes": true,
           "showland": true,
           "subunitcolor": "white"
          },
          "hoverlabel": {
           "align": "left"
          },
          "hovermode": "closest",
          "mapbox": {
           "style": "light"
          },
          "paper_bgcolor": "white",
          "plot_bgcolor": "#E5ECF6",
          "polar": {
           "angularaxis": {
            "gridcolor": "white",
            "linecolor": "white",
            "ticks": ""
           },
           "bgcolor": "#E5ECF6",
           "radialaxis": {
            "gridcolor": "white",
            "linecolor": "white",
            "ticks": ""
           }
          },
          "scene": {
           "xaxis": {
            "backgroundcolor": "#E5ECF6",
            "gridcolor": "white",
            "gridwidth": 2,
            "linecolor": "white",
            "showbackground": true,
            "ticks": "",
            "zerolinecolor": "white"
           },
           "yaxis": {
            "backgroundcolor": "#E5ECF6",
            "gridcolor": "white",
            "gridwidth": 2,
            "linecolor": "white",
            "showbackground": true,
            "ticks": "",
            "zerolinecolor": "white"
           },
           "zaxis": {
            "backgroundcolor": "#E5ECF6",
            "gridcolor": "white",
            "gridwidth": 2,
            "linecolor": "white",
            "showbackground": true,
            "ticks": "",
            "zerolinecolor": "white"
           }
          },
          "shapedefaults": {
           "line": {
            "color": "#2a3f5f"
           }
          },
          "ternary": {
           "aaxis": {
            "gridcolor": "white",
            "linecolor": "white",
            "ticks": ""
           },
           "baxis": {
            "gridcolor": "white",
            "linecolor": "white",
            "ticks": ""
           },
           "bgcolor": "#E5ECF6",
           "caxis": {
            "gridcolor": "white",
            "linecolor": "white",
            "ticks": ""
           }
          },
          "title": {
           "x": 0.05
          },
          "xaxis": {
           "automargin": true,
           "gridcolor": "white",
           "linecolor": "white",
           "ticks": "",
           "title": {
            "standoff": 15
           },
           "zerolinecolor": "white",
           "zerolinewidth": 2
          },
          "yaxis": {
           "automargin": true,
           "gridcolor": "white",
           "linecolor": "white",
           "ticks": "",
           "title": {
            "standoff": 15
           },
           "zerolinecolor": "white",
           "zerolinewidth": 2
          }
         }
        },
        "title": {
         "text": "Collisions by Year (2006 - 2020)"
        },
        "updatemenus": [
         {
          "active": 0,
          "bordercolor": "rgb(192,192,192)",
          "buttons": [
           {
            "args": [
             {
              "visible": [
               true,
               false
              ]
             },
             {
              "annotations": [
               {
                "ax": 0,
                "ay": -40,
                "text": "481 Collisions <br> happend in 2006",
                "x": 2006,
                "xref": "x",
                "y": 481,
                "yref": "y"
               }
              ],
              "title": "All Collisions from 2006 to 2020"
             }
            ],
            "label": "All Collisions",
            "method": "update"
           },
           {
            "args": [
             {
              "visible": [
               false,
               true
              ]
             },
             {
              "annotations": [
               {
                "ax": 0,
                "ay": -40,
                "text": "76 Fatal Collisions <br> happend in 2016",
                "x": 2016,
                "xref": "x",
                "y": 76,
                "yref": "y"
               }
              ],
              "title": "Severe Collisions from 2006 to 2020"
             }
            ],
            "label": "Severe Collisions",
            "method": "update"
           }
          ],
          "x": 1,
          "xanchor": "right",
          "y": 1.12,
          "yanchor": "top"
         }
        ]
       }
      },
      "text/html": [
       "<div>                            <div id=\"824010dd-1308-4a17-a096-f770a10780aa\" class=\"plotly-graph-div\" style=\"height:525px; width:100%;\"></div>            <script type=\"text/javascript\">                require([\"plotly\"], function(Plotly) {                    window.PLOTLYENV=window.PLOTLYENV || {};                                    if (document.getElementById(\"824010dd-1308-4a17-a096-f770a10780aa\")) {                    Plotly.newPlot(                        \"824010dd-1308-4a17-a096-f770a10780aa\",                        [{\"marker\":{\"color\":\"rgb(0,0,128)\"},\"name\":\"Collisions\",\"x\":[2006,2007,2008,2009,2010,2011,2012,2013,2014,2015,2016,2017,2018,2019,2020],\"y\":[481,453,417,438,400,399,453,431,350,350,386,392,422,365,265],\"type\":\"scatter\"},{\"marker\":{\"color\":\"rgb(255, 69, 0)\"},\"name\":\"Fatal Collisions\",\"x\":[2006,2007,2008,2009,2010,2011,2012,2013,2014,2015,2016,2017,2018,2019,2020],\"y\":[57,47,51,45,42,34,44,63,51,65,76,62,66,63,40],\"type\":\"scatter\"}],                        {\"template\":{\"data\":{\"histogram2dcontour\":[{\"type\":\"histogram2dcontour\",\"colorbar\":{\"outlinewidth\":0,\"ticks\":\"\"},\"colorscale\":[[0.0,\"#0d0887\"],[0.1111111111111111,\"#46039f\"],[0.2222222222222222,\"#7201a8\"],[0.3333333333333333,\"#9c179e\"],[0.4444444444444444,\"#bd3786\"],[0.5555555555555556,\"#d8576b\"],[0.6666666666666666,\"#ed7953\"],[0.7777777777777778,\"#fb9f3a\"],[0.8888888888888888,\"#fdca26\"],[1.0,\"#f0f921\"]]}],\"choropleth\":[{\"type\":\"choropleth\",\"colorbar\":{\"outlinewidth\":0,\"ticks\":\"\"}}],\"histogram2d\":[{\"type\":\"histogram2d\",\"colorbar\":{\"outlinewidth\":0,\"ticks\":\"\"},\"colorscale\":[[0.0,\"#0d0887\"],[0.1111111111111111,\"#46039f\"],[0.2222222222222222,\"#7201a8\"],[0.3333333333333333,\"#9c179e\"],[0.4444444444444444,\"#bd3786\"],[0.5555555555555556,\"#d8576b\"],[0.6666666666666666,\"#ed7953\"],[0.7777777777777778,\"#fb9f3a\"],[0.8888888888888888,\"#fdca26\"],[1.0,\"#f0f921\"]]}],\"heatmap\":[{\"type\":\"heatmap\",\"colorbar\":{\"outlinewidth\":0,\"ticks\":\"\"},\"colorscale\":[[0.0,\"#0d0887\"],[0.1111111111111111,\"#46039f\"],[0.2222222222222222,\"#7201a8\"],[0.3333333333333333,\"#9c179e\"],[0.4444444444444444,\"#bd3786\"],[0.5555555555555556,\"#d8576b\"],[0.6666666666666666,\"#ed7953\"],[0.7777777777777778,\"#fb9f3a\"],[0.8888888888888888,\"#fdca26\"],[1.0,\"#f0f921\"]]}],\"heatmapgl\":[{\"type\":\"heatmapgl\",\"colorbar\":{\"outlinewidth\":0,\"ticks\":\"\"},\"colorscale\":[[0.0,\"#0d0887\"],[0.1111111111111111,\"#46039f\"],[0.2222222222222222,\"#7201a8\"],[0.3333333333333333,\"#9c179e\"],[0.4444444444444444,\"#bd3786\"],[0.5555555555555556,\"#d8576b\"],[0.6666666666666666,\"#ed7953\"],[0.7777777777777778,\"#fb9f3a\"],[0.8888888888888888,\"#fdca26\"],[1.0,\"#f0f921\"]]}],\"contourcarpet\":[{\"type\":\"contourcarpet\",\"colorbar\":{\"outlinewidth\":0,\"ticks\":\"\"}}],\"contour\":[{\"type\":\"contour\",\"colorbar\":{\"outlinewidth\":0,\"ticks\":\"\"},\"colorscale\":[[0.0,\"#0d0887\"],[0.1111111111111111,\"#46039f\"],[0.2222222222222222,\"#7201a8\"],[0.3333333333333333,\"#9c179e\"],[0.4444444444444444,\"#bd3786\"],[0.5555555555555556,\"#d8576b\"],[0.6666666666666666,\"#ed7953\"],[0.7777777777777778,\"#fb9f3a\"],[0.8888888888888888,\"#fdca26\"],[1.0,\"#f0f921\"]]}],\"surface\":[{\"type\":\"surface\",\"colorbar\":{\"outlinewidth\":0,\"ticks\":\"\"},\"colorscale\":[[0.0,\"#0d0887\"],[0.1111111111111111,\"#46039f\"],[0.2222222222222222,\"#7201a8\"],[0.3333333333333333,\"#9c179e\"],[0.4444444444444444,\"#bd3786\"],[0.5555555555555556,\"#d8576b\"],[0.6666666666666666,\"#ed7953\"],[0.7777777777777778,\"#fb9f3a\"],[0.8888888888888888,\"#fdca26\"],[1.0,\"#f0f921\"]]}],\"mesh3d\":[{\"type\":\"mesh3d\",\"colorbar\":{\"outlinewidth\":0,\"ticks\":\"\"}}],\"scatter\":[{\"fillpattern\":{\"fillmode\":\"overlay\",\"size\":10,\"solidity\":0.2},\"type\":\"scatter\"}],\"parcoords\":[{\"type\":\"parcoords\",\"line\":{\"colorbar\":{\"outlinewidth\":0,\"ticks\":\"\"}}}],\"scatterpolargl\":[{\"type\":\"scatterpolargl\",\"marker\":{\"colorbar\":{\"outlinewidth\":0,\"ticks\":\"\"}}}],\"bar\":[{\"error_x\":{\"color\":\"#2a3f5f\"},\"error_y\":{\"color\":\"#2a3f5f\"},\"marker\":{\"line\":{\"color\":\"#E5ECF6\",\"width\":0.5},\"pattern\":{\"fillmode\":\"overlay\",\"size\":10,\"solidity\":0.2}},\"type\":\"bar\"}],\"scattergeo\":[{\"type\":\"scattergeo\",\"marker\":{\"colorbar\":{\"outlinewidth\":0,\"ticks\":\"\"}}}],\"scatterpolar\":[{\"type\":\"scatterpolar\",\"marker\":{\"colorbar\":{\"outlinewidth\":0,\"ticks\":\"\"}}}],\"histogram\":[{\"marker\":{\"pattern\":{\"fillmode\":\"overlay\",\"size\":10,\"solidity\":0.2}},\"type\":\"histogram\"}],\"scattergl\":[{\"type\":\"scattergl\",\"marker\":{\"colorbar\":{\"outlinewidth\":0,\"ticks\":\"\"}}}],\"scatter3d\":[{\"type\":\"scatter3d\",\"line\":{\"colorbar\":{\"outlinewidth\":0,\"ticks\":\"\"}},\"marker\":{\"colorbar\":{\"outlinewidth\":0,\"ticks\":\"\"}}}],\"scattermapbox\":[{\"type\":\"scattermapbox\",\"marker\":{\"colorbar\":{\"outlinewidth\":0,\"ticks\":\"\"}}}],\"scatterternary\":[{\"type\":\"scatterternary\",\"marker\":{\"colorbar\":{\"outlinewidth\":0,\"ticks\":\"\"}}}],\"scattercarpet\":[{\"type\":\"scattercarpet\",\"marker\":{\"colorbar\":{\"outlinewidth\":0,\"ticks\":\"\"}}}],\"carpet\":[{\"aaxis\":{\"endlinecolor\":\"#2a3f5f\",\"gridcolor\":\"white\",\"linecolor\":\"white\",\"minorgridcolor\":\"white\",\"startlinecolor\":\"#2a3f5f\"},\"baxis\":{\"endlinecolor\":\"#2a3f5f\",\"gridcolor\":\"white\",\"linecolor\":\"white\",\"minorgridcolor\":\"white\",\"startlinecolor\":\"#2a3f5f\"},\"type\":\"carpet\"}],\"table\":[{\"cells\":{\"fill\":{\"color\":\"#EBF0F8\"},\"line\":{\"color\":\"white\"}},\"header\":{\"fill\":{\"color\":\"#C8D4E3\"},\"line\":{\"color\":\"white\"}},\"type\":\"table\"}],\"barpolar\":[{\"marker\":{\"line\":{\"color\":\"#E5ECF6\",\"width\":0.5},\"pattern\":{\"fillmode\":\"overlay\",\"size\":10,\"solidity\":0.2}},\"type\":\"barpolar\"}],\"pie\":[{\"automargin\":true,\"type\":\"pie\"}]},\"layout\":{\"autotypenumbers\":\"strict\",\"colorway\":[\"#636efa\",\"#EF553B\",\"#00cc96\",\"#ab63fa\",\"#FFA15A\",\"#19d3f3\",\"#FF6692\",\"#B6E880\",\"#FF97FF\",\"#FECB52\"],\"font\":{\"color\":\"#2a3f5f\"},\"hovermode\":\"closest\",\"hoverlabel\":{\"align\":\"left\"},\"paper_bgcolor\":\"white\",\"plot_bgcolor\":\"#E5ECF6\",\"polar\":{\"bgcolor\":\"#E5ECF6\",\"angularaxis\":{\"gridcolor\":\"white\",\"linecolor\":\"white\",\"ticks\":\"\"},\"radialaxis\":{\"gridcolor\":\"white\",\"linecolor\":\"white\",\"ticks\":\"\"}},\"ternary\":{\"bgcolor\":\"#E5ECF6\",\"aaxis\":{\"gridcolor\":\"white\",\"linecolor\":\"white\",\"ticks\":\"\"},\"baxis\":{\"gridcolor\":\"white\",\"linecolor\":\"white\",\"ticks\":\"\"},\"caxis\":{\"gridcolor\":\"white\",\"linecolor\":\"white\",\"ticks\":\"\"}},\"coloraxis\":{\"colorbar\":{\"outlinewidth\":0,\"ticks\":\"\"}},\"colorscale\":{\"sequential\":[[0.0,\"#0d0887\"],[0.1111111111111111,\"#46039f\"],[0.2222222222222222,\"#7201a8\"],[0.3333333333333333,\"#9c179e\"],[0.4444444444444444,\"#bd3786\"],[0.5555555555555556,\"#d8576b\"],[0.6666666666666666,\"#ed7953\"],[0.7777777777777778,\"#fb9f3a\"],[0.8888888888888888,\"#fdca26\"],[1.0,\"#f0f921\"]],\"sequentialminus\":[[0.0,\"#0d0887\"],[0.1111111111111111,\"#46039f\"],[0.2222222222222222,\"#7201a8\"],[0.3333333333333333,\"#9c179e\"],[0.4444444444444444,\"#bd3786\"],[0.5555555555555556,\"#d8576b\"],[0.6666666666666666,\"#ed7953\"],[0.7777777777777778,\"#fb9f3a\"],[0.8888888888888888,\"#fdca26\"],[1.0,\"#f0f921\"]],\"diverging\":[[0,\"#8e0152\"],[0.1,\"#c51b7d\"],[0.2,\"#de77ae\"],[0.3,\"#f1b6da\"],[0.4,\"#fde0ef\"],[0.5,\"#f7f7f7\"],[0.6,\"#e6f5d0\"],[0.7,\"#b8e186\"],[0.8,\"#7fbc41\"],[0.9,\"#4d9221\"],[1,\"#276419\"]]},\"xaxis\":{\"gridcolor\":\"white\",\"linecolor\":\"white\",\"ticks\":\"\",\"title\":{\"standoff\":15},\"zerolinecolor\":\"white\",\"automargin\":true,\"zerolinewidth\":2},\"yaxis\":{\"gridcolor\":\"white\",\"linecolor\":\"white\",\"ticks\":\"\",\"title\":{\"standoff\":15},\"zerolinecolor\":\"white\",\"automargin\":true,\"zerolinewidth\":2},\"scene\":{\"xaxis\":{\"backgroundcolor\":\"#E5ECF6\",\"gridcolor\":\"white\",\"linecolor\":\"white\",\"showbackground\":true,\"ticks\":\"\",\"zerolinecolor\":\"white\",\"gridwidth\":2},\"yaxis\":{\"backgroundcolor\":\"#E5ECF6\",\"gridcolor\":\"white\",\"linecolor\":\"white\",\"showbackground\":true,\"ticks\":\"\",\"zerolinecolor\":\"white\",\"gridwidth\":2},\"zaxis\":{\"backgroundcolor\":\"#E5ECF6\",\"gridcolor\":\"white\",\"linecolor\":\"white\",\"showbackground\":true,\"ticks\":\"\",\"zerolinecolor\":\"white\",\"gridwidth\":2}},\"shapedefaults\":{\"line\":{\"color\":\"#2a3f5f\"}},\"annotationdefaults\":{\"arrowcolor\":\"#2a3f5f\",\"arrowhead\":0,\"arrowwidth\":1},\"geo\":{\"bgcolor\":\"white\",\"landcolor\":\"#E5ECF6\",\"subunitcolor\":\"white\",\"showland\":true,\"showlakes\":true,\"lakecolor\":\"white\"},\"title\":{\"x\":0.05},\"mapbox\":{\"style\":\"light\"}}},\"legend\":{\"orientation\":\"h\"},\"title\":{\"text\":\"Collisions by Year (2006 - 2020)\"},\"updatemenus\":[{\"active\":0,\"bordercolor\":\"rgb(192,192,192)\",\"buttons\":[{\"args\":[{\"visible\":[true,false]},{\"title\":\"All Collisions from 2006 to 2020\",\"annotations\":[{\"x\":2006,\"y\":481,\"xref\":\"x\",\"yref\":\"y\",\"text\":\"481 Collisions <br> happend in 2006\",\"ax\":0,\"ay\":-40}]}],\"label\":\"All Collisions\",\"method\":\"update\"},{\"args\":[{\"visible\":[false,true]},{\"title\":\"Severe Collisions from 2006 to 2020\",\"annotations\":[{\"x\":2016,\"y\":76,\"xref\":\"x\",\"yref\":\"y\",\"text\":\"76 Fatal Collisions <br> happend in 2016\",\"ax\":0,\"ay\":-40}]}],\"label\":\"Severe Collisions\",\"method\":\"update\"}],\"x\":1,\"xanchor\":\"right\",\"y\":1.12,\"yanchor\":\"top\"}],\"plot_bgcolor\":\"#F5F5F5\"},                        {\"responsive\": true}                    ).then(function(){\n",
       "                            \n",
       "var gd = document.getElementById('824010dd-1308-4a17-a096-f770a10780aa');\n",
       "var x = new MutationObserver(function (mutations, observer) {{\n",
       "        var display = window.getComputedStyle(gd).display;\n",
       "        if (!display || display === 'none') {{\n",
       "            console.log([gd, 'removed!']);\n",
       "            Plotly.purge(gd);\n",
       "            observer.disconnect();\n",
       "        }}\n",
       "}});\n",
       "\n",
       "// Listen for the removal of the full notebook cells\n",
       "var notebookContainer = gd.closest('#notebook-container');\n",
       "if (notebookContainer) {{\n",
       "    x.observe(notebookContainer, {childList: true});\n",
       "}}\n",
       "\n",
       "// Listen for the clearing of the current output cell\n",
       "var outputEl = gd.closest('.output');\n",
       "if (outputEl) {{\n",
       "    x.observe(outputEl, {childList: true});\n",
       "}}\n",
       "\n",
       "                        })                };                });            </script>        </div>"
      ]
     },
     "metadata": {},
     "output_type": "display_data"
    }
   ],
   "source": [
    "data = [fatal_year[i] for i in ['All Collisions', 'Fatal Collisions']]\n",
    "names = [\"Collisions\", \"Fatal Collisions\"]\n",
    "colors = [\"rgb(0,0,128)\", \"rgb(255, 69, 0)\"]\n",
    "plot_data = zip(data, names, colors)\n",
    "\n",
    "# Create figures and annotations\n",
    "fig = go.Figure()\n",
    "annotation_list = []\n",
    "\n",
    "for item in plot_data:\n",
    "    fig.add_trace(\n",
    "    go.Scatter(\n",
    "        x=fatal_year.index,\n",
    "        y=item[0],\n",
    "        name=item[1],\n",
    "        marker_color=item[2]),\n",
    ")\n",
    "    \n",
    "    annotation_text = \"{:,.0f} {} <br> happend in {}\".format(\n",
    "        item[0].max(),\n",
    "        item[1],\n",
    "        item[0].idxmax())\n",
    "\n",
    "    annotation = [\n",
    "        dict(\n",
    "            x=item[0].idxmax(),\n",
    "            y=item[0].max(),\n",
    "            xref=\"x\", yref=\"y\",\n",
    "            text=annotation_text,\n",
    "            ax=0, \n",
    "            ay=-40)]\n",
    "\n",
    "    annotation_list.append(annotation)\n",
    "\n",
    "# Create drop-downs and plot\n",
    "fig.update_layout(\n",
    "    updatemenus=[\n",
    "        go.layout.Updatemenu(\n",
    "            active=0,\n",
    "            buttons=list([\n",
    "                dict(label=\"All Collisions\",\n",
    "                     method=\"update\",\n",
    "                     args=[{\"visible\": [True, False]},\n",
    "                           {\"title\": \"All Collisions from 2006 to 2020\",\n",
    "                            \"annotations\": annotation_list[0]}]),\n",
    "                dict(label=\"Severe Collisions\",\n",
    "                     method=\"update\",\n",
    "                     args=[{\"visible\": [False, True]},\n",
    "                           {\"title\": \"Severe Collisions from 2006 to 2020\",\n",
    "                            \"annotations\": annotation_list[1]}])]),\n",
    "            bordercolor=\"rgb(192,192,192)\",\n",
    "            x=1,\n",
    "            xanchor=\"right\",\n",
    "            y=1.12,\n",
    "            yanchor=\"top\"\n",
    "        )],\n",
    "    plot_bgcolor=\"#F5F5F5\",\n",
    "    legend_orientation=\"h\",\n",
    "    title_text=\"Collisions by Year (2006 - 2020)\")"
   ]
  },
  {
   "cell_type": "code",
   "execution_count": 43,
   "id": "b6b2ea9a",
   "metadata": {},
   "outputs": [],
   "source": [
    "# bike & ped collision\n",
    "def bike_ped(row):\n",
    "    if (row.CYCLIST == 'Yes') | (row.PEDESTRIAN == 'Yes'):\n",
    "        return 'YES'\n",
    "    else:\n",
    "        return 'NULL'\n",
    "df_seriously_injured['BIKE_PED_COLLISION'] = df_seriously_injured.apply(bike_ped, axis=1)"
   ]
  },
  {
   "cell_type": "code",
   "execution_count": 44,
   "id": "d11e9f75",
   "metadata": {},
   "outputs": [
    {
     "data": {
      "text/html": [
       "<div>\n",
       "<style scoped>\n",
       "    .dataframe tbody tr th:only-of-type {\n",
       "        vertical-align: middle;\n",
       "    }\n",
       "\n",
       "    .dataframe tbody tr th {\n",
       "        vertical-align: top;\n",
       "    }\n",
       "\n",
       "    .dataframe thead th {\n",
       "        text-align: right;\n",
       "    }\n",
       "</style>\n",
       "<table border=\"1\" class=\"dataframe\">\n",
       "  <thead>\n",
       "    <tr style=\"text-align: right;\">\n",
       "      <th></th>\n",
       "      <th>ACCNUM</th>\n",
       "      <th>ObjectId</th>\n",
       "      <th>INVTYPE</th>\n",
       "      <th>INVAGE</th>\n",
       "      <th>INJURY_ID</th>\n",
       "      <th>FATAL_NO</th>\n",
       "      <th>INITDIR</th>\n",
       "      <th>VEHTYPE</th>\n",
       "      <th>MANOEUVER</th>\n",
       "      <th>DRIVACT</th>\n",
       "      <th>DRIVCOND</th>\n",
       "      <th>PEDTYPE</th>\n",
       "      <th>PEDACT</th>\n",
       "      <th>PEDCOND</th>\n",
       "      <th>CYCLISTYPE</th>\n",
       "      <th>CYCACT</th>\n",
       "      <th>CYCCOND</th>\n",
       "      <th>PEDESTRIAN</th>\n",
       "      <th>CYCLIST</th>\n",
       "      <th>AUTOMOBILE</th>\n",
       "      <th>MOTORCYCLE</th>\n",
       "      <th>TRUCK</th>\n",
       "      <th>TRSN_CITY_VEH</th>\n",
       "      <th>EMERG_VEH</th>\n",
       "      <th>PASSENGER</th>\n",
       "      <th>SPEEDING</th>\n",
       "      <th>AG_DRIV</th>\n",
       "      <th>REDLIGHT</th>\n",
       "      <th>ALCOHOL</th>\n",
       "      <th>DISABILITY</th>\n",
       "      <th>YEAR</th>\n",
       "      <th>DATE</th>\n",
       "      <th>TIME</th>\n",
       "      <th>HOUR</th>\n",
       "      <th>STREET1</th>\n",
       "      <th>STREET2</th>\n",
       "      <th>OFFSET</th>\n",
       "      <th>ROAD_CLASS_ID</th>\n",
       "      <th>DISTRICT</th>\n",
       "      <th>WARDNUM</th>\n",
       "      <th>DIVISION</th>\n",
       "      <th>LOCCOORD</th>\n",
       "      <th>ACCLOC</th>\n",
       "      <th>TRAFFCTL</th>\n",
       "      <th>VISIBILITY</th>\n",
       "      <th>LIGHT</th>\n",
       "      <th>RDSFCOND</th>\n",
       "      <th>ACCLASS</th>\n",
       "      <th>IMPACTYPE</th>\n",
       "      <th>POLICE_DIVISION</th>\n",
       "      <th>HOOD_ID</th>\n",
       "      <th>NEIGHBOURHOOD</th>\n",
       "      <th>geometry2</th>\n",
       "      <th>Longitude</th>\n",
       "      <th>Latitude</th>\n",
       "      <th>BIKE_PED_COLLISION</th>\n",
       "    </tr>\n",
       "  </thead>\n",
       "  <tbody>\n",
       "    <tr>\n",
       "      <th>0</th>\n",
       "      <td>25301</td>\n",
       "      <td>16392</td>\n",
       "      <td>Driver</td>\n",
       "      <td>75 to 79</td>\n",
       "      <td>1.0</td>\n",
       "      <td>NaN</td>\n",
       "      <td>North</td>\n",
       "      <td>Automobile, Station Wagon</td>\n",
       "      <td>Going Ahead</td>\n",
       "      <td>Driving Properly</td>\n",
       "      <td>Normal</td>\n",
       "      <td>NaN</td>\n",
       "      <td>NaN</td>\n",
       "      <td>NaN</td>\n",
       "      <td>NaN</td>\n",
       "      <td>NaN</td>\n",
       "      <td>NaN</td>\n",
       "      <td>Yes</td>\n",
       "      <td>NaN</td>\n",
       "      <td>Yes</td>\n",
       "      <td>NaN</td>\n",
       "      <td>NaN</td>\n",
       "      <td>NaN</td>\n",
       "      <td>NaN</td>\n",
       "      <td>NaN</td>\n",
       "      <td>NaN</td>\n",
       "      <td>NaN</td>\n",
       "      <td>NaN</td>\n",
       "      <td>NaN</td>\n",
       "      <td>NaN</td>\n",
       "      <td>2020</td>\n",
       "      <td>2020-01-04</td>\n",
       "      <td>1850</td>\n",
       "      <td>18</td>\n",
       "      <td>EGLINTON AVE E</td>\n",
       "      <td>BAYVIEW AVE</td>\n",
       "      <td>9 m North of</td>\n",
       "      <td>1.0</td>\n",
       "      <td>North York</td>\n",
       "      <td>15.0</td>\n",
       "      <td>53.0</td>\n",
       "      <td>Intersection</td>\n",
       "      <td>Intersection Related</td>\n",
       "      <td>Traffic Signal</td>\n",
       "      <td>Rain</td>\n",
       "      <td>Dark</td>\n",
       "      <td>Wet</td>\n",
       "      <td>Non-Fatal Injury</td>\n",
       "      <td>Pedestrian Collisions</td>\n",
       "      <td>D53</td>\n",
       "      <td>56</td>\n",
       "      <td>Leaside-Bennington (56)</td>\n",
       "      <td>-79.377116, 43.710967</td>\n",
       "      <td>-79.3771</td>\n",
       "      <td>43.7109</td>\n",
       "      <td>YES</td>\n",
       "    </tr>\n",
       "    <tr>\n",
       "      <th>2</th>\n",
       "      <td>26294</td>\n",
       "      <td>16402</td>\n",
       "      <td>Pedestrian</td>\n",
       "      <td>65 to 69</td>\n",
       "      <td>2.0</td>\n",
       "      <td>1.0</td>\n",
       "      <td>East</td>\n",
       "      <td>NaN</td>\n",
       "      <td>NaN</td>\n",
       "      <td>NaN</td>\n",
       "      <td>NaN</td>\n",
       "      <td>Pedestrian hit at mid-block</td>\n",
       "      <td>Crossing, no Traffic Control</td>\n",
       "      <td>Unknown</td>\n",
       "      <td>NaN</td>\n",
       "      <td>NaN</td>\n",
       "      <td>NaN</td>\n",
       "      <td>Yes</td>\n",
       "      <td>NaN</td>\n",
       "      <td>Yes</td>\n",
       "      <td>NaN</td>\n",
       "      <td>NaN</td>\n",
       "      <td>NaN</td>\n",
       "      <td>NaN</td>\n",
       "      <td>NaN</td>\n",
       "      <td>NaN</td>\n",
       "      <td>NaN</td>\n",
       "      <td>NaN</td>\n",
       "      <td>NaN</td>\n",
       "      <td>NaN</td>\n",
       "      <td>2020</td>\n",
       "      <td>2020-01-04</td>\n",
       "      <td>2214</td>\n",
       "      <td>22</td>\n",
       "      <td>256 JARVIS ST</td>\n",
       "      <td>NaN</td>\n",
       "      <td>GERRARD ST E</td>\n",
       "      <td>1.0</td>\n",
       "      <td>Toronto and East York</td>\n",
       "      <td>13.0</td>\n",
       "      <td>51.0</td>\n",
       "      <td>Mid-Block</td>\n",
       "      <td>Non Intersection</td>\n",
       "      <td>No Control</td>\n",
       "      <td>Clear</td>\n",
       "      <td>Dark, artificial</td>\n",
       "      <td>Dry</td>\n",
       "      <td>Fatal</td>\n",
       "      <td>Pedestrian Collisions</td>\n",
       "      <td>D51</td>\n",
       "      <td>73</td>\n",
       "      <td>Moss Park (73)</td>\n",
       "      <td>-79.37556, 43.659568</td>\n",
       "      <td>-79.3755</td>\n",
       "      <td>43.6595</td>\n",
       "      <td>YES</td>\n",
       "    </tr>\n",
       "    <tr>\n",
       "      <th>4</th>\n",
       "      <td>37330</td>\n",
       "      <td>16506</td>\n",
       "      <td>Driver</td>\n",
       "      <td>50 to 54</td>\n",
       "      <td>1.0</td>\n",
       "      <td>NaN</td>\n",
       "      <td>West</td>\n",
       "      <td>Automobile, Station Wagon</td>\n",
       "      <td>Going Ahead</td>\n",
       "      <td>Failed to Yield Right of Way</td>\n",
       "      <td>Normal</td>\n",
       "      <td>NaN</td>\n",
       "      <td>NaN</td>\n",
       "      <td>NaN</td>\n",
       "      <td>NaN</td>\n",
       "      <td>NaN</td>\n",
       "      <td>NaN</td>\n",
       "      <td>Yes</td>\n",
       "      <td>NaN</td>\n",
       "      <td>Yes</td>\n",
       "      <td>NaN</td>\n",
       "      <td>NaN</td>\n",
       "      <td>NaN</td>\n",
       "      <td>NaN</td>\n",
       "      <td>NaN</td>\n",
       "      <td>NaN</td>\n",
       "      <td>Yes</td>\n",
       "      <td>NaN</td>\n",
       "      <td>NaN</td>\n",
       "      <td>NaN</td>\n",
       "      <td>2020</td>\n",
       "      <td>2020-01-06</td>\n",
       "      <td>1555</td>\n",
       "      <td>15</td>\n",
       "      <td>DUNDAS ST W</td>\n",
       "      <td>SHERIDAN AVE</td>\n",
       "      <td>6 m South of</td>\n",
       "      <td>3.0</td>\n",
       "      <td>Toronto East York</td>\n",
       "      <td>9.0</td>\n",
       "      <td>11.0</td>\n",
       "      <td>Intersection</td>\n",
       "      <td>At Intersection</td>\n",
       "      <td>Traffic Signal</td>\n",
       "      <td>Clear</td>\n",
       "      <td>Dawn, artificial</td>\n",
       "      <td>Dry</td>\n",
       "      <td>Non-Fatal Injury</td>\n",
       "      <td>Pedestrian Collisions</td>\n",
       "      <td>D11</td>\n",
       "      <td>84</td>\n",
       "      <td>Little Portugal (84)</td>\n",
       "      <td>-79.43365, 43.649699</td>\n",
       "      <td>-79.4336</td>\n",
       "      <td>43.6496</td>\n",
       "      <td>YES</td>\n",
       "    </tr>\n",
       "    <tr>\n",
       "      <th>6</th>\n",
       "      <td>45664</td>\n",
       "      <td>16513</td>\n",
       "      <td>Driver</td>\n",
       "      <td>50 to 54</td>\n",
       "      <td>5.0</td>\n",
       "      <td>NaN</td>\n",
       "      <td>East</td>\n",
       "      <td>Automobile, Station Wagon</td>\n",
       "      <td>Going Ahead</td>\n",
       "      <td>Driving Properly</td>\n",
       "      <td>Normal</td>\n",
       "      <td>NaN</td>\n",
       "      <td>NaN</td>\n",
       "      <td>NaN</td>\n",
       "      <td>NaN</td>\n",
       "      <td>NaN</td>\n",
       "      <td>NaN</td>\n",
       "      <td>NaN</td>\n",
       "      <td>NaN</td>\n",
       "      <td>Yes</td>\n",
       "      <td>NaN</td>\n",
       "      <td>NaN</td>\n",
       "      <td>NaN</td>\n",
       "      <td>NaN</td>\n",
       "      <td>Yes</td>\n",
       "      <td>NaN</td>\n",
       "      <td>Yes</td>\n",
       "      <td>NaN</td>\n",
       "      <td>NaN</td>\n",
       "      <td>NaN</td>\n",
       "      <td>2020</td>\n",
       "      <td>2020-01-07</td>\n",
       "      <td>1850</td>\n",
       "      <td>18</td>\n",
       "      <td>EGLINTON AVE E</td>\n",
       "      <td>PHARMACY AVE</td>\n",
       "      <td>NaN</td>\n",
       "      <td>1.0</td>\n",
       "      <td>Scarborough</td>\n",
       "      <td>NaN</td>\n",
       "      <td>41.0</td>\n",
       "      <td>Intersection</td>\n",
       "      <td>At Intersection</td>\n",
       "      <td>Traffic Signal</td>\n",
       "      <td>Clear</td>\n",
       "      <td>Dark</td>\n",
       "      <td>Dry</td>\n",
       "      <td>Non-Fatal Injury</td>\n",
       "      <td>Turning Movement</td>\n",
       "      <td>D41</td>\n",
       "      <td>120</td>\n",
       "      <td>Clairlea-Birchmount (120)</td>\n",
       "      <td>-79.297481, 43.725577</td>\n",
       "      <td>-79.2974</td>\n",
       "      <td>43.7255</td>\n",
       "      <td>NULL</td>\n",
       "    </tr>\n",
       "    <tr>\n",
       "      <th>9</th>\n",
       "      <td>56815</td>\n",
       "      <td>16515</td>\n",
       "      <td>Driver</td>\n",
       "      <td>45 to 49</td>\n",
       "      <td>1.0</td>\n",
       "      <td>NaN</td>\n",
       "      <td>South</td>\n",
       "      <td>Delivery Van</td>\n",
       "      <td>Going Ahead</td>\n",
       "      <td>Disobeyed Traffic Control</td>\n",
       "      <td>Inattentive</td>\n",
       "      <td>NaN</td>\n",
       "      <td>NaN</td>\n",
       "      <td>NaN</td>\n",
       "      <td>NaN</td>\n",
       "      <td>NaN</td>\n",
       "      <td>NaN</td>\n",
       "      <td>NaN</td>\n",
       "      <td>NaN</td>\n",
       "      <td>Yes</td>\n",
       "      <td>NaN</td>\n",
       "      <td>NaN</td>\n",
       "      <td>NaN</td>\n",
       "      <td>NaN</td>\n",
       "      <td>NaN</td>\n",
       "      <td>Yes</td>\n",
       "      <td>Yes</td>\n",
       "      <td>Yes</td>\n",
       "      <td>NaN</td>\n",
       "      <td>NaN</td>\n",
       "      <td>2020</td>\n",
       "      <td>2020-01-09</td>\n",
       "      <td>1100</td>\n",
       "      <td>11</td>\n",
       "      <td>MARTIN GROVE RD</td>\n",
       "      <td>BELFIELD RD</td>\n",
       "      <td>NaN</td>\n",
       "      <td>1.0</td>\n",
       "      <td>Etobicoke York</td>\n",
       "      <td>1.0</td>\n",
       "      <td>23.0</td>\n",
       "      <td>Intersection</td>\n",
       "      <td>At Intersection</td>\n",
       "      <td>Traffic Signal</td>\n",
       "      <td>Clear</td>\n",
       "      <td>Daylight</td>\n",
       "      <td>Dry</td>\n",
       "      <td>Non-Fatal Injury</td>\n",
       "      <td>Angle</td>\n",
       "      <td>D23</td>\n",
       "      <td>1</td>\n",
       "      <td>West Humber-Clairville (1)</td>\n",
       "      <td>-79.575588, 43.701876</td>\n",
       "      <td>-79.5755</td>\n",
       "      <td>43.7018</td>\n",
       "      <td>NULL</td>\n",
       "    </tr>\n",
       "  </tbody>\n",
       "</table>\n",
       "</div>"
      ],
      "text/plain": [
       "   ACCNUM  ObjectId     INVTYPE    INVAGE  INJURY_ID  FATAL_NO INITDIR  \\\n",
       "0   25301     16392      Driver  75 to 79        1.0       NaN   North   \n",
       "2   26294     16402  Pedestrian  65 to 69        2.0       1.0    East   \n",
       "4   37330     16506      Driver  50 to 54        1.0       NaN    West   \n",
       "6   45664     16513      Driver  50 to 54        5.0       NaN    East   \n",
       "9   56815     16515      Driver  45 to 49        1.0       NaN   South   \n",
       "\n",
       "                     VEHTYPE    MANOEUVER                       DRIVACT  \\\n",
       "0  Automobile, Station Wagon  Going Ahead              Driving Properly   \n",
       "2                        NaN          NaN                           NaN   \n",
       "4  Automobile, Station Wagon  Going Ahead  Failed to Yield Right of Way   \n",
       "6  Automobile, Station Wagon  Going Ahead              Driving Properly   \n",
       "9               Delivery Van  Going Ahead     Disobeyed Traffic Control   \n",
       "\n",
       "      DRIVCOND                      PEDTYPE                        PEDACT  \\\n",
       "0       Normal                          NaN                           NaN   \n",
       "2          NaN  Pedestrian hit at mid-block  Crossing, no Traffic Control   \n",
       "4       Normal                          NaN                           NaN   \n",
       "6       Normal                          NaN                           NaN   \n",
       "9  Inattentive                          NaN                           NaN   \n",
       "\n",
       "   PEDCOND CYCLISTYPE CYCACT CYCCOND PEDESTRIAN CYCLIST AUTOMOBILE MOTORCYCLE  \\\n",
       "0      NaN        NaN    NaN     NaN        Yes     NaN        Yes        NaN   \n",
       "2  Unknown        NaN    NaN     NaN        Yes     NaN        Yes        NaN   \n",
       "4      NaN        NaN    NaN     NaN        Yes     NaN        Yes        NaN   \n",
       "6      NaN        NaN    NaN     NaN        NaN     NaN        Yes        NaN   \n",
       "9      NaN        NaN    NaN     NaN        NaN     NaN        Yes        NaN   \n",
       "\n",
       "  TRUCK TRSN_CITY_VEH EMERG_VEH PASSENGER SPEEDING AG_DRIV REDLIGHT ALCOHOL  \\\n",
       "0   NaN           NaN       NaN       NaN      NaN     NaN      NaN     NaN   \n",
       "2   NaN           NaN       NaN       NaN      NaN     NaN      NaN     NaN   \n",
       "4   NaN           NaN       NaN       NaN      NaN     Yes      NaN     NaN   \n",
       "6   NaN           NaN       NaN       Yes      NaN     Yes      NaN     NaN   \n",
       "9   NaN           NaN       NaN       NaN      Yes     Yes      Yes     NaN   \n",
       "\n",
       "  DISABILITY  YEAR       DATE  TIME  HOUR          STREET1       STREET2  \\\n",
       "0        NaN  2020 2020-01-04  1850    18   EGLINTON AVE E   BAYVIEW AVE   \n",
       "2        NaN  2020 2020-01-04  2214    22    256 JARVIS ST           NaN   \n",
       "4        NaN  2020 2020-01-06  1555    15      DUNDAS ST W  SHERIDAN AVE   \n",
       "6        NaN  2020 2020-01-07  1850    18   EGLINTON AVE E  PHARMACY AVE   \n",
       "9        NaN  2020 2020-01-09  1100    11  MARTIN GROVE RD   BELFIELD RD   \n",
       "\n",
       "         OFFSET  ROAD_CLASS_ID               DISTRICT  WARDNUM  DIVISION  \\\n",
       "0  9 m North of            1.0             North York     15.0      53.0   \n",
       "2  GERRARD ST E            1.0  Toronto and East York     13.0      51.0   \n",
       "4  6 m South of            3.0      Toronto East York      9.0      11.0   \n",
       "6           NaN            1.0            Scarborough      NaN      41.0   \n",
       "9           NaN            1.0         Etobicoke York      1.0      23.0   \n",
       "\n",
       "       LOCCOORD                ACCLOC        TRAFFCTL VISIBILITY  \\\n",
       "0  Intersection  Intersection Related  Traffic Signal       Rain   \n",
       "2     Mid-Block      Non Intersection      No Control      Clear   \n",
       "4  Intersection       At Intersection  Traffic Signal      Clear   \n",
       "6  Intersection       At Intersection  Traffic Signal      Clear   \n",
       "9  Intersection       At Intersection  Traffic Signal      Clear   \n",
       "\n",
       "              LIGHT RDSFCOND           ACCLASS              IMPACTYPE  \\\n",
       "0              Dark      Wet  Non-Fatal Injury  Pedestrian Collisions   \n",
       "2  Dark, artificial      Dry             Fatal  Pedestrian Collisions   \n",
       "4  Dawn, artificial      Dry  Non-Fatal Injury  Pedestrian Collisions   \n",
       "6              Dark      Dry  Non-Fatal Injury       Turning Movement   \n",
       "9          Daylight      Dry  Non-Fatal Injury                  Angle   \n",
       "\n",
       "  POLICE_DIVISION  HOOD_ID               NEIGHBOURHOOD              geometry2  \\\n",
       "0             D53       56     Leaside-Bennington (56)  -79.377116, 43.710967   \n",
       "2             D51       73              Moss Park (73)   -79.37556, 43.659568   \n",
       "4             D11       84        Little Portugal (84)   -79.43365, 43.649699   \n",
       "6             D41      120   Clairlea-Birchmount (120)  -79.297481, 43.725577   \n",
       "9             D23        1  West Humber-Clairville (1)  -79.575588, 43.701876   \n",
       "\n",
       "   Longitude  Latitude BIKE_PED_COLLISION  \n",
       "0   -79.3771   43.7109                YES  \n",
       "2   -79.3755   43.6595                YES  \n",
       "4   -79.4336   43.6496                YES  \n",
       "6   -79.2974   43.7255               NULL  \n",
       "9   -79.5755   43.7018               NULL  "
      ]
     },
     "execution_count": 44,
     "metadata": {},
     "output_type": "execute_result"
    }
   ],
   "source": [
    "df_seriously_injured.head()"
   ]
  },
  {
   "cell_type": "code",
   "execution_count": null,
   "id": "9fd4eafd",
   "metadata": {},
   "outputs": [],
   "source": [
    "#Bike & ped collisions by year"
   ]
  },
  {
   "cell_type": "code",
   "execution_count": 46,
   "id": "ac47229d",
   "metadata": {},
   "outputs": [
    {
     "data": {
      "text/html": [
       "<div>\n",
       "<style scoped>\n",
       "    .dataframe tbody tr th:only-of-type {\n",
       "        vertical-align: middle;\n",
       "    }\n",
       "\n",
       "    .dataframe tbody tr th {\n",
       "        vertical-align: top;\n",
       "    }\n",
       "\n",
       "    .dataframe thead th {\n",
       "        text-align: right;\n",
       "    }\n",
       "</style>\n",
       "<table border=\"1\" class=\"dataframe\">\n",
       "  <thead>\n",
       "    <tr style=\"text-align: right;\">\n",
       "      <th></th>\n",
       "      <th>Bike &amp; Ped Collision</th>\n",
       "      <th>Fatal Collisions</th>\n",
       "      <th>Percent BP Fatal Collisions</th>\n",
       "    </tr>\n",
       "    <tr>\n",
       "      <th>YEAR</th>\n",
       "      <th></th>\n",
       "      <th></th>\n",
       "      <th></th>\n",
       "    </tr>\n",
       "  </thead>\n",
       "  <tbody>\n",
       "    <tr>\n",
       "      <th>2006</th>\n",
       "      <td>267</td>\n",
       "      <td>33</td>\n",
       "      <td>0.123596</td>\n",
       "    </tr>\n",
       "    <tr>\n",
       "      <th>2007</th>\n",
       "      <td>226</td>\n",
       "      <td>25</td>\n",
       "      <td>0.110619</td>\n",
       "    </tr>\n",
       "    <tr>\n",
       "      <th>2008</th>\n",
       "      <td>223</td>\n",
       "      <td>28</td>\n",
       "      <td>0.125561</td>\n",
       "    </tr>\n",
       "    <tr>\n",
       "      <th>2009</th>\n",
       "      <td>245</td>\n",
       "      <td>32</td>\n",
       "      <td>0.130612</td>\n",
       "    </tr>\n",
       "    <tr>\n",
       "      <th>2010</th>\n",
       "      <td>227</td>\n",
       "      <td>22</td>\n",
       "      <td>0.096916</td>\n",
       "    </tr>\n",
       "    <tr>\n",
       "      <th>2011</th>\n",
       "      <td>240</td>\n",
       "      <td>20</td>\n",
       "      <td>0.083333</td>\n",
       "    </tr>\n",
       "    <tr>\n",
       "      <th>2012</th>\n",
       "      <td>274</td>\n",
       "      <td>27</td>\n",
       "      <td>0.098540</td>\n",
       "    </tr>\n",
       "    <tr>\n",
       "      <th>2013</th>\n",
       "      <td>273</td>\n",
       "      <td>46</td>\n",
       "      <td>0.168498</td>\n",
       "    </tr>\n",
       "    <tr>\n",
       "      <th>2014</th>\n",
       "      <td>191</td>\n",
       "      <td>34</td>\n",
       "      <td>0.178010</td>\n",
       "    </tr>\n",
       "    <tr>\n",
       "      <th>2015</th>\n",
       "      <td>195</td>\n",
       "      <td>43</td>\n",
       "      <td>0.220513</td>\n",
       "    </tr>\n",
       "    <tr>\n",
       "      <th>2016</th>\n",
       "      <td>212</td>\n",
       "      <td>45</td>\n",
       "      <td>0.212264</td>\n",
       "    </tr>\n",
       "    <tr>\n",
       "      <th>2017</th>\n",
       "      <td>222</td>\n",
       "      <td>40</td>\n",
       "      <td>0.180180</td>\n",
       "    </tr>\n",
       "    <tr>\n",
       "      <th>2018</th>\n",
       "      <td>252</td>\n",
       "      <td>45</td>\n",
       "      <td>0.178571</td>\n",
       "    </tr>\n",
       "    <tr>\n",
       "      <th>2019</th>\n",
       "      <td>214</td>\n",
       "      <td>39</td>\n",
       "      <td>0.182243</td>\n",
       "    </tr>\n",
       "    <tr>\n",
       "      <th>2020</th>\n",
       "      <td>157</td>\n",
       "      <td>25</td>\n",
       "      <td>0.159236</td>\n",
       "    </tr>\n",
       "  </tbody>\n",
       "</table>\n",
       "</div>"
      ],
      "text/plain": [
       "      Bike & Ped Collision  Fatal Collisions  Percent BP Fatal Collisions\n",
       "YEAR                                                                     \n",
       "2006                   267                33                     0.123596\n",
       "2007                   226                25                     0.110619\n",
       "2008                   223                28                     0.125561\n",
       "2009                   245                32                     0.130612\n",
       "2010                   227                22                     0.096916\n",
       "2011                   240                20                     0.083333\n",
       "2012                   274                27                     0.098540\n",
       "2013                   273                46                     0.168498\n",
       "2014                   191                34                     0.178010\n",
       "2015                   195                43                     0.220513\n",
       "2016                   212                45                     0.212264\n",
       "2017                   222                40                     0.180180\n",
       "2018                   252                45                     0.178571\n",
       "2019                   214                39                     0.182243\n",
       "2020                   157                25                     0.159236"
      ]
     },
     "execution_count": 46,
     "metadata": {},
     "output_type": "execute_result"
    }
   ],
   "source": [
    "bp_collision = df_seriously_injured[df_seriously_injured.BIKE_PED_COLLISION=='YES'][['YEAR', 'BIKE_PED_COLLISION', 'ACCLASS']]\n",
    "bp_collision = bp_collision.groupby('YEAR').agg({\n",
    "    'BIKE_PED_COLLISION': 'count',\n",
    "    'ACCLASS': lambda x: (x=='Fatal').sum()\n",
    "    }\n",
    ")\n",
    "\n",
    "bp_collision['Percent BP Fatal Collisions'] = bp_collision.ACCLASS / bp_collision.BIKE_PED_COLLISION\n",
    "bp_collision.rename(columns={\n",
    "    'BIKE_PED_COLLISION': 'Bike & Ped Collision',\n",
    "    'ACCLASS': 'Fatal Collisions'\n",
    "    }, inplace=True\n",
    ")\n",
    "\n",
    "bp_collision"
   ]
  },
  {
   "cell_type": "code",
   "execution_count": 47,
   "id": "bb84745e",
   "metadata": {},
   "outputs": [
    {
     "data": {
      "text/html": [
       "<div>\n",
       "<style scoped>\n",
       "    .dataframe tbody tr th:only-of-type {\n",
       "        vertical-align: middle;\n",
       "    }\n",
       "\n",
       "    .dataframe tbody tr th {\n",
       "        vertical-align: top;\n",
       "    }\n",
       "\n",
       "    .dataframe thead th {\n",
       "        text-align: right;\n",
       "    }\n",
       "</style>\n",
       "<table border=\"1\" class=\"dataframe\">\n",
       "  <thead>\n",
       "    <tr style=\"text-align: right;\">\n",
       "      <th></th>\n",
       "      <th>Bike &amp; Ped Collision</th>\n",
       "      <th>Fatal Collisions</th>\n",
       "      <th>Percent BP Fatal Collisions</th>\n",
       "      <th>All Collisions</th>\n",
       "      <th>Fatal Collisions</th>\n",
       "      <th>Percent of Fatal Collisions</th>\n",
       "    </tr>\n",
       "    <tr>\n",
       "      <th>YEAR</th>\n",
       "      <th></th>\n",
       "      <th></th>\n",
       "      <th></th>\n",
       "      <th></th>\n",
       "      <th></th>\n",
       "      <th></th>\n",
       "    </tr>\n",
       "  </thead>\n",
       "  <tbody>\n",
       "    <tr>\n",
       "      <th>2006</th>\n",
       "      <td>267</td>\n",
       "      <td>33</td>\n",
       "      <td>0.123596</td>\n",
       "      <td>481</td>\n",
       "      <td>57</td>\n",
       "      <td>0.118503</td>\n",
       "    </tr>\n",
       "    <tr>\n",
       "      <th>2007</th>\n",
       "      <td>226</td>\n",
       "      <td>25</td>\n",
       "      <td>0.110619</td>\n",
       "      <td>453</td>\n",
       "      <td>47</td>\n",
       "      <td>0.103753</td>\n",
       "    </tr>\n",
       "    <tr>\n",
       "      <th>2008</th>\n",
       "      <td>223</td>\n",
       "      <td>28</td>\n",
       "      <td>0.125561</td>\n",
       "      <td>417</td>\n",
       "      <td>51</td>\n",
       "      <td>0.122302</td>\n",
       "    </tr>\n",
       "    <tr>\n",
       "      <th>2009</th>\n",
       "      <td>245</td>\n",
       "      <td>32</td>\n",
       "      <td>0.130612</td>\n",
       "      <td>438</td>\n",
       "      <td>45</td>\n",
       "      <td>0.102740</td>\n",
       "    </tr>\n",
       "    <tr>\n",
       "      <th>2010</th>\n",
       "      <td>227</td>\n",
       "      <td>22</td>\n",
       "      <td>0.096916</td>\n",
       "      <td>400</td>\n",
       "      <td>42</td>\n",
       "      <td>0.105000</td>\n",
       "    </tr>\n",
       "    <tr>\n",
       "      <th>2011</th>\n",
       "      <td>240</td>\n",
       "      <td>20</td>\n",
       "      <td>0.083333</td>\n",
       "      <td>399</td>\n",
       "      <td>34</td>\n",
       "      <td>0.085213</td>\n",
       "    </tr>\n",
       "    <tr>\n",
       "      <th>2012</th>\n",
       "      <td>274</td>\n",
       "      <td>27</td>\n",
       "      <td>0.098540</td>\n",
       "      <td>453</td>\n",
       "      <td>44</td>\n",
       "      <td>0.097130</td>\n",
       "    </tr>\n",
       "    <tr>\n",
       "      <th>2013</th>\n",
       "      <td>273</td>\n",
       "      <td>46</td>\n",
       "      <td>0.168498</td>\n",
       "      <td>431</td>\n",
       "      <td>63</td>\n",
       "      <td>0.146172</td>\n",
       "    </tr>\n",
       "    <tr>\n",
       "      <th>2014</th>\n",
       "      <td>191</td>\n",
       "      <td>34</td>\n",
       "      <td>0.178010</td>\n",
       "      <td>350</td>\n",
       "      <td>51</td>\n",
       "      <td>0.145714</td>\n",
       "    </tr>\n",
       "    <tr>\n",
       "      <th>2015</th>\n",
       "      <td>195</td>\n",
       "      <td>43</td>\n",
       "      <td>0.220513</td>\n",
       "      <td>350</td>\n",
       "      <td>65</td>\n",
       "      <td>0.185714</td>\n",
       "    </tr>\n",
       "    <tr>\n",
       "      <th>2016</th>\n",
       "      <td>212</td>\n",
       "      <td>45</td>\n",
       "      <td>0.212264</td>\n",
       "      <td>386</td>\n",
       "      <td>76</td>\n",
       "      <td>0.196891</td>\n",
       "    </tr>\n",
       "    <tr>\n",
       "      <th>2017</th>\n",
       "      <td>222</td>\n",
       "      <td>40</td>\n",
       "      <td>0.180180</td>\n",
       "      <td>392</td>\n",
       "      <td>62</td>\n",
       "      <td>0.158163</td>\n",
       "    </tr>\n",
       "    <tr>\n",
       "      <th>2018</th>\n",
       "      <td>252</td>\n",
       "      <td>45</td>\n",
       "      <td>0.178571</td>\n",
       "      <td>422</td>\n",
       "      <td>66</td>\n",
       "      <td>0.156398</td>\n",
       "    </tr>\n",
       "    <tr>\n",
       "      <th>2019</th>\n",
       "      <td>214</td>\n",
       "      <td>39</td>\n",
       "      <td>0.182243</td>\n",
       "      <td>365</td>\n",
       "      <td>63</td>\n",
       "      <td>0.172603</td>\n",
       "    </tr>\n",
       "    <tr>\n",
       "      <th>2020</th>\n",
       "      <td>157</td>\n",
       "      <td>25</td>\n",
       "      <td>0.159236</td>\n",
       "      <td>265</td>\n",
       "      <td>40</td>\n",
       "      <td>0.150943</td>\n",
       "    </tr>\n",
       "  </tbody>\n",
       "</table>\n",
       "</div>"
      ],
      "text/plain": [
       "      Bike & Ped Collision  Fatal Collisions  Percent BP Fatal Collisions  \\\n",
       "YEAR                                                                        \n",
       "2006                   267                33                     0.123596   \n",
       "2007                   226                25                     0.110619   \n",
       "2008                   223                28                     0.125561   \n",
       "2009                   245                32                     0.130612   \n",
       "2010                   227                22                     0.096916   \n",
       "2011                   240                20                     0.083333   \n",
       "2012                   274                27                     0.098540   \n",
       "2013                   273                46                     0.168498   \n",
       "2014                   191                34                     0.178010   \n",
       "2015                   195                43                     0.220513   \n",
       "2016                   212                45                     0.212264   \n",
       "2017                   222                40                     0.180180   \n",
       "2018                   252                45                     0.178571   \n",
       "2019                   214                39                     0.182243   \n",
       "2020                   157                25                     0.159236   \n",
       "\n",
       "      All Collisions  Fatal Collisions  Percent of Fatal Collisions  \n",
       "YEAR                                                                 \n",
       "2006             481                57                     0.118503  \n",
       "2007             453                47                     0.103753  \n",
       "2008             417                51                     0.122302  \n",
       "2009             438                45                     0.102740  \n",
       "2010             400                42                     0.105000  \n",
       "2011             399                34                     0.085213  \n",
       "2012             453                44                     0.097130  \n",
       "2013             431                63                     0.146172  \n",
       "2014             350                51                     0.145714  \n",
       "2015             350                65                     0.185714  \n",
       "2016             386                76                     0.196891  \n",
       "2017             392                62                     0.158163  \n",
       "2018             422                66                     0.156398  \n",
       "2019             365                63                     0.172603  \n",
       "2020             265                40                     0.150943  "
      ]
     },
     "execution_count": 47,
     "metadata": {},
     "output_type": "execute_result"
    }
   ],
   "source": [
    "# Concatenate with all collisions\n",
    "collision_compare = pd.concat([bp_collision, fatal_year], axis=1)\n",
    "collision_compare"
   ]
  },
  {
   "cell_type": "code",
   "execution_count": 48,
   "id": "c5745765",
   "metadata": {},
   "outputs": [
    {
     "data": {
      "application/vnd.plotly.v1+json": {
       "config": {
        "plotlyServerURL": "https://plot.ly"
       },
       "data": [
        {
         "hoverinfo": "y",
         "marker": {
          "color": "rgb(250, 128, 114)"
         },
         "name": "% Severe bike & ped collisions",
         "type": "scatter",
         "x": [
          2006,
          2007,
          2008,
          2009,
          2010,
          2011,
          2012,
          2013,
          2014,
          2015,
          2016,
          2017,
          2018,
          2019,
          2020
         ],
         "y": [
          0.12359550561797752,
          0.11061946902654868,
          0.12556053811659193,
          0.1306122448979592,
          0.09691629955947137,
          0.08333333333333333,
          0.09854014598540146,
          0.1684981684981685,
          0.17801047120418848,
          0.2205128205128205,
          0.21226415094339623,
          0.18018018018018017,
          0.17857142857142858,
          0.1822429906542056,
          0.1592356687898089
         ]
        },
        {
         "hoverinfo": "y",
         "marker": {
          "color": "rgb(255, 165, 0)"
         },
         "name": "% Severe collisions",
         "type": "scatter",
         "x": [
          2006,
          2007,
          2008,
          2009,
          2010,
          2011,
          2012,
          2013,
          2014,
          2015,
          2016,
          2017,
          2018,
          2019,
          2020
         ],
         "y": [
          0.11850311850311851,
          0.10375275938189846,
          0.1223021582733813,
          0.10273972602739725,
          0.105,
          0.08521303258145363,
          0.09713024282560706,
          0.14617169373549885,
          0.1457142857142857,
          0.18571428571428572,
          0.19689119170984457,
          0.15816326530612246,
          0.15639810426540285,
          0.1726027397260274,
          0.1509433962264151
         ]
        }
       ],
       "layout": {
        "bargap": 0.25,
        "bargroupgap": 0.1,
        "barmode": "group",
        "legend": {
         "orientation": "h"
        },
        "template": {
         "data": {
          "bar": [
           {
            "error_x": {
             "color": "#2a3f5f"
            },
            "error_y": {
             "color": "#2a3f5f"
            },
            "marker": {
             "line": {
              "color": "#E5ECF6",
              "width": 0.5
             },
             "pattern": {
              "fillmode": "overlay",
              "size": 10,
              "solidity": 0.2
             }
            },
            "type": "bar"
           }
          ],
          "barpolar": [
           {
            "marker": {
             "line": {
              "color": "#E5ECF6",
              "width": 0.5
             },
             "pattern": {
              "fillmode": "overlay",
              "size": 10,
              "solidity": 0.2
             }
            },
            "type": "barpolar"
           }
          ],
          "carpet": [
           {
            "aaxis": {
             "endlinecolor": "#2a3f5f",
             "gridcolor": "white",
             "linecolor": "white",
             "minorgridcolor": "white",
             "startlinecolor": "#2a3f5f"
            },
            "baxis": {
             "endlinecolor": "#2a3f5f",
             "gridcolor": "white",
             "linecolor": "white",
             "minorgridcolor": "white",
             "startlinecolor": "#2a3f5f"
            },
            "type": "carpet"
           }
          ],
          "choropleth": [
           {
            "colorbar": {
             "outlinewidth": 0,
             "ticks": ""
            },
            "type": "choropleth"
           }
          ],
          "contour": [
           {
            "colorbar": {
             "outlinewidth": 0,
             "ticks": ""
            },
            "colorscale": [
             [
              0,
              "#0d0887"
             ],
             [
              0.1111111111111111,
              "#46039f"
             ],
             [
              0.2222222222222222,
              "#7201a8"
             ],
             [
              0.3333333333333333,
              "#9c179e"
             ],
             [
              0.4444444444444444,
              "#bd3786"
             ],
             [
              0.5555555555555556,
              "#d8576b"
             ],
             [
              0.6666666666666666,
              "#ed7953"
             ],
             [
              0.7777777777777778,
              "#fb9f3a"
             ],
             [
              0.8888888888888888,
              "#fdca26"
             ],
             [
              1,
              "#f0f921"
             ]
            ],
            "type": "contour"
           }
          ],
          "contourcarpet": [
           {
            "colorbar": {
             "outlinewidth": 0,
             "ticks": ""
            },
            "type": "contourcarpet"
           }
          ],
          "heatmap": [
           {
            "colorbar": {
             "outlinewidth": 0,
             "ticks": ""
            },
            "colorscale": [
             [
              0,
              "#0d0887"
             ],
             [
              0.1111111111111111,
              "#46039f"
             ],
             [
              0.2222222222222222,
              "#7201a8"
             ],
             [
              0.3333333333333333,
              "#9c179e"
             ],
             [
              0.4444444444444444,
              "#bd3786"
             ],
             [
              0.5555555555555556,
              "#d8576b"
             ],
             [
              0.6666666666666666,
              "#ed7953"
             ],
             [
              0.7777777777777778,
              "#fb9f3a"
             ],
             [
              0.8888888888888888,
              "#fdca26"
             ],
             [
              1,
              "#f0f921"
             ]
            ],
            "type": "heatmap"
           }
          ],
          "heatmapgl": [
           {
            "colorbar": {
             "outlinewidth": 0,
             "ticks": ""
            },
            "colorscale": [
             [
              0,
              "#0d0887"
             ],
             [
              0.1111111111111111,
              "#46039f"
             ],
             [
              0.2222222222222222,
              "#7201a8"
             ],
             [
              0.3333333333333333,
              "#9c179e"
             ],
             [
              0.4444444444444444,
              "#bd3786"
             ],
             [
              0.5555555555555556,
              "#d8576b"
             ],
             [
              0.6666666666666666,
              "#ed7953"
             ],
             [
              0.7777777777777778,
              "#fb9f3a"
             ],
             [
              0.8888888888888888,
              "#fdca26"
             ],
             [
              1,
              "#f0f921"
             ]
            ],
            "type": "heatmapgl"
           }
          ],
          "histogram": [
           {
            "marker": {
             "pattern": {
              "fillmode": "overlay",
              "size": 10,
              "solidity": 0.2
             }
            },
            "type": "histogram"
           }
          ],
          "histogram2d": [
           {
            "colorbar": {
             "outlinewidth": 0,
             "ticks": ""
            },
            "colorscale": [
             [
              0,
              "#0d0887"
             ],
             [
              0.1111111111111111,
              "#46039f"
             ],
             [
              0.2222222222222222,
              "#7201a8"
             ],
             [
              0.3333333333333333,
              "#9c179e"
             ],
             [
              0.4444444444444444,
              "#bd3786"
             ],
             [
              0.5555555555555556,
              "#d8576b"
             ],
             [
              0.6666666666666666,
              "#ed7953"
             ],
             [
              0.7777777777777778,
              "#fb9f3a"
             ],
             [
              0.8888888888888888,
              "#fdca26"
             ],
             [
              1,
              "#f0f921"
             ]
            ],
            "type": "histogram2d"
           }
          ],
          "histogram2dcontour": [
           {
            "colorbar": {
             "outlinewidth": 0,
             "ticks": ""
            },
            "colorscale": [
             [
              0,
              "#0d0887"
             ],
             [
              0.1111111111111111,
              "#46039f"
             ],
             [
              0.2222222222222222,
              "#7201a8"
             ],
             [
              0.3333333333333333,
              "#9c179e"
             ],
             [
              0.4444444444444444,
              "#bd3786"
             ],
             [
              0.5555555555555556,
              "#d8576b"
             ],
             [
              0.6666666666666666,
              "#ed7953"
             ],
             [
              0.7777777777777778,
              "#fb9f3a"
             ],
             [
              0.8888888888888888,
              "#fdca26"
             ],
             [
              1,
              "#f0f921"
             ]
            ],
            "type": "histogram2dcontour"
           }
          ],
          "mesh3d": [
           {
            "colorbar": {
             "outlinewidth": 0,
             "ticks": ""
            },
            "type": "mesh3d"
           }
          ],
          "parcoords": [
           {
            "line": {
             "colorbar": {
              "outlinewidth": 0,
              "ticks": ""
             }
            },
            "type": "parcoords"
           }
          ],
          "pie": [
           {
            "automargin": true,
            "type": "pie"
           }
          ],
          "scatter": [
           {
            "fillpattern": {
             "fillmode": "overlay",
             "size": 10,
             "solidity": 0.2
            },
            "type": "scatter"
           }
          ],
          "scatter3d": [
           {
            "line": {
             "colorbar": {
              "outlinewidth": 0,
              "ticks": ""
             }
            },
            "marker": {
             "colorbar": {
              "outlinewidth": 0,
              "ticks": ""
             }
            },
            "type": "scatter3d"
           }
          ],
          "scattercarpet": [
           {
            "marker": {
             "colorbar": {
              "outlinewidth": 0,
              "ticks": ""
             }
            },
            "type": "scattercarpet"
           }
          ],
          "scattergeo": [
           {
            "marker": {
             "colorbar": {
              "outlinewidth": 0,
              "ticks": ""
             }
            },
            "type": "scattergeo"
           }
          ],
          "scattergl": [
           {
            "marker": {
             "colorbar": {
              "outlinewidth": 0,
              "ticks": ""
             }
            },
            "type": "scattergl"
           }
          ],
          "scattermapbox": [
           {
            "marker": {
             "colorbar": {
              "outlinewidth": 0,
              "ticks": ""
             }
            },
            "type": "scattermapbox"
           }
          ],
          "scatterpolar": [
           {
            "marker": {
             "colorbar": {
              "outlinewidth": 0,
              "ticks": ""
             }
            },
            "type": "scatterpolar"
           }
          ],
          "scatterpolargl": [
           {
            "marker": {
             "colorbar": {
              "outlinewidth": 0,
              "ticks": ""
             }
            },
            "type": "scatterpolargl"
           }
          ],
          "scatterternary": [
           {
            "marker": {
             "colorbar": {
              "outlinewidth": 0,
              "ticks": ""
             }
            },
            "type": "scatterternary"
           }
          ],
          "surface": [
           {
            "colorbar": {
             "outlinewidth": 0,
             "ticks": ""
            },
            "colorscale": [
             [
              0,
              "#0d0887"
             ],
             [
              0.1111111111111111,
              "#46039f"
             ],
             [
              0.2222222222222222,
              "#7201a8"
             ],
             [
              0.3333333333333333,
              "#9c179e"
             ],
             [
              0.4444444444444444,
              "#bd3786"
             ],
             [
              0.5555555555555556,
              "#d8576b"
             ],
             [
              0.6666666666666666,
              "#ed7953"
             ],
             [
              0.7777777777777778,
              "#fb9f3a"
             ],
             [
              0.8888888888888888,
              "#fdca26"
             ],
             [
              1,
              "#f0f921"
             ]
            ],
            "type": "surface"
           }
          ],
          "table": [
           {
            "cells": {
             "fill": {
              "color": "#EBF0F8"
             },
             "line": {
              "color": "white"
             }
            },
            "header": {
             "fill": {
              "color": "#C8D4E3"
             },
             "line": {
              "color": "white"
             }
            },
            "type": "table"
           }
          ]
         },
         "layout": {
          "annotationdefaults": {
           "arrowcolor": "#2a3f5f",
           "arrowhead": 0,
           "arrowwidth": 1
          },
          "autotypenumbers": "strict",
          "coloraxis": {
           "colorbar": {
            "outlinewidth": 0,
            "ticks": ""
           }
          },
          "colorscale": {
           "diverging": [
            [
             0,
             "#8e0152"
            ],
            [
             0.1,
             "#c51b7d"
            ],
            [
             0.2,
             "#de77ae"
            ],
            [
             0.3,
             "#f1b6da"
            ],
            [
             0.4,
             "#fde0ef"
            ],
            [
             0.5,
             "#f7f7f7"
            ],
            [
             0.6,
             "#e6f5d0"
            ],
            [
             0.7,
             "#b8e186"
            ],
            [
             0.8,
             "#7fbc41"
            ],
            [
             0.9,
             "#4d9221"
            ],
            [
             1,
             "#276419"
            ]
           ],
           "sequential": [
            [
             0,
             "#0d0887"
            ],
            [
             0.1111111111111111,
             "#46039f"
            ],
            [
             0.2222222222222222,
             "#7201a8"
            ],
            [
             0.3333333333333333,
             "#9c179e"
            ],
            [
             0.4444444444444444,
             "#bd3786"
            ],
            [
             0.5555555555555556,
             "#d8576b"
            ],
            [
             0.6666666666666666,
             "#ed7953"
            ],
            [
             0.7777777777777778,
             "#fb9f3a"
            ],
            [
             0.8888888888888888,
             "#fdca26"
            ],
            [
             1,
             "#f0f921"
            ]
           ],
           "sequentialminus": [
            [
             0,
             "#0d0887"
            ],
            [
             0.1111111111111111,
             "#46039f"
            ],
            [
             0.2222222222222222,
             "#7201a8"
            ],
            [
             0.3333333333333333,
             "#9c179e"
            ],
            [
             0.4444444444444444,
             "#bd3786"
            ],
            [
             0.5555555555555556,
             "#d8576b"
            ],
            [
             0.6666666666666666,
             "#ed7953"
            ],
            [
             0.7777777777777778,
             "#fb9f3a"
            ],
            [
             0.8888888888888888,
             "#fdca26"
            ],
            [
             1,
             "#f0f921"
            ]
           ]
          },
          "colorway": [
           "#636efa",
           "#EF553B",
           "#00cc96",
           "#ab63fa",
           "#FFA15A",
           "#19d3f3",
           "#FF6692",
           "#B6E880",
           "#FF97FF",
           "#FECB52"
          ],
          "font": {
           "color": "#2a3f5f"
          },
          "geo": {
           "bgcolor": "white",
           "lakecolor": "white",
           "landcolor": "#E5ECF6",
           "showlakes": true,
           "showland": true,
           "subunitcolor": "white"
          },
          "hoverlabel": {
           "align": "left"
          },
          "hovermode": "closest",
          "mapbox": {
           "style": "light"
          },
          "paper_bgcolor": "white",
          "plot_bgcolor": "#E5ECF6",
          "polar": {
           "angularaxis": {
            "gridcolor": "white",
            "linecolor": "white",
            "ticks": ""
           },
           "bgcolor": "#E5ECF6",
           "radialaxis": {
            "gridcolor": "white",
            "linecolor": "white",
            "ticks": ""
           }
          },
          "scene": {
           "xaxis": {
            "backgroundcolor": "#E5ECF6",
            "gridcolor": "white",
            "gridwidth": 2,
            "linecolor": "white",
            "showbackground": true,
            "ticks": "",
            "zerolinecolor": "white"
           },
           "yaxis": {
            "backgroundcolor": "#E5ECF6",
            "gridcolor": "white",
            "gridwidth": 2,
            "linecolor": "white",
            "showbackground": true,
            "ticks": "",
            "zerolinecolor": "white"
           },
           "zaxis": {
            "backgroundcolor": "#E5ECF6",
            "gridcolor": "white",
            "gridwidth": 2,
            "linecolor": "white",
            "showbackground": true,
            "ticks": "",
            "zerolinecolor": "white"
           }
          },
          "shapedefaults": {
           "line": {
            "color": "#2a3f5f"
           }
          },
          "ternary": {
           "aaxis": {
            "gridcolor": "white",
            "linecolor": "white",
            "ticks": ""
           },
           "baxis": {
            "gridcolor": "white",
            "linecolor": "white",
            "ticks": ""
           },
           "bgcolor": "#E5ECF6",
           "caxis": {
            "gridcolor": "white",
            "linecolor": "white",
            "ticks": ""
           }
          },
          "title": {
           "x": 0.05
          },
          "xaxis": {
           "automargin": true,
           "gridcolor": "white",
           "linecolor": "white",
           "ticks": "",
           "title": {
            "standoff": 15
           },
           "zerolinecolor": "white",
           "zerolinewidth": 2
          },
          "yaxis": {
           "automargin": true,
           "gridcolor": "white",
           "linecolor": "white",
           "ticks": "",
           "title": {
            "standoff": 15
           },
           "zerolinecolor": "white",
           "zerolinewidth": 2
          }
         }
        },
        "title": {
         "font": {
          "size": 20
         },
         "text": "Percent of Severe Collisions by Year (2006 - 2020)"
        },
        "xaxis": {
         "tickfont": {
          "size": 12
         },
         "type": "category"
        },
        "yaxis": {
         "tickfont": {
          "size": 12
         },
         "tickformat": ",.0%",
         "title": {
          "text": "Ratio"
         }
        }
       }
      },
      "text/html": [
       "<div>                            <div id=\"1f890812-219c-4a8e-8729-c40cfd1f2dec\" class=\"plotly-graph-div\" style=\"height:525px; width:100%;\"></div>            <script type=\"text/javascript\">                require([\"plotly\"], function(Plotly) {                    window.PLOTLYENV=window.PLOTLYENV || {};                                    if (document.getElementById(\"1f890812-219c-4a8e-8729-c40cfd1f2dec\")) {                    Plotly.newPlot(                        \"1f890812-219c-4a8e-8729-c40cfd1f2dec\",                        [{\"hoverinfo\":\"y\",\"name\":\"% Severe bike & ped collisions\",\"x\":[2006,2007,2008,2009,2010,2011,2012,2013,2014,2015,2016,2017,2018,2019,2020],\"y\":[0.12359550561797752,0.11061946902654868,0.12556053811659193,0.1306122448979592,0.09691629955947137,0.08333333333333333,0.09854014598540146,0.1684981684981685,0.17801047120418848,0.2205128205128205,0.21226415094339623,0.18018018018018017,0.17857142857142858,0.1822429906542056,0.1592356687898089],\"type\":\"scatter\",\"marker\":{\"color\":\"rgb(250, 128, 114)\"}},{\"hoverinfo\":\"y\",\"name\":\"% Severe collisions\",\"x\":[2006,2007,2008,2009,2010,2011,2012,2013,2014,2015,2016,2017,2018,2019,2020],\"y\":[0.11850311850311851,0.10375275938189846,0.1223021582733813,0.10273972602739725,0.105,0.08521303258145363,0.09713024282560706,0.14617169373549885,0.1457142857142857,0.18571428571428572,0.19689119170984457,0.15816326530612246,0.15639810426540285,0.1726027397260274,0.1509433962264151],\"type\":\"scatter\",\"marker\":{\"color\":\"rgb(255, 165, 0)\"}}],                        {\"bargap\":0.25,\"bargroupgap\":0.1,\"barmode\":\"group\",\"title\":{\"text\":\"Percent of Severe Collisions by Year (2006 - 2020)\",\"font\":{\"size\":20}},\"xaxis\":{\"type\":\"category\",\"tickfont\":{\"size\":12}},\"yaxis\":{\"tickformat\":\",.0%\",\"title\":{\"text\":\"Ratio\"},\"tickfont\":{\"size\":12}},\"legend\":{\"orientation\":\"h\"},\"template\":{\"data\":{\"histogram2dcontour\":[{\"type\":\"histogram2dcontour\",\"colorbar\":{\"outlinewidth\":0,\"ticks\":\"\"},\"colorscale\":[[0.0,\"#0d0887\"],[0.1111111111111111,\"#46039f\"],[0.2222222222222222,\"#7201a8\"],[0.3333333333333333,\"#9c179e\"],[0.4444444444444444,\"#bd3786\"],[0.5555555555555556,\"#d8576b\"],[0.6666666666666666,\"#ed7953\"],[0.7777777777777778,\"#fb9f3a\"],[0.8888888888888888,\"#fdca26\"],[1.0,\"#f0f921\"]]}],\"choropleth\":[{\"type\":\"choropleth\",\"colorbar\":{\"outlinewidth\":0,\"ticks\":\"\"}}],\"histogram2d\":[{\"type\":\"histogram2d\",\"colorbar\":{\"outlinewidth\":0,\"ticks\":\"\"},\"colorscale\":[[0.0,\"#0d0887\"],[0.1111111111111111,\"#46039f\"],[0.2222222222222222,\"#7201a8\"],[0.3333333333333333,\"#9c179e\"],[0.4444444444444444,\"#bd3786\"],[0.5555555555555556,\"#d8576b\"],[0.6666666666666666,\"#ed7953\"],[0.7777777777777778,\"#fb9f3a\"],[0.8888888888888888,\"#fdca26\"],[1.0,\"#f0f921\"]]}],\"heatmap\":[{\"type\":\"heatmap\",\"colorbar\":{\"outlinewidth\":0,\"ticks\":\"\"},\"colorscale\":[[0.0,\"#0d0887\"],[0.1111111111111111,\"#46039f\"],[0.2222222222222222,\"#7201a8\"],[0.3333333333333333,\"#9c179e\"],[0.4444444444444444,\"#bd3786\"],[0.5555555555555556,\"#d8576b\"],[0.6666666666666666,\"#ed7953\"],[0.7777777777777778,\"#fb9f3a\"],[0.8888888888888888,\"#fdca26\"],[1.0,\"#f0f921\"]]}],\"heatmapgl\":[{\"type\":\"heatmapgl\",\"colorbar\":{\"outlinewidth\":0,\"ticks\":\"\"},\"colorscale\":[[0.0,\"#0d0887\"],[0.1111111111111111,\"#46039f\"],[0.2222222222222222,\"#7201a8\"],[0.3333333333333333,\"#9c179e\"],[0.4444444444444444,\"#bd3786\"],[0.5555555555555556,\"#d8576b\"],[0.6666666666666666,\"#ed7953\"],[0.7777777777777778,\"#fb9f3a\"],[0.8888888888888888,\"#fdca26\"],[1.0,\"#f0f921\"]]}],\"contourcarpet\":[{\"type\":\"contourcarpet\",\"colorbar\":{\"outlinewidth\":0,\"ticks\":\"\"}}],\"contour\":[{\"type\":\"contour\",\"colorbar\":{\"outlinewidth\":0,\"ticks\":\"\"},\"colorscale\":[[0.0,\"#0d0887\"],[0.1111111111111111,\"#46039f\"],[0.2222222222222222,\"#7201a8\"],[0.3333333333333333,\"#9c179e\"],[0.4444444444444444,\"#bd3786\"],[0.5555555555555556,\"#d8576b\"],[0.6666666666666666,\"#ed7953\"],[0.7777777777777778,\"#fb9f3a\"],[0.8888888888888888,\"#fdca26\"],[1.0,\"#f0f921\"]]}],\"surface\":[{\"type\":\"surface\",\"colorbar\":{\"outlinewidth\":0,\"ticks\":\"\"},\"colorscale\":[[0.0,\"#0d0887\"],[0.1111111111111111,\"#46039f\"],[0.2222222222222222,\"#7201a8\"],[0.3333333333333333,\"#9c179e\"],[0.4444444444444444,\"#bd3786\"],[0.5555555555555556,\"#d8576b\"],[0.6666666666666666,\"#ed7953\"],[0.7777777777777778,\"#fb9f3a\"],[0.8888888888888888,\"#fdca26\"],[1.0,\"#f0f921\"]]}],\"mesh3d\":[{\"type\":\"mesh3d\",\"colorbar\":{\"outlinewidth\":0,\"ticks\":\"\"}}],\"scatter\":[{\"fillpattern\":{\"fillmode\":\"overlay\",\"size\":10,\"solidity\":0.2},\"type\":\"scatter\"}],\"parcoords\":[{\"type\":\"parcoords\",\"line\":{\"colorbar\":{\"outlinewidth\":0,\"ticks\":\"\"}}}],\"scatterpolargl\":[{\"type\":\"scatterpolargl\",\"marker\":{\"colorbar\":{\"outlinewidth\":0,\"ticks\":\"\"}}}],\"bar\":[{\"error_x\":{\"color\":\"#2a3f5f\"},\"error_y\":{\"color\":\"#2a3f5f\"},\"marker\":{\"line\":{\"color\":\"#E5ECF6\",\"width\":0.5},\"pattern\":{\"fillmode\":\"overlay\",\"size\":10,\"solidity\":0.2}},\"type\":\"bar\"}],\"scattergeo\":[{\"type\":\"scattergeo\",\"marker\":{\"colorbar\":{\"outlinewidth\":0,\"ticks\":\"\"}}}],\"scatterpolar\":[{\"type\":\"scatterpolar\",\"marker\":{\"colorbar\":{\"outlinewidth\":0,\"ticks\":\"\"}}}],\"histogram\":[{\"marker\":{\"pattern\":{\"fillmode\":\"overlay\",\"size\":10,\"solidity\":0.2}},\"type\":\"histogram\"}],\"scattergl\":[{\"type\":\"scattergl\",\"marker\":{\"colorbar\":{\"outlinewidth\":0,\"ticks\":\"\"}}}],\"scatter3d\":[{\"type\":\"scatter3d\",\"line\":{\"colorbar\":{\"outlinewidth\":0,\"ticks\":\"\"}},\"marker\":{\"colorbar\":{\"outlinewidth\":0,\"ticks\":\"\"}}}],\"scattermapbox\":[{\"type\":\"scattermapbox\",\"marker\":{\"colorbar\":{\"outlinewidth\":0,\"ticks\":\"\"}}}],\"scatterternary\":[{\"type\":\"scatterternary\",\"marker\":{\"colorbar\":{\"outlinewidth\":0,\"ticks\":\"\"}}}],\"scattercarpet\":[{\"type\":\"scattercarpet\",\"marker\":{\"colorbar\":{\"outlinewidth\":0,\"ticks\":\"\"}}}],\"carpet\":[{\"aaxis\":{\"endlinecolor\":\"#2a3f5f\",\"gridcolor\":\"white\",\"linecolor\":\"white\",\"minorgridcolor\":\"white\",\"startlinecolor\":\"#2a3f5f\"},\"baxis\":{\"endlinecolor\":\"#2a3f5f\",\"gridcolor\":\"white\",\"linecolor\":\"white\",\"minorgridcolor\":\"white\",\"startlinecolor\":\"#2a3f5f\"},\"type\":\"carpet\"}],\"table\":[{\"cells\":{\"fill\":{\"color\":\"#EBF0F8\"},\"line\":{\"color\":\"white\"}},\"header\":{\"fill\":{\"color\":\"#C8D4E3\"},\"line\":{\"color\":\"white\"}},\"type\":\"table\"}],\"barpolar\":[{\"marker\":{\"line\":{\"color\":\"#E5ECF6\",\"width\":0.5},\"pattern\":{\"fillmode\":\"overlay\",\"size\":10,\"solidity\":0.2}},\"type\":\"barpolar\"}],\"pie\":[{\"automargin\":true,\"type\":\"pie\"}]},\"layout\":{\"autotypenumbers\":\"strict\",\"colorway\":[\"#636efa\",\"#EF553B\",\"#00cc96\",\"#ab63fa\",\"#FFA15A\",\"#19d3f3\",\"#FF6692\",\"#B6E880\",\"#FF97FF\",\"#FECB52\"],\"font\":{\"color\":\"#2a3f5f\"},\"hovermode\":\"closest\",\"hoverlabel\":{\"align\":\"left\"},\"paper_bgcolor\":\"white\",\"plot_bgcolor\":\"#E5ECF6\",\"polar\":{\"bgcolor\":\"#E5ECF6\",\"angularaxis\":{\"gridcolor\":\"white\",\"linecolor\":\"white\",\"ticks\":\"\"},\"radialaxis\":{\"gridcolor\":\"white\",\"linecolor\":\"white\",\"ticks\":\"\"}},\"ternary\":{\"bgcolor\":\"#E5ECF6\",\"aaxis\":{\"gridcolor\":\"white\",\"linecolor\":\"white\",\"ticks\":\"\"},\"baxis\":{\"gridcolor\":\"white\",\"linecolor\":\"white\",\"ticks\":\"\"},\"caxis\":{\"gridcolor\":\"white\",\"linecolor\":\"white\",\"ticks\":\"\"}},\"coloraxis\":{\"colorbar\":{\"outlinewidth\":0,\"ticks\":\"\"}},\"colorscale\":{\"sequential\":[[0.0,\"#0d0887\"],[0.1111111111111111,\"#46039f\"],[0.2222222222222222,\"#7201a8\"],[0.3333333333333333,\"#9c179e\"],[0.4444444444444444,\"#bd3786\"],[0.5555555555555556,\"#d8576b\"],[0.6666666666666666,\"#ed7953\"],[0.7777777777777778,\"#fb9f3a\"],[0.8888888888888888,\"#fdca26\"],[1.0,\"#f0f921\"]],\"sequentialminus\":[[0.0,\"#0d0887\"],[0.1111111111111111,\"#46039f\"],[0.2222222222222222,\"#7201a8\"],[0.3333333333333333,\"#9c179e\"],[0.4444444444444444,\"#bd3786\"],[0.5555555555555556,\"#d8576b\"],[0.6666666666666666,\"#ed7953\"],[0.7777777777777778,\"#fb9f3a\"],[0.8888888888888888,\"#fdca26\"],[1.0,\"#f0f921\"]],\"diverging\":[[0,\"#8e0152\"],[0.1,\"#c51b7d\"],[0.2,\"#de77ae\"],[0.3,\"#f1b6da\"],[0.4,\"#fde0ef\"],[0.5,\"#f7f7f7\"],[0.6,\"#e6f5d0\"],[0.7,\"#b8e186\"],[0.8,\"#7fbc41\"],[0.9,\"#4d9221\"],[1,\"#276419\"]]},\"xaxis\":{\"gridcolor\":\"white\",\"linecolor\":\"white\",\"ticks\":\"\",\"title\":{\"standoff\":15},\"zerolinecolor\":\"white\",\"automargin\":true,\"zerolinewidth\":2},\"yaxis\":{\"gridcolor\":\"white\",\"linecolor\":\"white\",\"ticks\":\"\",\"title\":{\"standoff\":15},\"zerolinecolor\":\"white\",\"automargin\":true,\"zerolinewidth\":2},\"scene\":{\"xaxis\":{\"backgroundcolor\":\"#E5ECF6\",\"gridcolor\":\"white\",\"linecolor\":\"white\",\"showbackground\":true,\"ticks\":\"\",\"zerolinecolor\":\"white\",\"gridwidth\":2},\"yaxis\":{\"backgroundcolor\":\"#E5ECF6\",\"gridcolor\":\"white\",\"linecolor\":\"white\",\"showbackground\":true,\"ticks\":\"\",\"zerolinecolor\":\"white\",\"gridwidth\":2},\"zaxis\":{\"backgroundcolor\":\"#E5ECF6\",\"gridcolor\":\"white\",\"linecolor\":\"white\",\"showbackground\":true,\"ticks\":\"\",\"zerolinecolor\":\"white\",\"gridwidth\":2}},\"shapedefaults\":{\"line\":{\"color\":\"#2a3f5f\"}},\"annotationdefaults\":{\"arrowcolor\":\"#2a3f5f\",\"arrowhead\":0,\"arrowwidth\":1},\"geo\":{\"bgcolor\":\"white\",\"landcolor\":\"#E5ECF6\",\"subunitcolor\":\"white\",\"showland\":true,\"showlakes\":true,\"lakecolor\":\"white\"},\"title\":{\"x\":0.05},\"mapbox\":{\"style\":\"light\"}}}},                        {\"responsive\": true}                    ).then(function(){\n",
       "                            \n",
       "var gd = document.getElementById('1f890812-219c-4a8e-8729-c40cfd1f2dec');\n",
       "var x = new MutationObserver(function (mutations, observer) {{\n",
       "        var display = window.getComputedStyle(gd).display;\n",
       "        if (!display || display === 'none') {{\n",
       "            console.log([gd, 'removed!']);\n",
       "            Plotly.purge(gd);\n",
       "            observer.disconnect();\n",
       "        }}\n",
       "}});\n",
       "\n",
       "// Listen for the removal of the full notebook cells\n",
       "var notebookContainer = gd.closest('#notebook-container');\n",
       "if (notebookContainer) {{\n",
       "    x.observe(notebookContainer, {childList: true});\n",
       "}}\n",
       "\n",
       "// Listen for the clearing of the current output cell\n",
       "var outputEl = gd.closest('.output');\n",
       "if (outputEl) {{\n",
       "    x.observe(outputEl, {childList: true});\n",
       "}}\n",
       "\n",
       "                        })                };                });            </script>        </div>"
      ]
     },
     "metadata": {},
     "output_type": "display_data"
    }
   ],
   "source": [
    "fig = {\n",
    "    \"data\": [{\"type\": \"scatter\",\n",
    "              \"x\": collision_compare.index,\n",
    "              \"y\": collision_compare['Percent BP Fatal Collisions'],\n",
    "              \"name\": \"% Severe bike & ped collisions\",\n",
    "              \"marker_color\": \"rgb(250, 128, 114)\",\n",
    "              \"hoverinfo\": \"y\"\n",
    "             },\n",
    "             {\"type\": \"scatter\",\n",
    "              \"x\": collision_compare.index,\n",
    "              \"y\": collision_compare['Percent of Fatal Collisions'],\n",
    "              \"name\": \"% Severe collisions\",\n",
    "              \"marker_color\": \"rgb(255, 165, 0)\",\n",
    "              \"hoverinfo\": \"y\"\n",
    "             }],\n",
    "    \"layout\": {\"title\": {\"text\": \"Percent of Severe Collisions by Year (2006 - 2020)\", \"font_size\": 20},\n",
    "               \"xaxis\": {\"tickfont_size\": 12, \n",
    "                         \"type\": \"category\"},\n",
    "               \"yaxis\": {\"title\": \"Ratio\",  \n",
    "                         \"tickfont_size\": 12,\n",
    "                         \"tickformat\": \",.0%\"},\n",
    "               \"barmode\": \"group\",\n",
    "               \"bargap\": 0.25,\n",
    "               \"bargroupgap\": 0.1,\n",
    "               \"legend_orientation\": \"h\"\n",
    "              }\n",
    "}\n",
    "\n",
    "pio.show(fig)"
   ]
  },
  {
   "cell_type": "code",
   "execution_count": null,
   "id": "da7a05cf",
   "metadata": {},
   "outputs": [],
   "source": [
    "#Collision by Day of Week"
   ]
  },
  {
   "cell_type": "code",
   "execution_count": 49,
   "id": "e44cadee",
   "metadata": {},
   "outputs": [],
   "source": [
    "#Extracting Week from Date\n",
    "df_seriously_injured[\"Day_of_Week\"]=df_seriously_injured[\"DATE\"].dt.day_name()"
   ]
  },
  {
   "cell_type": "code",
   "execution_count": 50,
   "id": "5af5ddad",
   "metadata": {},
   "outputs": [
    {
     "data": {
      "image/png": "[encoded data removed]",
      "text/plain": [
       "<Figure size 864x432 with 1 Axes>"
      ]
     },
     "metadata": {
      "needs_background": "light"
     },
     "output_type": "display_data"
    }
   ],
   "source": [
    "collision_dow = pd.Series(df_seriously_injured.groupby('Day_of_Week').count()['ACCNUM'])\n",
    "collision_dow = collision_dow.reindex([\n",
    "    'Monday', \n",
    "    'Tuesday', \n",
    "    'Wednesday', \n",
    "    'Thursday', \n",
    "    'Friday', \n",
    "    'Saturday', \n",
    "    'Sunday'\n",
    "])\n",
    "\n",
    "pal = sns.color_palette('Reds', 7) \n",
    "colordict = {\n",
    "    'Friday': pal[6],\n",
    "    'Saturday': pal[5],\n",
    "    'Thursday': pal[4],\n",
    "    'Wednesday': pal[3],\n",
    "    'Tuesday': pal[2],\n",
    "    'Sunday': pal[0],\n",
    "    'Monday': pal[1]\n",
    "}\n",
    "\n",
    "ax = collision_dow.plot(figsize=(12, 6), kind='bar', color=[colordict[i] for i in collision_dow.index], width=0.5, rot=0)\n",
    "\n",
    "ax.set_title('Collisions by Day of Week', fontsize=14)\n",
    "ax.set_ylim((40, 1000))\n",
    "ax.set_ylabel('Number of Collisions')\n",
    "ax.set_xlabel(' ')\n",
    "\n",
    "fmt = '{x:,.0f}'\n",
    "ax.yaxis.set_major_formatter(mtick.StrMethodFormatter(fmt))\n",
    "\n",
    "for tick in ax.yaxis.get_major_ticks():\n",
    "    tick.label.set_fontsize(12)\n",
    "for tick in ax.xaxis.get_major_ticks():\n",
    "    tick.label.set_fontsize(12)\n",
    "    \n",
    "    \n",
    "pass"
   ]
  },
  {
   "cell_type": "code",
   "execution_count": 51,
   "id": "e289eeb7",
   "metadata": {},
   "outputs": [
    {
     "data": {
      "image/png": "[encoded data removed]",
      "text/plain": [
       "<Figure size 720x432 with 1 Axes>"
      ]
     },
     "metadata": {
      "needs_background": "light"
     },
     "output_type": "display_data"
    }
   ],
   "source": [
    "severe_collision_dow = pd.Series(df_seriously_injured.groupby('Day_of_Week')['ACCLASS'].agg(lambda x: (x == 'Fatal').mean()))\n",
    "severe_collision_dow = severe_collision_dow.reindex([\n",
    "    'Monday', \n",
    "    'Tuesday', \n",
    "    'Wednesday', \n",
    "    'Thursday', \n",
    "    'Friday', \n",
    "    'Saturday', \n",
    "    'Sunday'\n",
    "])\n",
    "\n",
    "pal = sns.color_palette(\"Reds\", 7) \n",
    "colordict = {'Friday': pal[4],\n",
    "             'Saturday': pal[5],\n",
    "             'Thursday': pal[1],\n",
    "             'Wednesday': pal[3],\n",
    "             'Tuesday': pal[1],\n",
    "             'Sunday': pal[6],\n",
    "             'Monday': pal[0]}\n",
    "\n",
    "ax = severe_collision_dow.plot(figsize=(10, 6), kind='bar', color=[colordict[i] for i in severe_collision_dow.index], width=0.5, rot=0)\n",
    "\n",
    "ax.set_title('Percent Fatal Collisions by Day of the Week', fontsize=14)\n",
    "ax.set_ylabel('Percentage of Severe Collisions')\n",
    "plt.ylim([0, 0.2])\n",
    "ax.set_xlabel(' ')\n",
    "\n",
    "fmt = '{x:,.0%}'\n",
    "ax.yaxis.set_major_formatter(mtick.StrMethodFormatter(fmt))\n",
    "\n",
    "for tick in ax.yaxis.get_major_ticks():\n",
    "    tick.label.set_fontsize(12)\n",
    "for tick in ax.xaxis.get_major_ticks():\n",
    "    tick.label.set_fontsize(12)\n",
    "    \n",
    "    \n",
    "for rect in ax.patches:\n",
    "    y_value = rect.get_height()\n",
    "    x_value = rect.get_x() + rect.get_width() / 2\n",
    "    space = 5\n",
    "    va = 'bottom'\n",
    "    label = '{:.0%}'.format(y_value)\n",
    "    ax.annotate(label,\n",
    "                 (x_value, y_value),\n",
    "                 xytext=(0, space),\n",
    "                 textcoords='offset points',\n",
    "                 ha='center',\n",
    "                 va=va)\n",
    "\n",
    "pass"
   ]
  },
  {
   "cell_type": "code",
   "execution_count": null,
   "id": "b740ded7",
   "metadata": {},
   "outputs": [],
   "source": [
    "#Let's bring in time of day"
   ]
  },
  {
   "cell_type": "code",
   "execution_count": 52,
   "id": "8f8c82ac",
   "metadata": {},
   "outputs": [
    {
     "data": {
      "application/vnd.plotly.v1+json": {
       "config": {
        "plotlyServerURL": "https://plot.ly"
       },
       "data": [
        {
         "type": "heatmap",
         "x": [
          "Monday",
          "Tuesday",
          "Wednesday",
          "Thursday",
          "Friday",
          "Saturday",
          "Sunday"
         ],
         "y": [
          0,
          1,
          2,
          3,
          4,
          5,
          6,
          7,
          8,
          9,
          10,
          11,
          12,
          13,
          14,
          15,
          16,
          17,
          18,
          19,
          20,
          21,
          22,
          23
         ],
         "z": [
          [
           21,
           16,
           22,
           21,
           15,
           35,
           43
          ],
          [
           21,
           13,
           11,
           19,
           23,
           23,
           34
          ],
          [
           12,
           11,
           10,
           15,
           18,
           49,
           47
          ],
          [
           11,
           6,
           8,
           8,
           14,
           41,
           46
          ],
          [
           7,
           7,
           3,
           2,
           10,
           14,
           18
          ],
          [
           14,
           16,
           13,
           8,
           21,
           20,
           12
          ],
          [
           32,
           34,
           36,
           34,
           41,
           14,
           12
          ],
          [
           34,
           45,
           34,
           37,
           30,
           19,
           11
          ],
          [
           51,
           46,
           46,
           31,
           38,
           14,
           16
          ],
          [
           31,
           46,
           49,
           51,
           39,
           31,
           17
          ],
          [
           38,
           40,
           37,
           34,
           42,
           29,
           39
          ],
          [
           38,
           39,
           55,
           33,
           32,
           28,
           28
          ],
          [
           39,
           43,
           32,
           38,
           45,
           36,
           32
          ],
          [
           41,
           38,
           42,
           38,
           39,
           43,
           41
          ],
          [
           49,
           47,
           51,
           50,
           60,
           37,
           31
          ],
          [
           45,
           64,
           51,
           70,
           53,
           33,
           42
          ],
          [
           51,
           55,
           59,
           45,
           54,
           39,
           37
          ],
          [
           69,
           65,
           61,
           50,
           60,
           47,
           40
          ],
          [
           55,
           70,
           71,
           51,
           83,
           47,
           47
          ],
          [
           43,
           52,
           47,
           55,
           59,
           42,
           47
          ],
          [
           43,
           41,
           47,
           55,
           41,
           47,
           43
          ],
          [
           32,
           53,
           44,
           52,
           46,
           35,
           40
          ],
          [
           19,
           30,
           31,
           52,
           46,
           40,
           26
          ],
          [
           23,
           18,
           29,
           26,
           43,
           41,
           19
          ]
         ]
        }
       ],
       "layout": {
        "height": 650,
        "template": {
         "data": {
          "bar": [
           {
            "error_x": {
             "color": "#2a3f5f"
            },
            "error_y": {
             "color": "#2a3f5f"
            },
            "marker": {
             "line": {
              "color": "#E5ECF6",
              "width": 0.5
             },
             "pattern": {
              "fillmode": "overlay",
              "size": 10,
              "solidity": 0.2
             }
            },
            "type": "bar"
           }
          ],
          "barpolar": [
           {
            "marker": {
             "line": {
              "color": "#E5ECF6",
              "width": 0.5
             },
             "pattern": {
              "fillmode": "overlay",
              "size": 10,
              "solidity": 0.2
             }
            },
            "type": "barpolar"
           }
          ],
          "carpet": [
           {
            "aaxis": {
             "endlinecolor": "#2a3f5f",
             "gridcolor": "white",
             "linecolor": "white",
             "minorgridcolor": "white",
             "startlinecolor": "#2a3f5f"
            },
            "baxis": {
             "endlinecolor": "#2a3f5f",
             "gridcolor": "white",
             "linecolor": "white",
             "minorgridcolor": "white",
             "startlinecolor": "#2a3f5f"
            },
            "type": "carpet"
           }
          ],
          "choropleth": [
           {
            "colorbar": {
             "outlinewidth": 0,
             "ticks": ""
            },
            "type": "choropleth"
           }
          ],
          "contour": [
           {
            "colorbar": {
             "outlinewidth": 0,
             "ticks": ""
            },
            "colorscale": [
             [
              0,
              "#0d0887"
             ],
             [
              0.1111111111111111,
              "#46039f"
             ],
             [
              0.2222222222222222,
              "#7201a8"
             ],
             [
              0.3333333333333333,
              "#9c179e"
             ],
             [
              0.4444444444444444,
              "#bd3786"
             ],
             [
              0.5555555555555556,
              "#d8576b"
             ],
             [
              0.6666666666666666,
              "#ed7953"
             ],
             [
              0.7777777777777778,
              "#fb9f3a"
             ],
             [
              0.8888888888888888,
              "#fdca26"
             ],
             [
              1,
              "#f0f921"
             ]
            ],
            "type": "contour"
           }
          ],
          "contourcarpet": [
           {
            "colorbar": {
             "outlinewidth": 0,
             "ticks": ""
            },
            "type": "contourcarpet"
           }
          ],
          "heatmap": [
           {
            "colorbar": {
             "outlinewidth": 0,
             "ticks": ""
            },
            "colorscale": [
             [
              0,
              "#0d0887"
             ],
             [
              0.1111111111111111,
              "#46039f"
             ],
             [
              0.2222222222222222,
              "#7201a8"
             ],
             [
              0.3333333333333333,
              "#9c179e"
             ],
             [
              0.4444444444444444,
              "#bd3786"
             ],
             [
              0.5555555555555556,
              "#d8576b"
             ],
             [
              0.6666666666666666,
              "#ed7953"
             ],
             [
              0.7777777777777778,
              "#fb9f3a"
             ],
             [
              0.8888888888888888,
              "#fdca26"
             ],
             [
              1,
              "#f0f921"
             ]
            ],
            "type": "heatmap"
           }
          ],
          "heatmapgl": [
           {
            "colorbar": {
             "outlinewidth": 0,
             "ticks": ""
            },
            "colorscale": [
             [
              0,
              "#0d0887"
             ],
             [
              0.1111111111111111,
              "#46039f"
             ],
             [
              0.2222222222222222,
              "#7201a8"
             ],
             [
              0.3333333333333333,
              "#9c179e"
             ],
             [
              0.4444444444444444,
              "#bd3786"
             ],
             [
              0.5555555555555556,
              "#d8576b"
             ],
             [
              0.6666666666666666,
              "#ed7953"
             ],
             [
              0.7777777777777778,
              "#fb9f3a"
             ],
             [
              0.8888888888888888,
              "#fdca26"
             ],
             [
              1,
              "#f0f921"
             ]
            ],
            "type": "heatmapgl"
           }
          ],
          "histogram": [
           {
            "marker": {
             "pattern": {
              "fillmode": "overlay",
              "size": 10,
              "solidity": 0.2
             }
            },
            "type": "histogram"
           }
          ],
          "histogram2d": [
           {
            "colorbar": {
             "outlinewidth": 0,
             "ticks": ""
            },
            "colorscale": [
             [
              0,
              "#0d0887"
             ],
             [
              0.1111111111111111,
              "#46039f"
             ],
             [
              0.2222222222222222,
              "#7201a8"
             ],
             [
              0.3333333333333333,
              "#9c179e"
             ],
             [
              0.4444444444444444,
              "#bd3786"
             ],
             [
              0.5555555555555556,
              "#d8576b"
             ],
             [
              0.6666666666666666,
              "#ed7953"
             ],
             [
              0.7777777777777778,
              "#fb9f3a"
             ],
             [
              0.8888888888888888,
              "#fdca26"
             ],
             [
              1,
              "#f0f921"
             ]
            ],
            "type": "histogram2d"
           }
          ],
          "histogram2dcontour": [
           {
            "colorbar": {
             "outlinewidth": 0,
             "ticks": ""
            },
            "colorscale": [
             [
              0,
              "#0d0887"
             ],
             [
              0.1111111111111111,
              "#46039f"
             ],
             [
              0.2222222222222222,
              "#7201a8"
             ],
             [
              0.3333333333333333,
              "#9c179e"
             ],
             [
              0.4444444444444444,
              "#bd3786"
             ],
             [
              0.5555555555555556,
              "#d8576b"
             ],
             [
              0.6666666666666666,
              "#ed7953"
             ],
             [
              0.7777777777777778,
              "#fb9f3a"
             ],
             [
              0.8888888888888888,
              "#fdca26"
             ],
             [
              1,
              "#f0f921"
             ]
            ],
            "type": "histogram2dcontour"
           }
          ],
          "mesh3d": [
           {
            "colorbar": {
             "outlinewidth": 0,
             "ticks": ""
            },
            "type": "mesh3d"
           }
          ],
          "parcoords": [
           {
            "line": {
             "colorbar": {
              "outlinewidth": 0,
              "ticks": ""
             }
            },
            "type": "parcoords"
           }
          ],
          "pie": [
           {
            "automargin": true,
            "type": "pie"
           }
          ],
          "scatter": [
           {
            "fillpattern": {
             "fillmode": "overlay",
             "size": 10,
             "solidity": 0.2
            },
            "type": "scatter"
           }
          ],
          "scatter3d": [
           {
            "line": {
             "colorbar": {
              "outlinewidth": 0,
              "ticks": ""
             }
            },
            "marker": {
             "colorbar": {
              "outlinewidth": 0,
              "ticks": ""
             }
            },
            "type": "scatter3d"
           }
          ],
          "scattercarpet": [
           {
            "marker": {
             "colorbar": {
              "outlinewidth": 0,
              "ticks": ""
             }
            },
            "type": "scattercarpet"
           }
          ],
          "scattergeo": [
           {
            "marker": {
             "colorbar": {
              "outlinewidth": 0,
              "ticks": ""
             }
            },
            "type": "scattergeo"
           }
          ],
          "scattergl": [
           {
            "marker": {
             "colorbar": {
              "outlinewidth": 0,
              "ticks": ""
             }
            },
            "type": "scattergl"
           }
          ],
          "scattermapbox": [
           {
            "marker": {
             "colorbar": {
              "outlinewidth": 0,
              "ticks": ""
             }
            },
            "type": "scattermapbox"
           }
          ],
          "scatterpolar": [
           {
            "marker": {
             "colorbar": {
              "outlinewidth": 0,
              "ticks": ""
             }
            },
            "type": "scatterpolar"
           }
          ],
          "scatterpolargl": [
           {
            "marker": {
             "colorbar": {
              "outlinewidth": 0,
              "ticks": ""
             }
            },
            "type": "scatterpolargl"
           }
          ],
          "scatterternary": [
           {
            "marker": {
             "colorbar": {
              "outlinewidth": 0,
              "ticks": ""
             }
            },
            "type": "scatterternary"
           }
          ],
          "surface": [
           {
            "colorbar": {
             "outlinewidth": 0,
             "ticks": ""
            },
            "colorscale": [
             [
              0,
              "#0d0887"
             ],
             [
              0.1111111111111111,
              "#46039f"
             ],
             [
              0.2222222222222222,
              "#7201a8"
             ],
             [
              0.3333333333333333,
              "#9c179e"
             ],
             [
              0.4444444444444444,
              "#bd3786"
             ],
             [
              0.5555555555555556,
              "#d8576b"
             ],
             [
              0.6666666666666666,
              "#ed7953"
             ],
             [
              0.7777777777777778,
              "#fb9f3a"
             ],
             [
              0.8888888888888888,
              "#fdca26"
             ],
             [
              1,
              "#f0f921"
             ]
            ],
            "type": "surface"
           }
          ],
          "table": [
           {
            "cells": {
             "fill": {
              "color": "#EBF0F8"
             },
             "line": {
              "color": "white"
             }
            },
            "header": {
             "fill": {
              "color": "#C8D4E3"
             },
             "line": {
              "color": "white"
             }
            },
            "type": "table"
           }
          ]
         },
         "layout": {
          "annotationdefaults": {
           "arrowcolor": "#2a3f5f",
           "arrowhead": 0,
           "arrowwidth": 1
          },
          "autotypenumbers": "strict",
          "coloraxis": {
           "colorbar": {
            "outlinewidth": 0,
            "ticks": ""
           }
          },
          "colorscale": {
           "diverging": [
            [
             0,
             "#8e0152"
            ],
            [
             0.1,
             "#c51b7d"
            ],
            [
             0.2,
             "#de77ae"
            ],
            [
             0.3,
             "#f1b6da"
            ],
            [
             0.4,
             "#fde0ef"
            ],
            [
             0.5,
             "#f7f7f7"
            ],
            [
             0.6,
             "#e6f5d0"
            ],
            [
             0.7,
             "#b8e186"
            ],
            [
             0.8,
             "#7fbc41"
            ],
            [
             0.9,
             "#4d9221"
            ],
            [
             1,
             "#276419"
            ]
           ],
           "sequential": [
            [
             0,
             "#0d0887"
            ],
            [
             0.1111111111111111,
             "#46039f"
            ],
            [
             0.2222222222222222,
             "#7201a8"
            ],
            [
             0.3333333333333333,
             "#9c179e"
            ],
            [
             0.4444444444444444,
             "#bd3786"
            ],
            [
             0.5555555555555556,
             "#d8576b"
            ],
            [
             0.6666666666666666,
             "#ed7953"
            ],
            [
             0.7777777777777778,
             "#fb9f3a"
            ],
            [
             0.8888888888888888,
             "#fdca26"
            ],
            [
             1,
             "#f0f921"
            ]
           ],
           "sequentialminus": [
            [
             0,
             "#0d0887"
            ],
            [
             0.1111111111111111,
             "#46039f"
            ],
            [
             0.2222222222222222,
             "#7201a8"
            ],
            [
             0.3333333333333333,
             "#9c179e"
            ],
            [
             0.4444444444444444,
             "#bd3786"
            ],
            [
             0.5555555555555556,
             "#d8576b"
            ],
            [
             0.6666666666666666,
             "#ed7953"
            ],
            [
             0.7777777777777778,
             "#fb9f3a"
            ],
            [
             0.8888888888888888,
             "#fdca26"
            ],
            [
             1,
             "#f0f921"
            ]
           ]
          },
          "colorway": [
           "#636efa",
           "#EF553B",
           "#00cc96",
           "#ab63fa",
           "#FFA15A",
           "#19d3f3",
           "#FF6692",
           "#B6E880",
           "#FF97FF",
           "#FECB52"
          ],
          "font": {
           "color": "#2a3f5f"
          },
          "geo": {
           "bgcolor": "white",
           "lakecolor": "white",
           "landcolor": "#E5ECF6",
           "showlakes": true,
           "showland": true,
           "subunitcolor": "white"
          },
          "hoverlabel": {
           "align": "left"
          },
          "hovermode": "closest",
          "mapbox": {
           "style": "light"
          },
          "paper_bgcolor": "white",
          "plot_bgcolor": "#E5ECF6",
          "polar": {
           "angularaxis": {
            "gridcolor": "white",
            "linecolor": "white",
            "ticks": ""
           },
           "bgcolor": "#E5ECF6",
           "radialaxis": {
            "gridcolor": "white",
            "linecolor": "white",
            "ticks": ""
           }
          },
          "scene": {
           "xaxis": {
            "backgroundcolor": "#E5ECF6",
            "gridcolor": "white",
            "gridwidth": 2,
            "linecolor": "white",
            "showbackground": true,
            "ticks": "",
            "zerolinecolor": "white"
           },
           "yaxis": {
            "backgroundcolor": "#E5ECF6",
            "gridcolor": "white",
            "gridwidth": 2,
            "linecolor": "white",
            "showbackground": true,
            "ticks": "",
            "zerolinecolor": "white"
           },
           "zaxis": {
            "backgroundcolor": "#E5ECF6",
            "gridcolor": "white",
            "gridwidth": 2,
            "linecolor": "white",
            "showbackground": true,
            "ticks": "",
            "zerolinecolor": "white"
           }
          },
          "shapedefaults": {
           "line": {
            "color": "#2a3f5f"
           }
          },
          "ternary": {
           "aaxis": {
            "gridcolor": "white",
            "linecolor": "white",
            "ticks": ""
           },
           "baxis": {
            "gridcolor": "white",
            "linecolor": "white",
            "ticks": ""
           },
           "bgcolor": "#E5ECF6",
           "caxis": {
            "gridcolor": "white",
            "linecolor": "white",
            "ticks": ""
           }
          },
          "title": {
           "x": 0.05
          },
          "xaxis": {
           "automargin": true,
           "gridcolor": "white",
           "linecolor": "white",
           "ticks": "",
           "title": {
            "standoff": 15
           },
           "zerolinecolor": "white",
           "zerolinewidth": 2
          },
          "yaxis": {
           "automargin": true,
           "gridcolor": "white",
           "linecolor": "white",
           "ticks": "",
           "title": {
            "standoff": 15
           },
           "zerolinecolor": "white",
           "zerolinewidth": 2
          }
         }
        },
        "title": {
         "font": {
          "size": 20
         },
         "text": "Collision by Day of Week and Time of Day"
        },
        "xaxis": {
         "tickfont": {
          "size": 12
         },
         "title": {
          "text": "Day of Week"
         },
         "type": "category"
        },
        "yaxis": {
         "tickfont": {
          "size": 12
         },
         "title": {
          "text": "Hour of Day"
         },
         "type": "category"
        }
       }
      },
      "text/html": [
       "<div>                            <div id=\"c060782b-b322-45db-9d71-1ad5fdea9158\" class=\"plotly-graph-div\" style=\"height:650px; width:100%;\"></div>            <script type=\"text/javascript\">                require([\"plotly\"], function(Plotly) {                    window.PLOTLYENV=window.PLOTLYENV || {};                                    if (document.getElementById(\"c060782b-b322-45db-9d71-1ad5fdea9158\")) {                    Plotly.newPlot(                        \"c060782b-b322-45db-9d71-1ad5fdea9158\",                        [{\"x\":[\"Monday\",\"Tuesday\",\"Wednesday\",\"Thursday\",\"Friday\",\"Saturday\",\"Sunday\"],\"y\":[0,1,2,3,4,5,6,7,8,9,10,11,12,13,14,15,16,17,18,19,20,21,22,23],\"z\":[[21,16,22,21,15,35,43],[21,13,11,19,23,23,34],[12,11,10,15,18,49,47],[11,6,8,8,14,41,46],[7,7,3,2,10,14,18],[14,16,13,8,21,20,12],[32,34,36,34,41,14,12],[34,45,34,37,30,19,11],[51,46,46,31,38,14,16],[31,46,49,51,39,31,17],[38,40,37,34,42,29,39],[38,39,55,33,32,28,28],[39,43,32,38,45,36,32],[41,38,42,38,39,43,41],[49,47,51,50,60,37,31],[45,64,51,70,53,33,42],[51,55,59,45,54,39,37],[69,65,61,50,60,47,40],[55,70,71,51,83,47,47],[43,52,47,55,59,42,47],[43,41,47,55,41,47,43],[32,53,44,52,46,35,40],[19,30,31,52,46,40,26],[23,18,29,26,43,41,19]],\"type\":\"heatmap\"}],                        {\"height\":650,\"title\":{\"text\":\"Collision by Day of Week and Time of Day\",\"font\":{\"size\":20}},\"xaxis\":{\"title\":{\"text\":\"Day of Week\"},\"type\":\"category\",\"tickfont\":{\"size\":12}},\"yaxis\":{\"title\":{\"text\":\"Hour of Day\"},\"type\":\"category\",\"tickfont\":{\"size\":12}},\"template\":{\"data\":{\"histogram2dcontour\":[{\"type\":\"histogram2dcontour\",\"colorbar\":{\"outlinewidth\":0,\"ticks\":\"\"},\"colorscale\":[[0.0,\"#0d0887\"],[0.1111111111111111,\"#46039f\"],[0.2222222222222222,\"#7201a8\"],[0.3333333333333333,\"#9c179e\"],[0.4444444444444444,\"#bd3786\"],[0.5555555555555556,\"#d8576b\"],[0.6666666666666666,\"#ed7953\"],[0.7777777777777778,\"#fb9f3a\"],[0.8888888888888888,\"#fdca26\"],[1.0,\"#f0f921\"]]}],\"choropleth\":[{\"type\":\"choropleth\",\"colorbar\":{\"outlinewidth\":0,\"ticks\":\"\"}}],\"histogram2d\":[{\"type\":\"histogram2d\",\"colorbar\":{\"outlinewidth\":0,\"ticks\":\"\"},\"colorscale\":[[0.0,\"#0d0887\"],[0.1111111111111111,\"#46039f\"],[0.2222222222222222,\"#7201a8\"],[0.3333333333333333,\"#9c179e\"],[0.4444444444444444,\"#bd3786\"],[0.5555555555555556,\"#d8576b\"],[0.6666666666666666,\"#ed7953\"],[0.7777777777777778,\"#fb9f3a\"],[0.8888888888888888,\"#fdca26\"],[1.0,\"#f0f921\"]]}],\"heatmap\":[{\"type\":\"heatmap\",\"colorbar\":{\"outlinewidth\":0,\"ticks\":\"\"},\"colorscale\":[[0.0,\"#0d0887\"],[0.1111111111111111,\"#46039f\"],[0.2222222222222222,\"#7201a8\"],[0.3333333333333333,\"#9c179e\"],[0.4444444444444444,\"#bd3786\"],[0.5555555555555556,\"#d8576b\"],[0.6666666666666666,\"#ed7953\"],[0.7777777777777778,\"#fb9f3a\"],[0.8888888888888888,\"#fdca26\"],[1.0,\"#f0f921\"]]}],\"heatmapgl\":[{\"type\":\"heatmapgl\",\"colorbar\":{\"outlinewidth\":0,\"ticks\":\"\"},\"colorscale\":[[0.0,\"#0d0887\"],[0.1111111111111111,\"#46039f\"],[0.2222222222222222,\"#7201a8\"],[0.3333333333333333,\"#9c179e\"],[0.4444444444444444,\"#bd3786\"],[0.5555555555555556,\"#d8576b\"],[0.6666666666666666,\"#ed7953\"],[0.7777777777777778,\"#fb9f3a\"],[0.8888888888888888,\"#fdca26\"],[1.0,\"#f0f921\"]]}],\"contourcarpet\":[{\"type\":\"contourcarpet\",\"colorbar\":{\"outlinewidth\":0,\"ticks\":\"\"}}],\"contour\":[{\"type\":\"contour\",\"colorbar\":{\"outlinewidth\":0,\"ticks\":\"\"},\"colorscale\":[[0.0,\"#0d0887\"],[0.1111111111111111,\"#46039f\"],[0.2222222222222222,\"#7201a8\"],[0.3333333333333333,\"#9c179e\"],[0.4444444444444444,\"#bd3786\"],[0.5555555555555556,\"#d8576b\"],[0.6666666666666666,\"#ed7953\"],[0.7777777777777778,\"#fb9f3a\"],[0.8888888888888888,\"#fdca26\"],[1.0,\"#f0f921\"]]}],\"surface\":[{\"type\":\"surface\",\"colorbar\":{\"outlinewidth\":0,\"ticks\":\"\"},\"colorscale\":[[0.0,\"#0d0887\"],[0.1111111111111111,\"#46039f\"],[0.2222222222222222,\"#7201a8\"],[0.3333333333333333,\"#9c179e\"],[0.4444444444444444,\"#bd3786\"],[0.5555555555555556,\"#d8576b\"],[0.6666666666666666,\"#ed7953\"],[0.7777777777777778,\"#fb9f3a\"],[0.8888888888888888,\"#fdca26\"],[1.0,\"#f0f921\"]]}],\"mesh3d\":[{\"type\":\"mesh3d\",\"colorbar\":{\"outlinewidth\":0,\"ticks\":\"\"}}],\"scatter\":[{\"fillpattern\":{\"fillmode\":\"overlay\",\"size\":10,\"solidity\":0.2},\"type\":\"scatter\"}],\"parcoords\":[{\"type\":\"parcoords\",\"line\":{\"colorbar\":{\"outlinewidth\":0,\"ticks\":\"\"}}}],\"scatterpolargl\":[{\"type\":\"scatterpolargl\",\"marker\":{\"colorbar\":{\"outlinewidth\":0,\"ticks\":\"\"}}}],\"bar\":[{\"error_x\":{\"color\":\"#2a3f5f\"},\"error_y\":{\"color\":\"#2a3f5f\"},\"marker\":{\"line\":{\"color\":\"#E5ECF6\",\"width\":0.5},\"pattern\":{\"fillmode\":\"overlay\",\"size\":10,\"solidity\":0.2}},\"type\":\"bar\"}],\"scattergeo\":[{\"type\":\"scattergeo\",\"marker\":{\"colorbar\":{\"outlinewidth\":0,\"ticks\":\"\"}}}],\"scatterpolar\":[{\"type\":\"scatterpolar\",\"marker\":{\"colorbar\":{\"outlinewidth\":0,\"ticks\":\"\"}}}],\"histogram\":[{\"marker\":{\"pattern\":{\"fillmode\":\"overlay\",\"size\":10,\"solidity\":0.2}},\"type\":\"histogram\"}],\"scattergl\":[{\"type\":\"scattergl\",\"marker\":{\"colorbar\":{\"outlinewidth\":0,\"ticks\":\"\"}}}],\"scatter3d\":[{\"type\":\"scatter3d\",\"line\":{\"colorbar\":{\"outlinewidth\":0,\"ticks\":\"\"}},\"marker\":{\"colorbar\":{\"outlinewidth\":0,\"ticks\":\"\"}}}],\"scattermapbox\":[{\"type\":\"scattermapbox\",\"marker\":{\"colorbar\":{\"outlinewidth\":0,\"ticks\":\"\"}}}],\"scatterternary\":[{\"type\":\"scatterternary\",\"marker\":{\"colorbar\":{\"outlinewidth\":0,\"ticks\":\"\"}}}],\"scattercarpet\":[{\"type\":\"scattercarpet\",\"marker\":{\"colorbar\":{\"outlinewidth\":0,\"ticks\":\"\"}}}],\"carpet\":[{\"aaxis\":{\"endlinecolor\":\"#2a3f5f\",\"gridcolor\":\"white\",\"linecolor\":\"white\",\"minorgridcolor\":\"white\",\"startlinecolor\":\"#2a3f5f\"},\"baxis\":{\"endlinecolor\":\"#2a3f5f\",\"gridcolor\":\"white\",\"linecolor\":\"white\",\"minorgridcolor\":\"white\",\"startlinecolor\":\"#2a3f5f\"},\"type\":\"carpet\"}],\"table\":[{\"cells\":{\"fill\":{\"color\":\"#EBF0F8\"},\"line\":{\"color\":\"white\"}},\"header\":{\"fill\":{\"color\":\"#C8D4E3\"},\"line\":{\"color\":\"white\"}},\"type\":\"table\"}],\"barpolar\":[{\"marker\":{\"line\":{\"color\":\"#E5ECF6\",\"width\":0.5},\"pattern\":{\"fillmode\":\"overlay\",\"size\":10,\"solidity\":0.2}},\"type\":\"barpolar\"}],\"pie\":[{\"automargin\":true,\"type\":\"pie\"}]},\"layout\":{\"autotypenumbers\":\"strict\",\"colorway\":[\"#636efa\",\"#EF553B\",\"#00cc96\",\"#ab63fa\",\"#FFA15A\",\"#19d3f3\",\"#FF6692\",\"#B6E880\",\"#FF97FF\",\"#FECB52\"],\"font\":{\"color\":\"#2a3f5f\"},\"hovermode\":\"closest\",\"hoverlabel\":{\"align\":\"left\"},\"paper_bgcolor\":\"white\",\"plot_bgcolor\":\"#E5ECF6\",\"polar\":{\"bgcolor\":\"#E5ECF6\",\"angularaxis\":{\"gridcolor\":\"white\",\"linecolor\":\"white\",\"ticks\":\"\"},\"radialaxis\":{\"gridcolor\":\"white\",\"linecolor\":\"white\",\"ticks\":\"\"}},\"ternary\":{\"bgcolor\":\"#E5ECF6\",\"aaxis\":{\"gridcolor\":\"white\",\"linecolor\":\"white\",\"ticks\":\"\"},\"baxis\":{\"gridcolor\":\"white\",\"linecolor\":\"white\",\"ticks\":\"\"},\"caxis\":{\"gridcolor\":\"white\",\"linecolor\":\"white\",\"ticks\":\"\"}},\"coloraxis\":{\"colorbar\":{\"outlinewidth\":0,\"ticks\":\"\"}},\"colorscale\":{\"sequential\":[[0.0,\"#0d0887\"],[0.1111111111111111,\"#46039f\"],[0.2222222222222222,\"#7201a8\"],[0.3333333333333333,\"#9c179e\"],[0.4444444444444444,\"#bd3786\"],[0.5555555555555556,\"#d8576b\"],[0.6666666666666666,\"#ed7953\"],[0.7777777777777778,\"#fb9f3a\"],[0.8888888888888888,\"#fdca26\"],[1.0,\"#f0f921\"]],\"sequentialminus\":[[0.0,\"#0d0887\"],[0.1111111111111111,\"#46039f\"],[0.2222222222222222,\"#7201a8\"],[0.3333333333333333,\"#9c179e\"],[0.4444444444444444,\"#bd3786\"],[0.5555555555555556,\"#d8576b\"],[0.6666666666666666,\"#ed7953\"],[0.7777777777777778,\"#fb9f3a\"],[0.8888888888888888,\"#fdca26\"],[1.0,\"#f0f921\"]],\"diverging\":[[0,\"#8e0152\"],[0.1,\"#c51b7d\"],[0.2,\"#de77ae\"],[0.3,\"#f1b6da\"],[0.4,\"#fde0ef\"],[0.5,\"#f7f7f7\"],[0.6,\"#e6f5d0\"],[0.7,\"#b8e186\"],[0.8,\"#7fbc41\"],[0.9,\"#4d9221\"],[1,\"#276419\"]]},\"xaxis\":{\"gridcolor\":\"white\",\"linecolor\":\"white\",\"ticks\":\"\",\"title\":{\"standoff\":15},\"zerolinecolor\":\"white\",\"automargin\":true,\"zerolinewidth\":2},\"yaxis\":{\"gridcolor\":\"white\",\"linecolor\":\"white\",\"ticks\":\"\",\"title\":{\"standoff\":15},\"zerolinecolor\":\"white\",\"automargin\":true,\"zerolinewidth\":2},\"scene\":{\"xaxis\":{\"backgroundcolor\":\"#E5ECF6\",\"gridcolor\":\"white\",\"linecolor\":\"white\",\"showbackground\":true,\"ticks\":\"\",\"zerolinecolor\":\"white\",\"gridwidth\":2},\"yaxis\":{\"backgroundcolor\":\"#E5ECF6\",\"gridcolor\":\"white\",\"linecolor\":\"white\",\"showbackground\":true,\"ticks\":\"\",\"zerolinecolor\":\"white\",\"gridwidth\":2},\"zaxis\":{\"backgroundcolor\":\"#E5ECF6\",\"gridcolor\":\"white\",\"linecolor\":\"white\",\"showbackground\":true,\"ticks\":\"\",\"zerolinecolor\":\"white\",\"gridwidth\":2}},\"shapedefaults\":{\"line\":{\"color\":\"#2a3f5f\"}},\"annotationdefaults\":{\"arrowcolor\":\"#2a3f5f\",\"arrowhead\":0,\"arrowwidth\":1},\"geo\":{\"bgcolor\":\"white\",\"landcolor\":\"#E5ECF6\",\"subunitcolor\":\"white\",\"showland\":true,\"showlakes\":true,\"lakecolor\":\"white\"},\"title\":{\"x\":0.05},\"mapbox\":{\"style\":\"light\"}}}},                        {\"responsive\": true}                    ).then(function(){\n",
       "                            \n",
       "var gd = document.getElementById('c060782b-b322-45db-9d71-1ad5fdea9158');\n",
       "var x = new MutationObserver(function (mutations, observer) {{\n",
       "        var display = window.getComputedStyle(gd).display;\n",
       "        if (!display || display === 'none') {{\n",
       "            console.log([gd, 'removed!']);\n",
       "            Plotly.purge(gd);\n",
       "            observer.disconnect();\n",
       "        }}\n",
       "}});\n",
       "\n",
       "// Listen for the removal of the full notebook cells\n",
       "var notebookContainer = gd.closest('#notebook-container');\n",
       "if (notebookContainer) {{\n",
       "    x.observe(notebookContainer, {childList: true});\n",
       "}}\n",
       "\n",
       "// Listen for the clearing of the current output cell\n",
       "var outputEl = gd.closest('.output');\n",
       "if (outputEl) {{\n",
       "    x.observe(outputEl, {childList: true});\n",
       "}}\n",
       "\n",
       "                        })                };                });            </script>        </div>"
      ]
     },
     "metadata": {},
     "output_type": "display_data"
    },
    {
     "data": {
      "application/vnd.plotly.v1+json": {
       "config": {
        "plotlyServerURL": "https://plot.ly"
       },
       "data": [
        {
         "type": "heatmap",
         "x": [
          "Monday",
          "Tuesday",
          "Wednesday",
          "Thursday",
          "Friday",
          "Saturday",
          "Sunday"
         ],
         "y": [
          0,
          1,
          2,
          3,
          4,
          5,
          6,
          7,
          8,
          9,
          10,
          11,
          12,
          13,
          14,
          15,
          16,
          17,
          18,
          19,
          20,
          21,
          22,
          23
         ],
         "z": [
          [
           4,
           1,
           3,
           4,
           2,
           9,
           9
          ],
          [
           5,
           3,
           2,
           5,
           4,
           null,
           4
          ],
          [
           3,
           2,
           null,
           3,
           1,
           7,
           8
          ],
          [
           2,
           null,
           2,
           1,
           1,
           7,
           6
          ],
          [
           null,
           1,
           1,
           null,
           3,
           2,
           3
          ],
          [
           6,
           6,
           null,
           3,
           7,
           3,
           2
          ],
          [
           5,
           7,
           5,
           4,
           8,
           4,
           1
          ],
          [
           2,
           7,
           5,
           6,
           5,
           1,
           1
          ],
          [
           4,
           5,
           3,
           4,
           3,
           3,
           4
          ],
          [
           5,
           7,
           10,
           5,
           7,
           7,
           2
          ],
          [
           2,
           8,
           5,
           6,
           2,
           7,
           7
          ],
          [
           2,
           9,
           7,
           7,
           5,
           2,
           2
          ],
          [
           3,
           10,
           3,
           7,
           6,
           6,
           3
          ],
          [
           5,
           4,
           4,
           7,
           5,
           3,
           4
          ],
          [
           5,
           14,
           6,
           5,
           10,
           3,
           1
          ],
          [
           4,
           8,
           3,
           7,
           8,
           1,
           1
          ],
          [
           5,
           7,
           8,
           6,
           7,
           3,
           2
          ],
          [
           7,
           8,
           7,
           6,
           10,
           2,
           1
          ],
          [
           6,
           6,
           14,
           4,
           11,
           10,
           8
          ],
          [
           2,
           4,
           4,
           5,
           8,
           7,
           4
          ],
          [
           7,
           6,
           9,
           9,
           6,
           6,
           7
          ],
          [
           6,
           7,
           5,
           7,
           7,
           3,
           8
          ],
          [
           1,
           5,
           3,
           9,
           7,
           3,
           1
          ],
          [
           null,
           2,
           4,
           4,
           7,
           9,
           4
          ]
         ]
        }
       ],
       "layout": {
        "height": 650,
        "template": {
         "data": {
          "bar": [
           {
            "error_x": {
             "color": "#2a3f5f"
            },
            "error_y": {
             "color": "#2a3f5f"
            },
            "marker": {
             "line": {
              "color": "#E5ECF6",
              "width": 0.5
             },
             "pattern": {
              "fillmode": "overlay",
              "size": 10,
              "solidity": 0.2
             }
            },
            "type": "bar"
           }
          ],
          "barpolar": [
           {
            "marker": {
             "line": {
              "color": "#E5ECF6",
              "width": 0.5
             },
             "pattern": {
              "fillmode": "overlay",
              "size": 10,
              "solidity": 0.2
             }
            },
            "type": "barpolar"
           }
          ],
          "carpet": [
           {
            "aaxis": {
             "endlinecolor": "#2a3f5f",
             "gridcolor": "white",
             "linecolor": "white",
             "minorgridcolor": "white",
             "startlinecolor": "#2a3f5f"
            },
            "baxis": {
             "endlinecolor": "#2a3f5f",
             "gridcolor": "white",
             "linecolor": "white",
             "minorgridcolor": "white",
             "startlinecolor": "#2a3f5f"
            },
            "type": "carpet"
           }
          ],
          "choropleth": [
           {
            "colorbar": {
             "outlinewidth": 0,
             "ticks": ""
            },
            "type": "choropleth"
           }
          ],
          "contour": [
           {
            "colorbar": {
             "outlinewidth": 0,
             "ticks": ""
            },
            "colorscale": [
             [
              0,
              "#0d0887"
             ],
             [
              0.1111111111111111,
              "#46039f"
             ],
             [
              0.2222222222222222,
              "#7201a8"
             ],
             [
              0.3333333333333333,
              "#9c179e"
             ],
             [
              0.4444444444444444,
              "#bd3786"
             ],
             [
              0.5555555555555556,
              "#d8576b"
             ],
             [
              0.6666666666666666,
              "#ed7953"
             ],
             [
              0.7777777777777778,
              "#fb9f3a"
             ],
             [
              0.8888888888888888,
              "#fdca26"
             ],
             [
              1,
              "#f0f921"
             ]
            ],
            "type": "contour"
           }
          ],
          "contourcarpet": [
           {
            "colorbar": {
             "outlinewidth": 0,
             "ticks": ""
            },
            "type": "contourcarpet"
           }
          ],
          "heatmap": [
           {
            "colorbar": {
             "outlinewidth": 0,
             "ticks": ""
            },
            "colorscale": [
             [
              0,
              "#0d0887"
             ],
             [
              0.1111111111111111,
              "#46039f"
             ],
             [
              0.2222222222222222,
              "#7201a8"
             ],
             [
              0.3333333333333333,
              "#9c179e"
             ],
             [
              0.4444444444444444,
              "#bd3786"
             ],
             [
              0.5555555555555556,
              "#d8576b"
             ],
             [
              0.6666666666666666,
              "#ed7953"
             ],
             [
              0.7777777777777778,
              "#fb9f3a"
             ],
             [
              0.8888888888888888,
              "#fdca26"
             ],
             [
              1,
              "#f0f921"
             ]
            ],
            "type": "heatmap"
           }
          ],
          "heatmapgl": [
           {
            "colorbar": {
             "outlinewidth": 0,
             "ticks": ""
            },
            "colorscale": [
             [
              0,
              "#0d0887"
             ],
             [
              0.1111111111111111,
              "#46039f"
             ],
             [
              0.2222222222222222,
              "#7201a8"
             ],
             [
              0.3333333333333333,
              "#9c179e"
             ],
             [
              0.4444444444444444,
              "#bd3786"
             ],
             [
              0.5555555555555556,
              "#d8576b"
             ],
             [
              0.6666666666666666,
              "#ed7953"
             ],
             [
              0.7777777777777778,
              "#fb9f3a"
             ],
             [
              0.8888888888888888,
              "#fdca26"
             ],
             [
              1,
              "#f0f921"
             ]
            ],
            "type": "heatmapgl"
           }
          ],
          "histogram": [
           {
            "marker": {
             "pattern": {
              "fillmode": "overlay",
              "size": 10,
              "solidity": 0.2
             }
            },
            "type": "histogram"
           }
          ],
          "histogram2d": [
           {
            "colorbar": {
             "outlinewidth": 0,
             "ticks": ""
            },
            "colorscale": [
             [
              0,
              "#0d0887"
             ],
             [
              0.1111111111111111,
              "#46039f"
             ],
             [
              0.2222222222222222,
              "#7201a8"
             ],
             [
              0.3333333333333333,
              "#9c179e"
             ],
             [
              0.4444444444444444,
              "#bd3786"
             ],
             [
              0.5555555555555556,
              "#d8576b"
             ],
             [
              0.6666666666666666,
              "#ed7953"
             ],
             [
              0.7777777777777778,
              "#fb9f3a"
             ],
             [
              0.8888888888888888,
              "#fdca26"
             ],
             [
              1,
              "#f0f921"
             ]
            ],
            "type": "histogram2d"
           }
          ],
          "histogram2dcontour": [
           {
            "colorbar": {
             "outlinewidth": 0,
             "ticks": ""
            },
            "colorscale": [
             [
              0,
              "#0d0887"
             ],
             [
              0.1111111111111111,
              "#46039f"
             ],
             [
              0.2222222222222222,
              "#7201a8"
             ],
             [
              0.3333333333333333,
              "#9c179e"
             ],
             [
              0.4444444444444444,
              "#bd3786"
             ],
             [
              0.5555555555555556,
              "#d8576b"
             ],
             [
              0.6666666666666666,
              "#ed7953"
             ],
             [
              0.7777777777777778,
              "#fb9f3a"
             ],
             [
              0.8888888888888888,
              "#fdca26"
             ],
             [
              1,
              "#f0f921"
             ]
            ],
            "type": "histogram2dcontour"
           }
          ],
          "mesh3d": [
           {
            "colorbar": {
             "outlinewidth": 0,
             "ticks": ""
            },
            "type": "mesh3d"
           }
          ],
          "parcoords": [
           {
            "line": {
             "colorbar": {
              "outlinewidth": 0,
              "ticks": ""
             }
            },
            "type": "parcoords"
           }
          ],
          "pie": [
           {
            "automargin": true,
            "type": "pie"
           }
          ],
          "scatter": [
           {
            "fillpattern": {
             "fillmode": "overlay",
             "size": 10,
             "solidity": 0.2
            },
            "type": "scatter"
           }
          ],
          "scatter3d": [
           {
            "line": {
             "colorbar": {
              "outlinewidth": 0,
              "ticks": ""
             }
            },
            "marker": {
             "colorbar": {
              "outlinewidth": 0,
              "ticks": ""
             }
            },
            "type": "scatter3d"
           }
          ],
          "scattercarpet": [
           {
            "marker": {
             "colorbar": {
              "outlinewidth": 0,
              "ticks": ""
             }
            },
            "type": "scattercarpet"
           }
          ],
          "scattergeo": [
           {
            "marker": {
             "colorbar": {
              "outlinewidth": 0,
              "ticks": ""
             }
            },
            "type": "scattergeo"
           }
          ],
          "scattergl": [
           {
            "marker": {
             "colorbar": {
              "outlinewidth": 0,
              "ticks": ""
             }
            },
            "type": "scattergl"
           }
          ],
          "scattermapbox": [
           {
            "marker": {
             "colorbar": {
              "outlinewidth": 0,
              "ticks": ""
             }
            },
            "type": "scattermapbox"
           }
          ],
          "scatterpolar": [
           {
            "marker": {
             "colorbar": {
              "outlinewidth": 0,
              "ticks": ""
             }
            },
            "type": "scatterpolar"
           }
          ],
          "scatterpolargl": [
           {
            "marker": {
             "colorbar": {
              "outlinewidth": 0,
              "ticks": ""
             }
            },
            "type": "scatterpolargl"
           }
          ],
          "scatterternary": [
           {
            "marker": {
             "colorbar": {
              "outlinewidth": 0,
              "ticks": ""
             }
            },
            "type": "scatterternary"
           }
          ],
          "surface": [
           {
            "colorbar": {
             "outlinewidth": 0,
             "ticks": ""
            },
            "colorscale": [
             [
              0,
              "#0d0887"
             ],
             [
              0.1111111111111111,
              "#46039f"
             ],
             [
              0.2222222222222222,
              "#7201a8"
             ],
             [
              0.3333333333333333,
              "#9c179e"
             ],
             [
              0.4444444444444444,
              "#bd3786"
             ],
             [
              0.5555555555555556,
              "#d8576b"
             ],
             [
              0.6666666666666666,
              "#ed7953"
             ],
             [
              0.7777777777777778,
              "#fb9f3a"
             ],
             [
              0.8888888888888888,
              "#fdca26"
             ],
             [
              1,
              "#f0f921"
             ]
            ],
            "type": "surface"
           }
          ],
          "table": [
           {
            "cells": {
             "fill": {
              "color": "#EBF0F8"
             },
             "line": {
              "color": "white"
             }
            },
            "header": {
             "fill": {
              "color": "#C8D4E3"
             },
             "line": {
              "color": "white"
             }
            },
            "type": "table"
           }
          ]
         },
         "layout": {
          "annotationdefaults": {
           "arrowcolor": "#2a3f5f",
           "arrowhead": 0,
           "arrowwidth": 1
          },
          "autotypenumbers": "strict",
          "coloraxis": {
           "colorbar": {
            "outlinewidth": 0,
            "ticks": ""
           }
          },
          "colorscale": {
           "diverging": [
            [
             0,
             "#8e0152"
            ],
            [
             0.1,
             "#c51b7d"
            ],
            [
             0.2,
             "#de77ae"
            ],
            [
             0.3,
             "#f1b6da"
            ],
            [
             0.4,
             "#fde0ef"
            ],
            [
             0.5,
             "#f7f7f7"
            ],
            [
             0.6,
             "#e6f5d0"
            ],
            [
             0.7,
             "#b8e186"
            ],
            [
             0.8,
             "#7fbc41"
            ],
            [
             0.9,
             "#4d9221"
            ],
            [
             1,
             "#276419"
            ]
           ],
           "sequential": [
            [
             0,
             "#0d0887"
            ],
            [
             0.1111111111111111,
             "#46039f"
            ],
            [
             0.2222222222222222,
             "#7201a8"
            ],
            [
             0.3333333333333333,
             "#9c179e"
            ],
            [
             0.4444444444444444,
             "#bd3786"
            ],
            [
             0.5555555555555556,
             "#d8576b"
            ],
            [
             0.6666666666666666,
             "#ed7953"
            ],
            [
             0.7777777777777778,
             "#fb9f3a"
            ],
            [
             0.8888888888888888,
             "#fdca26"
            ],
            [
             1,
             "#f0f921"
            ]
           ],
           "sequentialminus": [
            [
             0,
             "#0d0887"
            ],
            [
             0.1111111111111111,
             "#46039f"
            ],
            [
             0.2222222222222222,
             "#7201a8"
            ],
            [
             0.3333333333333333,
             "#9c179e"
            ],
            [
             0.4444444444444444,
             "#bd3786"
            ],
            [
             0.5555555555555556,
             "#d8576b"
            ],
            [
             0.6666666666666666,
             "#ed7953"
            ],
            [
             0.7777777777777778,
             "#fb9f3a"
            ],
            [
             0.8888888888888888,
             "#fdca26"
            ],
            [
             1,
             "#f0f921"
            ]
           ]
          },
          "colorway": [
           "#636efa",
           "#EF553B",
           "#00cc96",
           "#ab63fa",
           "#FFA15A",
           "#19d3f3",
           "#FF6692",
           "#B6E880",
           "#FF97FF",
           "#FECB52"
          ],
          "font": {
           "color": "#2a3f5f"
          },
          "geo": {
           "bgcolor": "white",
           "lakecolor": "white",
           "landcolor": "#E5ECF6",
           "showlakes": true,
           "showland": true,
           "subunitcolor": "white"
          },
          "hoverlabel": {
           "align": "left"
          },
          "hovermode": "closest",
          "mapbox": {
           "style": "light"
          },
          "paper_bgcolor": "white",
          "plot_bgcolor": "#E5ECF6",
          "polar": {
           "angularaxis": {
            "gridcolor": "white",
            "linecolor": "white",
            "ticks": ""
           },
           "bgcolor": "#E5ECF6",
           "radialaxis": {
            "gridcolor": "white",
            "linecolor": "white",
            "ticks": ""
           }
          },
          "scene": {
           "xaxis": {
            "backgroundcolor": "#E5ECF6",
            "gridcolor": "white",
            "gridwidth": 2,
            "linecolor": "white",
            "showbackground": true,
            "ticks": "",
            "zerolinecolor": "white"
           },
           "yaxis": {
            "backgroundcolor": "#E5ECF6",
            "gridcolor": "white",
            "gridwidth": 2,
            "linecolor": "white",
            "showbackground": true,
            "ticks": "",
            "zerolinecolor": "white"
           },
           "zaxis": {
            "backgroundcolor": "#E5ECF6",
            "gridcolor": "white",
            "gridwidth": 2,
            "linecolor": "white",
            "showbackground": true,
            "ticks": "",
            "zerolinecolor": "white"
           }
          },
          "shapedefaults": {
           "line": {
            "color": "#2a3f5f"
           }
          },
          "ternary": {
           "aaxis": {
            "gridcolor": "white",
            "linecolor": "white",
            "ticks": ""
           },
           "baxis": {
            "gridcolor": "white",
            "linecolor": "white",
            "ticks": ""
           },
           "bgcolor": "#E5ECF6",
           "caxis": {
            "gridcolor": "white",
            "linecolor": "white",
            "ticks": ""
           }
          },
          "title": {
           "x": 0.05
          },
          "xaxis": {
           "automargin": true,
           "gridcolor": "white",
           "linecolor": "white",
           "ticks": "",
           "title": {
            "standoff": 15
           },
           "zerolinecolor": "white",
           "zerolinewidth": 2
          },
          "yaxis": {
           "automargin": true,
           "gridcolor": "white",
           "linecolor": "white",
           "ticks": "",
           "title": {
            "standoff": 15
           },
           "zerolinecolor": "white",
           "zerolinewidth": 2
          }
         }
        },
        "title": {
         "font": {
          "size": 20
         },
         "text": "Severe Collisions by Day of Week and Time of Day"
        },
        "xaxis": {
         "tickfont": {
          "size": 12
         },
         "title": {
          "text": "Day of Week"
         },
         "type": "category"
        },
        "yaxis": {
         "tickfont": {
          "size": 12
         },
         "title": {
          "text": "Hour of Day"
         },
         "type": "category"
        }
       }
      },
      "text/html": [
       "<div>                            <div id=\"7928de4e-39f5-4771-8a04-29de06c737eb\" class=\"plotly-graph-div\" style=\"height:650px; width:100%;\"></div>            <script type=\"text/javascript\">                require([\"plotly\"], function(Plotly) {                    window.PLOTLYENV=window.PLOTLYENV || {};                                    if (document.getElementById(\"7928de4e-39f5-4771-8a04-29de06c737eb\")) {                    Plotly.newPlot(                        \"7928de4e-39f5-4771-8a04-29de06c737eb\",                        [{\"x\":[\"Monday\",\"Tuesday\",\"Wednesday\",\"Thursday\",\"Friday\",\"Saturday\",\"Sunday\"],\"y\":[0,1,2,3,4,5,6,7,8,9,10,11,12,13,14,15,16,17,18,19,20,21,22,23],\"z\":[[4.0,1.0,3.0,4.0,2.0,9.0,9.0],[5.0,3.0,2.0,5.0,4.0,null,4.0],[3.0,2.0,null,3.0,1.0,7.0,8.0],[2.0,null,2.0,1.0,1.0,7.0,6.0],[null,1.0,1.0,null,3.0,2.0,3.0],[6.0,6.0,null,3.0,7.0,3.0,2.0],[5.0,7.0,5.0,4.0,8.0,4.0,1.0],[2.0,7.0,5.0,6.0,5.0,1.0,1.0],[4.0,5.0,3.0,4.0,3.0,3.0,4.0],[5.0,7.0,10.0,5.0,7.0,7.0,2.0],[2.0,8.0,5.0,6.0,2.0,7.0,7.0],[2.0,9.0,7.0,7.0,5.0,2.0,2.0],[3.0,10.0,3.0,7.0,6.0,6.0,3.0],[5.0,4.0,4.0,7.0,5.0,3.0,4.0],[5.0,14.0,6.0,5.0,10.0,3.0,1.0],[4.0,8.0,3.0,7.0,8.0,1.0,1.0],[5.0,7.0,8.0,6.0,7.0,3.0,2.0],[7.0,8.0,7.0,6.0,10.0,2.0,1.0],[6.0,6.0,14.0,4.0,11.0,10.0,8.0],[2.0,4.0,4.0,5.0,8.0,7.0,4.0],[7.0,6.0,9.0,9.0,6.0,6.0,7.0],[6.0,7.0,5.0,7.0,7.0,3.0,8.0],[1.0,5.0,3.0,9.0,7.0,3.0,1.0],[null,2.0,4.0,4.0,7.0,9.0,4.0]],\"type\":\"heatmap\"}],                        {\"height\":650,\"title\":{\"text\":\"Severe Collisions by Day of Week and Time of Day\",\"font\":{\"size\":20}},\"xaxis\":{\"title\":{\"text\":\"Day of Week\"},\"type\":\"category\",\"tickfont\":{\"size\":12}},\"yaxis\":{\"title\":{\"text\":\"Hour of Day\"},\"type\":\"category\",\"tickfont\":{\"size\":12}},\"template\":{\"data\":{\"histogram2dcontour\":[{\"type\":\"histogram2dcontour\",\"colorbar\":{\"outlinewidth\":0,\"ticks\":\"\"},\"colorscale\":[[0.0,\"#0d0887\"],[0.1111111111111111,\"#46039f\"],[0.2222222222222222,\"#7201a8\"],[0.3333333333333333,\"#9c179e\"],[0.4444444444444444,\"#bd3786\"],[0.5555555555555556,\"#d8576b\"],[0.6666666666666666,\"#ed7953\"],[0.7777777777777778,\"#fb9f3a\"],[0.8888888888888888,\"#fdca26\"],[1.0,\"#f0f921\"]]}],\"choropleth\":[{\"type\":\"choropleth\",\"colorbar\":{\"outlinewidth\":0,\"ticks\":\"\"}}],\"histogram2d\":[{\"type\":\"histogram2d\",\"colorbar\":{\"outlinewidth\":0,\"ticks\":\"\"},\"colorscale\":[[0.0,\"#0d0887\"],[0.1111111111111111,\"#46039f\"],[0.2222222222222222,\"#7201a8\"],[0.3333333333333333,\"#9c179e\"],[0.4444444444444444,\"#bd3786\"],[0.5555555555555556,\"#d8576b\"],[0.6666666666666666,\"#ed7953\"],[0.7777777777777778,\"#fb9f3a\"],[0.8888888888888888,\"#fdca26\"],[1.0,\"#f0f921\"]]}],\"heatmap\":[{\"type\":\"heatmap\",\"colorbar\":{\"outlinewidth\":0,\"ticks\":\"\"},\"colorscale\":[[0.0,\"#0d0887\"],[0.1111111111111111,\"#46039f\"],[0.2222222222222222,\"#7201a8\"],[0.3333333333333333,\"#9c179e\"],[0.4444444444444444,\"#bd3786\"],[0.5555555555555556,\"#d8576b\"],[0.6666666666666666,\"#ed7953\"],[0.7777777777777778,\"#fb9f3a\"],[0.8888888888888888,\"#fdca26\"],[1.0,\"#f0f921\"]]}],\"heatmapgl\":[{\"type\":\"heatmapgl\",\"colorbar\":{\"outlinewidth\":0,\"ticks\":\"\"},\"colorscale\":[[0.0,\"#0d0887\"],[0.1111111111111111,\"#46039f\"],[0.2222222222222222,\"#7201a8\"],[0.3333333333333333,\"#9c179e\"],[0.4444444444444444,\"#bd3786\"],[0.5555555555555556,\"#d8576b\"],[0.6666666666666666,\"#ed7953\"],[0.7777777777777778,\"#fb9f3a\"],[0.8888888888888888,\"#fdca26\"],[1.0,\"#f0f921\"]]}],\"contourcarpet\":[{\"type\":\"contourcarpet\",\"colorbar\":{\"outlinewidth\":0,\"ticks\":\"\"}}],\"contour\":[{\"type\":\"contour\",\"colorbar\":{\"outlinewidth\":0,\"ticks\":\"\"},\"colorscale\":[[0.0,\"#0d0887\"],[0.1111111111111111,\"#46039f\"],[0.2222222222222222,\"#7201a8\"],[0.3333333333333333,\"#9c179e\"],[0.4444444444444444,\"#bd3786\"],[0.5555555555555556,\"#d8576b\"],[0.6666666666666666,\"#ed7953\"],[0.7777777777777778,\"#fb9f3a\"],[0.8888888888888888,\"#fdca26\"],[1.0,\"#f0f921\"]]}],\"surface\":[{\"type\":\"surface\",\"colorbar\":{\"outlinewidth\":0,\"ticks\":\"\"},\"colorscale\":[[0.0,\"#0d0887\"],[0.1111111111111111,\"#46039f\"],[0.2222222222222222,\"#7201a8\"],[0.3333333333333333,\"#9c179e\"],[0.4444444444444444,\"#bd3786\"],[0.5555555555555556,\"#d8576b\"],[0.6666666666666666,\"#ed7953\"],[0.7777777777777778,\"#fb9f3a\"],[0.8888888888888888,\"#fdca26\"],[1.0,\"#f0f921\"]]}],\"mesh3d\":[{\"type\":\"mesh3d\",\"colorbar\":{\"outlinewidth\":0,\"ticks\":\"\"}}],\"scatter\":[{\"fillpattern\":{\"fillmode\":\"overlay\",\"size\":10,\"solidity\":0.2},\"type\":\"scatter\"}],\"parcoords\":[{\"type\":\"parcoords\",\"line\":{\"colorbar\":{\"outlinewidth\":0,\"ticks\":\"\"}}}],\"scatterpolargl\":[{\"type\":\"scatterpolargl\",\"marker\":{\"colorbar\":{\"outlinewidth\":0,\"ticks\":\"\"}}}],\"bar\":[{\"error_x\":{\"color\":\"#2a3f5f\"},\"error_y\":{\"color\":\"#2a3f5f\"},\"marker\":{\"line\":{\"color\":\"#E5ECF6\",\"width\":0.5},\"pattern\":{\"fillmode\":\"overlay\",\"size\":10,\"solidity\":0.2}},\"type\":\"bar\"}],\"scattergeo\":[{\"type\":\"scattergeo\",\"marker\":{\"colorbar\":{\"outlinewidth\":0,\"ticks\":\"\"}}}],\"scatterpolar\":[{\"type\":\"scatterpolar\",\"marker\":{\"colorbar\":{\"outlinewidth\":0,\"ticks\":\"\"}}}],\"histogram\":[{\"marker\":{\"pattern\":{\"fillmode\":\"overlay\",\"size\":10,\"solidity\":0.2}},\"type\":\"histogram\"}],\"scattergl\":[{\"type\":\"scattergl\",\"marker\":{\"colorbar\":{\"outlinewidth\":0,\"ticks\":\"\"}}}],\"scatter3d\":[{\"type\":\"scatter3d\",\"line\":{\"colorbar\":{\"outlinewidth\":0,\"ticks\":\"\"}},\"marker\":{\"colorbar\":{\"outlinewidth\":0,\"ticks\":\"\"}}}],\"scattermapbox\":[{\"type\":\"scattermapbox\",\"marker\":{\"colorbar\":{\"outlinewidth\":0,\"ticks\":\"\"}}}],\"scatterternary\":[{\"type\":\"scatterternary\",\"marker\":{\"colorbar\":{\"outlinewidth\":0,\"ticks\":\"\"}}}],\"scattercarpet\":[{\"type\":\"scattercarpet\",\"marker\":{\"colorbar\":{\"outlinewidth\":0,\"ticks\":\"\"}}}],\"carpet\":[{\"aaxis\":{\"endlinecolor\":\"#2a3f5f\",\"gridcolor\":\"white\",\"linecolor\":\"white\",\"minorgridcolor\":\"white\",\"startlinecolor\":\"#2a3f5f\"},\"baxis\":{\"endlinecolor\":\"#2a3f5f\",\"gridcolor\":\"white\",\"linecolor\":\"white\",\"minorgridcolor\":\"white\",\"startlinecolor\":\"#2a3f5f\"},\"type\":\"carpet\"}],\"table\":[{\"cells\":{\"fill\":{\"color\":\"#EBF0F8\"},\"line\":{\"color\":\"white\"}},\"header\":{\"fill\":{\"color\":\"#C8D4E3\"},\"line\":{\"color\":\"white\"}},\"type\":\"table\"}],\"barpolar\":[{\"marker\":{\"line\":{\"color\":\"#E5ECF6\",\"width\":0.5},\"pattern\":{\"fillmode\":\"overlay\",\"size\":10,\"solidity\":0.2}},\"type\":\"barpolar\"}],\"pie\":[{\"automargin\":true,\"type\":\"pie\"}]},\"layout\":{\"autotypenumbers\":\"strict\",\"colorway\":[\"#636efa\",\"#EF553B\",\"#00cc96\",\"#ab63fa\",\"#FFA15A\",\"#19d3f3\",\"#FF6692\",\"#B6E880\",\"#FF97FF\",\"#FECB52\"],\"font\":{\"color\":\"#2a3f5f\"},\"hovermode\":\"closest\",\"hoverlabel\":{\"align\":\"left\"},\"paper_bgcolor\":\"white\",\"plot_bgcolor\":\"#E5ECF6\",\"polar\":{\"bgcolor\":\"#E5ECF6\",\"angularaxis\":{\"gridcolor\":\"white\",\"linecolor\":\"white\",\"ticks\":\"\"},\"radialaxis\":{\"gridcolor\":\"white\",\"linecolor\":\"white\",\"ticks\":\"\"}},\"ternary\":{\"bgcolor\":\"#E5ECF6\",\"aaxis\":{\"gridcolor\":\"white\",\"linecolor\":\"white\",\"ticks\":\"\"},\"baxis\":{\"gridcolor\":\"white\",\"linecolor\":\"white\",\"ticks\":\"\"},\"caxis\":{\"gridcolor\":\"white\",\"linecolor\":\"white\",\"ticks\":\"\"}},\"coloraxis\":{\"colorbar\":{\"outlinewidth\":0,\"ticks\":\"\"}},\"colorscale\":{\"sequential\":[[0.0,\"#0d0887\"],[0.1111111111111111,\"#46039f\"],[0.2222222222222222,\"#7201a8\"],[0.3333333333333333,\"#9c179e\"],[0.4444444444444444,\"#bd3786\"],[0.5555555555555556,\"#d8576b\"],[0.6666666666666666,\"#ed7953\"],[0.7777777777777778,\"#fb9f3a\"],[0.8888888888888888,\"#fdca26\"],[1.0,\"#f0f921\"]],\"sequentialminus\":[[0.0,\"#0d0887\"],[0.1111111111111111,\"#46039f\"],[0.2222222222222222,\"#7201a8\"],[0.3333333333333333,\"#9c179e\"],[0.4444444444444444,\"#bd3786\"],[0.5555555555555556,\"#d8576b\"],[0.6666666666666666,\"#ed7953\"],[0.7777777777777778,\"#fb9f3a\"],[0.8888888888888888,\"#fdca26\"],[1.0,\"#f0f921\"]],\"diverging\":[[0,\"#8e0152\"],[0.1,\"#c51b7d\"],[0.2,\"#de77ae\"],[0.3,\"#f1b6da\"],[0.4,\"#fde0ef\"],[0.5,\"#f7f7f7\"],[0.6,\"#e6f5d0\"],[0.7,\"#b8e186\"],[0.8,\"#7fbc41\"],[0.9,\"#4d9221\"],[1,\"#276419\"]]},\"xaxis\":{\"gridcolor\":\"white\",\"linecolor\":\"white\",\"ticks\":\"\",\"title\":{\"standoff\":15},\"zerolinecolor\":\"white\",\"automargin\":true,\"zerolinewidth\":2},\"yaxis\":{\"gridcolor\":\"white\",\"linecolor\":\"white\",\"ticks\":\"\",\"title\":{\"standoff\":15},\"zerolinecolor\":\"white\",\"automargin\":true,\"zerolinewidth\":2},\"scene\":{\"xaxis\":{\"backgroundcolor\":\"#E5ECF6\",\"gridcolor\":\"white\",\"linecolor\":\"white\",\"showbackground\":true,\"ticks\":\"\",\"zerolinecolor\":\"white\",\"gridwidth\":2},\"yaxis\":{\"backgroundcolor\":\"#E5ECF6\",\"gridcolor\":\"white\",\"linecolor\":\"white\",\"showbackground\":true,\"ticks\":\"\",\"zerolinecolor\":\"white\",\"gridwidth\":2},\"zaxis\":{\"backgroundcolor\":\"#E5ECF6\",\"gridcolor\":\"white\",\"linecolor\":\"white\",\"showbackground\":true,\"ticks\":\"\",\"zerolinecolor\":\"white\",\"gridwidth\":2}},\"shapedefaults\":{\"line\":{\"color\":\"#2a3f5f\"}},\"annotationdefaults\":{\"arrowcolor\":\"#2a3f5f\",\"arrowhead\":0,\"arrowwidth\":1},\"geo\":{\"bgcolor\":\"white\",\"landcolor\":\"#E5ECF6\",\"subunitcolor\":\"white\",\"showland\":true,\"showlakes\":true,\"lakecolor\":\"white\"},\"title\":{\"x\":0.05},\"mapbox\":{\"style\":\"light\"}}}},                        {\"responsive\": true}                    ).then(function(){\n",
       "                            \n",
       "var gd = document.getElementById('7928de4e-39f5-4771-8a04-29de06c737eb');\n",
       "var x = new MutationObserver(function (mutations, observer) {{\n",
       "        var display = window.getComputedStyle(gd).display;\n",
       "        if (!display || display === 'none') {{\n",
       "            console.log([gd, 'removed!']);\n",
       "            Plotly.purge(gd);\n",
       "            observer.disconnect();\n",
       "        }}\n",
       "}});\n",
       "\n",
       "// Listen for the removal of the full notebook cells\n",
       "var notebookContainer = gd.closest('#notebook-container');\n",
       "if (notebookContainer) {{\n",
       "    x.observe(notebookContainer, {childList: true});\n",
       "}}\n",
       "\n",
       "// Listen for the clearing of the current output cell\n",
       "var outputEl = gd.closest('.output');\n",
       "if (outputEl) {{\n",
       "    x.observe(outputEl, {childList: true});\n",
       "}}\n",
       "\n",
       "                        })                };                });            </script>        </div>"
      ]
     },
     "metadata": {},
     "output_type": "display_data"
    }
   ],
   "source": [
    "collision_dow_hod = df_seriously_injured.groupby(['HOUR', 'Day_of_Week'])['ACCNUM'].count().unstack()\n",
    "collision_dow_hod = collision_dow_hod[['Monday', 'Tuesday', 'Wednesday', 'Thursday', 'Friday', 'Saturday', 'Sunday']]\n",
    "\n",
    "temp = df_seriously_injured[(df_seriously_injured.ACCLASS=='Fatal')]\n",
    "collision_dow_hod_severe = temp.groupby(['HOUR', 'Day_of_Week'])['ACCNUM'].count().unstack()\n",
    "collision_dow_hod_severe = collision_dow_hod_severe[['Monday', 'Tuesday', 'Wednesday', 'Thursday', 'Friday', 'Saturday', 'Sunday']]\n",
    "\n",
    "data = [collision_dow_hod, collision_dow_hod_severe]\n",
    "title = [\n",
    "    'Collision by Day of Week and Time of Day', \n",
    "    'Severe Collisions by Day of Week and Time of Day'\n",
    "]\n",
    "chart_data = zip(data, title)\n",
    "\n",
    "for item in chart_data:\n",
    "    \n",
    "    fig = {\n",
    "        \"data\": [{\"type\": \"heatmap\",\n",
    "                  \"x\": item[0].columns,\n",
    "                  \"y\": item[0].index,\n",
    "                  \"z\": item[0].values.tolist(),\n",
    "                 }],\n",
    "        \"layout\": {\"title\": {\"text\": item[1], \"font_size\": 20},\n",
    "                   \"xaxis\": {\"title\": \"Day of Week\",\n",
    "                             \"tickfont_size\": 12, \n",
    "                             \"type\": \"category\"},\n",
    "                   \"yaxis\": {\"title\": \"Hour of Day\",  \n",
    "                             \"tickfont_size\": 12,\n",
    "                             \"type\": \"category\"},\n",
    "                   \"height\": 650\n",
    "                  }\n",
    "    }\n",
    "\n",
    "    pio.show(fig)"
   ]
  },
  {
   "cell_type": "markdown",
   "id": "140b9a71",
   "metadata": {},
   "source": [
    "# Collisions by type"
   ]
  },
  {
   "cell_type": "code",
   "execution_count": 53,
   "id": "4ced641f",
   "metadata": {},
   "outputs": [
    {
     "data": {
      "text/html": [
       "<div>\n",
       "<style scoped>\n",
       "    .dataframe tbody tr th:only-of-type {\n",
       "        vertical-align: middle;\n",
       "    }\n",
       "\n",
       "    .dataframe tbody tr th {\n",
       "        vertical-align: top;\n",
       "    }\n",
       "\n",
       "    .dataframe thead th {\n",
       "        text-align: right;\n",
       "    }\n",
       "</style>\n",
       "<table border=\"1\" class=\"dataframe\">\n",
       "  <thead>\n",
       "    <tr style=\"text-align: right;\">\n",
       "      <th>IMPACTYPE</th>\n",
       "      <th>Angle</th>\n",
       "      <th>Approaching</th>\n",
       "      <th>Cyclist Collisions</th>\n",
       "      <th>Other</th>\n",
       "      <th>Pedestrian Collisions</th>\n",
       "      <th>Rear End</th>\n",
       "      <th>SMV Other</th>\n",
       "      <th>SMV Unattended Vehicle</th>\n",
       "      <th>Sideswipe</th>\n",
       "      <th>Turning Movement</th>\n",
       "    </tr>\n",
       "    <tr>\n",
       "      <th>YEAR</th>\n",
       "      <th></th>\n",
       "      <th></th>\n",
       "      <th></th>\n",
       "      <th></th>\n",
       "      <th></th>\n",
       "      <th></th>\n",
       "      <th></th>\n",
       "      <th></th>\n",
       "      <th></th>\n",
       "      <th></th>\n",
       "    </tr>\n",
       "  </thead>\n",
       "  <tbody>\n",
       "    <tr>\n",
       "      <th>2006</th>\n",
       "      <td>31.0</td>\n",
       "      <td>24.0</td>\n",
       "      <td>52.0</td>\n",
       "      <td>3.0</td>\n",
       "      <td>213.0</td>\n",
       "      <td>28.0</td>\n",
       "      <td>61.0</td>\n",
       "      <td>6.0</td>\n",
       "      <td>12.0</td>\n",
       "      <td>51.0</td>\n",
       "    </tr>\n",
       "    <tr>\n",
       "      <th>2007</th>\n",
       "      <td>35.0</td>\n",
       "      <td>23.0</td>\n",
       "      <td>37.0</td>\n",
       "      <td>1.0</td>\n",
       "      <td>186.0</td>\n",
       "      <td>37.0</td>\n",
       "      <td>52.0</td>\n",
       "      <td>6.0</td>\n",
       "      <td>11.0</td>\n",
       "      <td>65.0</td>\n",
       "    </tr>\n",
       "    <tr>\n",
       "      <th>2008</th>\n",
       "      <td>26.0</td>\n",
       "      <td>29.0</td>\n",
       "      <td>40.0</td>\n",
       "      <td>4.0</td>\n",
       "      <td>183.0</td>\n",
       "      <td>35.0</td>\n",
       "      <td>40.0</td>\n",
       "      <td>2.0</td>\n",
       "      <td>14.0</td>\n",
       "      <td>44.0</td>\n",
       "    </tr>\n",
       "    <tr>\n",
       "      <th>2009</th>\n",
       "      <td>23.0</td>\n",
       "      <td>16.0</td>\n",
       "      <td>39.0</td>\n",
       "      <td>3.0</td>\n",
       "      <td>201.0</td>\n",
       "      <td>40.0</td>\n",
       "      <td>44.0</td>\n",
       "      <td>6.0</td>\n",
       "      <td>9.0</td>\n",
       "      <td>57.0</td>\n",
       "    </tr>\n",
       "    <tr>\n",
       "      <th>2010</th>\n",
       "      <td>25.0</td>\n",
       "      <td>11.0</td>\n",
       "      <td>41.0</td>\n",
       "      <td>4.0</td>\n",
       "      <td>181.0</td>\n",
       "      <td>30.0</td>\n",
       "      <td>34.0</td>\n",
       "      <td>9.0</td>\n",
       "      <td>10.0</td>\n",
       "      <td>55.0</td>\n",
       "    </tr>\n",
       "    <tr>\n",
       "      <th>2011</th>\n",
       "      <td>13.0</td>\n",
       "      <td>10.0</td>\n",
       "      <td>52.0</td>\n",
       "      <td>2.0</td>\n",
       "      <td>186.0</td>\n",
       "      <td>43.0</td>\n",
       "      <td>42.0</td>\n",
       "      <td>2.0</td>\n",
       "      <td>10.0</td>\n",
       "      <td>39.0</td>\n",
       "    </tr>\n",
       "    <tr>\n",
       "      <th>2012</th>\n",
       "      <td>24.0</td>\n",
       "      <td>9.0</td>\n",
       "      <td>70.0</td>\n",
       "      <td>9.0</td>\n",
       "      <td>201.0</td>\n",
       "      <td>32.0</td>\n",
       "      <td>48.0</td>\n",
       "      <td>7.0</td>\n",
       "      <td>5.0</td>\n",
       "      <td>48.0</td>\n",
       "    </tr>\n",
       "    <tr>\n",
       "      <th>2013</th>\n",
       "      <td>14.0</td>\n",
       "      <td>14.0</td>\n",
       "      <td>64.0</td>\n",
       "      <td>6.0</td>\n",
       "      <td>205.0</td>\n",
       "      <td>21.0</td>\n",
       "      <td>36.0</td>\n",
       "      <td>4.0</td>\n",
       "      <td>11.0</td>\n",
       "      <td>56.0</td>\n",
       "    </tr>\n",
       "    <tr>\n",
       "      <th>2014</th>\n",
       "      <td>13.0</td>\n",
       "      <td>14.0</td>\n",
       "      <td>45.0</td>\n",
       "      <td>6.0</td>\n",
       "      <td>146.0</td>\n",
       "      <td>18.0</td>\n",
       "      <td>39.0</td>\n",
       "      <td>2.0</td>\n",
       "      <td>14.0</td>\n",
       "      <td>53.0</td>\n",
       "    </tr>\n",
       "    <tr>\n",
       "      <th>2015</th>\n",
       "      <td>16.0</td>\n",
       "      <td>15.0</td>\n",
       "      <td>51.0</td>\n",
       "      <td>6.0</td>\n",
       "      <td>144.0</td>\n",
       "      <td>23.0</td>\n",
       "      <td>33.0</td>\n",
       "      <td>3.0</td>\n",
       "      <td>7.0</td>\n",
       "      <td>52.0</td>\n",
       "    </tr>\n",
       "    <tr>\n",
       "      <th>2016</th>\n",
       "      <td>19.0</td>\n",
       "      <td>15.0</td>\n",
       "      <td>41.0</td>\n",
       "      <td>7.0</td>\n",
       "      <td>170.0</td>\n",
       "      <td>23.0</td>\n",
       "      <td>39.0</td>\n",
       "      <td>2.0</td>\n",
       "      <td>9.0</td>\n",
       "      <td>61.0</td>\n",
       "    </tr>\n",
       "    <tr>\n",
       "      <th>2017</th>\n",
       "      <td>17.0</td>\n",
       "      <td>9.0</td>\n",
       "      <td>55.0</td>\n",
       "      <td>6.0</td>\n",
       "      <td>167.0</td>\n",
       "      <td>28.0</td>\n",
       "      <td>40.0</td>\n",
       "      <td>3.0</td>\n",
       "      <td>9.0</td>\n",
       "      <td>58.0</td>\n",
       "    </tr>\n",
       "    <tr>\n",
       "      <th>2018</th>\n",
       "      <td>22.0</td>\n",
       "      <td>19.0</td>\n",
       "      <td>44.0</td>\n",
       "      <td>7.0</td>\n",
       "      <td>208.0</td>\n",
       "      <td>20.0</td>\n",
       "      <td>38.0</td>\n",
       "      <td>5.0</td>\n",
       "      <td>8.0</td>\n",
       "      <td>51.0</td>\n",
       "    </tr>\n",
       "    <tr>\n",
       "      <th>2019</th>\n",
       "      <td>17.0</td>\n",
       "      <td>16.0</td>\n",
       "      <td>46.0</td>\n",
       "      <td>NaN</td>\n",
       "      <td>168.0</td>\n",
       "      <td>17.0</td>\n",
       "      <td>30.0</td>\n",
       "      <td>3.0</td>\n",
       "      <td>4.0</td>\n",
       "      <td>63.0</td>\n",
       "    </tr>\n",
       "    <tr>\n",
       "      <th>2020</th>\n",
       "      <td>13.0</td>\n",
       "      <td>4.0</td>\n",
       "      <td>29.0</td>\n",
       "      <td>4.0</td>\n",
       "      <td>117.0</td>\n",
       "      <td>19.0</td>\n",
       "      <td>43.0</td>\n",
       "      <td>2.0</td>\n",
       "      <td>3.0</td>\n",
       "      <td>31.0</td>\n",
       "    </tr>\n",
       "  </tbody>\n",
       "</table>\n",
       "</div>"
      ],
      "text/plain": [
       "IMPACTYPE  Angle  Approaching  Cyclist Collisions  Other  \\\n",
       "YEAR                                                       \n",
       "2006        31.0         24.0                52.0    3.0   \n",
       "2007        35.0         23.0                37.0    1.0   \n",
       "2008        26.0         29.0                40.0    4.0   \n",
       "2009        23.0         16.0                39.0    3.0   \n",
       "2010        25.0         11.0                41.0    4.0   \n",
       "2011        13.0         10.0                52.0    2.0   \n",
       "2012        24.0          9.0                70.0    9.0   \n",
       "2013        14.0         14.0                64.0    6.0   \n",
       "2014        13.0         14.0                45.0    6.0   \n",
       "2015        16.0         15.0                51.0    6.0   \n",
       "2016        19.0         15.0                41.0    7.0   \n",
       "2017        17.0          9.0                55.0    6.0   \n",
       "2018        22.0         19.0                44.0    7.0   \n",
       "2019        17.0         16.0                46.0    NaN   \n",
       "2020        13.0          4.0                29.0    4.0   \n",
       "\n",
       "IMPACTYPE  Pedestrian Collisions  Rear End  SMV Other  SMV Unattended Vehicle  \\\n",
       "YEAR                                                                            \n",
       "2006                       213.0      28.0       61.0                     6.0   \n",
       "2007                       186.0      37.0       52.0                     6.0   \n",
       "2008                       183.0      35.0       40.0                     2.0   \n",
       "2009                       201.0      40.0       44.0                     6.0   \n",
       "2010                       181.0      30.0       34.0                     9.0   \n",
       "2011                       186.0      43.0       42.0                     2.0   \n",
       "2012                       201.0      32.0       48.0                     7.0   \n",
       "2013                       205.0      21.0       36.0                     4.0   \n",
       "2014                       146.0      18.0       39.0                     2.0   \n",
       "2015                       144.0      23.0       33.0                     3.0   \n",
       "2016                       170.0      23.0       39.0                     2.0   \n",
       "2017                       167.0      28.0       40.0                     3.0   \n",
       "2018                       208.0      20.0       38.0                     5.0   \n",
       "2019                       168.0      17.0       30.0                     3.0   \n",
       "2020                       117.0      19.0       43.0                     2.0   \n",
       "\n",
       "IMPACTYPE  Sideswipe  Turning Movement  \n",
       "YEAR                                    \n",
       "2006            12.0              51.0  \n",
       "2007            11.0              65.0  \n",
       "2008            14.0              44.0  \n",
       "2009             9.0              57.0  \n",
       "2010            10.0              55.0  \n",
       "2011            10.0              39.0  \n",
       "2012             5.0              48.0  \n",
       "2013            11.0              56.0  \n",
       "2014            14.0              53.0  \n",
       "2015             7.0              52.0  \n",
       "2016             9.0              61.0  \n",
       "2017             9.0              58.0  \n",
       "2018             8.0              51.0  \n",
       "2019             4.0              63.0  \n",
       "2020             3.0              31.0  "
      ]
     },
     "execution_count": 53,
     "metadata": {},
     "output_type": "execute_result"
    }
   ],
   "source": [
    "# by year\n",
    "t1 = df_seriously_injured.groupby(['YEAR', 'IMPACTYPE'])['ACCNUM'].count().unstack()\n",
    "t1"
   ]
  },
  {
   "cell_type": "code",
   "execution_count": 54,
   "id": "5081b348",
   "metadata": {},
   "outputs": [
    {
     "data": {
      "text/html": [
       "<div>\n",
       "<style scoped>\n",
       "    .dataframe tbody tr th:only-of-type {\n",
       "        vertical-align: middle;\n",
       "    }\n",
       "\n",
       "    .dataframe tbody tr th {\n",
       "        vertical-align: top;\n",
       "    }\n",
       "\n",
       "    .dataframe thead th {\n",
       "        text-align: right;\n",
       "    }\n",
       "</style>\n",
       "<table border=\"1\" class=\"dataframe\">\n",
       "  <thead>\n",
       "    <tr style=\"text-align: right;\">\n",
       "      <th>VISIBILITY</th>\n",
       "      <th>Drifting Snow</th>\n",
       "      <th>Fog, Mist, Smoke, Dust</th>\n",
       "      <th>Freezing Rain</th>\n",
       "      <th>Other</th>\n",
       "      <th>Rain</th>\n",
       "      <th>Snow</th>\n",
       "      <th>Strong wind</th>\n",
       "    </tr>\n",
       "    <tr>\n",
       "      <th>IMPACTYPE</th>\n",
       "      <th></th>\n",
       "      <th></th>\n",
       "      <th></th>\n",
       "      <th></th>\n",
       "      <th></th>\n",
       "      <th></th>\n",
       "      <th></th>\n",
       "    </tr>\n",
       "  </thead>\n",
       "  <tbody>\n",
       "    <tr>\n",
       "      <th>Angle</th>\n",
       "      <td>NaN</td>\n",
       "      <td>NaN</td>\n",
       "      <td>1.0</td>\n",
       "      <td>3.0</td>\n",
       "      <td>27.0</td>\n",
       "      <td>6.0</td>\n",
       "      <td>NaN</td>\n",
       "    </tr>\n",
       "    <tr>\n",
       "      <th>Approaching</th>\n",
       "      <td>2.0</td>\n",
       "      <td>2.0</td>\n",
       "      <td>1.0</td>\n",
       "      <td>1.0</td>\n",
       "      <td>21.0</td>\n",
       "      <td>17.0</td>\n",
       "      <td>NaN</td>\n",
       "    </tr>\n",
       "    <tr>\n",
       "      <th>Cyclist Collisions</th>\n",
       "      <td>1.0</td>\n",
       "      <td>NaN</td>\n",
       "      <td>NaN</td>\n",
       "      <td>3.0</td>\n",
       "      <td>48.0</td>\n",
       "      <td>2.0</td>\n",
       "      <td>NaN</td>\n",
       "    </tr>\n",
       "    <tr>\n",
       "      <th>Other</th>\n",
       "      <td>NaN</td>\n",
       "      <td>NaN</td>\n",
       "      <td>NaN</td>\n",
       "      <td>7.0</td>\n",
       "      <td>5.0</td>\n",
       "      <td>1.0</td>\n",
       "      <td>NaN</td>\n",
       "    </tr>\n",
       "    <tr>\n",
       "      <th>Pedestrian Collisions</th>\n",
       "      <td>3.0</td>\n",
       "      <td>7.0</td>\n",
       "      <td>6.0</td>\n",
       "      <td>19.0</td>\n",
       "      <td>422.0</td>\n",
       "      <td>43.0</td>\n",
       "      <td>3.0</td>\n",
       "    </tr>\n",
       "    <tr>\n",
       "      <th>Rear End</th>\n",
       "      <td>NaN</td>\n",
       "      <td>1.0</td>\n",
       "      <td>2.0</td>\n",
       "      <td>NaN</td>\n",
       "      <td>26.0</td>\n",
       "      <td>9.0</td>\n",
       "      <td>NaN</td>\n",
       "    </tr>\n",
       "    <tr>\n",
       "      <th>SMV Other</th>\n",
       "      <td>NaN</td>\n",
       "      <td>4.0</td>\n",
       "      <td>3.0</td>\n",
       "      <td>3.0</td>\n",
       "      <td>68.0</td>\n",
       "      <td>28.0</td>\n",
       "      <td>NaN</td>\n",
       "    </tr>\n",
       "    <tr>\n",
       "      <th>SMV Unattended Vehicle</th>\n",
       "      <td>NaN</td>\n",
       "      <td>NaN</td>\n",
       "      <td>NaN</td>\n",
       "      <td>NaN</td>\n",
       "      <td>2.0</td>\n",
       "      <td>NaN</td>\n",
       "      <td>NaN</td>\n",
       "    </tr>\n",
       "    <tr>\n",
       "      <th>Sideswipe</th>\n",
       "      <td>NaN</td>\n",
       "      <td>NaN</td>\n",
       "      <td>1.0</td>\n",
       "      <td>NaN</td>\n",
       "      <td>11.0</td>\n",
       "      <td>3.0</td>\n",
       "      <td>NaN</td>\n",
       "    </tr>\n",
       "    <tr>\n",
       "      <th>Turning Movement</th>\n",
       "      <td>1.0</td>\n",
       "      <td>2.0</td>\n",
       "      <td>1.0</td>\n",
       "      <td>5.0</td>\n",
       "      <td>52.0</td>\n",
       "      <td>5.0</td>\n",
       "      <td>NaN</td>\n",
       "    </tr>\n",
       "  </tbody>\n",
       "</table>\n",
       "</div>"
      ],
      "text/plain": [
       "VISIBILITY              Drifting Snow  Fog, Mist, Smoke, Dust  Freezing Rain  \\\n",
       "IMPACTYPE                                                                      \n",
       "Angle                             NaN                     NaN            1.0   \n",
       "Approaching                       2.0                     2.0            1.0   \n",
       "Cyclist Collisions                1.0                     NaN            NaN   \n",
       "Other                             NaN                     NaN            NaN   \n",
       "Pedestrian Collisions             3.0                     7.0            6.0   \n",
       "Rear End                          NaN                     1.0            2.0   \n",
       "SMV Other                         NaN                     4.0            3.0   \n",
       "SMV Unattended Vehicle            NaN                     NaN            NaN   \n",
       "Sideswipe                         NaN                     NaN            1.0   \n",
       "Turning Movement                  1.0                     2.0            1.0   \n",
       "\n",
       "VISIBILITY              Other   Rain  Snow  Strong wind  \n",
       "IMPACTYPE                                                \n",
       "Angle                     3.0   27.0   6.0          NaN  \n",
       "Approaching               1.0   21.0  17.0          NaN  \n",
       "Cyclist Collisions        3.0   48.0   2.0          NaN  \n",
       "Other                     7.0    5.0   1.0          NaN  \n",
       "Pedestrian Collisions    19.0  422.0  43.0          3.0  \n",
       "Rear End                  NaN   26.0   9.0          NaN  \n",
       "SMV Other                 3.0   68.0  28.0          NaN  \n",
       "SMV Unattended Vehicle    NaN    2.0   NaN          NaN  \n",
       "Sideswipe                 NaN   11.0   3.0          NaN  \n",
       "Turning Movement          5.0   52.0   5.0          NaN  "
      ]
     },
     "execution_count": 54,
     "metadata": {},
     "output_type": "execute_result"
    }
   ],
   "source": [
    "# by weather type\n",
    "t2 = df_seriously_injured.groupby(['IMPACTYPE', 'VISIBILITY'])['ACCNUM'].count().unstack()\n",
    "t2.drop(['Clear'], axis=1, inplace=True)\n",
    "t2"
   ]
  },
  {
   "cell_type": "code",
   "execution_count": 55,
   "id": "94eddbca",
   "metadata": {},
   "outputs": [
    {
     "data": {
      "text/html": [
       "<div>\n",
       "<style scoped>\n",
       "    .dataframe tbody tr th:only-of-type {\n",
       "        vertical-align: middle;\n",
       "    }\n",
       "\n",
       "    .dataframe tbody tr th {\n",
       "        vertical-align: top;\n",
       "    }\n",
       "\n",
       "    .dataframe thead th {\n",
       "        text-align: right;\n",
       "    }\n",
       "</style>\n",
       "<table border=\"1\" class=\"dataframe\">\n",
       "  <thead>\n",
       "    <tr style=\"text-align: right;\">\n",
       "      <th>VISIBILITY</th>\n",
       "      <th>Drifting Snow</th>\n",
       "      <th>Fog, Mist, Smoke, Dust</th>\n",
       "      <th>Freezing Rain</th>\n",
       "      <th>Other</th>\n",
       "      <th>Rain</th>\n",
       "      <th>Snow</th>\n",
       "      <th>Strong wind</th>\n",
       "    </tr>\n",
       "    <tr>\n",
       "      <th>IMPACTYPE</th>\n",
       "      <th></th>\n",
       "      <th></th>\n",
       "      <th></th>\n",
       "      <th></th>\n",
       "      <th></th>\n",
       "      <th></th>\n",
       "      <th></th>\n",
       "    </tr>\n",
       "  </thead>\n",
       "  <tbody>\n",
       "    <tr>\n",
       "      <th>Angle</th>\n",
       "      <td>NaN</td>\n",
       "      <td>NaN</td>\n",
       "      <td>3.0</td>\n",
       "      <td>8.0</td>\n",
       "      <td>73.0</td>\n",
       "      <td>16.0</td>\n",
       "      <td>NaN</td>\n",
       "    </tr>\n",
       "    <tr>\n",
       "      <th>Approaching</th>\n",
       "      <td>5.0</td>\n",
       "      <td>5.0</td>\n",
       "      <td>2.0</td>\n",
       "      <td>2.0</td>\n",
       "      <td>48.0</td>\n",
       "      <td>39.0</td>\n",
       "      <td>NaN</td>\n",
       "    </tr>\n",
       "    <tr>\n",
       "      <th>Cyclist Collisions</th>\n",
       "      <td>2.0</td>\n",
       "      <td>NaN</td>\n",
       "      <td>NaN</td>\n",
       "      <td>6.0</td>\n",
       "      <td>89.0</td>\n",
       "      <td>4.0</td>\n",
       "      <td>NaN</td>\n",
       "    </tr>\n",
       "    <tr>\n",
       "      <th>Other</th>\n",
       "      <td>NaN</td>\n",
       "      <td>NaN</td>\n",
       "      <td>NaN</td>\n",
       "      <td>54.0</td>\n",
       "      <td>38.0</td>\n",
       "      <td>8.0</td>\n",
       "      <td>NaN</td>\n",
       "    </tr>\n",
       "    <tr>\n",
       "      <th>Pedestrian Collisions</th>\n",
       "      <td>1.0</td>\n",
       "      <td>1.0</td>\n",
       "      <td>1.0</td>\n",
       "      <td>4.0</td>\n",
       "      <td>84.0</td>\n",
       "      <td>9.0</td>\n",
       "      <td>1.0</td>\n",
       "    </tr>\n",
       "    <tr>\n",
       "      <th>Rear End</th>\n",
       "      <td>NaN</td>\n",
       "      <td>3.0</td>\n",
       "      <td>5.0</td>\n",
       "      <td>NaN</td>\n",
       "      <td>68.0</td>\n",
       "      <td>24.0</td>\n",
       "      <td>NaN</td>\n",
       "    </tr>\n",
       "    <tr>\n",
       "      <th>SMV Other</th>\n",
       "      <td>NaN</td>\n",
       "      <td>4.0</td>\n",
       "      <td>3.0</td>\n",
       "      <td>3.0</td>\n",
       "      <td>64.0</td>\n",
       "      <td>26.0</td>\n",
       "      <td>NaN</td>\n",
       "    </tr>\n",
       "    <tr>\n",
       "      <th>SMV Unattended Vehicle</th>\n",
       "      <td>NaN</td>\n",
       "      <td>NaN</td>\n",
       "      <td>NaN</td>\n",
       "      <td>NaN</td>\n",
       "      <td>100.0</td>\n",
       "      <td>NaN</td>\n",
       "      <td>NaN</td>\n",
       "    </tr>\n",
       "    <tr>\n",
       "      <th>Sideswipe</th>\n",
       "      <td>NaN</td>\n",
       "      <td>NaN</td>\n",
       "      <td>7.0</td>\n",
       "      <td>NaN</td>\n",
       "      <td>73.0</td>\n",
       "      <td>20.0</td>\n",
       "      <td>NaN</td>\n",
       "    </tr>\n",
       "    <tr>\n",
       "      <th>Turning Movement</th>\n",
       "      <td>2.0</td>\n",
       "      <td>3.0</td>\n",
       "      <td>2.0</td>\n",
       "      <td>8.0</td>\n",
       "      <td>79.0</td>\n",
       "      <td>8.0</td>\n",
       "      <td>NaN</td>\n",
       "    </tr>\n",
       "  </tbody>\n",
       "</table>\n",
       "</div>"
      ],
      "text/plain": [
       "VISIBILITY              Drifting Snow  Fog, Mist, Smoke, Dust  Freezing Rain  \\\n",
       "IMPACTYPE                                                                      \n",
       "Angle                             NaN                     NaN            3.0   \n",
       "Approaching                       5.0                     5.0            2.0   \n",
       "Cyclist Collisions                2.0                     NaN            NaN   \n",
       "Other                             NaN                     NaN            NaN   \n",
       "Pedestrian Collisions             1.0                     1.0            1.0   \n",
       "Rear End                          NaN                     3.0            5.0   \n",
       "SMV Other                         NaN                     4.0            3.0   \n",
       "SMV Unattended Vehicle            NaN                     NaN            NaN   \n",
       "Sideswipe                         NaN                     NaN            7.0   \n",
       "Turning Movement                  2.0                     3.0            2.0   \n",
       "\n",
       "VISIBILITY              Other   Rain  Snow  Strong wind  \n",
       "IMPACTYPE                                                \n",
       "Angle                     8.0   73.0  16.0          NaN  \n",
       "Approaching               2.0   48.0  39.0          NaN  \n",
       "Cyclist Collisions        6.0   89.0   4.0          NaN  \n",
       "Other                    54.0   38.0   8.0          NaN  \n",
       "Pedestrian Collisions     4.0   84.0   9.0          1.0  \n",
       "Rear End                  NaN   68.0  24.0          NaN  \n",
       "SMV Other                 3.0   64.0  26.0          NaN  \n",
       "SMV Unattended Vehicle    NaN  100.0   NaN          NaN  \n",
       "Sideswipe                 NaN   73.0  20.0          NaN  \n",
       "Turning Movement          8.0   79.0   8.0          NaN  "
      ]
     },
     "execution_count": 55,
     "metadata": {},
     "output_type": "execute_result"
    }
   ],
   "source": [
    "# by visibiloty type in terms of percentages\n",
    "t2.div(t2.sum(axis=1)/100, axis=0).round()"
   ]
  },
  {
   "cell_type": "code",
   "execution_count": 56,
   "id": "af11827b",
   "metadata": {},
   "outputs": [
    {
     "data": {
      "text/html": [
       "<div>\n",
       "<style scoped>\n",
       "    .dataframe tbody tr th:only-of-type {\n",
       "        vertical-align: middle;\n",
       "    }\n",
       "\n",
       "    .dataframe tbody tr th {\n",
       "        vertical-align: top;\n",
       "    }\n",
       "\n",
       "    .dataframe thead th {\n",
       "        text-align: right;\n",
       "    }\n",
       "</style>\n",
       "<table border=\"1\" class=\"dataframe\">\n",
       "  <thead>\n",
       "    <tr style=\"text-align: right;\">\n",
       "      <th>ACCLASS</th>\n",
       "      <th>Fatal</th>\n",
       "      <th>Non-Fatal Injury</th>\n",
       "    </tr>\n",
       "    <tr>\n",
       "      <th>IMPACTYPE</th>\n",
       "      <th></th>\n",
       "      <th></th>\n",
       "    </tr>\n",
       "  </thead>\n",
       "  <tbody>\n",
       "    <tr>\n",
       "      <th>Angle</th>\n",
       "      <td>35.0</td>\n",
       "      <td>273.0</td>\n",
       "    </tr>\n",
       "    <tr>\n",
       "      <th>Approaching</th>\n",
       "      <td>37.0</td>\n",
       "      <td>191.0</td>\n",
       "    </tr>\n",
       "    <tr>\n",
       "      <th>Cyclist Collisions</th>\n",
       "      <td>41.0</td>\n",
       "      <td>665.0</td>\n",
       "    </tr>\n",
       "    <tr>\n",
       "      <th>Other</th>\n",
       "      <td>6.0</td>\n",
       "      <td>62.0</td>\n",
       "    </tr>\n",
       "    <tr>\n",
       "      <th>Pedestrian Collisions</th>\n",
       "      <td>464.0</td>\n",
       "      <td>2212.0</td>\n",
       "    </tr>\n",
       "    <tr>\n",
       "      <th>Rear End</th>\n",
       "      <td>19.0</td>\n",
       "      <td>394.0</td>\n",
       "    </tr>\n",
       "    <tr>\n",
       "      <th>SMV Other</th>\n",
       "      <td>108.0</td>\n",
       "      <td>511.0</td>\n",
       "    </tr>\n",
       "    <tr>\n",
       "      <th>SMV Unattended Vehicle</th>\n",
       "      <td>10.0</td>\n",
       "      <td>52.0</td>\n",
       "    </tr>\n",
       "    <tr>\n",
       "      <th>Sideswipe</th>\n",
       "      <td>9.0</td>\n",
       "      <td>127.0</td>\n",
       "    </tr>\n",
       "    <tr>\n",
       "      <th>Turning Movement</th>\n",
       "      <td>76.0</td>\n",
       "      <td>708.0</td>\n",
       "    </tr>\n",
       "  </tbody>\n",
       "</table>\n",
       "</div>"
      ],
      "text/plain": [
       "ACCLASS                 Fatal  Non-Fatal Injury\n",
       "IMPACTYPE                                      \n",
       "Angle                    35.0             273.0\n",
       "Approaching              37.0             191.0\n",
       "Cyclist Collisions       41.0             665.0\n",
       "Other                     6.0              62.0\n",
       "Pedestrian Collisions   464.0            2212.0\n",
       "Rear End                 19.0             394.0\n",
       "SMV Other               108.0             511.0\n",
       "SMV Unattended Vehicle   10.0              52.0\n",
       "Sideswipe                 9.0             127.0\n",
       "Turning Movement         76.0             708.0"
      ]
     },
     "execution_count": 56,
     "metadata": {},
     "output_type": "execute_result"
    }
   ],
   "source": [
    "# by severity\n",
    "t3 = df_seriously_injured.groupby(['IMPACTYPE', 'ACCLASS'])['ACCNUM'].count().unstack()\n",
    "t3.drop(['Property Damage Only'], axis=1, inplace=True)\n",
    "#t3.drop(['Vehicle/Pedestrian'], axis=0, inplace=True)\n",
    "t3"
   ]
  },
  {
   "cell_type": "code",
   "execution_count": 58,
   "id": "f1ec08fa",
   "metadata": {},
   "outputs": [
    {
     "data": {
      "image/png": "[encoded data removed]",
      "text/plain": [
       "<Figure size 576x432 with 2 Axes>"
      ]
     },
     "metadata": {
      "needs_background": "light"
     },
     "output_type": "display_data"
    },
    {
     "data": {
      "image/png": "[encoded data removed]",
      "text/plain": [
       "<Figure size 576x432 with 2 Axes>"
      ]
     },
     "metadata": {
      "needs_background": "light"
     },
     "output_type": "display_data"
    },
    {
     "data": {
      "image/png": "[encoded data removed]",
      "text/plain": [
       "<Figure size 576x432 with 2 Axes>"
      ]
     },
     "metadata": {
      "needs_background": "light"
     },
     "output_type": "display_data"
    }
   ],
   "source": [
    "title = ['Collision Type by Year', 'Collision Type by Visibility', 'Collision Type by Severity']\n",
    "ylabel = ['Year', 'Visibility', 'Severity']\n",
    "t_data = [t1.T, t2, t3]\n",
    "\n",
    "for t in zip(title, ylabel, t_data):\n",
    "    plt.figure(figsize = (8,6))\n",
    "    sns.heatmap(t[2], cmap='Blues', alpha=0.8)\n",
    "    plt.title(t[0])\n",
    "    plt.xlabel(' ')\n",
    "    plt.ylabel(' ')"
   ]
  },
  {
   "cell_type": "code",
   "execution_count": 59,
   "id": "9056495d",
   "metadata": {},
   "outputs": [],
   "source": [
    "#Deleting Duplicates\n",
    "df_seriously_injured=df_seriously_injured.drop_duplicates(subset=[\"ACCNUM\"], keep=\"first\")"
   ]
  },
  {
   "cell_type": "code",
   "execution_count": 60,
   "id": "6cb9b086",
   "metadata": {},
   "outputs": [
    {
     "data": {
      "text/html": [
       "<div>\n",
       "<style scoped>\n",
       "    .dataframe tbody tr th:only-of-type {\n",
       "        vertical-align: middle;\n",
       "    }\n",
       "\n",
       "    .dataframe tbody tr th {\n",
       "        vertical-align: top;\n",
       "    }\n",
       "\n",
       "    .dataframe thead th {\n",
       "        text-align: right;\n",
       "    }\n",
       "</style>\n",
       "<table border=\"1\" class=\"dataframe\">\n",
       "  <thead>\n",
       "    <tr style=\"text-align: right;\">\n",
       "      <th></th>\n",
       "      <th>ACCNUM</th>\n",
       "      <th>INVTYPE</th>\n",
       "      <th>INVAGE</th>\n",
       "      <th>INJURY_ID</th>\n",
       "      <th>VEHTYPE</th>\n",
       "      <th>SPEEDING</th>\n",
       "      <th>REDLIGHT</th>\n",
       "      <th>ALCOHOL</th>\n",
       "      <th>YEAR</th>\n",
       "      <th>DATE</th>\n",
       "      <th>TIME</th>\n",
       "      <th>HOUR</th>\n",
       "      <th>STREET1</th>\n",
       "      <th>STREET2</th>\n",
       "      <th>ROAD_CLASS_ID</th>\n",
       "      <th>LOCCOORD</th>\n",
       "      <th>TRAFFCTL</th>\n",
       "      <th>VISIBILITY</th>\n",
       "      <th>LIGHT</th>\n",
       "      <th>RDSFCOND</th>\n",
       "      <th>ACCLASS</th>\n",
       "      <th>IMPACTYPE</th>\n",
       "      <th>Longitude</th>\n",
       "      <th>Latitude</th>\n",
       "      <th>BIKE_PED_COLLISION</th>\n",
       "      <th>Day_of_Week</th>\n",
       "    </tr>\n",
       "  </thead>\n",
       "  <tbody>\n",
       "    <tr>\n",
       "      <th>0</th>\n",
       "      <td>25301</td>\n",
       "      <td>Driver</td>\n",
       "      <td>75 to 79</td>\n",
       "      <td>1.0</td>\n",
       "      <td>Automobile, Station Wagon</td>\n",
       "      <td>NaN</td>\n",
       "      <td>NaN</td>\n",
       "      <td>NaN</td>\n",
       "      <td>2020</td>\n",
       "      <td>2020-01-04</td>\n",
       "      <td>1850</td>\n",
       "      <td>18</td>\n",
       "      <td>EGLINTON AVE E</td>\n",
       "      <td>BAYVIEW AVE</td>\n",
       "      <td>1.0</td>\n",
       "      <td>Intersection</td>\n",
       "      <td>Traffic Signal</td>\n",
       "      <td>Rain</td>\n",
       "      <td>Dark</td>\n",
       "      <td>Wet</td>\n",
       "      <td>Non-Fatal Injury</td>\n",
       "      <td>Pedestrian Collisions</td>\n",
       "      <td>-79.3771</td>\n",
       "      <td>43.7109</td>\n",
       "      <td>YES</td>\n",
       "      <td>Saturday</td>\n",
       "    </tr>\n",
       "    <tr>\n",
       "      <th>2</th>\n",
       "      <td>26294</td>\n",
       "      <td>Pedestrian</td>\n",
       "      <td>65 to 69</td>\n",
       "      <td>2.0</td>\n",
       "      <td>NaN</td>\n",
       "      <td>NaN</td>\n",
       "      <td>NaN</td>\n",
       "      <td>NaN</td>\n",
       "      <td>2020</td>\n",
       "      <td>2020-01-04</td>\n",
       "      <td>2214</td>\n",
       "      <td>22</td>\n",
       "      <td>256 JARVIS ST</td>\n",
       "      <td>NaN</td>\n",
       "      <td>1.0</td>\n",
       "      <td>Mid-Block</td>\n",
       "      <td>No Control</td>\n",
       "      <td>Clear</td>\n",
       "      <td>Dark, artificial</td>\n",
       "      <td>Dry</td>\n",
       "      <td>Fatal</td>\n",
       "      <td>Pedestrian Collisions</td>\n",
       "      <td>-79.3755</td>\n",
       "      <td>43.6595</td>\n",
       "      <td>YES</td>\n",
       "      <td>Saturday</td>\n",
       "    </tr>\n",
       "    <tr>\n",
       "      <th>4</th>\n",
       "      <td>37330</td>\n",
       "      <td>Driver</td>\n",
       "      <td>50 to 54</td>\n",
       "      <td>1.0</td>\n",
       "      <td>Automobile, Station Wagon</td>\n",
       "      <td>NaN</td>\n",
       "      <td>NaN</td>\n",
       "      <td>NaN</td>\n",
       "      <td>2020</td>\n",
       "      <td>2020-01-06</td>\n",
       "      <td>1555</td>\n",
       "      <td>15</td>\n",
       "      <td>DUNDAS ST W</td>\n",
       "      <td>SHERIDAN AVE</td>\n",
       "      <td>3.0</td>\n",
       "      <td>Intersection</td>\n",
       "      <td>Traffic Signal</td>\n",
       "      <td>Clear</td>\n",
       "      <td>Dawn, artificial</td>\n",
       "      <td>Dry</td>\n",
       "      <td>Non-Fatal Injury</td>\n",
       "      <td>Pedestrian Collisions</td>\n",
       "      <td>-79.4336</td>\n",
       "      <td>43.6496</td>\n",
       "      <td>YES</td>\n",
       "      <td>Monday</td>\n",
       "    </tr>\n",
       "    <tr>\n",
       "      <th>6</th>\n",
       "      <td>45664</td>\n",
       "      <td>Driver</td>\n",
       "      <td>50 to 54</td>\n",
       "      <td>5.0</td>\n",
       "      <td>Automobile, Station Wagon</td>\n",
       "      <td>NaN</td>\n",
       "      <td>NaN</td>\n",
       "      <td>NaN</td>\n",
       "      <td>2020</td>\n",
       "      <td>2020-01-07</td>\n",
       "      <td>1850</td>\n",
       "      <td>18</td>\n",
       "      <td>EGLINTON AVE E</td>\n",
       "      <td>PHARMACY AVE</td>\n",
       "      <td>1.0</td>\n",
       "      <td>Intersection</td>\n",
       "      <td>Traffic Signal</td>\n",
       "      <td>Clear</td>\n",
       "      <td>Dark</td>\n",
       "      <td>Dry</td>\n",
       "      <td>Non-Fatal Injury</td>\n",
       "      <td>Turning Movement</td>\n",
       "      <td>-79.2974</td>\n",
       "      <td>43.7255</td>\n",
       "      <td>NULL</td>\n",
       "      <td>Tuesday</td>\n",
       "    </tr>\n",
       "    <tr>\n",
       "      <th>9</th>\n",
       "      <td>56815</td>\n",
       "      <td>Driver</td>\n",
       "      <td>45 to 49</td>\n",
       "      <td>1.0</td>\n",
       "      <td>Delivery Van</td>\n",
       "      <td>Yes</td>\n",
       "      <td>Yes</td>\n",
       "      <td>NaN</td>\n",
       "      <td>2020</td>\n",
       "      <td>2020-01-09</td>\n",
       "      <td>1100</td>\n",
       "      <td>11</td>\n",
       "      <td>MARTIN GROVE RD</td>\n",
       "      <td>BELFIELD RD</td>\n",
       "      <td>1.0</td>\n",
       "      <td>Intersection</td>\n",
       "      <td>Traffic Signal</td>\n",
       "      <td>Clear</td>\n",
       "      <td>Daylight</td>\n",
       "      <td>Dry</td>\n",
       "      <td>Non-Fatal Injury</td>\n",
       "      <td>Angle</td>\n",
       "      <td>-79.5755</td>\n",
       "      <td>43.7018</td>\n",
       "      <td>NULL</td>\n",
       "      <td>Thursday</td>\n",
       "    </tr>\n",
       "  </tbody>\n",
       "</table>\n",
       "</div>"
      ],
      "text/plain": [
       "   ACCNUM     INVTYPE    INVAGE  INJURY_ID                    VEHTYPE  \\\n",
       "0   25301      Driver  75 to 79        1.0  Automobile, Station Wagon   \n",
       "2   26294  Pedestrian  65 to 69        2.0                        NaN   \n",
       "4   37330      Driver  50 to 54        1.0  Automobile, Station Wagon   \n",
       "6   45664      Driver  50 to 54        5.0  Automobile, Station Wagon   \n",
       "9   56815      Driver  45 to 49        1.0               Delivery Van   \n",
       "\n",
       "  SPEEDING REDLIGHT ALCOHOL  YEAR       DATE  TIME  HOUR          STREET1  \\\n",
       "0      NaN      NaN     NaN  2020 2020-01-04  1850    18   EGLINTON AVE E   \n",
       "2      NaN      NaN     NaN  2020 2020-01-04  2214    22    256 JARVIS ST   \n",
       "4      NaN      NaN     NaN  2020 2020-01-06  1555    15      DUNDAS ST W   \n",
       "6      NaN      NaN     NaN  2020 2020-01-07  1850    18   EGLINTON AVE E   \n",
       "9      Yes      Yes     NaN  2020 2020-01-09  1100    11  MARTIN GROVE RD   \n",
       "\n",
       "        STREET2  ROAD_CLASS_ID      LOCCOORD        TRAFFCTL VISIBILITY  \\\n",
       "0   BAYVIEW AVE            1.0  Intersection  Traffic Signal       Rain   \n",
       "2           NaN            1.0     Mid-Block      No Control      Clear   \n",
       "4  SHERIDAN AVE            3.0  Intersection  Traffic Signal      Clear   \n",
       "6  PHARMACY AVE            1.0  Intersection  Traffic Signal      Clear   \n",
       "9   BELFIELD RD            1.0  Intersection  Traffic Signal      Clear   \n",
       "\n",
       "              LIGHT RDSFCOND           ACCLASS              IMPACTYPE  \\\n",
       "0              Dark      Wet  Non-Fatal Injury  Pedestrian Collisions   \n",
       "2  Dark, artificial      Dry             Fatal  Pedestrian Collisions   \n",
       "4  Dawn, artificial      Dry  Non-Fatal Injury  Pedestrian Collisions   \n",
       "6              Dark      Dry  Non-Fatal Injury       Turning Movement   \n",
       "9          Daylight      Dry  Non-Fatal Injury                  Angle   \n",
       "\n",
       "   Longitude  Latitude BIKE_PED_COLLISION Day_of_Week  \n",
       "0   -79.3771   43.7109                YES    Saturday  \n",
       "2   -79.3755   43.6595                YES    Saturday  \n",
       "4   -79.4336   43.6496                YES      Monday  \n",
       "6   -79.2974   43.7255               NULL     Tuesday  \n",
       "9   -79.5755   43.7018               NULL    Thursday  "
      ]
     },
     "execution_count": 60,
     "metadata": {},
     "output_type": "execute_result"
    }
   ],
   "source": [
    "#Dropping the column not playing any role in analysis: may cause noise\n",
    "df_seriously_injured.drop([\"OFFSET\",\"DISTRICT\",\"WARDNUM\",\"DIVISION\",\"ACCLOC\",\"FATAL_NO\",\"INITDIR\",\"MANOEUVER\",\"PEDTYPE\",\"PEDACT\",\"PEDCOND\",\"CYCLISTYPE\",'CYCACT','CYCCOND','PEDESTRIAN','CYCLIST','AUTOMOBILE','MOTORCYCLE','TRUCK','TRSN_CITY_VEH','EMERG_VEH','PASSENGER','POLICE_DIVISION','HOOD_ID','NEIGHBOURHOOD','ObjectId',\"geometry2\",\"DRIVACT\",\"DRIVCOND\",\"AG_DRIV\",\"DISABILITY\"], axis=1, inplace=True)\n",
    "df_seriously_injured.head()"
   ]
  },
  {
   "cell_type": "code",
   "execution_count": 61,
   "id": "6ef59761",
   "metadata": {},
   "outputs": [
    {
     "name": "stdout",
     "output_type": "stream",
     "text": [
      "<class 'pandas.core.frame.DataFrame'>\n",
      "Int64Index: 6002 entries, 0 to 16856\n",
      "Data columns (total 26 columns):\n",
      " #   Column              Non-Null Count  Dtype         \n",
      "---  ------              --------------  -----         \n",
      " 0   ACCNUM              6002 non-null   int64         \n",
      " 1   INVTYPE             5994 non-null   object        \n",
      " 2   INVAGE              6002 non-null   object        \n",
      " 3   INJURY_ID           5310 non-null   float64       \n",
      " 4   VEHTYPE             5584 non-null   object        \n",
      " 5   SPEEDING            711 non-null    object        \n",
      " 6   REDLIGHT            376 non-null    object        \n",
      " 7   ALCOHOL             231 non-null    object        \n",
      " 8   YEAR                6002 non-null   int64         \n",
      " 9   DATE                6002 non-null   datetime64[ns]\n",
      " 10  TIME                6002 non-null   int64         \n",
      " 11  HOUR                6002 non-null   int64         \n",
      " 12  STREET1             6002 non-null   object        \n",
      " 13  STREET2             5425 non-null   object        \n",
      " 14  ROAD_CLASS_ID       5838 non-null   float64       \n",
      " 15  LOCCOORD            5964 non-null   object        \n",
      " 16  TRAFFCTL            5993 non-null   object        \n",
      " 17  VISIBILITY          5993 non-null   object        \n",
      " 18  LIGHT               6002 non-null   object        \n",
      " 19  RDSFCOND            5992 non-null   object        \n",
      " 20  ACCLASS             6002 non-null   object        \n",
      " 21  IMPACTYPE           6001 non-null   object        \n",
      " 22  Longitude           6002 non-null   float64       \n",
      " 23  Latitude            6002 non-null   float64       \n",
      " 24  BIKE_PED_COLLISION  6002 non-null   object        \n",
      " 25  Day_of_Week         6002 non-null   object        \n",
      "dtypes: datetime64[ns](1), float64(4), int64(4), object(17)\n",
      "memory usage: 1.2+ MB\n"
     ]
    }
   ],
   "source": [
    "#Checkinf dataframe info again\n",
    "df_seriously_injured.info()"
   ]
  },
  {
   "cell_type": "code",
   "execution_count": 62,
   "id": "f5359521",
   "metadata": {},
   "outputs": [
    {
     "data": {
      "text/html": [
       "<div>\n",
       "<style scoped>\n",
       "    .dataframe tbody tr th:only-of-type {\n",
       "        vertical-align: middle;\n",
       "    }\n",
       "\n",
       "    .dataframe tbody tr th {\n",
       "        vertical-align: top;\n",
       "    }\n",
       "\n",
       "    .dataframe thead th {\n",
       "        text-align: right;\n",
       "    }\n",
       "</style>\n",
       "<table border=\"1\" class=\"dataframe\">\n",
       "  <thead>\n",
       "    <tr style=\"text-align: right;\">\n",
       "      <th></th>\n",
       "      <th>INVTYPE</th>\n",
       "      <th>ACCNUM</th>\n",
       "    </tr>\n",
       "  </thead>\n",
       "  <tbody>\n",
       "    <tr>\n",
       "      <th>0</th>\n",
       "      <td>Cyclist</td>\n",
       "      <td>167</td>\n",
       "    </tr>\n",
       "    <tr>\n",
       "      <th>1</th>\n",
       "      <td>Driver</td>\n",
       "      <td>3584</td>\n",
       "    </tr>\n",
       "    <tr>\n",
       "      <th>2</th>\n",
       "      <td>Driver - Not Hit</td>\n",
       "      <td>6</td>\n",
       "    </tr>\n",
       "    <tr>\n",
       "      <th>3</th>\n",
       "      <td>In-Line Skater</td>\n",
       "      <td>2</td>\n",
       "    </tr>\n",
       "    <tr>\n",
       "      <th>4</th>\n",
       "      <td>Moped Driver</td>\n",
       "      <td>13</td>\n",
       "    </tr>\n",
       "    <tr>\n",
       "      <th>5</th>\n",
       "      <td>Motorcycle Driver</td>\n",
       "      <td>347</td>\n",
       "    </tr>\n",
       "    <tr>\n",
       "      <th>6</th>\n",
       "      <td>Motorcycle Passenger</td>\n",
       "      <td>13</td>\n",
       "    </tr>\n",
       "    <tr>\n",
       "      <th>7</th>\n",
       "      <td>Other</td>\n",
       "      <td>42</td>\n",
       "    </tr>\n",
       "    <tr>\n",
       "      <th>8</th>\n",
       "      <td>Other Property Owner</td>\n",
       "      <td>24</td>\n",
       "    </tr>\n",
       "    <tr>\n",
       "      <th>9</th>\n",
       "      <td>Passenger</td>\n",
       "      <td>465</td>\n",
       "    </tr>\n",
       "    <tr>\n",
       "      <th>10</th>\n",
       "      <td>Pedestrian</td>\n",
       "      <td>447</td>\n",
       "    </tr>\n",
       "    <tr>\n",
       "      <th>11</th>\n",
       "      <td>Truck Driver</td>\n",
       "      <td>127</td>\n",
       "    </tr>\n",
       "    <tr>\n",
       "      <th>12</th>\n",
       "      <td>Vehicle Owner</td>\n",
       "      <td>754</td>\n",
       "    </tr>\n",
       "    <tr>\n",
       "      <th>13</th>\n",
       "      <td>Wheelchair</td>\n",
       "      <td>3</td>\n",
       "    </tr>\n",
       "  </tbody>\n",
       "</table>\n",
       "</div>"
      ],
      "text/plain": [
       "                 INVTYPE  ACCNUM\n",
       "0                Cyclist     167\n",
       "1                 Driver    3584\n",
       "2       Driver - Not Hit       6\n",
       "3         In-Line Skater       2\n",
       "4           Moped Driver      13\n",
       "5      Motorcycle Driver     347\n",
       "6   Motorcycle Passenger      13\n",
       "7                  Other      42\n",
       "8   Other Property Owner      24\n",
       "9              Passenger     465\n",
       "10            Pedestrian     447\n",
       "11          Truck Driver     127\n",
       "12         Vehicle Owner     754\n",
       "13            Wheelchair       3"
      ]
     },
     "execution_count": 62,
     "metadata": {},
     "output_type": "execute_result"
    }
   ],
   "source": [
    "#Involvement Types invovled in total accidents \n",
    "df_involvement_type=pd.DataFrame(df_seriously_injured.groupby([\"INVTYPE\"],as_index=False)[\"ACCNUM\"].count())\n",
    "df_involvement_type"
   ]
  },
  {
   "cell_type": "code",
   "execution_count": 63,
   "id": "c1f72544",
   "metadata": {},
   "outputs": [
    {
     "data": {
      "image/png": "[encoded data removed]",
      "text/plain": [
       "<Figure size 432x288 with 1 Axes>"
      ]
     },
     "metadata": {
      "needs_background": "light"
     },
     "output_type": "display_data"
    },
    {
     "data": {
      "text/plain": [
       "<Figure size 432x288 with 0 Axes>"
      ]
     },
     "metadata": {},
     "output_type": "display_data"
    }
   ],
   "source": [
    "# Create the plot.\n",
    "df_involvement_type.plot(\"INVTYPE\", \"ACCNUM\",kind=\"bar\")\n",
    "# Create labels for the x and y axes.\n",
    "plt.xlabel(\"Involvement Type\")\n",
    "plt.ylabel(\"Number of Accidents\")\n",
    "# Create a title.\n",
    "plt.title(\"Accidenst by Invovlement Type\")\n",
    "plt.xticks(rotation=90)\n",
    "# Add the legend.\n",
    "plt.legend()\n",
    "plt.show()\n",
    "plt.tight_layout()"
   ]
  },
  {
   "cell_type": "code",
   "execution_count": 64,
   "id": "26534569",
   "metadata": {},
   "outputs": [
    {
     "data": {
      "image/png": "[encoded data removed]",
      "text/plain": [
       "<Figure size 432x288 with 1 Axes>"
      ]
     },
     "metadata": {
      "needs_background": "light"
     },
     "output_type": "display_data"
    }
   ],
   "source": [
    "# VISIBILITY FACTOR COUNT\n",
    "wplot = sns.countplot(data=df_seriously_injured,x=\"VISIBILITY\")\n",
    "wplot.set_xticklabels(wplot.get_xticklabels(), rotation=40, ha=\"right\")\n",
    "plt.show()"
   ]
  },
  {
   "cell_type": "code",
   "execution_count": 65,
   "id": "e1e298b9",
   "metadata": {},
   "outputs": [
    {
     "data": {
      "image/png": "[encoded data removed]",
      "text/plain": [
       "<Figure size 432x288 with 1 Axes>"
      ]
     },
     "metadata": {
      "needs_background": "light"
     },
     "output_type": "display_data"
    }
   ],
   "source": [
    "# ROAD CONDITION FACTOR\n",
    "wplot = sns.countplot(data=df_seriously_injured,x=\"RDSFCOND\")\n",
    "wplot.set_xticklabels(wplot.get_xticklabels(), rotation=40, ha=\"right\")\n",
    "plt.show()"
   ]
  },
  {
   "cell_type": "code",
   "execution_count": 66,
   "id": "67138cd9",
   "metadata": {},
   "outputs": [
    {
     "data": {
      "image/png": "[encoded data removed]",
      "text/plain": [
       "<Figure size 432x288 with 1 Axes>"
      ]
     },
     "metadata": {
      "needs_background": "light"
     },
     "output_type": "display_data"
    }
   ],
   "source": [
    "# LIGHT FACTOR COUNT\n",
    "wplot = sns.countplot(data=df_seriously_injured,x=\"LIGHT\")\n",
    "wplot.set_xticklabels(wplot.get_xticklabels(), rotation=40, ha=\"right\")\n",
    "plt.show()"
   ]
  },
  {
   "cell_type": "code",
   "execution_count": 67,
   "id": "030630e1",
   "metadata": {},
   "outputs": [
    {
     "data": {
      "text/html": [
       "<div>\n",
       "<style scoped>\n",
       "    .dataframe tbody tr th:only-of-type {\n",
       "        vertical-align: middle;\n",
       "    }\n",
       "\n",
       "    .dataframe tbody tr th {\n",
       "        vertical-align: top;\n",
       "    }\n",
       "\n",
       "    .dataframe thead th {\n",
       "        text-align: right;\n",
       "    }\n",
       "</style>\n",
       "<table border=\"1\" class=\"dataframe\">\n",
       "  <thead>\n",
       "    <tr style=\"text-align: right;\">\n",
       "      <th></th>\n",
       "      <th>VISIBILITY</th>\n",
       "      <th>ACCLASS</th>\n",
       "      <th>ACCNUM</th>\n",
       "    </tr>\n",
       "  </thead>\n",
       "  <tbody>\n",
       "    <tr>\n",
       "      <th>0</th>\n",
       "      <td>Clear</td>\n",
       "      <td>Fatal</td>\n",
       "      <td>677</td>\n",
       "    </tr>\n",
       "    <tr>\n",
       "      <th>1</th>\n",
       "      <td>Clear</td>\n",
       "      <td>Non-Fatal Injury</td>\n",
       "      <td>4437</td>\n",
       "    </tr>\n",
       "    <tr>\n",
       "      <th>2</th>\n",
       "      <td>Clear</td>\n",
       "      <td>Property Damage Only</td>\n",
       "      <td>1</td>\n",
       "    </tr>\n",
       "    <tr>\n",
       "      <th>3</th>\n",
       "      <td>Drifting Snow</td>\n",
       "      <td>Non-Fatal Injury</td>\n",
       "      <td>7</td>\n",
       "    </tr>\n",
       "    <tr>\n",
       "      <th>4</th>\n",
       "      <td>Fog, Mist, Smoke, Dust</td>\n",
       "      <td>Fatal</td>\n",
       "      <td>3</td>\n",
       "    </tr>\n",
       "    <tr>\n",
       "      <th>5</th>\n",
       "      <td>Fog, Mist, Smoke, Dust</td>\n",
       "      <td>Non-Fatal Injury</td>\n",
       "      <td>13</td>\n",
       "    </tr>\n",
       "    <tr>\n",
       "      <th>6</th>\n",
       "      <td>Freezing Rain</td>\n",
       "      <td>Fatal</td>\n",
       "      <td>1</td>\n",
       "    </tr>\n",
       "    <tr>\n",
       "      <th>7</th>\n",
       "      <td>Freezing Rain</td>\n",
       "      <td>Non-Fatal Injury</td>\n",
       "      <td>14</td>\n",
       "    </tr>\n",
       "    <tr>\n",
       "      <th>8</th>\n",
       "      <td>Other</td>\n",
       "      <td>Fatal</td>\n",
       "      <td>19</td>\n",
       "    </tr>\n",
       "    <tr>\n",
       "      <th>9</th>\n",
       "      <td>Other</td>\n",
       "      <td>Non-Fatal Injury</td>\n",
       "      <td>22</td>\n",
       "    </tr>\n",
       "    <tr>\n",
       "      <th>10</th>\n",
       "      <td>Rain</td>\n",
       "      <td>Fatal</td>\n",
       "      <td>84</td>\n",
       "    </tr>\n",
       "    <tr>\n",
       "      <th>11</th>\n",
       "      <td>Rain</td>\n",
       "      <td>Non-Fatal Injury</td>\n",
       "      <td>598</td>\n",
       "    </tr>\n",
       "    <tr>\n",
       "      <th>12</th>\n",
       "      <td>Snow</td>\n",
       "      <td>Fatal</td>\n",
       "      <td>13</td>\n",
       "    </tr>\n",
       "    <tr>\n",
       "      <th>13</th>\n",
       "      <td>Snow</td>\n",
       "      <td>Non-Fatal Injury</td>\n",
       "      <td>101</td>\n",
       "    </tr>\n",
       "    <tr>\n",
       "      <th>14</th>\n",
       "      <td>Strong wind</td>\n",
       "      <td>Non-Fatal Injury</td>\n",
       "      <td>3</td>\n",
       "    </tr>\n",
       "  </tbody>\n",
       "</table>\n",
       "</div>"
      ],
      "text/plain": [
       "                VISIBILITY               ACCLASS  ACCNUM\n",
       "0                    Clear                 Fatal     677\n",
       "1                    Clear      Non-Fatal Injury    4437\n",
       "2                    Clear  Property Damage Only       1\n",
       "3            Drifting Snow      Non-Fatal Injury       7\n",
       "4   Fog, Mist, Smoke, Dust                 Fatal       3\n",
       "5   Fog, Mist, Smoke, Dust      Non-Fatal Injury      13\n",
       "6            Freezing Rain                 Fatal       1\n",
       "7            Freezing Rain      Non-Fatal Injury      14\n",
       "8                    Other                 Fatal      19\n",
       "9                    Other      Non-Fatal Injury      22\n",
       "10                    Rain                 Fatal      84\n",
       "11                    Rain      Non-Fatal Injury     598\n",
       "12                    Snow                 Fatal      13\n",
       "13                    Snow      Non-Fatal Injury     101\n",
       "14             Strong wind      Non-Fatal Injury       3"
      ]
     },
     "execution_count": 67,
     "metadata": {},
     "output_type": "execute_result"
    }
   ],
   "source": [
    "#Total number of accidenst due to Visibity issue and if they were Fatal or not.\n",
    "df_visibility=pd.DataFrame(df_seriously_injured.groupby([\"VISIBILITY\",\"ACCLASS\"],as_index=False)[\"ACCNUM\"].count())\n",
    "df_visibility"
   ]
  },
  {
   "cell_type": "code",
   "execution_count": 68,
   "id": "2b834084",
   "metadata": {},
   "outputs": [],
   "source": [
    "#Remove outliers\n",
    "df_seriously_injured.drop(df_seriously_injured.loc[df_seriously_injured['ACCLASS'] == \"Property Damage Only\"].index, inplace=True)"
   ]
  },
  {
   "cell_type": "code",
   "execution_count": 69,
   "id": "a127975a",
   "metadata": {},
   "outputs": [
    {
     "data": {
      "text/plain": [
       "<AxesSubplot:xlabel='ACCLASS'>"
      ]
     },
     "execution_count": 69,
     "metadata": {},
     "output_type": "execute_result"
    },
    {
     "data": {
      "image/png": "[encoded data removed]",
      "text/plain": [
       "<Figure size 432x288 with 1 Axes>"
      ]
     },
     "metadata": {
      "needs_background": "light"
     },
     "output_type": "display_data"
    }
   ],
   "source": [
    "#Creating bar chart for Visibility\n",
    "df_visibility=pd.DataFrame(df_seriously_injured.groupby([\"VISIBILITY\",\"ACCLASS\"],as_index=False)[\"ACCNUM\"].count())\n",
    "df_visibility.pivot_table(index=\"ACCLASS\",columns=\"VISIBILITY\").plot(kind=\"bar\",y=\"ACCNUM\")"
   ]
  },
  {
   "cell_type": "code",
   "execution_count": 70,
   "id": "d71897c2",
   "metadata": {},
   "outputs": [
    {
     "data": {
      "text/html": [
       "<div>\n",
       "<style scoped>\n",
       "    .dataframe tbody tr th:only-of-type {\n",
       "        vertical-align: middle;\n",
       "    }\n",
       "\n",
       "    .dataframe tbody tr th {\n",
       "        vertical-align: top;\n",
       "    }\n",
       "\n",
       "    .dataframe thead th {\n",
       "        text-align: right;\n",
       "    }\n",
       "</style>\n",
       "<table border=\"1\" class=\"dataframe\">\n",
       "  <thead>\n",
       "    <tr style=\"text-align: right;\">\n",
       "      <th></th>\n",
       "      <th>ALCOHOL</th>\n",
       "      <th>ACCLASS</th>\n",
       "      <th>ACCNUM</th>\n",
       "    </tr>\n",
       "  </thead>\n",
       "  <tbody>\n",
       "    <tr>\n",
       "      <th>0</th>\n",
       "      <td>Yes</td>\n",
       "      <td>Fatal</td>\n",
       "      <td>36</td>\n",
       "    </tr>\n",
       "    <tr>\n",
       "      <th>1</th>\n",
       "      <td>Yes</td>\n",
       "      <td>Non-Fatal Injury</td>\n",
       "      <td>195</td>\n",
       "    </tr>\n",
       "  </tbody>\n",
       "</table>\n",
       "</div>"
      ],
      "text/plain": [
       "  ALCOHOL           ACCLASS  ACCNUM\n",
       "0     Yes             Fatal      36\n",
       "1     Yes  Non-Fatal Injury     195"
      ]
     },
     "execution_count": 70,
     "metadata": {},
     "output_type": "execute_result"
    }
   ],
   "source": [
    "#####Total number of accidenst due to Visibity issue and if they were Fatal or not.\n",
    "df_alcohol=pd.DataFrame(df_seriously_injured.groupby([\"ALCOHOL\",\"ACCLASS\"],as_index=False)[\"ACCNUM\"].count())\n",
    "df_alcohol"
   ]
  },
  {
   "cell_type": "code",
   "execution_count": 71,
   "id": "28bd2461",
   "metadata": {},
   "outputs": [
    {
     "data": {
      "text/html": [
       "<div>\n",
       "<style scoped>\n",
       "    .dataframe tbody tr th:only-of-type {\n",
       "        vertical-align: middle;\n",
       "    }\n",
       "\n",
       "    .dataframe tbody tr th {\n",
       "        vertical-align: top;\n",
       "    }\n",
       "\n",
       "    .dataframe thead th {\n",
       "        text-align: right;\n",
       "    }\n",
       "</style>\n",
       "<table border=\"1\" class=\"dataframe\">\n",
       "  <thead>\n",
       "    <tr style=\"text-align: right;\">\n",
       "      <th></th>\n",
       "      <th>SPEEDING</th>\n",
       "      <th>ACCLASS</th>\n",
       "      <th>ACCNUM</th>\n",
       "    </tr>\n",
       "  </thead>\n",
       "  <tbody>\n",
       "    <tr>\n",
       "      <th>0</th>\n",
       "      <td>Yes</td>\n",
       "      <td>Fatal</td>\n",
       "      <td>154</td>\n",
       "    </tr>\n",
       "    <tr>\n",
       "      <th>1</th>\n",
       "      <td>Yes</td>\n",
       "      <td>Non-Fatal Injury</td>\n",
       "      <td>556</td>\n",
       "    </tr>\n",
       "  </tbody>\n",
       "</table>\n",
       "</div>"
      ],
      "text/plain": [
       "  SPEEDING           ACCLASS  ACCNUM\n",
       "0      Yes             Fatal     154\n",
       "1      Yes  Non-Fatal Injury     556"
      ]
     },
     "execution_count": 71,
     "metadata": {},
     "output_type": "execute_result"
    }
   ],
   "source": [
    "#Total number of accidenst due to Visibity issue and if they were Fatal or not.\n",
    "df_speeding=pd.DataFrame(df_seriously_injured.groupby([\"SPEEDING\",\"ACCLASS\"],as_index=False)[\"ACCNUM\"].count())\n",
    "df_speeding"
   ]
  },
  {
   "cell_type": "code",
   "execution_count": 72,
   "id": "10de4ee6",
   "metadata": {},
   "outputs": [
    {
     "data": {
      "text/html": [
       "<div>\n",
       "<style scoped>\n",
       "    .dataframe tbody tr th:only-of-type {\n",
       "        vertical-align: middle;\n",
       "    }\n",
       "\n",
       "    .dataframe tbody tr th {\n",
       "        vertical-align: top;\n",
       "    }\n",
       "\n",
       "    .dataframe thead th {\n",
       "        text-align: right;\n",
       "    }\n",
       "</style>\n",
       "<table border=\"1\" class=\"dataframe\">\n",
       "  <thead>\n",
       "    <tr style=\"text-align: right;\">\n",
       "      <th></th>\n",
       "      <th>REDLIGHT</th>\n",
       "      <th>ACCLASS</th>\n",
       "      <th>ACCNUM</th>\n",
       "    </tr>\n",
       "  </thead>\n",
       "  <tbody>\n",
       "    <tr>\n",
       "      <th>0</th>\n",
       "      <td>Yes</td>\n",
       "      <td>Fatal</td>\n",
       "      <td>51</td>\n",
       "    </tr>\n",
       "    <tr>\n",
       "      <th>1</th>\n",
       "      <td>Yes</td>\n",
       "      <td>Non-Fatal Injury</td>\n",
       "      <td>325</td>\n",
       "    </tr>\n",
       "  </tbody>\n",
       "</table>\n",
       "</div>"
      ],
      "text/plain": [
       "  REDLIGHT           ACCLASS  ACCNUM\n",
       "0      Yes             Fatal      51\n",
       "1      Yes  Non-Fatal Injury     325"
      ]
     },
     "execution_count": 72,
     "metadata": {},
     "output_type": "execute_result"
    }
   ],
   "source": [
    "#Total number of accidenst due to Visibity issue and if they were Fatal or not.\n",
    "df_RedLight=pd.DataFrame(df_seriously_injured.groupby([\"REDLIGHT\",\"ACCLASS\"],as_index=False)[\"ACCNUM\"].count())\n",
    "df_RedLight"
   ]
  },
  {
   "cell_type": "code",
   "execution_count": 73,
   "id": "3fdb414f",
   "metadata": {},
   "outputs": [
    {
     "data": {
      "text/html": [
       "<div>\n",
       "<style scoped>\n",
       "    .dataframe tbody tr th:only-of-type {\n",
       "        vertical-align: middle;\n",
       "    }\n",
       "\n",
       "    .dataframe tbody tr th {\n",
       "        vertical-align: top;\n",
       "    }\n",
       "\n",
       "    .dataframe thead th {\n",
       "        text-align: right;\n",
       "    }\n",
       "</style>\n",
       "<table border=\"1\" class=\"dataframe\">\n",
       "  <thead>\n",
       "    <tr style=\"text-align: right;\">\n",
       "      <th></th>\n",
       "      <th>RDSFCOND</th>\n",
       "      <th>ACCLASS</th>\n",
       "      <th>ACCNUM</th>\n",
       "    </tr>\n",
       "  </thead>\n",
       "  <tbody>\n",
       "    <tr>\n",
       "      <th>0</th>\n",
       "      <td>Dry</td>\n",
       "      <td>Fatal</td>\n",
       "      <td>621</td>\n",
       "    </tr>\n",
       "    <tr>\n",
       "      <th>1</th>\n",
       "      <td>Dry</td>\n",
       "      <td>Non-Fatal Injury</td>\n",
       "      <td>4123</td>\n",
       "    </tr>\n",
       "    <tr>\n",
       "      <th>2</th>\n",
       "      <td>Ice</td>\n",
       "      <td>Fatal</td>\n",
       "      <td>1</td>\n",
       "    </tr>\n",
       "    <tr>\n",
       "      <th>3</th>\n",
       "      <td>Ice</td>\n",
       "      <td>Non-Fatal Injury</td>\n",
       "      <td>21</td>\n",
       "    </tr>\n",
       "    <tr>\n",
       "      <th>4</th>\n",
       "      <td>Loose Sand or Gravel</td>\n",
       "      <td>Non-Fatal Injury</td>\n",
       "      <td>4</td>\n",
       "    </tr>\n",
       "    <tr>\n",
       "      <th>5</th>\n",
       "      <td>Loose Snow</td>\n",
       "      <td>Fatal</td>\n",
       "      <td>4</td>\n",
       "    </tr>\n",
       "    <tr>\n",
       "      <th>6</th>\n",
       "      <td>Loose Snow</td>\n",
       "      <td>Non-Fatal Injury</td>\n",
       "      <td>48</td>\n",
       "    </tr>\n",
       "    <tr>\n",
       "      <th>7</th>\n",
       "      <td>Other</td>\n",
       "      <td>Fatal</td>\n",
       "      <td>22</td>\n",
       "    </tr>\n",
       "    <tr>\n",
       "      <th>8</th>\n",
       "      <td>Other</td>\n",
       "      <td>Non-Fatal Injury</td>\n",
       "      <td>36</td>\n",
       "    </tr>\n",
       "    <tr>\n",
       "      <th>9</th>\n",
       "      <td>Packed Snow</td>\n",
       "      <td>Fatal</td>\n",
       "      <td>4</td>\n",
       "    </tr>\n",
       "    <tr>\n",
       "      <th>10</th>\n",
       "      <td>Packed Snow</td>\n",
       "      <td>Non-Fatal Injury</td>\n",
       "      <td>13</td>\n",
       "    </tr>\n",
       "    <tr>\n",
       "      <th>11</th>\n",
       "      <td>Slush</td>\n",
       "      <td>Fatal</td>\n",
       "      <td>3</td>\n",
       "    </tr>\n",
       "    <tr>\n",
       "      <th>12</th>\n",
       "      <td>Slush</td>\n",
       "      <td>Non-Fatal Injury</td>\n",
       "      <td>29</td>\n",
       "    </tr>\n",
       "    <tr>\n",
       "      <th>13</th>\n",
       "      <td>Spilled liquid</td>\n",
       "      <td>Non-Fatal Injury</td>\n",
       "      <td>1</td>\n",
       "    </tr>\n",
       "    <tr>\n",
       "      <th>14</th>\n",
       "      <td>Wet</td>\n",
       "      <td>Fatal</td>\n",
       "      <td>141</td>\n",
       "    </tr>\n",
       "    <tr>\n",
       "      <th>15</th>\n",
       "      <td>Wet</td>\n",
       "      <td>Non-Fatal Injury</td>\n",
       "      <td>920</td>\n",
       "    </tr>\n",
       "  </tbody>\n",
       "</table>\n",
       "</div>"
      ],
      "text/plain": [
       "                RDSFCOND           ACCLASS  ACCNUM\n",
       "0                    Dry             Fatal     621\n",
       "1                    Dry  Non-Fatal Injury    4123\n",
       "2                    Ice             Fatal       1\n",
       "3                    Ice  Non-Fatal Injury      21\n",
       "4   Loose Sand or Gravel  Non-Fatal Injury       4\n",
       "5             Loose Snow             Fatal       4\n",
       "6             Loose Snow  Non-Fatal Injury      48\n",
       "7                  Other             Fatal      22\n",
       "8                  Other  Non-Fatal Injury      36\n",
       "9            Packed Snow             Fatal       4\n",
       "10           Packed Snow  Non-Fatal Injury      13\n",
       "11                 Slush             Fatal       3\n",
       "12                 Slush  Non-Fatal Injury      29\n",
       "13        Spilled liquid  Non-Fatal Injury       1\n",
       "14                   Wet             Fatal     141\n",
       "15                   Wet  Non-Fatal Injury     920"
      ]
     },
     "execution_count": 73,
     "metadata": {},
     "output_type": "execute_result"
    }
   ],
   "source": [
    "#Total number of accidenst due to Road Condition and if they were Fatal or not.\n",
    "df_roadcondition=pd.DataFrame(df_seriously_injured.groupby([\"RDSFCOND\",\"ACCLASS\"],as_index=False)[\"ACCNUM\"].count())\n",
    "df_roadcondition"
   ]
  },
  {
   "cell_type": "code",
   "execution_count": 74,
   "id": "18a5ec19",
   "metadata": {},
   "outputs": [
    {
     "data": {
      "text/plain": [
       "<AxesSubplot:xlabel='ACCLASS'>"
      ]
     },
     "execution_count": 74,
     "metadata": {},
     "output_type": "execute_result"
    },
    {
     "data": {
      "image/png": "[encoded data removed]",
      "text/plain": [
       "<Figure size 432x288 with 1 Axes>"
      ]
     },
     "metadata": {
      "needs_background": "light"
     },
     "output_type": "display_data"
    }
   ],
   "source": [
    "#Creating Bar chart for road condition\n",
    "df_roadcondition.pivot_table(index=\"ACCLASS\",columns=\"RDSFCOND\").plot(kind=\"bar\",y=\"ACCNUM\")"
   ]
  },
  {
   "cell_type": "code",
   "execution_count": 75,
   "id": "3a8accf0",
   "metadata": {},
   "outputs": [
    {
     "data": {
      "text/html": [
       "<div>\n",
       "<style scoped>\n",
       "    .dataframe tbody tr th:only-of-type {\n",
       "        vertical-align: middle;\n",
       "    }\n",
       "\n",
       "    .dataframe tbody tr th {\n",
       "        vertical-align: top;\n",
       "    }\n",
       "\n",
       "    .dataframe thead th {\n",
       "        text-align: right;\n",
       "    }\n",
       "</style>\n",
       "<table border=\"1\" class=\"dataframe\">\n",
       "  <thead>\n",
       "    <tr style=\"text-align: right;\">\n",
       "      <th></th>\n",
       "      <th>LIGHT</th>\n",
       "      <th>ACCLASS</th>\n",
       "      <th>ACCNUM</th>\n",
       "    </tr>\n",
       "  </thead>\n",
       "  <tbody>\n",
       "    <tr>\n",
       "      <th>0</th>\n",
       "      <td>Dark</td>\n",
       "      <td>Fatal</td>\n",
       "      <td>198</td>\n",
       "    </tr>\n",
       "    <tr>\n",
       "      <th>1</th>\n",
       "      <td>Dark</td>\n",
       "      <td>Non-Fatal Injury</td>\n",
       "      <td>1007</td>\n",
       "    </tr>\n",
       "    <tr>\n",
       "      <th>2</th>\n",
       "      <td>Dark, artificial</td>\n",
       "      <td>Fatal</td>\n",
       "      <td>156</td>\n",
       "    </tr>\n",
       "    <tr>\n",
       "      <th>3</th>\n",
       "      <td>Dark, artificial</td>\n",
       "      <td>Non-Fatal Injury</td>\n",
       "      <td>912</td>\n",
       "    </tr>\n",
       "    <tr>\n",
       "      <th>4</th>\n",
       "      <td>Dawn</td>\n",
       "      <td>Fatal</td>\n",
       "      <td>5</td>\n",
       "    </tr>\n",
       "    <tr>\n",
       "      <th>5</th>\n",
       "      <td>Dawn</td>\n",
       "      <td>Non-Fatal Injury</td>\n",
       "      <td>31</td>\n",
       "    </tr>\n",
       "    <tr>\n",
       "      <th>6</th>\n",
       "      <td>Dawn, artificial</td>\n",
       "      <td>Fatal</td>\n",
       "      <td>9</td>\n",
       "    </tr>\n",
       "    <tr>\n",
       "      <th>7</th>\n",
       "      <td>Dawn, artificial</td>\n",
       "      <td>Non-Fatal Injury</td>\n",
       "      <td>29</td>\n",
       "    </tr>\n",
       "    <tr>\n",
       "      <th>8</th>\n",
       "      <td>Daylight</td>\n",
       "      <td>Fatal</td>\n",
       "      <td>408</td>\n",
       "    </tr>\n",
       "    <tr>\n",
       "      <th>9</th>\n",
       "      <td>Daylight</td>\n",
       "      <td>Non-Fatal Injury</td>\n",
       "      <td>3040</td>\n",
       "    </tr>\n",
       "    <tr>\n",
       "      <th>10</th>\n",
       "      <td>Daylight, artificial</td>\n",
       "      <td>Fatal</td>\n",
       "      <td>7</td>\n",
       "    </tr>\n",
       "    <tr>\n",
       "      <th>11</th>\n",
       "      <td>Daylight, artificial</td>\n",
       "      <td>Non-Fatal Injury</td>\n",
       "      <td>44</td>\n",
       "    </tr>\n",
       "    <tr>\n",
       "      <th>12</th>\n",
       "      <td>Dusk</td>\n",
       "      <td>Fatal</td>\n",
       "      <td>13</td>\n",
       "    </tr>\n",
       "    <tr>\n",
       "      <th>13</th>\n",
       "      <td>Dusk</td>\n",
       "      <td>Non-Fatal Injury</td>\n",
       "      <td>71</td>\n",
       "    </tr>\n",
       "    <tr>\n",
       "      <th>14</th>\n",
       "      <td>Dusk, artificial</td>\n",
       "      <td>Fatal</td>\n",
       "      <td>8</td>\n",
       "    </tr>\n",
       "    <tr>\n",
       "      <th>15</th>\n",
       "      <td>Dusk, artificial</td>\n",
       "      <td>Non-Fatal Injury</td>\n",
       "      <td>60</td>\n",
       "    </tr>\n",
       "    <tr>\n",
       "      <th>16</th>\n",
       "      <td>Other</td>\n",
       "      <td>Fatal</td>\n",
       "      <td>2</td>\n",
       "    </tr>\n",
       "    <tr>\n",
       "      <th>17</th>\n",
       "      <td>Other</td>\n",
       "      <td>Non-Fatal Injury</td>\n",
       "      <td>1</td>\n",
       "    </tr>\n",
       "  </tbody>\n",
       "</table>\n",
       "</div>"
      ],
      "text/plain": [
       "                   LIGHT           ACCLASS  ACCNUM\n",
       "0                   Dark             Fatal     198\n",
       "1                   Dark  Non-Fatal Injury    1007\n",
       "2       Dark, artificial             Fatal     156\n",
       "3       Dark, artificial  Non-Fatal Injury     912\n",
       "4                   Dawn             Fatal       5\n",
       "5                   Dawn  Non-Fatal Injury      31\n",
       "6       Dawn, artificial             Fatal       9\n",
       "7       Dawn, artificial  Non-Fatal Injury      29\n",
       "8               Daylight             Fatal     408\n",
       "9               Daylight  Non-Fatal Injury    3040\n",
       "10  Daylight, artificial             Fatal       7\n",
       "11  Daylight, artificial  Non-Fatal Injury      44\n",
       "12                  Dusk             Fatal      13\n",
       "13                  Dusk  Non-Fatal Injury      71\n",
       "14      Dusk, artificial             Fatal       8\n",
       "15      Dusk, artificial  Non-Fatal Injury      60\n",
       "16                 Other             Fatal       2\n",
       "17                 Other  Non-Fatal Injury       1"
      ]
     },
     "execution_count": 75,
     "metadata": {},
     "output_type": "execute_result"
    }
   ],
   "source": [
    "#Total number of accidenst due to Light Condition and if they were Fatal or not.\n",
    "df_light=pd.DataFrame(df_seriously_injured.groupby([\"LIGHT\",\"ACCLASS\"],as_index=False)[\"ACCNUM\"].count())\n",
    "df_light"
   ]
  },
  {
   "cell_type": "code",
   "execution_count": 76,
   "id": "1e39d1c2",
   "metadata": {},
   "outputs": [
    {
     "data": {
      "text/plain": [
       "<AxesSubplot:xlabel='ACCLASS'>"
      ]
     },
     "execution_count": 76,
     "metadata": {},
     "output_type": "execute_result"
    },
    {
     "data": {
      "image/png": "[encoded data removed]",
      "text/plain": [
       "<Figure size 432x288 with 1 Axes>"
      ]
     },
     "metadata": {
      "needs_background": "light"
     },
     "output_type": "display_data"
    }
   ],
   "source": [
    "#Creating Bar chart for Light\n",
    "df_light.pivot_table(index=\"ACCLASS\",columns=\"LIGHT\").plot(kind=\"bar\",y=\"ACCNUM\")"
   ]
  },
  {
   "cell_type": "code",
   "execution_count": 77,
   "id": "b11e9776",
   "metadata": {},
   "outputs": [
    {
     "data": {
      "text/html": [
       "<div>\n",
       "<style scoped>\n",
       "    .dataframe tbody tr th:only-of-type {\n",
       "        vertical-align: middle;\n",
       "    }\n",
       "\n",
       "    .dataframe tbody tr th {\n",
       "        vertical-align: top;\n",
       "    }\n",
       "\n",
       "    .dataframe thead th {\n",
       "        text-align: right;\n",
       "    }\n",
       "</style>\n",
       "<table border=\"1\" class=\"dataframe\">\n",
       "  <thead>\n",
       "    <tr style=\"text-align: right;\">\n",
       "      <th></th>\n",
       "      <th>IMPACTYPE</th>\n",
       "      <th>ACCNUM</th>\n",
       "    </tr>\n",
       "  </thead>\n",
       "  <tbody>\n",
       "    <tr>\n",
       "      <th>0</th>\n",
       "      <td>Angle</td>\n",
       "      <td>308</td>\n",
       "    </tr>\n",
       "    <tr>\n",
       "      <th>1</th>\n",
       "      <td>Approaching</td>\n",
       "      <td>228</td>\n",
       "    </tr>\n",
       "    <tr>\n",
       "      <th>2</th>\n",
       "      <td>Cyclist Collisions</td>\n",
       "      <td>706</td>\n",
       "    </tr>\n",
       "    <tr>\n",
       "      <th>3</th>\n",
       "      <td>Other</td>\n",
       "      <td>68</td>\n",
       "    </tr>\n",
       "    <tr>\n",
       "      <th>4</th>\n",
       "      <td>Pedestrian Collisions</td>\n",
       "      <td>2676</td>\n",
       "    </tr>\n",
       "    <tr>\n",
       "      <th>5</th>\n",
       "      <td>Rear End</td>\n",
       "      <td>413</td>\n",
       "    </tr>\n",
       "    <tr>\n",
       "      <th>6</th>\n",
       "      <td>SMV Other</td>\n",
       "      <td>619</td>\n",
       "    </tr>\n",
       "    <tr>\n",
       "      <th>7</th>\n",
       "      <td>SMV Unattended Vehicle</td>\n",
       "      <td>62</td>\n",
       "    </tr>\n",
       "    <tr>\n",
       "      <th>8</th>\n",
       "      <td>Sideswipe</td>\n",
       "      <td>136</td>\n",
       "    </tr>\n",
       "    <tr>\n",
       "      <th>9</th>\n",
       "      <td>Turning Movement</td>\n",
       "      <td>784</td>\n",
       "    </tr>\n",
       "  </tbody>\n",
       "</table>\n",
       "</div>"
      ],
      "text/plain": [
       "                IMPACTYPE  ACCNUM\n",
       "0                   Angle     308\n",
       "1             Approaching     228\n",
       "2      Cyclist Collisions     706\n",
       "3                   Other      68\n",
       "4   Pedestrian Collisions    2676\n",
       "5                Rear End     413\n",
       "6               SMV Other     619\n",
       "7  SMV Unattended Vehicle      62\n",
       "8               Sideswipe     136\n",
       "9        Turning Movement     784"
      ]
     },
     "execution_count": 77,
     "metadata": {},
     "output_type": "execute_result"
    }
   ],
   "source": [
    "#Total number of accidenst based on the Impact Type\n",
    "df_impact_type=pd.DataFrame(df_seriously_injured.groupby([\"IMPACTYPE\"],as_index=False)[\"ACCNUM\"].count())\n",
    "df_impact_type"
   ]
  },
  {
   "cell_type": "code",
   "execution_count": 78,
   "id": "70c702e4",
   "metadata": {},
   "outputs": [
    {
     "data": {
      "text/plain": [
       "<AxesSubplot:xlabel='IMPACTYPE'>"
      ]
     },
     "execution_count": 78,
     "metadata": {},
     "output_type": "execute_result"
    },
    {
     "data": {
      "image/png": "[encoded data removed]",
      "text/plain": [
       "<Figure size 432x288 with 1 Axes>"
      ]
     },
     "metadata": {
      "needs_background": "light"
     },
     "output_type": "display_data"
    }
   ],
   "source": [
    "#Creating bar chart for IMPACT Type\n",
    "df_impact_type.plot(\"IMPACTYPE\",\"ACCNUM\",kind=\"bar\")"
   ]
  },
  {
   "cell_type": "code",
   "execution_count": 79,
   "id": "3c7724d0",
   "metadata": {},
   "outputs": [
    {
     "data": {
      "text/html": [
       "<div>\n",
       "<style scoped>\n",
       "    .dataframe tbody tr th:only-of-type {\n",
       "        vertical-align: middle;\n",
       "    }\n",
       "\n",
       "    .dataframe tbody tr th {\n",
       "        vertical-align: top;\n",
       "    }\n",
       "\n",
       "    .dataframe thead th {\n",
       "        text-align: right;\n",
       "    }\n",
       "</style>\n",
       "<table border=\"1\" class=\"dataframe\">\n",
       "  <thead>\n",
       "    <tr style=\"text-align: right;\">\n",
       "      <th></th>\n",
       "      <th>ACCNUM</th>\n",
       "    </tr>\n",
       "    <tr>\n",
       "      <th>HOUR</th>\n",
       "      <th></th>\n",
       "    </tr>\n",
       "  </thead>\n",
       "  <tbody>\n",
       "    <tr>\n",
       "      <th>0</th>\n",
       "      <td>173</td>\n",
       "    </tr>\n",
       "    <tr>\n",
       "      <th>1</th>\n",
       "      <td>144</td>\n",
       "    </tr>\n",
       "    <tr>\n",
       "      <th>2</th>\n",
       "      <td>161</td>\n",
       "    </tr>\n",
       "    <tr>\n",
       "      <th>3</th>\n",
       "      <td>134</td>\n",
       "    </tr>\n",
       "    <tr>\n",
       "      <th>4</th>\n",
       "      <td>61</td>\n",
       "    </tr>\n",
       "    <tr>\n",
       "      <th>5</th>\n",
       "      <td>104</td>\n",
       "    </tr>\n",
       "    <tr>\n",
       "      <th>6</th>\n",
       "      <td>203</td>\n",
       "    </tr>\n",
       "    <tr>\n",
       "      <th>7</th>\n",
       "      <td>210</td>\n",
       "    </tr>\n",
       "    <tr>\n",
       "      <th>8</th>\n",
       "      <td>242</td>\n",
       "    </tr>\n",
       "    <tr>\n",
       "      <th>9</th>\n",
       "      <td>264</td>\n",
       "    </tr>\n",
       "    <tr>\n",
       "      <th>10</th>\n",
       "      <td>259</td>\n",
       "    </tr>\n",
       "    <tr>\n",
       "      <th>11</th>\n",
       "      <td>253</td>\n",
       "    </tr>\n",
       "    <tr>\n",
       "      <th>12</th>\n",
       "      <td>265</td>\n",
       "    </tr>\n",
       "    <tr>\n",
       "      <th>13</th>\n",
       "      <td>282</td>\n",
       "    </tr>\n",
       "    <tr>\n",
       "      <th>14</th>\n",
       "      <td>325</td>\n",
       "    </tr>\n",
       "    <tr>\n",
       "      <th>15</th>\n",
       "      <td>358</td>\n",
       "    </tr>\n",
       "    <tr>\n",
       "      <th>16</th>\n",
       "      <td>340</td>\n",
       "    </tr>\n",
       "    <tr>\n",
       "      <th>17</th>\n",
       "      <td>392</td>\n",
       "    </tr>\n",
       "    <tr>\n",
       "      <th>18</th>\n",
       "      <td>424</td>\n",
       "    </tr>\n",
       "    <tr>\n",
       "      <th>19</th>\n",
       "      <td>345</td>\n",
       "    </tr>\n",
       "    <tr>\n",
       "      <th>20</th>\n",
       "      <td>317</td>\n",
       "    </tr>\n",
       "    <tr>\n",
       "      <th>21</th>\n",
       "      <td>302</td>\n",
       "    </tr>\n",
       "    <tr>\n",
       "      <th>22</th>\n",
       "      <td>244</td>\n",
       "    </tr>\n",
       "    <tr>\n",
       "      <th>23</th>\n",
       "      <td>199</td>\n",
       "    </tr>\n",
       "  </tbody>\n",
       "</table>\n",
       "</div>"
      ],
      "text/plain": [
       "      ACCNUM\n",
       "HOUR        \n",
       "0        173\n",
       "1        144\n",
       "2        161\n",
       "3        134\n",
       "4         61\n",
       "5        104\n",
       "6        203\n",
       "7        210\n",
       "8        242\n",
       "9        264\n",
       "10       259\n",
       "11       253\n",
       "12       265\n",
       "13       282\n",
       "14       325\n",
       "15       358\n",
       "16       340\n",
       "17       392\n",
       "18       424\n",
       "19       345\n",
       "20       317\n",
       "21       302\n",
       "22       244\n",
       "23       199"
      ]
     },
     "execution_count": 79,
     "metadata": {},
     "output_type": "execute_result"
    }
   ],
   "source": [
    "#On which hour of the day we have most accident \n",
    "df_hourofthedayaccident=pd.DataFrame(df_seriously_injured.groupby([\"HOUR\"])[\"ACCNUM\"].count())\n",
    "df_hourofthedayaccident"
   ]
  },
  {
   "cell_type": "code",
   "execution_count": 80,
   "id": "45fefa75",
   "metadata": {},
   "outputs": [
    {
     "data": {
      "text/plain": [
       "<AxesSubplot:ylabel='HOUR'>"
      ]
     },
     "execution_count": 80,
     "metadata": {},
     "output_type": "execute_result"
    },
    {
     "data": {
      "image/png": "[encoded data removed]",
      "text/plain": [
       "<Figure size 432x288 with 2 Axes>"
      ]
     },
     "metadata": {
      "needs_background": "light"
     },
     "output_type": "display_data"
    }
   ],
   "source": [
    "sns.heatmap(df_hourofthedayaccident)"
   ]
  },
  {
   "cell_type": "code",
   "execution_count": 81,
   "id": "58865d01",
   "metadata": {},
   "outputs": [
    {
     "data": {
      "text/html": [
       "<div>\n",
       "<style scoped>\n",
       "    .dataframe tbody tr th:only-of-type {\n",
       "        vertical-align: middle;\n",
       "    }\n",
       "\n",
       "    .dataframe tbody tr th {\n",
       "        vertical-align: top;\n",
       "    }\n",
       "\n",
       "    .dataframe thead th {\n",
       "        text-align: right;\n",
       "    }\n",
       "</style>\n",
       "<table border=\"1\" class=\"dataframe\">\n",
       "  <thead>\n",
       "    <tr style=\"text-align: right;\">\n",
       "      <th></th>\n",
       "      <th>ACCNUM</th>\n",
       "    </tr>\n",
       "    <tr>\n",
       "      <th>YEAR</th>\n",
       "      <th></th>\n",
       "    </tr>\n",
       "  </thead>\n",
       "  <tbody>\n",
       "    <tr>\n",
       "      <th>2006</th>\n",
       "      <td>481</td>\n",
       "    </tr>\n",
       "    <tr>\n",
       "      <th>2007</th>\n",
       "      <td>453</td>\n",
       "    </tr>\n",
       "    <tr>\n",
       "      <th>2008</th>\n",
       "      <td>417</td>\n",
       "    </tr>\n",
       "    <tr>\n",
       "      <th>2009</th>\n",
       "      <td>438</td>\n",
       "    </tr>\n",
       "    <tr>\n",
       "      <th>2010</th>\n",
       "      <td>400</td>\n",
       "    </tr>\n",
       "    <tr>\n",
       "      <th>2011</th>\n",
       "      <td>399</td>\n",
       "    </tr>\n",
       "    <tr>\n",
       "      <th>2012</th>\n",
       "      <td>453</td>\n",
       "    </tr>\n",
       "    <tr>\n",
       "      <th>2013</th>\n",
       "      <td>431</td>\n",
       "    </tr>\n",
       "    <tr>\n",
       "      <th>2014</th>\n",
       "      <td>350</td>\n",
       "    </tr>\n",
       "    <tr>\n",
       "      <th>2015</th>\n",
       "      <td>350</td>\n",
       "    </tr>\n",
       "    <tr>\n",
       "      <th>2016</th>\n",
       "      <td>386</td>\n",
       "    </tr>\n",
       "    <tr>\n",
       "      <th>2017</th>\n",
       "      <td>392</td>\n",
       "    </tr>\n",
       "    <tr>\n",
       "      <th>2018</th>\n",
       "      <td>422</td>\n",
       "    </tr>\n",
       "    <tr>\n",
       "      <th>2019</th>\n",
       "      <td>364</td>\n",
       "    </tr>\n",
       "    <tr>\n",
       "      <th>2020</th>\n",
       "      <td>265</td>\n",
       "    </tr>\n",
       "  </tbody>\n",
       "</table>\n",
       "</div>"
      ],
      "text/plain": [
       "      ACCNUM\n",
       "YEAR        \n",
       "2006     481\n",
       "2007     453\n",
       "2008     417\n",
       "2009     438\n",
       "2010     400\n",
       "2011     399\n",
       "2012     453\n",
       "2013     431\n",
       "2014     350\n",
       "2015     350\n",
       "2016     386\n",
       "2017     392\n",
       "2018     422\n",
       "2019     364\n",
       "2020     265"
      ]
     },
     "execution_count": 81,
     "metadata": {},
     "output_type": "execute_result"
    }
   ],
   "source": [
    "#In which year we have most accident \n",
    "df_Yearofaccident=pd.DataFrame(df_seriously_injured.groupby([\"YEAR\"])[\"ACCNUM\"].count())\n",
    "df_Yearofaccident"
   ]
  },
  {
   "cell_type": "code",
   "execution_count": 82,
   "id": "6c62e72a",
   "metadata": {},
   "outputs": [
    {
     "data": {
      "text/plain": [
       "<AxesSubplot:ylabel='YEAR'>"
      ]
     },
     "execution_count": 82,
     "metadata": {},
     "output_type": "execute_result"
    },
    {
     "data": {
      "image/png": "[encoded data removed]",
      "text/plain": [
       "<Figure size 432x288 with 2 Axes>"
      ]
     },
     "metadata": {
      "needs_background": "light"
     },
     "output_type": "display_data"
    }
   ],
   "source": [
    "sns.heatmap(df_Yearofaccident)"
   ]
  },
  {
   "cell_type": "code",
   "execution_count": 83,
   "id": "50f38083",
   "metadata": {},
   "outputs": [
    {
     "data": {
      "text/html": [
       "<div>\n",
       "<style scoped>\n",
       "    .dataframe tbody tr th:only-of-type {\n",
       "        vertical-align: middle;\n",
       "    }\n",
       "\n",
       "    .dataframe tbody tr th {\n",
       "        vertical-align: top;\n",
       "    }\n",
       "\n",
       "    .dataframe thead th {\n",
       "        text-align: right;\n",
       "    }\n",
       "</style>\n",
       "<table border=\"1\" class=\"dataframe\">\n",
       "  <thead>\n",
       "    <tr style=\"text-align: right;\">\n",
       "      <th></th>\n",
       "      <th>ROAD_CLASS_ID</th>\n",
       "      <th>ACCNUM</th>\n",
       "    </tr>\n",
       "  </thead>\n",
       "  <tbody>\n",
       "    <tr>\n",
       "      <th>0</th>\n",
       "      <td>1.0</td>\n",
       "      <td>4141</td>\n",
       "    </tr>\n",
       "    <tr>\n",
       "      <th>1</th>\n",
       "      <td>2.0</td>\n",
       "      <td>369</td>\n",
       "    </tr>\n",
       "    <tr>\n",
       "      <th>2</th>\n",
       "      <td>3.0</td>\n",
       "      <td>982</td>\n",
       "    </tr>\n",
       "    <tr>\n",
       "      <th>3</th>\n",
       "      <td>4.0</td>\n",
       "      <td>307</td>\n",
       "    </tr>\n",
       "    <tr>\n",
       "      <th>4</th>\n",
       "      <td>5.0</td>\n",
       "      <td>9</td>\n",
       "    </tr>\n",
       "    <tr>\n",
       "      <th>5</th>\n",
       "      <td>6.0</td>\n",
       "      <td>3</td>\n",
       "    </tr>\n",
       "    <tr>\n",
       "      <th>6</th>\n",
       "      <td>7.0</td>\n",
       "      <td>4</td>\n",
       "    </tr>\n",
       "    <tr>\n",
       "      <th>7</th>\n",
       "      <td>8.0</td>\n",
       "      <td>19</td>\n",
       "    </tr>\n",
       "    <tr>\n",
       "      <th>8</th>\n",
       "      <td>9.0</td>\n",
       "      <td>2</td>\n",
       "    </tr>\n",
       "    <tr>\n",
       "      <th>9</th>\n",
       "      <td>10.0</td>\n",
       "      <td>1</td>\n",
       "    </tr>\n",
       "  </tbody>\n",
       "</table>\n",
       "</div>"
      ],
      "text/plain": [
       "   ROAD_CLASS_ID  ACCNUM\n",
       "0            1.0    4141\n",
       "1            2.0     369\n",
       "2            3.0     982\n",
       "3            4.0     307\n",
       "4            5.0       9\n",
       "5            6.0       3\n",
       "6            7.0       4\n",
       "7            8.0      19\n",
       "8            9.0       2\n",
       "9           10.0       1"
      ]
     },
     "execution_count": 83,
     "metadata": {},
     "output_type": "execute_result"
    }
   ],
   "source": [
    "#How many accidents based on Road Classification\n",
    "df_road_type=pd.DataFrame(df_seriously_injured.groupby(\"ROAD_CLASS_ID\",as_index=False)[\"ACCNUM\"].count())\n",
    "df_road_type"
   ]
  },
  {
   "cell_type": "code",
   "execution_count": 84,
   "id": "721c650b",
   "metadata": {},
   "outputs": [
    {
     "data": {
      "text/html": [
       "<div>\n",
       "<style scoped>\n",
       "    .dataframe tbody tr th:only-of-type {\n",
       "        vertical-align: middle;\n",
       "    }\n",
       "\n",
       "    .dataframe tbody tr th {\n",
       "        vertical-align: top;\n",
       "    }\n",
       "\n",
       "    .dataframe thead th {\n",
       "        text-align: right;\n",
       "    }\n",
       "</style>\n",
       "<table border=\"1\" class=\"dataframe\">\n",
       "  <thead>\n",
       "    <tr style=\"text-align: right;\">\n",
       "      <th></th>\n",
       "      <th>ROAD_CLASS_ID</th>\n",
       "      <th>ACCNUM</th>\n",
       "      <th>ROAD_CLASS</th>\n",
       "    </tr>\n",
       "  </thead>\n",
       "  <tbody>\n",
       "    <tr>\n",
       "      <th>0</th>\n",
       "      <td>1.0</td>\n",
       "      <td>4141</td>\n",
       "      <td>Major Arterial</td>\n",
       "    </tr>\n",
       "    <tr>\n",
       "      <th>1</th>\n",
       "      <td>2.0</td>\n",
       "      <td>369</td>\n",
       "      <td>Collector</td>\n",
       "    </tr>\n",
       "    <tr>\n",
       "      <th>2</th>\n",
       "      <td>3.0</td>\n",
       "      <td>982</td>\n",
       "      <td>Minor Arterial</td>\n",
       "    </tr>\n",
       "    <tr>\n",
       "      <th>3</th>\n",
       "      <td>4.0</td>\n",
       "      <td>307</td>\n",
       "      <td>Local</td>\n",
       "    </tr>\n",
       "    <tr>\n",
       "      <th>4</th>\n",
       "      <td>5.0</td>\n",
       "      <td>9</td>\n",
       "      <td>Other</td>\n",
       "    </tr>\n",
       "    <tr>\n",
       "      <th>5</th>\n",
       "      <td>6.0</td>\n",
       "      <td>3</td>\n",
       "      <td>Pending</td>\n",
       "    </tr>\n",
       "    <tr>\n",
       "      <th>6</th>\n",
       "      <td>7.0</td>\n",
       "      <td>4</td>\n",
       "      <td>Laneway</td>\n",
       "    </tr>\n",
       "    <tr>\n",
       "      <th>7</th>\n",
       "      <td>8.0</td>\n",
       "      <td>19</td>\n",
       "      <td>Expressway</td>\n",
       "    </tr>\n",
       "    <tr>\n",
       "      <th>8</th>\n",
       "      <td>9.0</td>\n",
       "      <td>2</td>\n",
       "      <td>Expressway Ramp</td>\n",
       "    </tr>\n",
       "    <tr>\n",
       "      <th>9</th>\n",
       "      <td>10.0</td>\n",
       "      <td>1</td>\n",
       "      <td>Major Arterial Ramp</td>\n",
       "    </tr>\n",
       "  </tbody>\n",
       "</table>\n",
       "</div>"
      ],
      "text/plain": [
       "   ROAD_CLASS_ID  ACCNUM           ROAD_CLASS\n",
       "0            1.0    4141       Major Arterial\n",
       "1            2.0     369            Collector\n",
       "2            3.0     982       Minor Arterial\n",
       "3            4.0     307                Local\n",
       "4            5.0       9                Other\n",
       "5            6.0       3              Pending\n",
       "6            7.0       4              Laneway\n",
       "7            8.0      19           Expressway\n",
       "8            9.0       2      Expressway Ramp\n",
       "9           10.0       1  Major Arterial Ramp"
      ]
     },
     "execution_count": 84,
     "metadata": {},
     "output_type": "execute_result"
    }
   ],
   "source": [
    "##Merging Road Class and Seriously Injured tables\n",
    "df_road_type=pd.merge(df_road_type,df_road_class,how='left',on=['ROAD_CLASS_ID'])\n",
    "df_road_type"
   ]
  },
  {
   "cell_type": "code",
   "execution_count": 85,
   "id": "648089d8",
   "metadata": {},
   "outputs": [],
   "source": [
    "#Remove outliers\n",
    "df_road_type.drop(df_road_type.loc[df_road_type['ACCNUM'] <20].index, inplace=True)"
   ]
  },
  {
   "cell_type": "code",
   "execution_count": 86,
   "id": "c521dfad",
   "metadata": {},
   "outputs": [
    {
     "data": {
      "text/plain": [
       "<AxesSubplot:xlabel='ROAD_CLASS'>"
      ]
     },
     "execution_count": 86,
     "metadata": {},
     "output_type": "execute_result"
    },
    {
     "data": {
      "image/png": "[encoded data removed]",
      "text/plain": [
       "<Figure size 432x288 with 1 Axes>"
      ]
     },
     "metadata": {
      "needs_background": "light"
     },
     "output_type": "display_data"
    }
   ],
   "source": [
    "#Bar graph to shoulw total number of accidents based on Road Classification\n",
    "df_road_type.plot(\"ROAD_CLASS\",\"ACCNUM\",kind=\"bar\")"
   ]
  },
  {
   "cell_type": "code",
   "execution_count": 87,
   "id": "dce26d07",
   "metadata": {},
   "outputs": [],
   "source": [
    "#Extracting Month from Date\n",
    "df_seriously_injured['Month'] = df_seriously_injured['DATE'].dt.month_name()"
   ]
  },
  {
   "cell_type": "code",
   "execution_count": 88,
   "id": "592d1ab4",
   "metadata": {},
   "outputs": [],
   "source": [
    "#Extracting Week from Date\n",
    "df_seriously_injured[\"Day_of_Week\"]=df_seriously_injured[\"DATE\"].dt.day_name()"
   ]
  },
  {
   "cell_type": "code",
   "execution_count": null,
   "id": "2f19e3b1",
   "metadata": {},
   "outputs": [],
   "source": []
  },
  {
   "cell_type": "code",
   "execution_count": null,
   "id": "6056c4fa",
   "metadata": {},
   "outputs": [],
   "source": []
  },
  {
   "cell_type": "markdown",
   "id": "e6938124",
   "metadata": {},
   "source": [
    "# CREATING HEADMAP OF ACCIDENT DATA BY YEAR AND MONTH"
   ]
  },
  {
   "cell_type": "code",
   "execution_count": 89,
   "id": "020240f0",
   "metadata": {},
   "outputs": [],
   "source": [
    "def RTAs_by_month(df, month):\n",
    "    month_list = []\n",
    "    mon, tues, wed, thurs, fri, sat, sun = 0,0,0,0,0,0,0\n",
    "    \n",
    "    for idx, row in df.iterrows():\n",
    "        if row[\"Month\"] == month and row[\"Day_of_Week\"] == \"Monday\": mon +=1\n",
    "        elif row[\"Month\"] == month and row[\"Day_of_Week\"] == \"Tuesday\": tues +=1\n",
    "        elif row[\"Month\"] == month and row[\"Day_of_Week\"] == \"Wednesday\": wed +=1\n",
    "        elif row[\"Month\"] == month and row[\"Day_of_Week\"] == \"Thursday\": thurs +=1\n",
    "        elif row[\"Month\"] == month and row[\"Day_of_Week\"] == \"Friday\": fri +=1\n",
    "        elif row[\"Month\"] == month and row[\"Day_of_Week\"] == \"Saturday\": sat +=1\n",
    "        elif row[\"Month\"] == month and row[\"Day_of_Week\"] == \"Sunday\": sun +=1\n",
    "        else: a=0 \n",
    "\n",
    "    month_list.append(mon)\n",
    "    month_list.append(tues)\n",
    "    month_list.append(wed)\n",
    "    month_list.append(thurs)\n",
    "    month_list.append(fri)\n",
    "    month_list.append(sat)\n",
    "    month_list.append(sun)\n",
    "    \n",
    "    total = mon+tues+wed+thurs+fri+sat+sun\n",
    "    \n",
    "    return(month_list)"
   ]
  },
  {
   "cell_type": "code",
   "execution_count": 90,
   "id": "c1132726",
   "metadata": {},
   "outputs": [],
   "source": [
    "#Extract RTA data for each day by month\n",
    "january = RTAs_by_month(df_seriously_injured, \"January\")\n",
    "february = RTAs_by_month(df_seriously_injured, \"February\")\n",
    "march = RTAs_by_month(df_seriously_injured, \"March\")\n",
    "april = RTAs_by_month(df_seriously_injured, \"April\")\n",
    "may = RTAs_by_month(df_seriously_injured, \"May\")\n",
    "june = RTAs_by_month(df_seriously_injured, \"June\")\n",
    "july = RTAs_by_month(df_seriously_injured, \"July\")\n",
    "august = RTAs_by_month(df_seriously_injured, \"August\")\n",
    "september = RTAs_by_month(df_seriously_injured, \"September\")\n",
    "october = RTAs_by_month(df_seriously_injured, \"October\")\n",
    "november = RTAs_by_month(df_seriously_injured, \"November\")\n",
    "december = RTAs_by_month(df_seriously_injured, \"December\")"
   ]
  },
  {
   "cell_type": "code",
   "execution_count": 91,
   "id": "3ec369d3",
   "metadata": {},
   "outputs": [],
   "source": [
    "#Create matrix for the heatmap\n",
    "columns = [\"Monday\", \"Tuesday\", \"Wednesday\", \"Thursday\", \"Friday\", \"Saturday\", \"Sunday\"]\n",
    "rows = [\"January\", \"February\", \"March\", \"April\", \"May\", \"June\", \"July\", \"August\", \"September\", \"October\", \"November\", \"December\"]\n",
    "data = np.array([january, february, march, april, may, june, july, august, september, october, november, december])\n",
    "heatmap_df = pd.DataFrame(data=data, index=rows, columns=columns)"
   ]
  },
  {
   "cell_type": "code",
   "execution_count": 92,
   "id": "fccf8c86",
   "metadata": {},
   "outputs": [
    {
     "data": {
      "text/html": [
       "<div>\n",
       "<style scoped>\n",
       "    .dataframe tbody tr th:only-of-type {\n",
       "        vertical-align: middle;\n",
       "    }\n",
       "\n",
       "    .dataframe tbody tr th {\n",
       "        vertical-align: top;\n",
       "    }\n",
       "\n",
       "    .dataframe thead th {\n",
       "        text-align: right;\n",
       "    }\n",
       "</style>\n",
       "<table border=\"1\" class=\"dataframe\">\n",
       "  <thead>\n",
       "    <tr style=\"text-align: right;\">\n",
       "      <th></th>\n",
       "      <th>Monday</th>\n",
       "      <th>Tuesday</th>\n",
       "      <th>Wednesday</th>\n",
       "      <th>Thursday</th>\n",
       "      <th>Friday</th>\n",
       "      <th>Saturday</th>\n",
       "      <th>Sunday</th>\n",
       "    </tr>\n",
       "  </thead>\n",
       "  <tbody>\n",
       "    <tr>\n",
       "      <th>January</th>\n",
       "      <td>56</td>\n",
       "      <td>78</td>\n",
       "      <td>54</td>\n",
       "      <td>53</td>\n",
       "      <td>80</td>\n",
       "      <td>52</td>\n",
       "      <td>56</td>\n",
       "    </tr>\n",
       "    <tr>\n",
       "      <th>February</th>\n",
       "      <td>52</td>\n",
       "      <td>51</td>\n",
       "      <td>54</td>\n",
       "      <td>55</td>\n",
       "      <td>47</td>\n",
       "      <td>56</td>\n",
       "      <td>48</td>\n",
       "    </tr>\n",
       "    <tr>\n",
       "      <th>March</th>\n",
       "      <td>58</td>\n",
       "      <td>53</td>\n",
       "      <td>73</td>\n",
       "      <td>53</td>\n",
       "      <td>68</td>\n",
       "      <td>58</td>\n",
       "      <td>46</td>\n",
       "    </tr>\n",
       "    <tr>\n",
       "      <th>April</th>\n",
       "      <td>58</td>\n",
       "      <td>64</td>\n",
       "      <td>64</td>\n",
       "      <td>53</td>\n",
       "      <td>57</td>\n",
       "      <td>59</td>\n",
       "      <td>48</td>\n",
       "    </tr>\n",
       "    <tr>\n",
       "      <th>May</th>\n",
       "      <td>59</td>\n",
       "      <td>76</td>\n",
       "      <td>79</td>\n",
       "      <td>76</td>\n",
       "      <td>71</td>\n",
       "      <td>68</td>\n",
       "      <td>59</td>\n",
       "    </tr>\n",
       "    <tr>\n",
       "      <th>June</th>\n",
       "      <td>68</td>\n",
       "      <td>99</td>\n",
       "      <td>88</td>\n",
       "      <td>97</td>\n",
       "      <td>78</td>\n",
       "      <td>83</td>\n",
       "      <td>84</td>\n",
       "    </tr>\n",
       "    <tr>\n",
       "      <th>July</th>\n",
       "      <td>86</td>\n",
       "      <td>69</td>\n",
       "      <td>81</td>\n",
       "      <td>73</td>\n",
       "      <td>94</td>\n",
       "      <td>60</td>\n",
       "      <td>70</td>\n",
       "    </tr>\n",
       "    <tr>\n",
       "      <th>August</th>\n",
       "      <td>71</td>\n",
       "      <td>90</td>\n",
       "      <td>68</td>\n",
       "      <td>88</td>\n",
       "      <td>110</td>\n",
       "      <td>93</td>\n",
       "      <td>67</td>\n",
       "    </tr>\n",
       "    <tr>\n",
       "      <th>September</th>\n",
       "      <td>83</td>\n",
       "      <td>91</td>\n",
       "      <td>90</td>\n",
       "      <td>84</td>\n",
       "      <td>90</td>\n",
       "      <td>85</td>\n",
       "      <td>87</td>\n",
       "    </tr>\n",
       "    <tr>\n",
       "      <th>October</th>\n",
       "      <td>94</td>\n",
       "      <td>77</td>\n",
       "      <td>96</td>\n",
       "      <td>87</td>\n",
       "      <td>92</td>\n",
       "      <td>71</td>\n",
       "      <td>68</td>\n",
       "    </tr>\n",
       "    <tr>\n",
       "      <th>November</th>\n",
       "      <td>68</td>\n",
       "      <td>68</td>\n",
       "      <td>69</td>\n",
       "      <td>91</td>\n",
       "      <td>109</td>\n",
       "      <td>59</td>\n",
       "      <td>65</td>\n",
       "    </tr>\n",
       "    <tr>\n",
       "      <th>December</th>\n",
       "      <td>66</td>\n",
       "      <td>79</td>\n",
       "      <td>73</td>\n",
       "      <td>65</td>\n",
       "      <td>56</td>\n",
       "      <td>60</td>\n",
       "      <td>69</td>\n",
       "    </tr>\n",
       "  </tbody>\n",
       "</table>\n",
       "</div>"
      ],
      "text/plain": [
       "           Monday  Tuesday  Wednesday  Thursday  Friday  Saturday  Sunday\n",
       "January        56       78         54        53      80        52      56\n",
       "February       52       51         54        55      47        56      48\n",
       "March          58       53         73        53      68        58      46\n",
       "April          58       64         64        53      57        59      48\n",
       "May            59       76         79        76      71        68      59\n",
       "June           68       99         88        97      78        83      84\n",
       "July           86       69         81        73      94        60      70\n",
       "August         71       90         68        88     110        93      67\n",
       "September      83       91         90        84      90        85      87\n",
       "October        94       77         96        87      92        71      68\n",
       "November       68       68         69        91     109        59      65\n",
       "December       66       79         73        65      56        60      69"
      ]
     },
     "execution_count": 92,
     "metadata": {},
     "output_type": "execute_result"
    }
   ],
   "source": [
    "heatmap_df"
   ]
  },
  {
   "cell_type": "code",
   "execution_count": 93,
   "id": "3e168a72",
   "metadata": {},
   "outputs": [
    {
     "data": {
      "text/plain": [
       "Text(0.5, 1.0, 'Traffic Accidents by week for each month from 2014-2020')"
      ]
     },
     "execution_count": 93,
     "metadata": {},
     "output_type": "execute_result"
    },
    {
     "data": {
      "image/png": "[encoded data removed]",
      "text/plain": [
       "<Figure size 864x864 with 2 Axes>"
      ]
     },
     "metadata": {
      "needs_background": "light"
     },
     "output_type": "display_data"
    }
   ],
   "source": [
    "import seaborn as sns\n",
    "import matplotlib.pyplot as plt\n",
    "fig = plt.figure(figsize=(12,12))\n",
    "map1 = sns.heatmap(heatmap_df, annot=True, fmt=\"d\", cmap='BuPu', cbar_kws={\"orientation\": \"horizontal\"} )\n",
    "map1.set_title(\"Traffic Accidents by week for each month from 2014-2020\")"
   ]
  },
  {
   "cell_type": "code",
   "execution_count": 95,
   "id": "cd26acfc",
   "metadata": {},
   "outputs": [],
   "source": [
    "#Exporting cleaned data to csv\n",
    "df_seriously_injured.to_csv(\"Resources/df_seriously_injured.csv\",index=False)"
   ]
  }
 ],
 "metadata": {
  "kernelspec": {
   "display_name": "mlenv",
   "language": "python",
   "name": "mlenv"
  },
  "language_info": {
   "codemirror_mode": {
    "name": "ipython",
    "version": 3
   },
   "file_extension": ".py",
   "mimetype": "text/x-python",
   "name": "python",
   "nbconvert_exporter": "python",
   "pygments_lexer": "ipython3",
   "version": "3.7.11"
  }
 },
 "nbformat": 4,
 "nbformat_minor": 5
}
