{
 "cells": [
  {
   "cell_type": "code",
   "execution_count": 1,
   "id": "58cc3518",
   "metadata": {},
   "outputs": [],
   "source": [
    "# Add Matplotlib inline magic command\n",
    "%matplotlib notebook\n",
    "%matplotlib inline\n",
    "#importing libraries\n",
    "import matplotlib.pyplot as plt\n",
    "import pandas as pd\n",
    "import numpy as np\n",
    "import seaborn as sns"
   ]
  },
  {
   "cell_type": "code",
   "execution_count": 2,
   "id": "26bb7129",
   "metadata": {},
   "outputs": [],
   "source": [
    "#importing files\n",
    "red_light_camera=pd.read_csv(\"../Resources/red_light_camera.csv\")"
   ]
  },
  {
   "cell_type": "code",
   "execution_count": 3,
   "id": "7ea1b017",
   "metadata": {},
   "outputs": [],
   "source": [
    "#creating copy of data\n",
    "df_red_light_camera=red_light_camera.copy()"
   ]
  },
  {
   "cell_type": "code",
   "execution_count": 4,
   "id": "45b1cbd7",
   "metadata": {},
   "outputs": [],
   "source": [
    "pd.options.display.max_columns = None         # to print all columns"
   ]
  },
  {
   "cell_type": "code",
   "execution_count": 5,
   "id": "21cafc9f",
   "metadata": {},
   "outputs": [
    {
     "name": "stdout",
     "output_type": "stream",
     "text": [
      "<class 'pandas.core.frame.DataFrame'>\n",
      "RangeIndex: 214 entries, 0 to 213\n",
      "Data columns (total 33 columns):\n",
      " #   Column              Non-Null Count  Dtype  \n",
      "---  ------              --------------  -----  \n",
      " 0   id                  214 non-null    int64  \n",
      " 1   INTERSECTION_ID     207 non-null    float64\n",
      " 2   LINEAR_NAME_FULL_1  207 non-null    object \n",
      " 3   LINEAR_NAME_FULL_2  207 non-null    object \n",
      " 4   ID1                 214 non-null    int64  \n",
      " 5   X                   0 non-null      float64\n",
      " 6   Y                   0 non-null      float64\n",
      " 7   LONGITUDE           0 non-null      float64\n",
      " 8   LATITUDE            0 non-null      float64\n",
      " 9   OBJECTID            214 non-null    int64  \n",
      " 10  geometry            214 non-null    object \n",
      " 11  MID_BLOCK           3 non-null      object \n",
      " 12  POLICE_DIVISION_2   26 non-null     float64\n",
      " 13  POLICE_DIVISION_3   1 non-null      float64\n",
      " 14  ACTIVATION_DATE     214 non-null    object \n",
      " 15  ACTIVATION_TIME     214 non-null    object \n",
      " 16  SIDE2               39 non-null     object \n",
      " 17  CLIENT_STREET_2     214 non-null    object \n",
      " 18  CLIENT_STREET_1     214 non-null    object \n",
      " 19  SIDE1               214 non-null    object \n",
      " 20  MI_PRINX            214 non-null    int64  \n",
      " 21  PRIVATE_ACCESS      6 non-null      object \n",
      " 22  TCS                 214 non-null    int64  \n",
      " 23  ADDITIONAL_INFO     8 non-null      object \n",
      " 24  POLICE_DIVISION_1   214 non-null    int64  \n",
      " 25  WARD_1              214 non-null    object \n",
      " 26  WARD_3              0 non-null      float64\n",
      " 27  WARD_2              36 non-null     object \n",
      " 28  WARD_4              0 non-null      float64\n",
      " 29  NAME                214 non-null    object \n",
      " 30  DISTRICT            214 non-null    object \n",
      " 31  RLC                 214 non-null    int64  \n",
      " 32  MAIN                214 non-null    object \n",
      "dtypes: float64(9), int64(7), object(17)\n",
      "memory usage: 55.3+ KB\n"
     ]
    }
   ],
   "source": [
    "#Info of dataframe\n",
    "df_red_light_camera.info()"
   ]
  },
  {
   "cell_type": "code",
   "execution_count": 6,
   "id": "7e1815c2",
   "metadata": {},
   "outputs": [],
   "source": [
    "#Getting only Longitude and Latitude values in geometry2 column\n",
    "import re\n",
    "df_red_light_camera[\"geometry2\"] = df_red_light_camera[\"geometry\"].str.extract(r\"\\((.*?)\\)\")"
   ]
  },
  {
   "cell_type": "code",
   "execution_count": 7,
   "id": "8b521b3f",
   "metadata": {},
   "outputs": [],
   "source": [
    "# split geometry2 into two columns: long & Lat\n",
    "df_red_light_camera[['Longitude', 'Latitude']] = df_red_light_camera['geometry2'].str.split(',', 1, expand=True)"
   ]
  },
  {
   "cell_type": "code",
   "execution_count": 8,
   "id": "4947c1f9",
   "metadata": {},
   "outputs": [],
   "source": [
    "# Standardize Lat & Long Length to match between the files\n",
    "df_red_light_camera['Longitude']=df_red_light_camera.Longitude.map(lambda l: l[:8])\n",
    "df_red_light_camera['Latitude']=df_red_light_camera.Latitude.map(lambda l: l[:8].replace(\" \",''))"
   ]
  },
  {
   "cell_type": "code",
   "execution_count": 9,
   "id": "86238f59",
   "metadata": {},
   "outputs": [],
   "source": [
    "#Changing datatype tp float for Latitude and Longitude columns\n",
    "df_red_light_camera=df_red_light_camera.astype({'Longitude':'float','Latitude':'float'})"
   ]
  },
  {
   "cell_type": "code",
   "execution_count": 10,
   "id": "a80bf7c8",
   "metadata": {},
   "outputs": [
    {
     "data": {
      "text/plain": [
       "id                    214\n",
       "INTERSECTION_ID       202\n",
       "LINEAR_NAME_FULL_1     70\n",
       "LINEAR_NAME_FULL_2    126\n",
       "ID1                   214\n",
       "X                       0\n",
       "Y                       0\n",
       "LONGITUDE               0\n",
       "LATITUDE                0\n",
       "OBJECTID              214\n",
       "geometry              209\n",
       "MID_BLOCK               3\n",
       "POLICE_DIVISION_2      10\n",
       "POLICE_DIVISION_3       1\n",
       "ACTIVATION_DATE        89\n",
       "ACTIVATION_TIME         2\n",
       "SIDE2                  32\n",
       "CLIENT_STREET_2       133\n",
       "CLIENT_STREET_1        73\n",
       "SIDE1                 133\n",
       "MI_PRINX              214\n",
       "PRIVATE_ACCESS          6\n",
       "TCS                   209\n",
       "ADDITIONAL_INFO         8\n",
       "POLICE_DIVISION_1      17\n",
       "WARD_1                 26\n",
       "WARD_3                  0\n",
       "WARD_2                 18\n",
       "WARD_4                  0\n",
       "NAME                  209\n",
       "DISTRICT                4\n",
       "RLC                   214\n",
       "MAIN                   73\n",
       "geometry2             209\n",
       "Longitude             206\n",
       "Latitude              201\n",
       "dtype: int64"
      ]
     },
     "execution_count": 10,
     "metadata": {},
     "output_type": "execute_result"
    }
   ],
   "source": [
    "#Checking number of uniques\n",
    "df_red_light_camera.nunique()"
   ]
  },
  {
   "cell_type": "code",
   "execution_count": 11,
   "id": "3caf3b5b",
   "metadata": {},
   "outputs": [
    {
     "data": {
      "text/plain": [
       "id                      0\n",
       "INTERSECTION_ID         7\n",
       "LINEAR_NAME_FULL_1      7\n",
       "LINEAR_NAME_FULL_2      7\n",
       "ID1                     0\n",
       "X                     214\n",
       "Y                     214\n",
       "LONGITUDE             214\n",
       "LATITUDE              214\n",
       "OBJECTID                0\n",
       "geometry                0\n",
       "MID_BLOCK             211\n",
       "POLICE_DIVISION_2     188\n",
       "POLICE_DIVISION_3     213\n",
       "ACTIVATION_DATE         0\n",
       "ACTIVATION_TIME         0\n",
       "SIDE2                 175\n",
       "CLIENT_STREET_2         0\n",
       "CLIENT_STREET_1         0\n",
       "SIDE1                   0\n",
       "MI_PRINX                0\n",
       "PRIVATE_ACCESS        208\n",
       "TCS                     0\n",
       "ADDITIONAL_INFO       206\n",
       "POLICE_DIVISION_1       0\n",
       "WARD_1                  0\n",
       "WARD_3                214\n",
       "WARD_2                178\n",
       "WARD_4                214\n",
       "NAME                    0\n",
       "DISTRICT                0\n",
       "RLC                     0\n",
       "MAIN                    0\n",
       "geometry2               0\n",
       "Longitude               0\n",
       "Latitude                0\n",
       "dtype: int64"
      ]
     },
     "execution_count": 11,
     "metadata": {},
     "output_type": "execute_result"
    }
   ],
   "source": [
    "#Checking the total nulls in each column\n",
    "df_red_light_camera.isnull().sum()"
   ]
  },
  {
   "cell_type": "code",
   "execution_count": 12,
   "id": "cc76efe7",
   "metadata": {},
   "outputs": [],
   "source": [
    "#Dropping the column not playing any role in analysis: may cause noise\n",
    "df_red_light_camera.drop([\"id\",\"LINEAR_NAME_FULL_1\",\"LINEAR_NAME_FULL_2\",\"ID1\",\"X\",\"Y\",\"LONGITUDE\",\"LATITUDE\",\"OBJECTID\",\"MID_BLOCK\",\"POLICE_DIVISION_2\",\"POLICE_DIVISION_3\",\"SIDE2\",\"SIDE1\",\"MI_PRINX\",\"PRIVATE_ACCESS\",\"ADDITIONAL_INFO\",\"POLICE_DIVISION_1\",\"WARD_1\",\"WARD_2\",\"WARD_3\",\"WARD_4\",\"MAIN\",\"TCS\",\"CLIENT_STREET_2\",\"CLIENT_STREET_1\",\"geometry2\",\"geometry\",\"ACTIVATION_TIME\"], axis = 1, inplace = True)"
   ]
  },
  {
   "cell_type": "code",
   "execution_count": 13,
   "id": "c037d1cc",
   "metadata": {},
   "outputs": [
    {
     "name": "stdout",
     "output_type": "stream",
     "text": [
      "<class 'pandas.core.frame.DataFrame'>\n",
      "RangeIndex: 214 entries, 0 to 213\n",
      "Data columns (total 7 columns):\n",
      " #   Column           Non-Null Count  Dtype  \n",
      "---  ------           --------------  -----  \n",
      " 0   INTERSECTION_ID  207 non-null    float64\n",
      " 1   ACTIVATION_DATE  214 non-null    object \n",
      " 2   NAME             214 non-null    object \n",
      " 3   DISTRICT         214 non-null    object \n",
      " 4   RLC              214 non-null    int64  \n",
      " 5   Longitude        214 non-null    float64\n",
      " 6   Latitude         214 non-null    float64\n",
      "dtypes: float64(3), int64(1), object(3)\n",
      "memory usage: 11.8+ KB\n"
     ]
    }
   ],
   "source": [
    "#Checking the info again\n",
    "df_red_light_camera.info()"
   ]
  },
  {
   "cell_type": "code",
   "execution_count": 14,
   "id": "dbebdd79",
   "metadata": {},
   "outputs": [],
   "source": [
    "#Changing the Data type of Activation_Date Column to Date\n",
    "df_red_light_camera['ACTIVATION_DATE'] = pd.to_datetime(df_red_light_camera['ACTIVATION_DATE'])"
   ]
  },
  {
   "cell_type": "code",
   "execution_count": 15,
   "id": "6e3c594d",
   "metadata": {},
   "outputs": [],
   "source": [
    "#Retrieving Month and Year in separate columns from ACTIVATION_DATE column\n",
    "df_red_light_camera[\"Month\"]=df_red_light_camera['ACTIVATION_DATE'].dt.month_name()\n",
    "df_red_light_camera[\"Year\"]=df_red_light_camera['ACTIVATION_DATE'].dt.year"
   ]
  },
  {
   "cell_type": "code",
   "execution_count": 16,
   "id": "485904c1",
   "metadata": {},
   "outputs": [
    {
     "data": {
      "text/html": [
       "<div>\n",
       "<style scoped>\n",
       "    .dataframe tbody tr th:only-of-type {\n",
       "        vertical-align: middle;\n",
       "    }\n",
       "\n",
       "    .dataframe tbody tr th {\n",
       "        vertical-align: top;\n",
       "    }\n",
       "\n",
       "    .dataframe thead th {\n",
       "        text-align: right;\n",
       "    }\n",
       "</style>\n",
       "<table border=\"1\" class=\"dataframe\">\n",
       "  <thead>\n",
       "    <tr style=\"text-align: right;\">\n",
       "      <th></th>\n",
       "      <th>INTERSECTION_ID</th>\n",
       "      <th>ACTIVATION_DATE</th>\n",
       "      <th>NAME</th>\n",
       "      <th>DISTRICT</th>\n",
       "      <th>RLC</th>\n",
       "      <th>Longitude</th>\n",
       "      <th>Latitude</th>\n",
       "      <th>Month</th>\n",
       "      <th>Year</th>\n",
       "    </tr>\n",
       "  </thead>\n",
       "  <tbody>\n",
       "    <tr>\n",
       "      <th>0</th>\n",
       "      <td>13465959.0</td>\n",
       "      <td>2007-11-09</td>\n",
       "      <td>Richmond St E And Parliament St</td>\n",
       "      <td>Toronto and East York</td>\n",
       "      <td>6001</td>\n",
       "      <td>-79.3640</td>\n",
       "      <td>43.6545</td>\n",
       "      <td>November</td>\n",
       "      <td>2007</td>\n",
       "    </tr>\n",
       "    <tr>\n",
       "      <th>1</th>\n",
       "      <td>13467993.0</td>\n",
       "      <td>2007-11-09</td>\n",
       "      <td>Lake Shore Blvd W And York St</td>\n",
       "      <td>Toronto and East York</td>\n",
       "      <td>6002</td>\n",
       "      <td>-79.3808</td>\n",
       "      <td>43.6414</td>\n",
       "      <td>November</td>\n",
       "      <td>2007</td>\n",
       "    </tr>\n",
       "    <tr>\n",
       "      <th>2</th>\n",
       "      <td>13444656.0</td>\n",
       "      <td>2007-11-09</td>\n",
       "      <td>Steeles Ave W And Carpenter Rd / Private Acces...</td>\n",
       "      <td>North York</td>\n",
       "      <td>6003</td>\n",
       "      <td>-79.4475</td>\n",
       "      <td>43.7920</td>\n",
       "      <td>November</td>\n",
       "      <td>2007</td>\n",
       "    </tr>\n",
       "    <tr>\n",
       "      <th>3</th>\n",
       "      <td>13444138.0</td>\n",
       "      <td>2007-11-09</td>\n",
       "      <td>Steeles Ave W And Hilda Ave</td>\n",
       "      <td>North York</td>\n",
       "      <td>6004</td>\n",
       "      <td>-79.4292</td>\n",
       "      <td>43.7960</td>\n",
       "      <td>November</td>\n",
       "      <td>2007</td>\n",
       "    </tr>\n",
       "    <tr>\n",
       "      <th>4</th>\n",
       "      <td>13451893.0</td>\n",
       "      <td>2007-11-09</td>\n",
       "      <td>Albion Rd And Silverstone Dr</td>\n",
       "      <td>Etobicoke York</td>\n",
       "      <td>6005</td>\n",
       "      <td>-79.6000</td>\n",
       "      <td>43.7429</td>\n",
       "      <td>November</td>\n",
       "      <td>2007</td>\n",
       "    </tr>\n",
       "  </tbody>\n",
       "</table>\n",
       "</div>"
      ],
      "text/plain": [
       "   INTERSECTION_ID ACTIVATION_DATE  \\\n",
       "0       13465959.0      2007-11-09   \n",
       "1       13467993.0      2007-11-09   \n",
       "2       13444656.0      2007-11-09   \n",
       "3       13444138.0      2007-11-09   \n",
       "4       13451893.0      2007-11-09   \n",
       "\n",
       "                                                NAME               DISTRICT  \\\n",
       "0                    Richmond St E And Parliament St  Toronto and East York   \n",
       "1                      Lake Shore Blvd W And York St  Toronto and East York   \n",
       "2  Steeles Ave W And Carpenter Rd / Private Acces...             North York   \n",
       "3                        Steeles Ave W And Hilda Ave             North York   \n",
       "4                       Albion Rd And Silverstone Dr         Etobicoke York   \n",
       "\n",
       "    RLC  Longitude  Latitude     Month  Year  \n",
       "0  6001   -79.3640   43.6545  November  2007  \n",
       "1  6002   -79.3808   43.6414  November  2007  \n",
       "2  6003   -79.4475   43.7920  November  2007  \n",
       "3  6004   -79.4292   43.7960  November  2007  \n",
       "4  6005   -79.6000   43.7429  November  2007  "
      ]
     },
     "execution_count": 16,
     "metadata": {},
     "output_type": "execute_result"
    }
   ],
   "source": [
    "#Checking the data after cleaning\n",
    "df_red_light_camera.head()"
   ]
  },
  {
   "cell_type": "code",
   "execution_count": 17,
   "id": "25b6253e",
   "metadata": {},
   "outputs": [],
   "source": [
    "#We can drop INTERSECTION_ID as it is unique.\n",
    "df_red_light_camera.drop([\"INTERSECTION_ID\"],axis=1,inplace=True)"
   ]
  },
  {
   "cell_type": "code",
   "execution_count": 18,
   "id": "22c31f0d",
   "metadata": {},
   "outputs": [
    {
     "data": {
      "text/html": [
       "<div>\n",
       "<style scoped>\n",
       "    .dataframe tbody tr th:only-of-type {\n",
       "        vertical-align: middle;\n",
       "    }\n",
       "\n",
       "    .dataframe tbody tr th {\n",
       "        vertical-align: top;\n",
       "    }\n",
       "\n",
       "    .dataframe thead th {\n",
       "        text-align: right;\n",
       "    }\n",
       "</style>\n",
       "<table border=\"1\" class=\"dataframe\">\n",
       "  <thead>\n",
       "    <tr style=\"text-align: right;\">\n",
       "      <th></th>\n",
       "      <th>Year</th>\n",
       "      <th>RLC</th>\n",
       "    </tr>\n",
       "  </thead>\n",
       "  <tbody>\n",
       "    <tr>\n",
       "      <th>0</th>\n",
       "      <td>2007</td>\n",
       "      <td>6</td>\n",
       "    </tr>\n",
       "    <tr>\n",
       "      <th>1</th>\n",
       "      <td>2008</td>\n",
       "      <td>26</td>\n",
       "    </tr>\n",
       "    <tr>\n",
       "      <th>2</th>\n",
       "      <td>2009</td>\n",
       "      <td>33</td>\n",
       "    </tr>\n",
       "    <tr>\n",
       "      <th>3</th>\n",
       "      <td>2010</td>\n",
       "      <td>3</td>\n",
       "    </tr>\n",
       "    <tr>\n",
       "      <th>4</th>\n",
       "      <td>2011</td>\n",
       "      <td>1</td>\n",
       "    </tr>\n",
       "    <tr>\n",
       "      <th>5</th>\n",
       "      <td>2017</td>\n",
       "      <td>66</td>\n",
       "    </tr>\n",
       "    <tr>\n",
       "      <th>6</th>\n",
       "      <td>2018</td>\n",
       "      <td>6</td>\n",
       "    </tr>\n",
       "    <tr>\n",
       "      <th>7</th>\n",
       "      <td>2019</td>\n",
       "      <td>4</td>\n",
       "    </tr>\n",
       "    <tr>\n",
       "      <th>8</th>\n",
       "      <td>2020</td>\n",
       "      <td>2</td>\n",
       "    </tr>\n",
       "    <tr>\n",
       "      <th>9</th>\n",
       "      <td>2021</td>\n",
       "      <td>63</td>\n",
       "    </tr>\n",
       "    <tr>\n",
       "      <th>10</th>\n",
       "      <td>2022</td>\n",
       "      <td>4</td>\n",
       "    </tr>\n",
       "  </tbody>\n",
       "</table>\n",
       "</div>"
      ],
      "text/plain": [
       "    Year  RLC\n",
       "0   2007    6\n",
       "1   2008   26\n",
       "2   2009   33\n",
       "3   2010    3\n",
       "4   2011    1\n",
       "5   2017   66\n",
       "6   2018    6\n",
       "7   2019    4\n",
       "8   2020    2\n",
       "9   2021   63\n",
       "10  2022    4"
      ]
     },
     "execution_count": 18,
     "metadata": {},
     "output_type": "execute_result"
    }
   ],
   "source": [
    "#Grouping by Year to check how many Red Lights activated since 2007\n",
    "total_cameras_per_year=df_red_light_camera.groupby(by=\"Year\",as_index=False)[\"RLC\"].count()\n",
    "total_cameras_per_year"
   ]
  },
  {
   "cell_type": "code",
   "execution_count": 19,
   "id": "a0f7a8ed",
   "metadata": {},
   "outputs": [
    {
     "data": {
      "image/png": "[encoded data removed]",
      "text/plain": [
       "<Figure size 432x288 with 1 Axes>"
      ]
     },
     "metadata": {
      "needs_background": "light"
     },
     "output_type": "display_data"
    }
   ],
   "source": [
    "# Create the plot.\n",
    "total_cameras_per_year.plot(\"Year\",\"RLC\",kind=\"bar\")\n",
    "# Create labels for the x and y axes.\n",
    "plt.xlabel(\"YEAR\")\n",
    "plt.ylabel(\"RED LIGHT CAMERAS\")\n",
    "# Create a title.\n",
    "plt.title(\"Red Light Cameras by YEAR\")\n",
    "plt.xticks(rotation=90)\n",
    "# Add the legend.\n",
    "plt.legend()\n",
    "plt.show()"
   ]
  },
  {
   "cell_type": "code",
   "execution_count": 20,
   "id": "56670256",
   "metadata": {},
   "outputs": [
    {
     "data": {
      "text/html": [
       "<div>\n",
       "<style scoped>\n",
       "    .dataframe tbody tr th:only-of-type {\n",
       "        vertical-align: middle;\n",
       "    }\n",
       "\n",
       "    .dataframe tbody tr th {\n",
       "        vertical-align: top;\n",
       "    }\n",
       "\n",
       "    .dataframe thead th {\n",
       "        text-align: right;\n",
       "    }\n",
       "</style>\n",
       "<table border=\"1\" class=\"dataframe\">\n",
       "  <thead>\n",
       "    <tr style=\"text-align: right;\">\n",
       "      <th></th>\n",
       "      <th>Month</th>\n",
       "      <th>RLC</th>\n",
       "    </tr>\n",
       "  </thead>\n",
       "  <tbody>\n",
       "    <tr>\n",
       "      <th>0</th>\n",
       "      <td>April</td>\n",
       "      <td>9</td>\n",
       "    </tr>\n",
       "    <tr>\n",
       "      <th>1</th>\n",
       "      <td>August</td>\n",
       "      <td>36</td>\n",
       "    </tr>\n",
       "    <tr>\n",
       "      <th>2</th>\n",
       "      <td>December</td>\n",
       "      <td>12</td>\n",
       "    </tr>\n",
       "    <tr>\n",
       "      <th>3</th>\n",
       "      <td>February</td>\n",
       "      <td>2</td>\n",
       "    </tr>\n",
       "    <tr>\n",
       "      <th>4</th>\n",
       "      <td>January</td>\n",
       "      <td>3</td>\n",
       "    </tr>\n",
       "    <tr>\n",
       "      <th>5</th>\n",
       "      <td>July</td>\n",
       "      <td>15</td>\n",
       "    </tr>\n",
       "    <tr>\n",
       "      <th>6</th>\n",
       "      <td>June</td>\n",
       "      <td>25</td>\n",
       "    </tr>\n",
       "    <tr>\n",
       "      <th>7</th>\n",
       "      <td>March</td>\n",
       "      <td>48</td>\n",
       "    </tr>\n",
       "    <tr>\n",
       "      <th>8</th>\n",
       "      <td>May</td>\n",
       "      <td>14</td>\n",
       "    </tr>\n",
       "    <tr>\n",
       "      <th>9</th>\n",
       "      <td>November</td>\n",
       "      <td>16</td>\n",
       "    </tr>\n",
       "    <tr>\n",
       "      <th>10</th>\n",
       "      <td>October</td>\n",
       "      <td>17</td>\n",
       "    </tr>\n",
       "    <tr>\n",
       "      <th>11</th>\n",
       "      <td>September</td>\n",
       "      <td>17</td>\n",
       "    </tr>\n",
       "  </tbody>\n",
       "</table>\n",
       "</div>"
      ],
      "text/plain": [
       "        Month  RLC\n",
       "0       April    9\n",
       "1      August   36\n",
       "2    December   12\n",
       "3    February    2\n",
       "4     January    3\n",
       "5        July   15\n",
       "6        June   25\n",
       "7       March   48\n",
       "8         May   14\n",
       "9    November   16\n",
       "10    October   17\n",
       "11  September   17"
      ]
     },
     "execution_count": 20,
     "metadata": {},
     "output_type": "execute_result"
    }
   ],
   "source": [
    "#Grouping by Month to check how many Red Lights activated by month\n",
    "total_cameras_by_month=df_red_light_camera.groupby(by=\"Month\",as_index=False)[\"RLC\"].count()\n",
    "total_cameras_by_month"
   ]
  },
  {
   "cell_type": "code",
   "execution_count": 21,
   "id": "1c60611a",
   "metadata": {},
   "outputs": [
    {
     "data": {
      "image/png": "[encoded data removed]",
      "text/plain": [
       "<Figure size 432x288 with 1 Axes>"
      ]
     },
     "metadata": {
      "needs_background": "light"
     },
     "output_type": "display_data"
    }
   ],
   "source": [
    "# Create the plot.\n",
    "total_cameras_by_month.plot(x=\"Month\", y=\"RLC\", kind=\"bar\")\n",
    "# Create labels for the x and y axes.\n",
    "plt.xlabel(\"MONTH\")\n",
    "plt.ylabel(\"RED LIGHT CAMERAS\")\n",
    "# Create a title.\n",
    "plt.title(\"Red Light Cameras by MONTH\")\n",
    "plt.xticks(rotation=90)\n",
    "# Add the legend.\n",
    "plt.legend()\n",
    "plt.show()"
   ]
  },
  {
   "cell_type": "code",
   "execution_count": 22,
   "id": "863dd5ac",
   "metadata": {},
   "outputs": [
    {
     "data": {
      "text/html": [
       "<div>\n",
       "<style scoped>\n",
       "    .dataframe tbody tr th:only-of-type {\n",
       "        vertical-align: middle;\n",
       "    }\n",
       "\n",
       "    .dataframe tbody tr th {\n",
       "        vertical-align: top;\n",
       "    }\n",
       "\n",
       "    .dataframe thead th {\n",
       "        text-align: right;\n",
       "    }\n",
       "</style>\n",
       "<table border=\"1\" class=\"dataframe\">\n",
       "  <thead>\n",
       "    <tr style=\"text-align: right;\">\n",
       "      <th></th>\n",
       "      <th>ACTIVATION_DATE</th>\n",
       "      <th>DISTRICT</th>\n",
       "      <th>RLC</th>\n",
       "    </tr>\n",
       "  </thead>\n",
       "  <tbody>\n",
       "    <tr>\n",
       "      <th>0</th>\n",
       "      <td>2007-11-09</td>\n",
       "      <td>Etobicoke York</td>\n",
       "      <td>1</td>\n",
       "    </tr>\n",
       "    <tr>\n",
       "      <th>1</th>\n",
       "      <td>2007-11-09</td>\n",
       "      <td>North York</td>\n",
       "      <td>3</td>\n",
       "    </tr>\n",
       "    <tr>\n",
       "      <th>2</th>\n",
       "      <td>2007-11-09</td>\n",
       "      <td>Toronto and East York</td>\n",
       "      <td>2</td>\n",
       "    </tr>\n",
       "    <tr>\n",
       "      <th>3</th>\n",
       "      <td>2008-03-18</td>\n",
       "      <td>Etobicoke York</td>\n",
       "      <td>1</td>\n",
       "    </tr>\n",
       "    <tr>\n",
       "      <th>4</th>\n",
       "      <td>2008-03-18</td>\n",
       "      <td>Scarborough</td>\n",
       "      <td>1</td>\n",
       "    </tr>\n",
       "    <tr>\n",
       "      <th>...</th>\n",
       "      <td>...</td>\n",
       "      <td>...</td>\n",
       "      <td>...</td>\n",
       "    </tr>\n",
       "    <tr>\n",
       "      <th>140</th>\n",
       "      <td>2021-12-29</td>\n",
       "      <td>North York</td>\n",
       "      <td>1</td>\n",
       "    </tr>\n",
       "    <tr>\n",
       "      <th>141</th>\n",
       "      <td>2021-12-29</td>\n",
       "      <td>Scarborough</td>\n",
       "      <td>2</td>\n",
       "    </tr>\n",
       "    <tr>\n",
       "      <th>142</th>\n",
       "      <td>2022-03-17</td>\n",
       "      <td>Scarborough</td>\n",
       "      <td>2</td>\n",
       "    </tr>\n",
       "    <tr>\n",
       "      <th>143</th>\n",
       "      <td>2022-03-17</td>\n",
       "      <td>Toronto and East York</td>\n",
       "      <td>1</td>\n",
       "    </tr>\n",
       "    <tr>\n",
       "      <th>144</th>\n",
       "      <td>2022-03-30</td>\n",
       "      <td>Scarborough</td>\n",
       "      <td>1</td>\n",
       "    </tr>\n",
       "  </tbody>\n",
       "</table>\n",
       "<p>145 rows × 3 columns</p>\n",
       "</div>"
      ],
      "text/plain": [
       "    ACTIVATION_DATE               DISTRICT  RLC\n",
       "0        2007-11-09         Etobicoke York    1\n",
       "1        2007-11-09             North York    3\n",
       "2        2007-11-09  Toronto and East York    2\n",
       "3        2008-03-18         Etobicoke York    1\n",
       "4        2008-03-18            Scarborough    1\n",
       "..              ...                    ...  ...\n",
       "140      2021-12-29             North York    1\n",
       "141      2021-12-29            Scarborough    2\n",
       "142      2022-03-17            Scarborough    2\n",
       "143      2022-03-17  Toronto and East York    1\n",
       "144      2022-03-30            Scarborough    1\n",
       "\n",
       "[145 rows x 3 columns]"
      ]
     },
     "execution_count": 22,
     "metadata": {},
     "output_type": "execute_result"
    }
   ],
   "source": [
    "#Which District got the Red Light Cameras and on which date\n",
    "total_cameras_by_date_district=df_red_light_camera.groupby([\"ACTIVATION_DATE\",\"DISTRICT\"],as_index=False)[\"RLC\"].count()\n",
    "total_cameras_by_date_district"
   ]
  },
  {
   "cell_type": "code",
   "execution_count": 23,
   "id": "6882eee9",
   "metadata": {},
   "outputs": [
    {
     "data": {
      "text/html": [
       "<div>\n",
       "<style scoped>\n",
       "    .dataframe tbody tr th:only-of-type {\n",
       "        vertical-align: middle;\n",
       "    }\n",
       "\n",
       "    .dataframe tbody tr th {\n",
       "        vertical-align: top;\n",
       "    }\n",
       "\n",
       "    .dataframe thead th {\n",
       "        text-align: right;\n",
       "    }\n",
       "</style>\n",
       "<table border=\"1\" class=\"dataframe\">\n",
       "  <thead>\n",
       "    <tr style=\"text-align: right;\">\n",
       "      <th></th>\n",
       "      <th>RLC</th>\n",
       "    </tr>\n",
       "    <tr>\n",
       "      <th>DISTRICT</th>\n",
       "      <th></th>\n",
       "    </tr>\n",
       "  </thead>\n",
       "  <tbody>\n",
       "    <tr>\n",
       "      <th>Etobicoke York</th>\n",
       "      <td>55</td>\n",
       "    </tr>\n",
       "    <tr>\n",
       "      <th>North York</th>\n",
       "      <td>40</td>\n",
       "    </tr>\n",
       "    <tr>\n",
       "      <th>Scarborough</th>\n",
       "      <td>80</td>\n",
       "    </tr>\n",
       "    <tr>\n",
       "      <th>Toronto and East York</th>\n",
       "      <td>39</td>\n",
       "    </tr>\n",
       "  </tbody>\n",
       "</table>\n",
       "</div>"
      ],
      "text/plain": [
       "                       RLC\n",
       "DISTRICT                  \n",
       "Etobicoke York          55\n",
       "North York              40\n",
       "Scarborough             80\n",
       "Toronto and East York   39"
      ]
     },
     "execution_count": 23,
     "metadata": {},
     "output_type": "execute_result"
    }
   ],
   "source": [
    "#Grouped By District to get total cameras for each District\n",
    "total_cameras_district=pd.DataFrame(df_red_light_camera.groupby([\"DISTRICT\"]).count()[[\"RLC\"]])\n",
    "total_cameras_district"
   ]
  },
  {
   "cell_type": "code",
   "execution_count": 24,
   "id": "cd2d298e",
   "metadata": {},
   "outputs": [
    {
     "data": {
      "image/png": "[encoded data removed]",
      "text/plain": [
       "<Figure size 432x288 with 1 Axes>"
      ]
     },
     "metadata": {
      "needs_background": "light"
     },
     "output_type": "display_data"
    },
    {
     "data": {
      "text/plain": [
       "<Figure size 432x288 with 0 Axes>"
      ]
     },
     "metadata": {},
     "output_type": "display_data"
    }
   ],
   "source": [
    "# Create the plot.\n",
    "total_cameras_district.plot(kind=\"bar\")\n",
    "# Create labels for the x and y axes.\n",
    "plt.xlabel(\"DATE\")\n",
    "plt.ylabel(\"RED LIGHT CAMERAS\")\n",
    "# Create a title.\n",
    "plt.title(\"Red Light Cameras by Activation Date\")\n",
    "plt.xticks(rotation=90)\n",
    "# Add the legend.\n",
    "plt.legend()\n",
    "plt.show()\n",
    "plt.tight_layout()"
   ]
  },
  {
   "cell_type": "code",
   "execution_count": 26,
   "id": "564be36b",
   "metadata": {},
   "outputs": [],
   "source": [
    "#Exporting Cleaned data to csv\n",
    "df_red_light_camera.to_csv(\"../Resources/df_red_light_camera.csv\",index=False)"
   ]
  }
 ],
 "metadata": {
  "kernelspec": {
   "display_name": "mlenv",
   "language": "python",
   "name": "mlenv"
  },
  "language_info": {
   "codemirror_mode": {
    "name": "ipython",
    "version": 3
   },
   "file_extension": ".py",
   "mimetype": "text/x-python",
   "name": "python",
   "nbconvert_exporter": "python",
   "pygments_lexer": "ipython3",
   "version": "3.7.11"
  }
 },
 "nbformat": 4,
 "nbformat_minor": 5
}
